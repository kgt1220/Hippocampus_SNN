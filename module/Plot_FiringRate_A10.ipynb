{
 "cells": [
  {
   "cell_type": "code",
   "execution_count": 2,
   "metadata": {
    "ExecuteTime": {
     "end_time": "2024-09-11T03:03:40.378661Z",
     "start_time": "2024-09-11T03:03:38.320142Z"
    }
   },
   "outputs": [],
   "source": [
    "import numpy as np\n",
    "import random\n",
    "import matplotlib.pyplot as plt\n",
    "import matplotlib.lines as mlines\n",
    "import string\n",
    "\n",
    "import seaborn as sns\n",
    "from scipy.cluster.hierarchy import dendrogram, linkage\n",
    "from scipy.spatial.distance import pdist, squareform\n",
    "\n",
    "import pickle\n",
    "import os"
   ]
  },
  {
   "cell_type": "code",
   "execution_count": null,
   "metadata": {
    "ExecuteTime": {
     "end_time": "2024-09-11T03:03:35.479682Z",
     "start_time": "2024-09-11T03:03:35.479682Z"
    },
    "code_folding": []
   },
   "outputs": [],
   "source": [
    "# Load\n",
    "cd = os.getcwd()\n",
    "path = os.path.dirname(cd)\n",
    "\n",
    "with open(path+'//Data_DG.pkl', 'rb') as file:\n",
    "    # Patterns in input layer\n",
    "    Data = pickle.load(file)   \n",
    "    # The number of data\n",
    "    Datalen = pickle.load(file)    \n",
    "    # Patterns of granule cells\n",
    "    Data_DG = pickle.load(file)\n",
    "    \n",
    "    # Lengths of each patterns of granule cells\n",
    "    Data_DG_len = pickle.load(file)\n",
    "    Data_idx = pickle.load(file) # indices of patterns having proper lengths\n",
    "    DataX_idx = pickle.load(file) # indices of patterns having proper lengths\n",
    "    \n",
    "    # input/output overlap values and indices\n",
    "    OverI = pickle.load(file)\n",
    "    OverO = pickle.load(file)\n",
    "    Pair_idx = pickle.load(file)\n",
    "    \n",
    "    # input/output overlap values and indices for inputs having proper lengths\n",
    "    OverI_v2 = pickle.load(file)\n",
    "    OverO_v2 = pickle.load(file)\n",
    "    Pair_idx_v2 = pickle.load(file)\n",
    "    \n",
    "with open(path+'//Data_final.pkl', 'rb') as file:\n",
    "    # Filtered by proper length\n",
    "    Filt_idata = pickle.load(file) # patterns in input layer\n",
    "    Filt_gdata = pickle.load(file) # patterns of granule cells\n",
    "    Filt_glen = pickle.load(file) # lengths of each patterns of granule cells\n",
    "    F_DataLen = pickle.load(file) # the number of data\n",
    "    \n",
    "    # Index of CA3 patterns\n",
    "    Af_py = pickle.load(file) # Pyramidal neurons\n",
    "    Af_in = pickle.load(file) # Inhibitory neurons\n",
    "    \n",
    "    # \n",
    "    In_py_list = pickle.load(file)\n",
    "    In_in_list = pickle.load(file)"
   ]
  },
  {
   "cell_type": "code",
   "execution_count": null,
   "metadata": {
    "ExecuteTime": {
     "end_time": "2024-09-11T03:03:35.483671Z",
     "start_time": "2024-09-11T03:03:35.483671Z"
    },
    "code_folding": [
     0
    ]
   },
   "outputs": [],
   "source": [
    "def choice_neurons(layer, N):\n",
    "    n_index = []\n",
    "    num = random.randrange(0,layer)\n",
    "    #N_R = np.random.randint(1, N)\n",
    "    for n in range(N):\n",
    "        while num in n_index:\n",
    "            num = random.randrange(0,layer)\n",
    "        n_index.append(num)\n",
    "    n_index.sort()\n",
    "    return n_index"
   ]
  },
  {
   "cell_type": "code",
   "execution_count": null,
   "metadata": {
    "ExecuteTime": {
     "end_time": "2024-09-11T03:03:35.485666Z",
     "start_time": "2024-09-11T03:03:35.485666Z"
    }
   },
   "outputs": [],
   "source": [
    "with open('Figure_spiking_retrieval_F.pkl', 'rb') as file:\n",
    "    network = pickle.load(file)\n",
    "    FT = pickle.load(file)\n",
    "    Voltage = pickle.load(file)"
   ]
  },
  {
   "cell_type": "code",
   "execution_count": null,
   "metadata": {
    "ExecuteTime": {
     "end_time": "2024-09-11T03:03:35.491650Z",
     "start_time": "2024-09-11T03:03:35.491650Z"
    }
   },
   "outputs": [],
   "source": [
    "FT_rh = []\n",
    "for N in range(9):\n",
    "    FT_rh_temp = FT[N][0]\n",
    "    for n in range(9):\n",
    "        FT_rh_temp = np.concatenate((FT_rh_temp, FT[N][n+1]), axis=1)\n",
    "    FT_rh.append(FT_rh_temp)\n",
    "    \n",
    "for N in range(9):\n",
    "    FT_rh[N] = FT_rh[N]"
   ]
  },
  {
   "cell_type": "code",
   "execution_count": null,
   "metadata": {
    "ExecuteTime": {
     "end_time": "2024-09-11T03:03:35.493644Z",
     "start_time": "2024-09-11T03:03:35.493644Z"
    }
   },
   "outputs": [],
   "source": [
    "final_list = [249, 423, 80, 422, 228, 219, 517, 111, 346, 509]"
   ]
  },
  {
   "cell_type": "code",
   "execution_count": null,
   "metadata": {
    "ExecuteTime": {
     "end_time": "2024-09-11T03:03:35.498631Z",
     "start_time": "2024-09-11T03:03:35.498631Z"
    }
   },
   "outputs": [],
   "source": [
    "for i, comp in enumerate(final_list):\n",
    "    print(np.where(Filt_idata[:,comp]))"
   ]
  },
  {
   "cell_type": "code",
   "execution_count": null,
   "metadata": {
    "ExecuteTime": {
     "end_time": "2024-09-11T03:03:35.501624Z",
     "start_time": "2024-09-11T03:03:35.501624Z"
    }
   },
   "outputs": [],
   "source": [
    "CA3_idx_set = set()\n",
    "for i, comp in enumerate(final_list):\n",
    "    CA3_idx_set |= set(Af_py[comp])\n",
    "print(len(CA3_idx_set))\n",
    "\n",
    "Phase_N = 1\n",
    "CA3_FT = FT_rh[6][:,240*(Phase_N):240*(Phase_N+1)]\n",
    "CA3_FT_Flist = []\n",
    "CA3_FT_idx = []\n",
    "\n",
    "for i, comp in enumerate(CA3_idx_set):\n",
    "    temp = np.where(CA3_FT[comp,:])[0]\n",
    "    for j, comp2 in enumerate(temp):\n",
    "        CA3_FT_Flist.append([i,comp2])\n",
    "        CA3_FT_idx.append([i,comp])\n",
    "        \n",
    "for i, comp in enumerate(CA3_FT_Flist):\n",
    "    CA3_FT_Flist[i] = [comp[0],comp[1]-120]"
   ]
  },
  {
   "cell_type": "code",
   "execution_count": null,
   "metadata": {
    "ExecuteTime": {
     "end_time": "2024-09-11T03:03:35.503618Z",
     "start_time": "2024-09-11T03:03:35.503618Z"
    },
    "scrolled": false
   },
   "outputs": [],
   "source": [
    "for f in range(10):\n",
    "\n",
    "    Phase_N = f\n",
    "    CA3_FT = FT_rh[6][:,240*(Phase_N):240*(Phase_N+1)]\n",
    "    CA3_FT_Flist = []\n",
    "    CA3_FT_idx = []\n",
    "\n",
    "    for i, comp in enumerate(CA3_idx_set):\n",
    "        temp = np.where(CA3_FT[comp,:])[0]\n",
    "        for j, comp2 in enumerate(temp):\n",
    "            CA3_FT_Flist.append([i,comp2])\n",
    "            CA3_FT_idx.append([i,comp])\n",
    "\n",
    "    for i, comp in enumerate(CA3_FT_Flist):\n",
    "        CA3_FT_Flist[i] = [comp[0],comp[1]-120]\n",
    "\n",
    "    window = 30 # ms\n",
    "    FR_matrix = np.zeros((len(final_list),120-window))\n",
    "\n",
    "    for n in range(2400):\n",
    "        for t in range(240):\n",
    "            for i, comp in enumerate(final_list):\n",
    "                if CA3_FT[n,t] !=0 and n in Af_py[comp]:\n",
    "                    for T in range(120-window):   \n",
    "                        if T <= t-120 < T+window:\n",
    "                            FR_matrix[i,T] +=1\n",
    "\n",
    "    for i, comp in enumerate(final_list):\n",
    "        FR_matrix[i,:] = (FR_matrix[i,:]/(0.001*window))/len(Af_py[comp])\n",
    "\n",
    "    color_map = ['b', 'g', 'r', 'c', 'm', 'y', 'k', 'orange', 'purple', 'brown']\n",
    "    labels = list(string.ascii_uppercase)[:10]\n",
    "    \n",
    "    x = np.array(range(30,120))\n",
    "    fig = plt.subplot(111)\n",
    "    for n in range(10):\n",
    "        plt.plot(x, FR_matrix[n,:], color=color_map[n])\n",
    "    plt.legend(labels, loc='upper left', frameon=False, fontsize=14)\n",
    "    plt.xticks(fontsize=14)\n",
    "    plt.yticks(fontsize=14)\n",
    "    plt.xlabel('Time (ms)', fontsize=24)\n",
    "    plt.ylabel('Firing rate (Hz)', fontsize=24)\n",
    "    if f == 2:\n",
    "        plt.title('Winner: G', fontsize=24, y=1.05)\n",
    "    elif f == 4:\n",
    "        plt.title('Winner: E', fontsize=24, y=1.05)\n",
    "    elif f == 3:\n",
    "        plt.title('Fail', fontsize=24, y=1.05)\n",
    "    else:\n",
    "        plt.title('Competition between CA3 engrams', fontsize=24, y=1.05)\n",
    "    plt.xlim([30,120])\n",
    "    plt.ylim([0,130])\n",
    "    fig.spines['top'].set_visible(False)\n",
    "    fig.spines['right'].set_visible(False)\n",
    "    plt.savefig('Firing rate for each engram in CA3-%d.pdf' %f, bbox_inches='tight')\n",
    "    plt.show()"
   ]
  }
 ],
 "metadata": {
  "kernelspec": {
   "display_name": "Python 3 (ipykernel)",
   "language": "python",
   "name": "python3"
  },
  "language_info": {
   "codemirror_mode": {
    "name": "ipython",
    "version": 3
   },
   "file_extension": ".py",
   "mimetype": "text/x-python",
   "name": "python",
   "nbconvert_exporter": "python",
   "pygments_lexer": "ipython3",
   "version": "3.8.5"
  },
  "toc": {
   "base_numbering": 1,
   "nav_menu": {},
   "number_sections": true,
   "sideBar": true,
   "skip_h1_title": false,
   "title_cell": "Table of Contents",
   "title_sidebar": "Contents",
   "toc_cell": false,
   "toc_position": {},
   "toc_section_display": true,
   "toc_window_display": false
  },
  "varInspector": {
   "cols": {
    "lenName": 16,
    "lenType": 16,
    "lenVar": 40
   },
   "kernels_config": {
    "python": {
     "delete_cmd_postfix": "",
     "delete_cmd_prefix": "del ",
     "library": "var_list.py",
     "varRefreshCmd": "print(var_dic_list())"
    },
    "r": {
     "delete_cmd_postfix": ") ",
     "delete_cmd_prefix": "rm(",
     "library": "var_list.r",
     "varRefreshCmd": "cat(var_dic_list()) "
    }
   },
   "types_to_exclude": [
    "module",
    "function",
    "builtin_function_or_method",
    "instance",
    "_Feature"
   ],
   "window_display": false
  }
 },
 "nbformat": 4,
 "nbformat_minor": 4
}
