{
 "cells": [
  {
   "cell_type": "code",
   "execution_count": 1,
   "metadata": {
    "ExecuteTime": {
     "end_time": "2024-09-10T04:54:09.850965Z",
     "start_time": "2024-09-10T04:54:05.872410Z"
    }
   },
   "outputs": [],
   "source": [
    "###### import\n",
    "import numpy as np\n",
    "import random\n",
    "import matplotlib.pyplot as plt\n",
    "import matplotlib.cm as cm \n",
    "import seaborn as sns\n",
    "from scipy import signal\n",
    "from importlib import reload\n",
    "\n",
    "import winsound as sd\n",
    "import pickle\n",
    "import sys\n",
    "import os\n",
    "\n",
    "from Tools.tools import *\n",
    "from Plasticity.plasticity import *\n",
    "from Neuron.neuron import *\n",
    "from Model.model import *\n",
    "from Analysis.analysis import *\n",
    "import Operate_model_v4_fig"
   ]
  },
  {
   "cell_type": "code",
   "execution_count": 2,
   "metadata": {
    "ExecuteTime": {
     "end_time": "2024-09-10T04:54:12.731769Z",
     "start_time": "2024-09-10T04:54:11.638017Z"
    }
   },
   "outputs": [],
   "source": [
    "# Load\n",
    "cd = os.getcwd()\n",
    "path = os.path.dirname(cd)\n",
    "\n",
    "with open(path+'//Data_final16_v2.pkl', 'rb') as file:\n",
    "    # Patterns in input layer\n",
    "    Data = pickle.load(file)   \n",
    "    # The number of data\n",
    "    Datalen = pickle.load(file)    \n",
    "    # Patterns of granule cells\n",
    "    Data_DG = pickle.load(file)\n",
    "    \n",
    "    # Lengths of each patterns of granule cells\n",
    "    Data_DG_len = pickle.load(file)\n",
    "    Data_idx = pickle.load(file) # indices of patterns having proper lengths.\n",
    "    DataX_idx = pickle.load(file) # indices of patterns having proper lengths.\n",
    "    \n",
    "    # 각 pair에 대한 input/output overlap값과 index\n",
    "    OverI = pickle.load(file)\n",
    "    OverO = pickle.load(file)\n",
    "    Pair_idx = pickle.load(file)\n",
    "    \n",
    "    # 길이로 분류한 pair에 대한 input/output overlap값과 index\n",
    "    OverI_v2 = pickle.load(file)\n",
    "    OverO_v2 = pickle.load(file)\n",
    "    Pair_idx_v2 = pickle.load(file)\n",
    "    \n",
    "with open(path+'//Data_final16_v2-CA3.pkl', 'rb') as file:\n",
    "    # Filtered by proper length\n",
    "    Filt_idata = pickle.load(file) # patterns in input layer\n",
    "    Filt_gdata = pickle.load(file) # patterns of granule cells\n",
    "    Filt_glen = pickle.load(file) # lengths of each patterns of granule cells\n",
    "    F_DataLen = pickle.load(file) # the number of data\n",
    "    \n",
    "    # Index of CA3 patterns\n",
    "    Af_py = pickle.load(file) # Pyramidal neurons\n",
    "    Af_in = pickle.load(file) # Inhibitory neurons\n",
    "    \n",
    "    # 뭐였더라\n",
    "    In_py_list = pickle.load(file)\n",
    "    In_in_list = pickle.load(file)"
   ]
  },
  {
   "cell_type": "code",
   "execution_count": 3,
   "metadata": {
    "ExecuteTime": {
     "end_time": "2024-09-10T04:54:16.068250Z",
     "start_time": "2024-09-10T04:54:16.062266Z"
    }
   },
   "outputs": [
    {
     "name": "stdout",
     "output_type": "stream",
     "text": [
      "332\n"
     ]
    }
   ],
   "source": [
    "# Classify CA3 patterns by length 9-14\n",
    "CA3_size = []\n",
    "for n in range(F_DataLen):\n",
    "    CA3_size.append(len(Af_py[n]))\n",
    "\n",
    "# Classified by size\n",
    "CA3_SC = [[],[],[],[],[],[]]\n",
    "size_min = 9\n",
    "size_max = size_min+len(CA3_SC)\n",
    "for i, comp in enumerate(CA3_size):\n",
    "    if size_min <= comp < size_max:\n",
    "        idx = comp-size_min\n",
    "        CA3_SC[idx].append(i)\n",
    "\n",
    "Number = 0\n",
    "for n in range(len(CA3_SC)):\n",
    "    Number += len(CA3_SC[n])\n",
    "print(Number)\n",
    "\n",
    "Af_py_final_idx = set()\n",
    "for n in range(len(CA3_SC)):\n",
    "    Af_py_final_idx |= set(CA3_SC[n])"
   ]
  },
  {
   "cell_type": "code",
   "execution_count": 5,
   "metadata": {
    "ExecuteTime": {
     "end_time": "2024-09-10T04:55:23.285005Z",
     "start_time": "2024-09-10T04:55:21.701660Z"
    }
   },
   "outputs": [],
   "source": [
    "# Classify CA3 patterns by overlap degree\n",
    "CA3_OC = []\n",
    "Classfy_num = 20\n",
    "for n in range(Classfy_num+1):\n",
    "    CA3_OC.append([])\n",
    "\n",
    "input_total = set(range(2400))\n",
    "for i, comp in enumerate(Af_py):\n",
    "    for j, comp2 in enumerate(Af_py):\n",
    "        if size_min <= len(comp) < size_max:\n",
    "            if size_min <= len(comp2) < size_max:\n",
    "                if i < j:\n",
    "                    temp = cal_overlap(input_total, set(comp), set(comp2))\n",
    "                    if temp == 0:\n",
    "                        CA3_OC[0].append([i,j])\n",
    "                    for n in range(9):\n",
    "                        if 0.05*n <= temp < 0.05*n+0.05: \n",
    "                            CA3_OC[n+1].append([i,j])"
   ]
  },
  {
   "cell_type": "code",
   "execution_count": 6,
   "metadata": {
    "ExecuteTime": {
     "end_time": "2024-09-10T04:55:24.869750Z",
     "start_time": "2024-09-10T04:55:24.469510Z"
    }
   },
   "outputs": [],
   "source": [
    "# Classify CA3 patterns by both\n",
    "CA3_SOC = []\n",
    "for i, comp in enumerate(CA3_OC[0]):\n",
    "    for j, comp2 in enumerate(CA3_SC):\n",
    "        if comp[0] in comp2:\n",
    "            temp0 = j\n",
    "        if comp[1] in comp2:\n",
    "            temp1 = j\n",
    "    # 같은 size 정보면\n",
    "    if temp0 == temp1:\n",
    "        CA3_SOC.append(comp)"
   ]
  },
  {
   "cell_type": "code",
   "execution_count": null,
   "metadata": {},
   "outputs": [],
   "source": []
  }
 ],
 "metadata": {
  "kernelspec": {
   "display_name": "Python 3",
   "language": "python",
   "name": "python3"
  },
  "language_info": {
   "codemirror_mode": {
    "name": "ipython",
    "version": 3
   },
   "file_extension": ".py",
   "mimetype": "text/x-python",
   "name": "python",
   "nbconvert_exporter": "python",
   "pygments_lexer": "ipython3",
   "version": "3.8.5"
  },
  "varInspector": {
   "cols": {
    "lenName": 16,
    "lenType": 16,
    "lenVar": 40
   },
   "kernels_config": {
    "python": {
     "delete_cmd_postfix": "",
     "delete_cmd_prefix": "del ",
     "library": "var_list.py",
     "varRefreshCmd": "print(var_dic_list())"
    },
    "r": {
     "delete_cmd_postfix": ") ",
     "delete_cmd_prefix": "rm(",
     "library": "var_list.r",
     "varRefreshCmd": "cat(var_dic_list()) "
    }
   },
   "types_to_exclude": [
    "module",
    "function",
    "builtin_function_or_method",
    "instance",
    "_Feature"
   ],
   "window_display": false
  }
 },
 "nbformat": 4,
 "nbformat_minor": 4
}
