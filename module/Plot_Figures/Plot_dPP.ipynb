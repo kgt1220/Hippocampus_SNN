{
 "cells": [
  {
   "cell_type": "code",
   "execution_count": 1,
   "metadata": {
    "ExecuteTime": {
     "end_time": "2024-10-31T04:45:45.143946Z",
     "start_time": "2024-10-31T04:45:42.297530Z"
    }
   },
   "outputs": [],
   "source": [
    "import numpy as np\n",
    "import random\n",
    "import matplotlib.pyplot as plt\n",
    "import matplotlib.cm as cm \n",
    "import seaborn as sns\n",
    "import pandas as pd\n",
    "from scipy import signal\n",
    "from importlib import reload\n",
    "\n",
    "import winsound as sd\n",
    "import pickle\n",
    "import sys\n",
    "import os"
   ]
  },
  {
   "cell_type": "code",
   "execution_count": 2,
   "metadata": {
    "ExecuteTime": {
     "end_time": "2024-10-31T04:45:45.159905Z",
     "start_time": "2024-10-31T04:45:45.146940Z"
    }
   },
   "outputs": [],
   "source": [
    "# load\n",
    "cd = os.getcwd()\n",
    "path = os.path.dirname(cd)"
   ]
  },
  {
   "cell_type": "code",
   "execution_count": 3,
   "metadata": {
    "ExecuteTime": {
     "end_time": "2024-10-31T04:45:45.206779Z",
     "start_time": "2024-10-31T04:45:45.163894Z"
    }
   },
   "outputs": [],
   "source": [
    "with open(path+'//Data_final16-CA3.pkl', 'rb') as file:\n",
    "    Filt_idata = pickle.load(file)\n",
    "    Filt_gdata = pickle.load(file)\n",
    "    Filt_glen = pickle.load(file)\n",
    "    F_DataLen = pickle.load(file)\n",
    "    \n",
    "    Af_py = pickle.load(file)\n",
    "    Af_in = pickle.load(file)\n",
    "    \n",
    "    In_py_list = pickle.load(file)\n",
    "    In_in_list = pickle.load(file)"
   ]
  },
  {
   "cell_type": "code",
   "execution_count": 4,
   "metadata": {
    "ExecuteTime": {
     "end_time": "2024-10-31T04:45:45.222738Z",
     "start_time": "2024-10-31T04:45:45.209773Z"
    }
   },
   "outputs": [],
   "source": [
    "path_results = '//module//Results_dpp_v2'"
   ]
  },
  {
   "cell_type": "code",
   "execution_count": 5,
   "metadata": {
    "ExecuteTime": {
     "end_time": "2024-10-31T04:45:45.238695Z",
     "start_time": "2024-10-31T04:45:45.226728Z"
    },
    "code_folding": [
     0
    ]
   },
   "outputs": [],
   "source": [
    "def calculate_success(CA3_R_list, CA1_R_list, CA3, Data, CN):\n",
    "    Trial = 20\n",
    "    Trial_CA3 = np.zeros(Trial)\n",
    "    Trial_CA1 = np.zeros(Trial)\n",
    "    Inter_CA1 = np.zeros(Trial)\n",
    "    # CA3 firing rate\n",
    "    N = 3\n",
    "    # CA3 firing ratio\n",
    "    R = 0.3\n",
    "    Success = 0\n",
    "    S_list = []\n",
    "    Weird = 0\n",
    "    Interference = 0\n",
    "    Fail = 0\n",
    "    Classify_num = CN\n",
    "    Winner = np.zeros(Classify_num)\n",
    "\n",
    "    # 각 trial 에서 CA3의 firing rate N 보다 큰 애들 인덱스\n",
    "    # 각 엔그램이랑 겹치는 정도 R\n",
    "    for i, comp in enumerate(CA3_R_list):\n",
    "        temp = np.where(comp >= N)[0]\n",
    "        # firing neuron과 target engram과의 overlap 정도 비교\n",
    "        # 어느 하나로 수렴했으면 +1\n",
    "        # 여러 엔그램으로 수렴했으면 1< 일 것\n",
    "        for j, ca3 in enumerate(CA3):\n",
    "            if len(set(temp).intersection(set(ca3)))/len(ca3) >= R:\n",
    "                Trial_CA3[i] += 1\n",
    "\n",
    "    # 각 trial 에서 CA1의 firing rate 1보다 큰 애들 인덱스\n",
    "    # 특정 인풋이랑 완전히 일치해야만 성공\n",
    "    for i, comp in enumerate(CA1_R_list):\n",
    "        # 일단 발화했으면 다 체크\n",
    "        temp = np.where(comp >= 1)[0]\n",
    "        # 그리고 최종적으로 발화한 애들이 2보단 많이 발화해야함\n",
    "        temp2 = np.where(comp >= 2)[0]\n",
    "        \n",
    "        for j, data in enumerate(Data):\n",
    "            # 일단 발화한 애들이 어떤 data로 수렴했고\n",
    "            if len(temp) == len(data) and len(set(temp).intersection(set(data))) == len(temp):\n",
    "                # 얘네가 충분히 rate가 크다면 +1\n",
    "                if len(temp) == len(temp2):\n",
    "                    Trial_CA1[i] += 1\n",
    "                    Winner[j] += 1\n",
    "         # interference 체크. CA1이 발화를 아예 안했을 경우랑 구분 짓기 위해.\n",
    "        if len(set(temp2)) !=0:\n",
    "            Inter_CA1[i] += 1\n",
    "        \n",
    "    for n in range(Trial):\n",
    "        if Trial_CA1[n] == 1:\n",
    "            Success += 1\n",
    "            S_list.append(1)\n",
    "        # CA3에서 여러 engram이 발화하면서 성공도 못했을 때\n",
    "        # 여러 engram이 발화했어도 CA1에 영향없으면 괜찮기 때문\n",
    "        elif Inter_CA1[n] != 0 and Trial_CA3[n] > 1:\n",
    "            Interference += 1\n",
    "            S_list.append(0)\n",
    "        else:\n",
    "            Fail += 1\n",
    "            S_list.append(0)\n",
    "    print('Success : ', Success)\n",
    "    #print('Weird : ', Weird)\n",
    "    print('Interference : ', Interference)\n",
    "    print('Fail : ', Fail)\n",
    "    return Success"
   ]
  },
  {
   "cell_type": "code",
   "execution_count": 6,
   "metadata": {
    "ExecuteTime": {
     "end_time": "2024-10-31T04:45:45.285569Z",
     "start_time": "2024-10-31T04:45:45.242685Z"
    }
   },
   "outputs": [],
   "source": [
    "# Direct pp 조사\n",
    "with open('Cue_Dpp.pkl', 'rb') as file:\n",
    "    Cue_DataN = pickle.load(file)"
   ]
  },
  {
   "cell_type": "code",
   "execution_count": 7,
   "metadata": {
    "ExecuteTime": {
     "end_time": "2024-10-31T04:45:45.301527Z",
     "start_time": "2024-10-31T04:45:45.288562Z"
    }
   },
   "outputs": [],
   "source": [
    "# Direct pp 조사\n",
    "with open('Cue_Dpp_v2.pkl', 'rb') as file:\n",
    "    Cue_DataY = pickle.load(file)\n",
    "\n",
    "Sparsity_win = 5\n",
    "Sample_num = 5"
   ]
  },
  {
   "cell_type": "code",
   "execution_count": 8,
   "metadata": {
    "ExecuteTime": {
     "end_time": "2024-10-31T04:45:45.317486Z",
     "start_time": "2024-10-31T04:45:45.303522Z"
    }
   },
   "outputs": [
    {
     "data": {
      "text/plain": [
       "(array([6, 9], dtype=int64),)"
      ]
     },
     "execution_count": 8,
     "metadata": {},
     "output_type": "execute_result"
    }
   ],
   "source": [
    "np.where(Cue_DataY[:,2+21])"
   ]
  },
  {
   "cell_type": "code",
   "execution_count": 9,
   "metadata": {
    "ExecuteTime": {
     "end_time": "2024-10-31T04:45:45.333442Z",
     "start_time": "2024-10-31T04:45:45.320478Z"
    }
   },
   "outputs": [
    {
     "data": {
      "text/plain": [
       "(array([ 0,  1,  7, 12, 13, 15], dtype=int64),)"
      ]
     },
     "execution_count": 9,
     "metadata": {},
     "output_type": "execute_result"
    }
   ],
   "source": [
    "np.where(Cue_DataY[:,2+10+21])"
   ]
  },
  {
   "cell_type": "code",
   "execution_count": 10,
   "metadata": {
    "ExecuteTime": {
     "end_time": "2024-10-31T04:45:45.349400Z",
     "start_time": "2024-10-31T04:45:45.341424Z"
    }
   },
   "outputs": [
    {
     "data": {
      "text/plain": [
       "(array([4, 7], dtype=int64),)"
      ]
     },
     "execution_count": 10,
     "metadata": {},
     "output_type": "execute_result"
    }
   ],
   "source": [
    "np.where(Cue_DataN[:,2+63])"
   ]
  },
  {
   "cell_type": "code",
   "execution_count": 11,
   "metadata": {
    "ExecuteTime": {
     "end_time": "2024-10-31T04:45:45.380319Z",
     "start_time": "2024-10-31T04:45:45.354390Z"
    }
   },
   "outputs": [
    {
     "data": {
      "text/plain": [
       "(array([ 0,  1,  6, 11, 12, 15], dtype=int64),)"
      ]
     },
     "execution_count": 11,
     "metadata": {},
     "output_type": "execute_result"
    }
   ],
   "source": [
    "np.where(Cue_DataN[:,2+10+63])"
   ]
  },
  {
   "cell_type": "code",
   "execution_count": 12,
   "metadata": {
    "ExecuteTime": {
     "end_time": "2024-10-31T04:45:46.501363Z",
     "start_time": "2024-10-31T04:45:45.383309Z"
    }
   },
   "outputs": [],
   "source": [
    "# Delete pp\n",
    "for n in range(5):\n",
    "    with open(path+path_results+'//Results-dppN%d.pkl' %n, 'rb') as file:\n",
    "        Success = pickle.load(file)\n",
    "        Fail = pickle.load(file)\n",
    "        If_fail = pickle.load(file)\n",
    "        Winfin = pickle.load(file)\n",
    "\n",
    "        globals()[\"CA3_R_listN{}\".format(n)] = pickle.load(file)\n",
    "        globals()[\"CA1_R_listN{}\".format(n)] = pickle.load(file)"
   ]
  },
  {
   "cell_type": "code",
   "execution_count": 13,
   "metadata": {
    "ExecuteTime": {
     "end_time": "2024-10-31T04:45:47.642293Z",
     "start_time": "2024-10-31T04:45:46.503326Z"
    }
   },
   "outputs": [],
   "source": [
    "for n in range(5):\n",
    "    with open(path+path_results+'//Results-dppY_v2%d.pkl' %n, 'rb') as file:\n",
    "        Success = pickle.load(file)\n",
    "        Fail = pickle.load(file)\n",
    "        If_fail = pickle.load(file)\n",
    "        Winfin = pickle.load(file)\n",
    "\n",
    "        globals()[\"CA3_R_listY{}\".format(n)] = pickle.load(file)\n",
    "        globals()[\"CA1_R_listY{}\".format(n)] = pickle.load(file)"
   ]
  },
  {
   "cell_type": "code",
   "execution_count": 14,
   "metadata": {
    "ExecuteTime": {
     "end_time": "2024-10-31T04:45:47.657252Z",
     "start_time": "2024-10-31T04:45:47.646281Z"
    }
   },
   "outputs": [],
   "source": [
    "Target_DataN = [21, 40, 64, 77, 86]  #N\n",
    "Target_DataY = [40, 77, 93, 157, 223] #Y\n",
    "Repeat = 20"
   ]
  },
  {
   "cell_type": "code",
   "execution_count": 15,
   "metadata": {
    "ExecuteTime": {
     "end_time": "2024-10-31T04:45:47.674207Z",
     "start_time": "2024-10-31T04:45:47.663236Z"
    }
   },
   "outputs": [
    {
     "data": {
      "text/plain": [
       "(array([ 0,  1,  4,  6,  7,  9, 11, 12, 13, 15], dtype=int64),)"
      ]
     },
     "execution_count": 15,
     "metadata": {},
     "output_type": "execute_result"
    }
   ],
   "source": [
    "np.where(Filt_idata[:,77])"
   ]
  },
  {
   "cell_type": "code",
   "execution_count": 16,
   "metadata": {
    "ExecuteTime": {
     "end_time": "2024-10-31T04:45:47.689166Z",
     "start_time": "2024-10-31T04:45:47.678197Z"
    }
   },
   "outputs": [],
   "source": [
    "for n, comp in enumerate(Target_DataN):\n",
    "    globals()[\"Data_dppN{}\".format(n)] = [np.where(Filt_idata[:,comp] !=0)[0]]\n",
    "    globals()[\"CA3_dppN{}\".format(n)] = [Af_py[comp]]"
   ]
  },
  {
   "cell_type": "code",
   "execution_count": 17,
   "metadata": {
    "ExecuteTime": {
     "end_time": "2024-10-31T04:45:47.720085Z",
     "start_time": "2024-10-31T04:45:47.692159Z"
    }
   },
   "outputs": [],
   "source": [
    "for n, comp in enumerate(Target_DataY):\n",
    "    globals()[\"Data_dppY{}\".format(n)] = [np.where(Filt_idata[:,comp] !=0)[0]]\n",
    "    globals()[\"CA3_dppY{}\".format(n)] = [Af_py[comp]]"
   ]
  },
  {
   "cell_type": "code",
   "execution_count": 18,
   "metadata": {
    "ExecuteTime": {
     "end_time": "2024-10-31T04:45:47.847745Z",
     "start_time": "2024-10-31T04:45:47.723076Z"
    },
    "scrolled": true
   },
   "outputs": [
    {
     "name": "stdout",
     "output_type": "stream",
     "text": [
      "Success :  5\n",
      "Interference :  0\n",
      "Fail :  15\n",
      "Success :  11\n",
      "Interference :  0\n",
      "Fail :  9\n",
      "Success :  12\n",
      "Interference :  0\n",
      "Fail :  8\n",
      "Success :  6\n",
      "Interference :  0\n",
      "Fail :  14\n",
      "Success :  11\n",
      "Interference :  0\n",
      "Fail :  9\n",
      "Success :  14\n",
      "Interference :  0\n",
      "Fail :  6\n",
      "Success :  12\n",
      "Interference :  0\n",
      "Fail :  8\n",
      "Success :  12\n",
      "Interference :  0\n",
      "Fail :  8\n",
      "Success :  4\n",
      "Interference :  0\n",
      "Fail :  16\n",
      "Success :  17\n",
      "Interference :  0\n",
      "Fail :  3\n",
      "Success :  14\n",
      "Interference :  0\n",
      "Fail :  6\n",
      "Success :  15\n",
      "Interference :  0\n",
      "Fail :  5\n",
      "Success :  14\n",
      "Interference :  0\n",
      "Fail :  6\n",
      "Success :  16\n",
      "Interference :  0\n",
      "Fail :  4\n",
      "Success :  14\n",
      "Interference :  0\n",
      "Fail :  6\n",
      "Success :  15\n",
      "Interference :  0\n",
      "Fail :  5\n",
      "Success :  14\n",
      "Interference :  0\n",
      "Fail :  6\n",
      "Success :  15\n",
      "Interference :  0\n",
      "Fail :  5\n",
      "Success :  17\n",
      "Interference :  0\n",
      "Fail :  3\n",
      "Success :  18\n",
      "Interference :  0\n",
      "Fail :  2\n",
      "Success :  15\n",
      "Interference :  0\n",
      "Fail :  5\n",
      "Success :  9\n",
      "Interference :  0\n",
      "Fail :  11\n",
      "Success :  18\n",
      "Interference :  0\n",
      "Fail :  2\n",
      "Success :  16\n",
      "Interference :  0\n",
      "Fail :  4\n",
      "Success :  4\n",
      "Interference :  0\n",
      "Fail :  16\n",
      "Success :  11\n",
      "Interference :  0\n",
      "Fail :  9\n",
      "Success :  16\n",
      "Interference :  0\n",
      "Fail :  4\n",
      "Success :  16\n",
      "Interference :  0\n",
      "Fail :  4\n",
      "Success :  16\n",
      "Interference :  0\n",
      "Fail :  4\n",
      "Success :  16\n",
      "Interference :  0\n",
      "Fail :  4\n",
      "Success :  15\n",
      "Interference :  0\n",
      "Fail :  5\n",
      "Success :  17\n",
      "Interference :  0\n",
      "Fail :  3\n",
      "Success :  17\n",
      "Interference :  0\n",
      "Fail :  3\n",
      "Success :  17\n",
      "Interference :  0\n",
      "Fail :  3\n",
      "Success :  20\n",
      "Interference :  0\n",
      "Fail :  0\n",
      "Success :  16\n",
      "Interference :  0\n",
      "Fail :  4\n",
      "Success :  20\n",
      "Interference :  0\n",
      "Fail :  0\n",
      "Success :  18\n",
      "Interference :  0\n",
      "Fail :  2\n",
      "Success :  17\n",
      "Interference :  0\n",
      "Fail :  3\n",
      "Success :  20\n",
      "Interference :  0\n",
      "Fail :  0\n",
      "Success :  19\n",
      "Interference :  0\n",
      "Fail :  1\n",
      "Success :  19\n",
      "Interference :  0\n",
      "Fail :  1\n",
      "Success :  14\n",
      "Interference :  0\n",
      "Fail :  6\n",
      "Success :  10\n",
      "Interference :  0\n",
      "Fail :  10\n",
      "Success :  10\n",
      "Interference :  0\n",
      "Fail :  10\n",
      "Success :  14\n",
      "Interference :  0\n",
      "Fail :  6\n",
      "Success :  11\n",
      "Interference :  0\n",
      "Fail :  9\n",
      "Success :  17\n",
      "Interference :  0\n",
      "Fail :  3\n",
      "Success :  17\n",
      "Interference :  0\n",
      "Fail :  3\n",
      "Success :  16\n",
      "Interference :  0\n",
      "Fail :  4\n",
      "Success :  15\n",
      "Interference :  0\n",
      "Fail :  5\n",
      "Success :  16\n",
      "Interference :  0\n",
      "Fail :  4\n",
      "Success :  17\n",
      "Interference :  0\n",
      "Fail :  3\n",
      "Success :  18\n",
      "Interference :  0\n",
      "Fail :  2\n",
      "Success :  16\n",
      "Interference :  0\n",
      "Fail :  4\n",
      "Success :  18\n",
      "Interference :  0\n",
      "Fail :  2\n",
      "Success :  16\n",
      "Interference :  0\n",
      "Fail :  4\n",
      "Success :  16\n",
      "Interference :  0\n",
      "Fail :  4\n",
      "Success :  16\n",
      "Interference :  0\n",
      "Fail :  4\n",
      "Success :  16\n",
      "Interference :  0\n",
      "Fail :  4\n",
      "Success :  18\n",
      "Interference :  0\n",
      "Fail :  2\n",
      "Success :  18\n",
      "Interference :  0\n",
      "Fail :  2\n",
      "Success :  17\n",
      "Interference :  0\n",
      "Fail :  3\n",
      "Success :  11\n",
      "Interference :  0\n",
      "Fail :  9\n",
      "Success :  16\n",
      "Interference :  0\n",
      "Fail :  4\n",
      "Success :  17\n",
      "Interference :  0\n",
      "Fail :  3\n",
      "Success :  10\n",
      "Interference :  0\n",
      "Fail :  10\n",
      "Success :  11\n",
      "Interference :  0\n",
      "Fail :  9\n",
      "Success :  16\n",
      "Interference :  0\n",
      "Fail :  4\n",
      "Success :  15\n",
      "Interference :  0\n",
      "Fail :  5\n",
      "Success :  14\n",
      "Interference :  0\n",
      "Fail :  6\n",
      "Success :  12\n",
      "Interference :  0\n",
      "Fail :  8\n",
      "Success :  11\n",
      "Interference :  0\n",
      "Fail :  9\n",
      "Success :  16\n",
      "Interference :  0\n",
      "Fail :  4\n",
      "Success :  18\n",
      "Interference :  0\n",
      "Fail :  2\n",
      "Success :  15\n",
      "Interference :  0\n",
      "Fail :  5\n",
      "Success :  15\n",
      "Interference :  0\n",
      "Fail :  5\n",
      "Success :  18\n",
      "Interference :  0\n",
      "Fail :  2\n",
      "Success :  16\n",
      "Interference :  0\n",
      "Fail :  4\n",
      "Success :  18\n",
      "Interference :  0\n",
      "Fail :  2\n",
      "Success :  17\n",
      "Interference :  0\n",
      "Fail :  3\n",
      "Success :  17\n",
      "Interference :  0\n",
      "Fail :  3\n",
      "Success :  15\n",
      "Interference :  0\n",
      "Fail :  5\n",
      "Success :  19\n",
      "Interference :  0\n",
      "Fail :  1\n",
      "Success :  15\n",
      "Interference :  0\n",
      "Fail :  5\n",
      "Success :  10\n",
      "Interference :  0\n",
      "Fail :  10\n",
      "Success :  10\n",
      "Interference :  0\n",
      "Fail :  10\n",
      "Success :  13\n",
      "Interference :  0\n",
      "Fail :  7\n",
      "Success :  16\n",
      "Interference :  0\n",
      "Fail :  4\n",
      "Success :  16\n",
      "Interference :  0\n",
      "Fail :  4\n",
      "Success :  14\n",
      "Interference :  0\n",
      "Fail :  6\n",
      "Success :  20\n",
      "Interference :  0\n",
      "Fail :  0\n",
      "Success :  15\n",
      "Interference :  0\n",
      "Fail :  5\n",
      "Success :  13\n",
      "Interference :  0\n",
      "Fail :  7\n",
      "Success :  19\n",
      "Interference :  0\n",
      "Fail :  1\n",
      "Success :  17\n",
      "Interference :  0\n",
      "Fail :  3\n",
      "Success :  17\n",
      "Interference :  0\n",
      "Fail :  3\n",
      "Success :  20\n",
      "Interference :  0\n",
      "Fail :  0\n",
      "Success :  20\n",
      "Interference :  0\n",
      "Fail :  0\n",
      "Success :  17\n",
      "Interference :  0\n",
      "Fail :  3\n",
      "Success :  19\n",
      "Interference :  0\n",
      "Fail :  1\n",
      "Success :  15\n",
      "Interference :  0\n",
      "Fail :  5\n",
      "Success :  16\n",
      "Interference :  0\n",
      "Fail :  4\n",
      "Success :  18\n",
      "Interference :  0\n",
      "Fail :  2\n",
      "Success :  19\n",
      "Interference :  0\n",
      "Fail :  1\n"
     ]
    }
   ],
   "source": [
    "N = 1\n",
    "# n은 target sample\n",
    "# m은 sparsity x cue sample\n",
    "for n in range(5):\n",
    "    for m in range(21):\n",
    "        globals()[\"Success_Y{}_{}\".format(n,m)] =  calculate_success(\n",
    "        globals()[\"CA3_R_listY{}\".format(n)][Repeat*m:Repeat*(m+1)], \n",
    "        globals()[\"CA1_R_listY{}\".format(n)][Repeat*m:Repeat*(m+1)], \n",
    "        globals()[\"CA3_dppY{}\".format(n)], \n",
    "        globals()[\"Data_dppY{}\".format(n)], N)\n",
    "\n",
    "Success_Y_temp = np.zeros((5,5))\n",
    "# n은 target sample\n",
    "# m은 sparsity\n",
    "for n in range(5):\n",
    "    for m in range(5):\n",
    "        Success_temp2 = []\n",
    "        if m+1 < 5:\n",
    "            for k in range(5):\n",
    "                Success_temp2.append(globals()[\"Success_Y{}_{}\".format(n,5*m+k)])\n",
    "        elif m+1 == 5:\n",
    "            Success_temp2.append(globals()[\"Success_Y{}_{}\".format(n,20)])\n",
    "        Success_Y_temp[n,m] = np.mean(Success_temp2)\n",
    "    \n",
    "Success_Y = []\n",
    "Success_Y_list = []\n",
    "# n은 sparsity\n",
    "for n in range(5):\n",
    "    Success_Y.append(np.mean(Success_Y_temp[:,n]))\n",
    "    Success_Y_list += list((Success_Y_temp[:,n]/Repeat)*100)"
   ]
  },
  {
   "cell_type": "code",
   "execution_count": 19,
   "metadata": {
    "ExecuteTime": {
     "end_time": "2024-10-31T04:45:47.925537Z",
     "start_time": "2024-10-31T04:45:47.850737Z"
    }
   },
   "outputs": [
    {
     "name": "stdout",
     "output_type": "stream",
     "text": [
      "Success :  0\n",
      "Interference :  0\n",
      "Fail :  20\n",
      "Success :  0\n",
      "Interference :  0\n",
      "Fail :  20\n",
      "Success :  0\n",
      "Interference :  0\n",
      "Fail :  20\n",
      "Success :  0\n",
      "Interference :  0\n",
      "Fail :  20\n",
      "Success :  0\n",
      "Interference :  0\n",
      "Fail :  20\n",
      "Success :  0\n",
      "Interference :  0\n",
      "Fail :  20\n",
      "Success :  0\n",
      "Interference :  0\n",
      "Fail :  20\n",
      "Success :  0\n",
      "Interference :  0\n",
      "Fail :  20\n",
      "Success :  0\n",
      "Interference :  0\n",
      "Fail :  20\n",
      "Success :  0\n",
      "Interference :  0\n",
      "Fail :  20\n",
      "Success :  0\n",
      "Interference :  0\n",
      "Fail :  20\n",
      "Success :  0\n",
      "Interference :  0\n",
      "Fail :  20\n",
      "Success :  0\n",
      "Interference :  0\n",
      "Fail :  20\n",
      "Success :  0\n",
      "Interference :  0\n",
      "Fail :  20\n",
      "Success :  0\n",
      "Interference :  0\n",
      "Fail :  20\n",
      "Success :  15\n",
      "Interference :  0\n",
      "Fail :  5\n",
      "Success :  0\n",
      "Interference :  0\n",
      "Fail :  20\n",
      "Success :  0\n",
      "Interference :  0\n",
      "Fail :  20\n",
      "Success :  14\n",
      "Interference :  0\n",
      "Fail :  6\n",
      "Success :  0\n",
      "Interference :  0\n",
      "Fail :  20\n",
      "Success :  12\n",
      "Interference :  0\n",
      "Fail :  8\n",
      "Success :  0\n",
      "Interference :  0\n",
      "Fail :  20\n",
      "Success :  0\n",
      "Interference :  0\n",
      "Fail :  20\n",
      "Success :  1\n",
      "Interference :  0\n",
      "Fail :  19\n",
      "Success :  0\n",
      "Interference :  0\n",
      "Fail :  20\n",
      "Success :  0\n",
      "Interference :  0\n",
      "Fail :  20\n",
      "Success :  0\n",
      "Interference :  0\n",
      "Fail :  20\n",
      "Success :  1\n",
      "Interference :  0\n",
      "Fail :  19\n",
      "Success :  0\n",
      "Interference :  0\n",
      "Fail :  20\n",
      "Success :  2\n",
      "Interference :  0\n",
      "Fail :  18\n",
      "Success :  0\n",
      "Interference :  0\n",
      "Fail :  20\n",
      "Success :  0\n",
      "Interference :  0\n",
      "Fail :  20\n",
      "Success :  1\n",
      "Interference :  0\n",
      "Fail :  19\n",
      "Success :  0\n",
      "Interference :  0\n",
      "Fail :  20\n",
      "Success :  0\n",
      "Interference :  0\n",
      "Fail :  20\n",
      "Success :  0\n",
      "Interference :  0\n",
      "Fail :  20\n",
      "Success :  0\n",
      "Interference :  0\n",
      "Fail :  20\n",
      "Success :  0\n",
      "Interference :  0\n",
      "Fail :  20\n",
      "Success :  0\n",
      "Interference :  0\n",
      "Fail :  20\n",
      "Success :  0\n",
      "Interference :  0\n",
      "Fail :  20\n",
      "Success :  0\n",
      "Interference :  0\n",
      "Fail :  20\n",
      "Success :  20\n",
      "Interference :  0\n",
      "Fail :  0\n",
      "Success :  0\n",
      "Interference :  0\n",
      "Fail :  20\n",
      "Success :  0\n",
      "Interference :  0\n",
      "Fail :  20\n",
      "Success :  0\n",
      "Interference :  0\n",
      "Fail :  20\n",
      "Success :  0\n",
      "Interference :  0\n",
      "Fail :  20\n",
      "Success :  0\n",
      "Interference :  0\n",
      "Fail :  20\n",
      "Success :  0\n",
      "Interference :  0\n",
      "Fail :  20\n",
      "Success :  0\n",
      "Interference :  0\n",
      "Fail :  20\n",
      "Success :  0\n",
      "Interference :  0\n",
      "Fail :  20\n",
      "Success :  0\n",
      "Interference :  0\n",
      "Fail :  20\n",
      "Success :  0\n",
      "Interference :  0\n",
      "Fail :  20\n",
      "Success :  0\n",
      "Interference :  0\n",
      "Fail :  20\n",
      "Success :  0\n",
      "Interference :  0\n",
      "Fail :  20\n",
      "Success :  0\n",
      "Interference :  0\n",
      "Fail :  20\n",
      "Success :  0\n",
      "Interference :  0\n",
      "Fail :  20\n",
      "Success :  0\n",
      "Interference :  0\n",
      "Fail :  20\n",
      "Success :  0\n",
      "Interference :  0\n",
      "Fail :  20\n",
      "Success :  0\n",
      "Interference :  0\n",
      "Fail :  20\n",
      "Success :  0\n",
      "Interference :  0\n",
      "Fail :  20\n",
      "Success :  0\n",
      "Interference :  0\n",
      "Fail :  20\n",
      "Success :  0\n",
      "Interference :  0\n",
      "Fail :  20\n",
      "Success :  20\n",
      "Interference :  0\n",
      "Fail :  0\n",
      "Success :  0\n",
      "Interference :  0\n",
      "Fail :  20\n",
      "Success :  0\n",
      "Interference :  0\n",
      "Fail :  20\n",
      "Success :  0\n",
      "Interference :  0\n",
      "Fail :  20\n",
      "Success :  0\n",
      "Interference :  0\n",
      "Fail :  20\n",
      "Success :  0\n",
      "Interference :  0\n",
      "Fail :  20\n",
      "Success :  0\n",
      "Interference :  0\n",
      "Fail :  20\n",
      "Success :  0\n",
      "Interference :  0\n",
      "Fail :  20\n",
      "Success :  0\n",
      "Interference :  0\n",
      "Fail :  20\n",
      "Success :  1\n",
      "Interference :  0\n",
      "Fail :  19\n",
      "Success :  1\n",
      "Interference :  0\n",
      "Fail :  19\n",
      "Success :  0\n",
      "Interference :  0\n",
      "Fail :  20\n",
      "Success :  20\n",
      "Interference :  0\n",
      "Fail :  0\n",
      "Success :  0\n",
      "Interference :  0\n",
      "Fail :  20\n",
      "Success :  0\n",
      "Interference :  0\n",
      "Fail :  20\n",
      "Success :  20\n",
      "Interference :  0\n",
      "Fail :  0\n",
      "Success :  20\n",
      "Interference :  0\n",
      "Fail :  0\n",
      "Success :  20\n",
      "Interference :  0\n",
      "Fail :  0\n",
      "Success :  0\n",
      "Interference :  0\n",
      "Fail :  20\n",
      "Success :  20\n",
      "Interference :  0\n",
      "Fail :  0\n",
      "Success :  0\n",
      "Interference :  0\n",
      "Fail :  20\n",
      "Success :  20\n",
      "Interference :  0\n",
      "Fail :  0\n",
      "Success :  0\n",
      "Interference :  0\n",
      "Fail :  20\n",
      "Success :  0\n",
      "Interference :  0\n",
      "Fail :  20\n",
      "Success :  0\n",
      "Interference :  0\n",
      "Fail :  20\n",
      "Success :  0\n",
      "Interference :  0\n",
      "Fail :  20\n",
      "Success :  0\n",
      "Interference :  0\n",
      "Fail :  20\n",
      "Success :  0\n",
      "Interference :  0\n",
      "Fail :  20\n",
      "Success :  0\n",
      "Interference :  0\n",
      "Fail :  20\n",
      "Success :  0\n",
      "Interference :  0\n",
      "Fail :  20\n",
      "Success :  0\n",
      "Interference :  0\n",
      "Fail :  20\n",
      "Success :  0\n",
      "Interference :  0\n",
      "Fail :  20\n",
      "Success :  0\n",
      "Interference :  0\n",
      "Fail :  20\n",
      "Success :  0\n",
      "Interference :  0\n",
      "Fail :  20\n",
      "Success :  0\n",
      "Interference :  0\n",
      "Fail :  20\n",
      "Success :  0\n",
      "Interference :  0\n",
      "Fail :  20\n",
      "Success :  0\n",
      "Interference :  0\n",
      "Fail :  20\n",
      "Success :  20\n",
      "Interference :  0\n",
      "Fail :  0\n",
      "Success :  0\n",
      "Interference :  0\n",
      "Fail :  20\n",
      "Success :  20\n",
      "Interference :  0\n",
      "Fail :  0\n",
      "Success :  1\n",
      "Interference :  0\n",
      "Fail :  19\n",
      "Success :  0\n",
      "Interference :  0\n",
      "Fail :  20\n",
      "Success :  20\n",
      "Interference :  0\n",
      "Fail :  0\n"
     ]
    }
   ],
   "source": [
    "N = 1\n",
    "# n은 target sample\n",
    "# m은 sparsity x cue sample\n",
    "for n in range(5):\n",
    "    for m in range(21):\n",
    "        globals()[\"Success_N{}_{}\".format(n,m)] =  calculate_success(\n",
    "        globals()[\"CA3_R_listN{}\".format(n)][Repeat*m:Repeat*(m+1)], \n",
    "        globals()[\"CA1_R_listN{}\".format(n)][Repeat*m:Repeat*(m+1)], \n",
    "        globals()[\"CA3_dppN{}\".format(n)], \n",
    "        globals()[\"Data_dppN{}\".format(n)], N)\n",
    "\n",
    "Success_N_temp = np.zeros((5,5))\n",
    "# n은 target sample\n",
    "# m은 sparsity\n",
    "for n in range(5):\n",
    "    for m in range(5):\n",
    "        Success_temp2 = []\n",
    "        if m+1 < 5:\n",
    "            for k in range(5):\n",
    "                Success_temp2.append(globals()[\"Success_N{}_{}\".format(n,5*m+k)])\n",
    "        elif m+1 == 5:\n",
    "            Success_temp2.append(globals()[\"Success_N{}_{}\".format(n,20)])\n",
    "        Success_N_temp[n,m] = np.mean(Success_temp2)\n",
    "    \n",
    "Success_N = []\n",
    "Success_N_list = []\n",
    "# n은 sparsity\n",
    "for n in range(5):\n",
    "    Success_N.append(np.mean(Success_N_temp[:,n]))\n",
    "    Success_N_list += list((Success_N_temp[:,n]/Repeat)*100)"
   ]
  },
  {
   "cell_type": "markdown",
   "metadata": {
    "ExecuteTime": {
     "end_time": "2024-05-17T04:28:44.150141Z",
     "start_time": "2024-05-17T04:28:44.043426Z"
    },
    "scrolled": true
   },
   "source": [
    "N = 1\n",
    "for n in range(2):\n",
    "    for m in range(21):\n",
    "        globals()[\"Success_N{}_{}\".format(2*n+1,m)] =  calculate_success(\n",
    "        globals()[\"CA3_R_listN{}\".format(2*n+1)][Repeat*m:Repeat*(m+1)], \n",
    "        globals()[\"CA1_R_listN{}\".format(2*n+1)][Repeat*m:Repeat*(m+1)], \n",
    "        globals()[\"CA3_dpp{}\".format(2*n+1)], \n",
    "        globals()[\"Data_dpp{}\".format(2*n+1)], N)\n",
    "\n",
    "# n : sample num / m,k : sparsity num\n",
    "Success_N_temp = np.zeros((5,5))\n",
    "for n in range(5):\n",
    "    for m in range(5):\n",
    "        Success_temp2 = []\n",
    "        if m+1 < 5:\n",
    "            for k in range(5):\n",
    "                Success_temp2.append(globals()[\"Success_N{}_{}\".format(1,5*m+k)])\n",
    "        elif m+1 == 5:\n",
    "            Success_temp2.append(globals()[\"Success_N{}_{}\".format(1,20)])\n",
    "    Success_N_temp[n,m] = np.mean(Success_temp2)\n",
    "    \n",
    "Success_N = []\n",
    "Success_N_list = []\n",
    "for n in range(5):\n",
    "    Success_N.append(np.mean(Success_N_temp[:,n]))\n",
    "    Success_N_list += list((Success_N_temp[:,n]/Repeat)*100)"
   ]
  },
  {
   "cell_type": "code",
   "execution_count": 20,
   "metadata": {
    "ExecuteTime": {
     "end_time": "2024-10-31T04:45:47.941496Z",
     "start_time": "2024-10-31T04:45:47.928529Z"
    }
   },
   "outputs": [
    {
     "data": {
      "text/plain": [
       "25"
      ]
     },
     "execution_count": 20,
     "metadata": {},
     "output_type": "execute_result"
    }
   ],
   "source": [
    "len(Success_N_list)"
   ]
  },
  {
   "cell_type": "code",
   "execution_count": 24,
   "metadata": {
    "ExecuteTime": {
     "end_time": "2024-10-31T04:52:30.570302Z",
     "start_time": "2024-10-31T04:52:29.234212Z"
    }
   },
   "outputs": [
    {
     "data": {
      "image/png": "[encoded data removed]",
      "text/plain": [
       "<Figure size 500x500 with 1 Axes>"
      ]
     },
     "metadata": {},
     "output_type": "display_data"
    }
   ],
   "source": [
    "data_dic = {}\n",
    "data_dic['Cue (%)'] = []\n",
    "# cue percent * type\n",
    "for n in range(5*2):\n",
    "    m = (n % 5)+1\n",
    "    data_dic['Cue (%)'] += [20*m,20*m,20*m,20*m,20*m]\n",
    "data_dic['With direct PP / Without direct PP'] = []\n",
    "for n in range(5*5):\n",
    "    data_dic['With direct PP / Without direct PP'].append('With direct PP')\n",
    "for n in range(5*5):\n",
    "    data_dic['With direct PP / Without direct PP'].append('Without direct PP')\n",
    "\n",
    "data_dic['Performance (%)'] = Success_Y_list+Success_N_list\n",
    "\n",
    "df = pd.DataFrame(data_dic)\n",
    "\n",
    "fig = plt.subplot(111)\n",
    "sns.set(rc={'figure.figsize':(5, 5)})\n",
    "sns.set_theme(style='white')\n",
    "ax = sns.lineplot(data = df, x='Cue (%)', y='Performance (%)', marker='o', markersize=10, palette={'With direct PP':'cornflowerblue','Without direct PP':'salmon'}, hue=df['With direct PP / Without direct PP'], linewidth=2.5)\n",
    "plt.ylim([-2,102])\n",
    "plt.xlabel('Cue (%)')\n",
    "plt.ylabel('Performance (%)')\n",
    "plt.title('Effect of direct PP on retrieval')\n",
    "plt.legend(loc='upper left', frameon=False)\n",
    "fig.spines['top'].set_visible(False)\n",
    "fig.spines['right'].set_visible(False)\n",
    "plt.savefig('Fig-dpp.pdf', bbox_inches='tight')\n",
    "plt.savefig('Fig-dpp.tiff', bbox_inches='tight', dpi=300)\n",
    "plt.show()"
   ]
  },
  {
   "cell_type": "code",
   "execution_count": 22,
   "metadata": {
    "ExecuteTime": {
     "end_time": "2024-10-31T04:45:49.871353Z",
     "start_time": "2024-10-31T04:45:49.256991Z"
    }
   },
   "outputs": [
    {
     "ename": "NameError",
     "evalue": "name 'a' is not defined",
     "output_type": "error",
     "traceback": [
      "\u001b[1;31m---------------------------------------------------------------------------\u001b[0m",
      "\u001b[1;31mNameError\u001b[0m                                 Traceback (most recent call last)",
      "\u001b[1;32m~\\AppData\\Local\\Temp\\ipykernel_12532\\2167009006.py\u001b[0m in \u001b[0;36m<module>\u001b[1;34m\u001b[0m\n\u001b[1;32m----> 1\u001b[1;33m \u001b[0ma\u001b[0m\u001b[1;33m\u001b[0m\u001b[1;33m\u001b[0m\u001b[0m\n\u001b[0m",
      "\u001b[1;31mNameError\u001b[0m: name 'a' is not defined"
     ]
    }
   ],
   "source": [
    "a"
   ]
  },
  {
   "cell_type": "code",
   "execution_count": null,
   "metadata": {},
   "outputs": [],
   "source": []
  }
 ],
 "metadata": {
  "kernelspec": {
   "display_name": "Python 3 (ipykernel)",
   "language": "python",
   "name": "python3"
  },
  "language_info": {
   "codemirror_mode": {
    "name": "ipython",
    "version": 3
   },
   "file_extension": ".py",
   "mimetype": "text/x-python",
   "name": "python",
   "nbconvert_exporter": "python",
   "pygments_lexer": "ipython3",
   "version": "3.8.5"
  },
  "toc": {
   "base_numbering": 1,
   "nav_menu": {},
   "number_sections": true,
   "sideBar": true,
   "skip_h1_title": false,
   "title_cell": "Table of Contents",
   "title_sidebar": "Contents",
   "toc_cell": false,
   "toc_position": {},
   "toc_section_display": true,
   "toc_window_display": false
  },
  "varInspector": {
   "cols": {
    "lenName": 16,
    "lenType": 16,
    "lenVar": 40
   },
   "kernels_config": {
    "python": {
     "delete_cmd_postfix": "",
     "delete_cmd_prefix": "del ",
     "library": "var_list.py",
     "varRefreshCmd": "print(var_dic_list())"
    },
    "r": {
     "delete_cmd_postfix": ") ",
     "delete_cmd_prefix": "rm(",
     "library": "var_list.r",
     "varRefreshCmd": "cat(var_dic_list()) "
    }
   },
   "types_to_exclude": [
    "module",
    "function",
    "builtin_function_or_method",
    "instance",
    "_Feature"
   ],
   "window_display": false
  }
 },
 "nbformat": 4,
 "nbformat_minor": 4
}
