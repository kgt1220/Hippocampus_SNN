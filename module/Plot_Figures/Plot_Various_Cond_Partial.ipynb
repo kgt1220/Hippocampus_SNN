{
 "cells": [
  {
   "cell_type": "code",
   "execution_count": 1,
   "id": "5fad51dc",
   "metadata": {
    "ExecuteTime": {
     "end_time": "2024-11-01T05:17:37.352110Z",
     "start_time": "2024-11-01T05:17:34.809700Z"
    }
   },
   "outputs": [],
   "source": [
    "# import\n",
    "import numpy as np\n",
    "import random\n",
    "import matplotlib.pyplot as plt\n",
    "import matplotlib.cm as cm \n",
    "import seaborn as sns\n",
    "import pandas as pd\n",
    "from scipy import signal\n",
    "from importlib import reload\n",
    "\n",
    "#import winsound as sd\n",
    "import pickle\n",
    "import sys\n",
    "import os"
   ]
  },
  {
   "cell_type": "code",
   "execution_count": 2,
   "id": "696acb47",
   "metadata": {
    "ExecuteTime": {
     "end_time": "2024-11-01T05:17:37.367308Z",
     "start_time": "2024-11-01T05:17:37.361327Z"
    }
   },
   "outputs": [],
   "source": [
    "# load\n",
    "cd = os.getcwd()\n",
    "path = os.path.dirname(cd)"
   ]
  },
  {
   "cell_type": "code",
   "execution_count": 3,
   "id": "899340f2",
   "metadata": {
    "ExecuteTime": {
     "end_time": "2024-11-01T05:17:37.398225Z",
     "start_time": "2024-11-01T05:17:37.370301Z"
    },
    "code_folding": []
   },
   "outputs": [],
   "source": [
    "def calculate_success(CA3_R_list, CA1_R_list, CA3, Data, CN):\n",
    "    Trial = 50\n",
    "    Trial_CA3 = np.zeros(Trial)\n",
    "    Trial_CA1 = np.zeros(Trial)\n",
    "    Inter_CA1 = np.zeros(Trial)\n",
    "    # CA3 firing rate\n",
    "    N = 3\n",
    "    # CA3 firing ratio\n",
    "    R = 0.3\n",
    "    Success = 0\n",
    "    S_list = []\n",
    "    Weird = 0\n",
    "    Interference = 0\n",
    "    Fail = 0\n",
    "    Classify_num = CN\n",
    "    Winner = np.zeros(Classify_num)\n",
    "\n",
    "    # 각 trial 에서 CA3의 firing rate N 보다 큰 애들 인덱스\n",
    "    # 각 엔그램이랑 겹치는 정도 R\n",
    "    for i, comp in enumerate(CA3_R_list):\n",
    "        temp = np.where(comp >= N)[0]\n",
    "        # firing neuron과 target engram과의 overlap 정도 비교\n",
    "        # 어느 하나로 수렴했으면 +1\n",
    "        # 여러 엔그램으로 수렴했으면 1< 일 것\n",
    "        for j, ca3 in enumerate(CA3):\n",
    "            if len(set(temp).intersection(set(ca3)))/len(ca3) >= R:\n",
    "                Trial_CA3[i] += 1\n",
    "\n",
    "    # 각 trial 에서 CA1의 firing rate 1보다 큰 애들 인덱스\n",
    "    # 특정 인풋이랑 완전히 일치해야만 성공\n",
    "    for i, comp in enumerate(CA1_R_list):\n",
    "        # 일단 발화했으면 다 체크\n",
    "        temp = np.where(comp >= 1)[0]\n",
    "        # 그리고 최종적으로 발화한 애들이 2보단 많이 발화해야함\n",
    "        temp2 = np.where(comp >= 2)[0]\n",
    "        \n",
    "        for j, data in enumerate(Data):\n",
    "            # 일단 발화한 애들이 어떤 data로 수렴했고\n",
    "            if len(temp) == len(data) and len(set(temp).intersection(set(data))) == len(temp):\n",
    "                # 얘네가 충분히 rate가 크다면 +1\n",
    "                if len(temp) == len(temp2):\n",
    "                    Trial_CA1[i] += 1\n",
    "                    Winner[j] += 1\n",
    "         # interference 체크. CA1이 발화를 아예 안했을 경우랑 구분 짓기 위해.\n",
    "        if len(set(temp2)) !=0:\n",
    "            Inter_CA1[i] += 1\n",
    "        \n",
    "    for n in range(Trial):\n",
    "        if Trial_CA1[n] == 1:\n",
    "            Success += 1\n",
    "            S_list.append(1)\n",
    "        # CA3에서 여러 engram이 발화하면서 성공도 못했을 때\n",
    "        # 여러 engram이 발화했어도 CA1에 영향없으면 괜찮기 때문\n",
    "        elif Inter_CA1[n] != 0 and Trial_CA3[n] > 1:\n",
    "            Interference += 1\n",
    "            S_list.append(0)\n",
    "        else:\n",
    "            Fail += 1\n",
    "            S_list.append(0)\n",
    "    print('Success : ', Success)\n",
    "    #print('Weird : ', Weird)\n",
    "    print('Interference : ', Interference)\n",
    "    print('Fail : ', Fail)\n",
    "    return Success, Weird, Interference, Fail, Winner"
   ]
  },
  {
   "cell_type": "code",
   "execution_count": 5,
   "id": "7b097b18",
   "metadata": {
    "ExecuteTime": {
     "end_time": "2024-11-01T05:17:53.371237Z",
     "start_time": "2024-11-01T05:17:53.278457Z"
    }
   },
   "outputs": [],
   "source": [
    "# load\n",
    "cd = os.getcwd()\n",
    "path = os.path.dirname(cd)\n",
    "\n",
    "with open(path+'//Data_final.pkl', 'rb') as file:\n",
    "    Filt_idata = pickle.load(file)\n",
    "    Filt_gdata = pickle.load(file)\n",
    "    Filt_glen = pickle.load(file)\n",
    "    F_DataLen = pickle.load(file)\n",
    "    \n",
    "    Af_py = pickle.load(file)\n",
    "    Af_in = pickle.load(file)\n",
    "    \n",
    "    In_py_list = pickle.load(file)\n",
    "    In_in_list = pickle.load(file)"
   ]
  },
  {
   "cell_type": "code",
   "execution_count": null,
   "id": "a287a3c8",
   "metadata": {
    "ExecuteTime": {
     "end_time": "2024-11-01T05:17:37.991648Z",
     "start_time": "2024-11-01T05:17:37.991648Z"
    }
   },
   "outputs": [],
   "source": [
    "# n : 학습된 정보 종류\n",
    "# m : bias 정도\n",
    "path_results = '//module//Results_various_cond4'\n",
    "for n in range(5):\n",
    "    for m in range(5):\n",
    "        with open(path+path_results+'//Results-biasG_v4%d-%d.pkl' % (n+1,m), 'rb') as file:\n",
    "            Success = pickle.load(file)\n",
    "            Fail = pickle.load(file)\n",
    "            If_fail = pickle.load(file)\n",
    "            Winfin = pickle.load(file)\n",
    "            \n",
    "            globals()[\"CA3_R_list_bG{}_{}\".format(n+1,m)] = pickle.load(file)\n",
    "            globals()[\"CA1_R_list_bG{}_{}\".format(n+1,m)] = pickle.load(file)"
   ]
  },
  {
   "cell_type": "code",
   "execution_count": null,
   "id": "6340305f",
   "metadata": {
    "ExecuteTime": {
     "end_time": "2024-11-01T05:17:37.994637Z",
     "start_time": "2024-11-01T05:17:37.994637Z"
    }
   },
   "outputs": [],
   "source": [
    "for n in range(5):\n",
    "    for m in range(5):\n",
    "        with open(path+path_results+'//Results-biasM_v4%d-%d.pkl' % (n+1,m), 'rb') as file:\n",
    "            Success = pickle.load(file)\n",
    "            Fail = pickle.load(file)\n",
    "            If_fail = pickle.load(file)\n",
    "            Winfin = pickle.load(file)\n",
    "            \n",
    "            globals()[\"CA3_R_list_bM{}_{}\".format(n+1,m)] = pickle.load(file)\n",
    "            globals()[\"CA1_R_list_bM{}_{}\".format(n+1,m)] = pickle.load(file)"
   ]
  },
  {
   "cell_type": "code",
   "execution_count": null,
   "id": "e8a33129",
   "metadata": {
    "ExecuteTime": {
     "end_time": "2024-11-01T05:17:37.996631Z",
     "start_time": "2024-11-01T05:17:37.996631Z"
    }
   },
   "outputs": [],
   "source": [
    "Repeat = 50"
   ]
  },
  {
   "cell_type": "code",
   "execution_count": null,
   "id": "be9f62c5",
   "metadata": {
    "ExecuteTime": {
     "end_time": "2024-11-01T05:17:37.998627Z",
     "start_time": "2024-11-01T05:17:37.998627Z"
    }
   },
   "outputs": [],
   "source": [
    "# Bias 조사\n",
    "with open('Cue_and_Target_Bias_v4.pkl', 'rb') as file:\n",
    "    Target_Data = pickle.load(file)\n",
    "    Cue_Data = pickle.load(file)"
   ]
  },
  {
   "cell_type": "code",
   "execution_count": null,
   "id": "38f15af3",
   "metadata": {
    "ExecuteTime": {
     "end_time": "2024-11-01T05:17:38.000622Z",
     "start_time": "2024-11-01T05:17:38.000622Z"
    }
   },
   "outputs": [],
   "source": [
    "Target_temp = [Target_Data[0], Target_Data[5], Target_Data[10], Target_Data[15], Target_Data[20]]\n",
    "\n",
    "for n in range(5):        \n",
    "    globals()[\"Data_bias{}\".format(n)] = []\n",
    "    globals()[\"CA3_bias{}\".format(n)] = []\n",
    "    for j, comp in enumerate(Target_temp[n]):\n",
    "        globals()[\"Data_bias{}\".format(n)].append(np.where(Filt_idata[:,comp] !=0)[0])\n",
    "        globals()[\"CA3_bias{}\".format(n)].append(Af_py[comp])"
   ]
  },
  {
   "cell_type": "code",
   "execution_count": null,
   "id": "c57c7586",
   "metadata": {
    "ExecuteTime": {
     "end_time": "2024-11-01T05:17:38.004612Z",
     "start_time": "2024-11-01T05:17:38.004612Z"
    }
   },
   "outputs": [],
   "source": [
    "N = 2\n",
    "for n in range(5):\n",
    "    for m in range(5):\n",
    "        globals()[\"Success_bG{}_{}\".format(n+1,m)], globals()[\"W_bG{}_{}\".format(n+1,m)], globals()[\"If_bG{}_{}\".format(n+1,m)], globals()[\"F_bG{}_{}\".format(n+1,m)], globals()[\"Win_bG{}_{}\".format(n+1,m)] =  calculate_success(\n",
    "        globals()[\"CA3_R_list_bG{}_{}\".format(n+1,m)], \n",
    "        globals()[\"CA1_R_list_bG{}_{}\".format(n+1,m)], \n",
    "        globals()[\"CA3_bias{}\".format(n)], \n",
    "        globals()[\"Data_bias{}\".format(n)], N)\n",
    "Success_bG = []\n",
    "Success_bG_list = []\n",
    "Success_bG_idx = []\n",
    "for m in range(5):\n",
    "    Success_temp = []\n",
    "    for n in range(5):\n",
    "        Success_temp.append(globals()[\"Success_bG{}_{}\".format(n+1,m)]*100/Repeat)\n",
    "        Success_bG_idx.append([n+1,m])\n",
    "    Success_bG.append(np.mean(Success_temp))\n",
    "    Success_bG_list += Success_temp"
   ]
  },
  {
   "cell_type": "code",
   "execution_count": null,
   "id": "1cc49700",
   "metadata": {
    "ExecuteTime": {
     "end_time": "2024-11-01T05:17:38.007603Z",
     "start_time": "2024-11-01T05:17:38.007603Z"
    }
   },
   "outputs": [],
   "source": [
    "N = 2\n",
    "for m in range(5):\n",
    "    for n in range(5):\n",
    "        globals()[\"Success_bM{}_{}\".format(n+1,m)], globals()[\"W_bM{}_{}\".format(n+1,m)], globals()[\"If_bM{}_{}\".format(n+1,m)], globals()[\"F_bM{}_{}\".format(n+1,m)], globals()[\"Win_bM{}_{}\".format(n+1,m)] =  calculate_success(\n",
    "        globals()[\"CA3_R_list_bM{}_{}\".format(n+1,m)], \n",
    "        globals()[\"CA1_R_list_bM{}_{}\".format(n+1,m)], \n",
    "        globals()[\"CA3_bias{}\".format(n)], \n",
    "        globals()[\"Data_bias{}\".format(n)], N)\n",
    "        \n",
    "Success_bM = []\n",
    "Success_bM_list = []\n",
    "for m in range(5):\n",
    "    Success_temp = []\n",
    "    for n in range(5):\n",
    "        Success_temp.append(globals()[\"Success_bM{}_{}\".format(n+1,m)]*100/Repeat)\n",
    "    Success_bM.append(np.mean(Success_temp))\n",
    "    Success_bM_list += Success_temp"
   ]
  },
  {
   "cell_type": "code",
   "execution_count": null,
   "id": "cd61b6af",
   "metadata": {
    "ExecuteTime": {
     "end_time": "2024-11-01T05:17:38.014585Z",
     "start_time": "2024-11-01T05:17:38.014585Z"
    }
   },
   "outputs": [],
   "source": [
    "Success_bM_F = []\n",
    "for n in range(5):\n",
    "    temp = Success_bM_list[5*n:5*(n+1)]\n",
    "    Success_bM_F.append(np.mean(temp))\n",
    "Success_bG_F = []\n",
    "for n in range(5):\n",
    "    temp = Success_bG_list[5*n:5*(n+1)]\n",
    "    Success_bG_F.append(np.mean(temp))    "
   ]
  },
  {
   "cell_type": "code",
   "execution_count": null,
   "id": "45550964",
   "metadata": {
    "ExecuteTime": {
     "end_time": "2024-11-01T05:17:38.016580Z",
     "start_time": "2024-11-01T05:17:38.016580Z"
    }
   },
   "outputs": [],
   "source": [
    "data_dic = {}\n",
    "data_dic['Input bias level'] = [0,1,2,3,4,0,1,2,3,4]\n",
    "data_dic['Mutual exclusive / Global inhibition'] = []\n",
    "for n in range(5):\n",
    "    data_dic['Mutual exclusive / Global inhibition'].append('Mutual exclusive')\n",
    "for n in range(5):\n",
    "    data_dic['Mutual exclusive / Global inhibition'].append('Global inhibition')\n",
    "\n",
    "data_dic['Performance (%)'] = np.array(Success_bM_F+Success_bG_F)\n",
    "\n",
    "df = pd.DataFrame(data_dic)\n",
    "\n",
    "fig = plt.subplot(111)\n",
    "sns.set(rc={'figure.figsize':(5, 5)})\n",
    "sns.set_theme(style='white')\n",
    "ax = sns.lineplot(data = df, x='Input bias level', y='Performance (%)', marker='o', markersize=10, palette={'Mutual exclusive':'cornflowerblue','Global inhibition':'salmon'}, hue=df['Mutual exclusive / Global inhibition'], linewidth=2.5)\n",
    "plt.legend(loc='lower left', bbox_to_anchor=(1.0,0.5))\n",
    "plt.ylim([0,100])\n",
    "fig.spines['top'].set_visible(False)\n",
    "fig.spines['right'].set_visible(False)\n",
    "plt.savefig('Fig-Input biasf.png', bbox_inches='tight')\n",
    "plt.show()"
   ]
  },
  {
   "cell_type": "code",
   "execution_count": null,
   "id": "a41d68bc",
   "metadata": {
    "ExecuteTime": {
     "end_time": "2024-11-01T05:17:38.019571Z",
     "start_time": "2024-11-01T05:17:38.019571Z"
    }
   },
   "outputs": [],
   "source": [
    "data_dic = {}\n",
    "data_dic['Input bias level'] = []\n",
    "for n in range(10):\n",
    "    m = n%5\n",
    "    data_dic['Input bias level'] += [m,m,m,m,m]\n",
    "data_dic['Mutual exclusive / Global inhibition'] = []\n",
    "for n in range(25):\n",
    "    data_dic['Mutual exclusive / Global inhibition'].append('Mutual exclusive')\n",
    "for n in range(25):\n",
    "    data_dic['Mutual exclusive / Global inhibition'].append('Global inhibition')\n",
    "\n",
    "data_dic['Performance (%)'] = Success_bM_list+Success_bG_list\n",
    "\n",
    "df = pd.DataFrame(data_dic)\n",
    "\n",
    "fig = plt.subplot(111)\n",
    "sns.set(rc={'figure.figsize':(5, 5)})\n",
    "sns.set_theme(style='white')\n",
    "ax = sns.lineplot(data = df, x='Input bias level', y='Performance (%)', marker='o', markersize=10, palette={'Mutual exclusive':'cornflowerblue','Global inhibition':'salmon'}, hue=df['Mutual exclusive / Global inhibition'], linewidth=2.5)\n",
    "plt.legend(loc='lower left', bbox_to_anchor=(1.0,0.5))\n",
    "plt.ylim([0,100])\n",
    "fig.spines['top'].set_visible(False)\n",
    "fig.spines['right'].set_visible(False)\n",
    "plt.show()"
   ]
  },
  {
   "cell_type": "code",
   "execution_count": null,
   "id": "43bf34c8",
   "metadata": {
    "ExecuteTime": {
     "end_time": "2024-11-01T05:17:38.022564Z",
     "start_time": "2024-11-01T05:17:38.022564Z"
    }
   },
   "outputs": [],
   "source": [
    "data_dic = {}\n",
    "data_dic['Input bias level'] = []\n",
    "for n in range(10):\n",
    "    m = n%5\n",
    "    data_dic['Input bias level'] += [m,m,m,m,m]\n",
    "data_dic['Mutual exclusive / Global inhibition'] = []\n",
    "for n in range(25):\n",
    "    data_dic['Mutual exclusive / Global inhibition'].append('Mutual exclusive')\n",
    "for n in range(25):\n",
    "    data_dic['Mutual exclusive / Global inhibition'].append('Global inhibition')\n",
    "\n",
    "data_dic['Performance (%)'] = Success_bM_list+Success_bG_list\n",
    "\n",
    "df = pd.DataFrame(data_dic)\n",
    "\n",
    "fig = plt.subplot(111)\n",
    "sns.set(rc={'figure.figsize':(5, 5)})\n",
    "sns.set_theme(style='white')\n",
    "ax = sns.scatterplot(data = df, x='Input bias level', y='Performance (%)', marker='o', palette={'Mutual exclusive':'cornflowerblue','Global inhibition':'salmon'}, hue=df['Mutual exclusive / Global inhibition'], linewidth=2.5)\n",
    "plt.legend(loc='lower left', bbox_to_anchor=(1.0,0.5))\n",
    "plt.ylim([0,100])\n",
    "fig.spines['top'].set_visible(False)\n",
    "fig.spines['right'].set_visible(False)\n",
    "plt.show()"
   ]
  },
  {
   "cell_type": "code",
   "execution_count": null,
   "id": "80b7b860",
   "metadata": {
    "ExecuteTime": {
     "end_time": "2024-11-01T05:17:38.025556Z",
     "start_time": "2024-11-01T05:17:38.025556Z"
    }
   },
   "outputs": [],
   "source": [
    "def cal_overlap(total,A,B):\n",
    "    if (len(A)+len(B)) !=0:\n",
    "        output = len(A-(total- B))*2 / (len(A)+len(B))\n",
    "    else:\n",
    "        output = 0\n",
    "    return output"
   ]
  },
  {
   "cell_type": "code",
   "execution_count": null,
   "id": "11fcda68",
   "metadata": {
    "ExecuteTime": {
     "end_time": "2024-11-01T05:17:38.029545Z",
     "start_time": "2024-11-01T05:17:38.029545Z"
    }
   },
   "outputs": [],
   "source": [
    "with open('Cue_and_Target_Overlap_v4.pkl', 'rb') as file:\n",
    "    Target_Data = pickle.load(file)\n",
    "    Cue_Data = pickle.load(file)"
   ]
  },
  {
   "cell_type": "code",
   "execution_count": null,
   "id": "025e16c3",
   "metadata": {
    "ExecuteTime": {
     "end_time": "2024-11-01T05:17:38.031543Z",
     "start_time": "2024-11-01T05:17:38.031543Z"
    }
   },
   "outputs": [],
   "source": [
    "for n in range(6):\n",
    "    for m in range(5):\n",
    "        with open(path+path_results+'//Results-overlapG_v4%d-%d.pkl' % (n+1,m), 'rb') as file:\n",
    "            Success = pickle.load(file)\n",
    "            Fail = pickle.load(file)\n",
    "            If_fail = pickle.load(file)\n",
    "            Winfin = pickle.load(file)\n",
    "            \n",
    "            globals()[\"CA3_R_list_oG{}_{}\".format(n+1,m)] = pickle.load(file)\n",
    "            globals()[\"CA1_R_list_oG{}_{}\".format(n+1,m)] = pickle.load(file)"
   ]
  },
  {
   "cell_type": "code",
   "execution_count": null,
   "id": "55ef3eb8",
   "metadata": {
    "ExecuteTime": {
     "end_time": "2024-11-01T05:17:38.033534Z",
     "start_time": "2024-11-01T05:17:38.033534Z"
    }
   },
   "outputs": [],
   "source": [
    "for n in range(6):\n",
    "    for m in range(5):\n",
    "        with open(path+path_results+'//Results-overlapM_v4%d-%d.pkl' % (n+1,m), 'rb') as file:\n",
    "            Success = pickle.load(file)\n",
    "            Fail = pickle.load(file)\n",
    "            If_fail = pickle.load(file)\n",
    "            Winfin = pickle.load(file)\n",
    "            \n",
    "            globals()[\"CA3_R_list_oM{}_{}\".format(n+1,m)] = pickle.load(file)\n",
    "            globals()[\"CA1_R_list_oM{}_{}\".format(n+1,m)] = pickle.load(file)"
   ]
  },
  {
   "cell_type": "code",
   "execution_count": null,
   "id": "688de8ad",
   "metadata": {
    "ExecuteTime": {
     "end_time": "2024-11-01T05:17:38.036527Z",
     "start_time": "2024-11-01T05:17:38.036527Z"
    }
   },
   "outputs": [],
   "source": [
    "# overlap 0\n",
    "Target_temp0 = Target_Data[:5]\n",
    "# overlap 1 / 0.5 - 1\n",
    "Target_temp1 = Target_Data[5:10]\n",
    "# overlap 2 / 1 - 1.5\n",
    "Target_temp2 = Target_Data[10:15]\n",
    "# overlap 3 / 1.5 - 2\n",
    "Target_temp3 = Target_Data[15:20]\n",
    "# overlap 4 / 2 - 2.5\n",
    "Target_temp4 = Target_Data[20:25]\n",
    "# overlap 5 / 2.5 - 3\n",
    "Target_temp5 = Target_Data[25:30]"
   ]
  },
  {
   "cell_type": "code",
   "execution_count": null,
   "id": "e521344b",
   "metadata": {
    "ExecuteTime": {
     "end_time": "2024-11-01T05:17:38.039519Z",
     "start_time": "2024-11-01T05:17:38.039519Z"
    }
   },
   "outputs": [],
   "source": [
    "CA3_overlap_mean = []\n",
    "for n in range(6):\n",
    "    overlap_temp = []\n",
    "    for j, comp in enumerate(globals()[\"Target_temp{}\".format(n)]):\n",
    "        overlap_temp.append(cal_overlap(set(range(2400)), set(Af_py[comp[0]]), set(Af_py[comp[1]])))\n",
    "    CA3_overlap_mean.append(np.mean(overlap_temp))"
   ]
  },
  {
   "cell_type": "code",
   "execution_count": null,
   "id": "bcf89a38",
   "metadata": {
    "ExecuteTime": {
     "end_time": "2024-11-01T05:17:38.041514Z",
     "start_time": "2024-11-01T05:17:38.041514Z"
    }
   },
   "outputs": [],
   "source": [
    "for n in range(6):\n",
    "    for m in range(5):\n",
    "        globals()[\"Data_over{}_{}\".format(n,m)] = []\n",
    "        globals()[\"CA3_over{}_{}\".format(n,m)] = []\n",
    "        for j, comp in enumerate(globals()[\"Target_temp{}\".format(n)][m]):\n",
    "            globals()[\"Data_over{}_{}\".format(n,m)].append(np.where(Filt_idata[:,comp] !=0)[0])\n",
    "            globals()[\"CA3_over{}_{}\".format(n,m)].append(Af_py[comp])"
   ]
  },
  {
   "cell_type": "code",
   "execution_count": null,
   "id": "ce56dc14",
   "metadata": {
    "ExecuteTime": {
     "end_time": "2024-11-01T05:17:38.045502Z",
     "start_time": "2024-11-01T05:17:38.045502Z"
    }
   },
   "outputs": [],
   "source": [
    "N = 2\n",
    "for n in range(6):\n",
    "    for m in range(5):\n",
    "        globals()[\"Success_oG{}_{}\".format(n+1,m)], globals()[\"W_oG{}_{}\".format(n+1,m)], globals()[\"If_oG{}_{}\".format(n+1,m)], globals()[\"F_oG{}_{}\".format(n+1,m)], globals()[\"W_oG{}_{}\".format(n+1,m)] =  calculate_success(\n",
    "        globals()[\"CA3_R_list_oG{}_{}\".format(n+1,m)], \n",
    "        globals()[\"CA1_R_list_oG{}_{}\".format(n+1,m)], \n",
    "        globals()[\"CA3_over{}_{}\".format(n,m)], \n",
    "        globals()[\"Data_over{}_{}\".format(n,m)], N)\n",
    "        \n",
    "Success_oG = []\n",
    "Success_oG_list = []\n",
    "for n in range(6):\n",
    "    Success_temp = []\n",
    "    for m in range(5):\n",
    "        Success_temp.append(globals()[\"Success_oG{}_{}\".format(n+1,m)]*100/Repeat)\n",
    "    Success_oG.append(np.mean(Success_temp))\n",
    "    Success_oG_list += Success_temp"
   ]
  },
  {
   "cell_type": "code",
   "execution_count": null,
   "id": "54e8bc12",
   "metadata": {
    "ExecuteTime": {
     "end_time": "2024-11-01T05:17:38.048494Z",
     "start_time": "2024-11-01T05:17:38.047497Z"
    }
   },
   "outputs": [],
   "source": [
    "N = 2\n",
    "for n in range(6):\n",
    "    for m in range(5):\n",
    "        globals()[\"Success_oM{}_{}\".format(n+1,m)], globals()[\"W_oM{}_{}\".format(n+1,m)], globals()[\"If_oM{}_{}\".format(n+1,m)], globals()[\"F_oM{}_{}\".format(n+1,m)], globals()[\"W_oM{}_{}\".format(n+1,m)] =  calculate_success(\n",
    "        globals()[\"CA3_R_list_oM{}_{}\".format(n+1,m)], \n",
    "        globals()[\"CA1_R_list_oM{}_{}\".format(n+1,m)], \n",
    "        globals()[\"CA3_over{}_{}\".format(n,m)], \n",
    "        globals()[\"Data_over{}_{}\".format(n,m)], N)\n",
    "        \n",
    "Success_oM = []\n",
    "Success_oM_list = []\n",
    "for n in range(6):\n",
    "    Success_temp = []\n",
    "    for m in range(5):\n",
    "        Success_temp.append(globals()[\"Success_oM{}_{}\".format(n+1,m)]*100/Repeat)\n",
    "    Success_oM.append(np.mean(Success_temp))\n",
    "    Success_oM_list += Success_temp"
   ]
  },
  {
   "cell_type": "code",
   "execution_count": null,
   "id": "3c91207d",
   "metadata": {
    "ExecuteTime": {
     "end_time": "2024-11-01T05:17:38.049492Z",
     "start_time": "2024-11-01T05:17:38.049492Z"
    }
   },
   "outputs": [],
   "source": [
    "Success_oM_F = []\n",
    "for n in range(6):\n",
    "    temp = Success_oM_list[5*n:5*(n+1)]\n",
    "    Success_oM_F.append(np.mean(temp))\n",
    "Success_oG_F = []\n",
    "for n in range(6):\n",
    "    temp = Success_oG_list[5*n:5*(n+1)]\n",
    "    Success_oG_F.append(np.mean(temp))   "
   ]
  },
  {
   "cell_type": "code",
   "execution_count": null,
   "id": "6d851b7f",
   "metadata": {
    "ExecuteTime": {
     "end_time": "2024-11-01T05:17:38.051486Z",
     "start_time": "2024-11-01T05:17:38.051486Z"
    }
   },
   "outputs": [],
   "source": [
    "data_dic = {}\n",
    "data_dic['Overlap ratio of CA3 engram (%)'] = CA3_overlap_mean+CA3_overlap_mean\n",
    "data_dic['Mutual exclusive / Global inhibition'] = []\n",
    "for n in range(6):\n",
    "    data_dic['Mutual exclusive / Global inhibition'].append('Mutual exclusive')\n",
    "for n in range(6):\n",
    "    data_dic['Mutual exclusive / Global inhibition'].append('Global inhibition')\n",
    "\n",
    "data_dic['Performance (%)'] = np.array(Success_oM_F+Success_oG_F)\n",
    "\n",
    "df = pd.DataFrame(data_dic)\n",
    "\n",
    "fig = plt.subplot(111)\n",
    "sns.set(rc={'figure.figsize':(5, 5)})\n",
    "sns.set_theme(style='white')\n",
    "ax = sns.lineplot(data = df, x='Overlap ratio of CA3 engram (%)', y='Performance (%)', marker='o', markersize=10, palette={'Mutual exclusive':'cornflowerblue','Global inhibition':'salmon'}, hue=df['Mutual exclusive / Global inhibition'], linewidth=2.5)\n",
    "plt.legend(loc='lower left', bbox_to_anchor=(1.0,0.5))\n",
    "plt.ylim([0,100])\n",
    "fig.spines['top'].set_visible(False)\n",
    "fig.spines['right'].set_visible(False)\n",
    "plt.savefig('Fig-Overlapf.png', bbox_inches='tight')\n",
    "plt.show()"
   ]
  },
  {
   "cell_type": "code",
   "execution_count": null,
   "id": "081e54ef",
   "metadata": {
    "ExecuteTime": {
     "end_time": "2024-11-01T05:17:38.054479Z",
     "start_time": "2024-11-01T05:17:38.054479Z"
    }
   },
   "outputs": [],
   "source": [
    "data_dic = {}\n",
    "data_dic['Overlap ratio of CA3 engram (%)'] = []\n",
    "for n in range(12):\n",
    "    m = n%6\n",
    "    data_dic['Overlap ratio of CA3 engram (%)'] += [CA3_overlap_mean[m],CA3_overlap_mean[m],CA3_overlap_mean[m],CA3_overlap_mean[m],CA3_overlap_mean[m]]\n",
    "data_dic['Mutual exclusive / Global inhibition'] = []\n",
    "for n in range(30):\n",
    "    data_dic['Mutual exclusive / Global inhibition'].append('Mutual exclusive')\n",
    "for n in range(30):\n",
    "    data_dic['Mutual exclusive / Global inhibition'].append('Global inhibition')\n",
    "\n",
    "data_dic['Performance (%)'] = Success_oM_list+Success_oG_list\n",
    "\n",
    "df = pd.DataFrame(data_dic)\n",
    "\n",
    "fig = plt.subplot(111)\n",
    "sns.set(rc={'figure.figsize':(5, 5)})\n",
    "sns.set_theme(style='white')\n",
    "ax = sns.lineplot(data = df, x='Overlap ratio of CA3 engram (%)', y='Performance (%)', marker='o', markersize=10, palette={'Mutual exclusive':'cornflowerblue','Global inhibition':'salmon'}, hue=df['Mutual exclusive / Global inhibition'], linewidth=2.5)\n",
    "plt.legend(loc='lower left', bbox_to_anchor=(1.0,0.5))\n",
    "plt.ylim([0,100])\n",
    "fig.spines['top'].set_visible(False)\n",
    "fig.spines['right'].set_visible(False)\n",
    "plt.show()"
   ]
  },
  {
   "cell_type": "code",
   "execution_count": null,
   "id": "b2cfbaf5",
   "metadata": {
    "ExecuteTime": {
     "end_time": "2024-11-01T05:17:38.056473Z",
     "start_time": "2024-11-01T05:17:38.056473Z"
    }
   },
   "outputs": [],
   "source": [
    "data_dic = {}\n",
    "data_dic['Overlap ratio of CA3 engram (%)'] = []\n",
    "for n in range(12):\n",
    "    m = n%6\n",
    "    data_dic['Overlap ratio of CA3 engram (%)'] += [CA3_overlap_mean[m],CA3_overlap_mean[m],CA3_overlap_mean[m],CA3_overlap_mean[m],CA3_overlap_mean[m]]\n",
    "data_dic['Mutual exclusive / Global inhibition'] = []\n",
    "for n in range(30):\n",
    "    data_dic['Mutual exclusive / Global inhibition'].append('Mutual exclusive')\n",
    "for n in range(30):\n",
    "    data_dic['Mutual exclusive / Global inhibition'].append('Global inhibition')\n",
    "\n",
    "data_dic['Performance (%)'] = Success_oM_list+Success_oG_list\n",
    "\n",
    "df = pd.DataFrame(data_dic)\n",
    "\n",
    "fig = plt.subplot(111)\n",
    "sns.set(rc={'figure.figsize':(5, 5)})\n",
    "sns.set_theme(style='white')\n",
    "ax = sns.scatterplot(data = df, x='Overlap ratio of CA3 engram (%)', y='Performance (%)', marker='o', palette={'Mutual exclusive':'cornflowerblue','Global inhibition':'salmon'}, hue=df['Mutual exclusive / Global inhibition'], linewidth=2.5)\n",
    "plt.legend(loc='lower left', bbox_to_anchor=(1.0,0.5))\n",
    "plt.ylim([0,100])\n",
    "fig.spines['top'].set_visible(False)\n",
    "fig.spines['right'].set_visible(False)\n",
    "plt.show()"
   ]
  },
  {
   "cell_type": "code",
   "execution_count": null,
   "id": "4c2441cf",
   "metadata": {
    "ExecuteTime": {
     "end_time": "2024-11-01T05:17:38.058468Z",
     "start_time": "2024-11-01T05:17:38.058468Z"
    }
   },
   "outputs": [],
   "source": [
    "for n in range(5):\n",
    "    for m in range(5):\n",
    "        with open(path+path_results+'//Results-sizeG_v4%d-%d.pkl' % (n+1,m), 'rb') as file:\n",
    "            Success = pickle.load(file)\n",
    "            Fail = pickle.load(file)\n",
    "            If_fail = pickle.load(file)\n",
    "            \n",
    "            globals()[\"Winfin_sG{}_{}\".format(n+1,m)] = pickle.load(file)\n",
    "            \n",
    "            globals()[\"CA3_R_list_sG{}_{}\".format(n+1,m)] = pickle.load(file)\n",
    "            globals()[\"CA1_R_list_sG{}_{}\".format(n+1,m)] = pickle.load(file)"
   ]
  },
  {
   "cell_type": "code",
   "execution_count": null,
   "id": "a53dc67d",
   "metadata": {
    "ExecuteTime": {
     "end_time": "2024-11-01T05:17:38.060463Z",
     "start_time": "2024-11-01T05:17:38.060463Z"
    }
   },
   "outputs": [],
   "source": [
    "for n in range(5):\n",
    "    for m in range(5):\n",
    "        with open(path+path_results+'//Results-sizeM_v4%d-%d.pkl' % (n+1,m), 'rb') as file:\n",
    "            Success = pickle.load(file)\n",
    "            Fail = pickle.load(file)\n",
    "            If_fail = pickle.load(file)\n",
    "            \n",
    "            globals()[\"Winfin_sM{}_{}\".format(n+1,m)] = pickle.load(file)\n",
    "            \n",
    "            globals()[\"CA3_R_list_sM{}_{}\".format(n+1,m)] = pickle.load(file)\n",
    "            globals()[\"CA1_R_list_sM{}_{}\".format(n+1,m)] = pickle.load(file)"
   ]
  },
  {
   "cell_type": "code",
   "execution_count": null,
   "id": "1ffe71ff",
   "metadata": {
    "ExecuteTime": {
     "end_time": "2024-11-01T05:17:38.063455Z",
     "start_time": "2024-11-01T05:17:38.063455Z"
    }
   },
   "outputs": [],
   "source": [
    "# Bias 조사\n",
    "with open('Cue_and_Target_Size_v4.pkl', 'rb') as file:\n",
    "    Target_Data = pickle.load(file)\n",
    "    Cue_Data = pickle.load(file)"
   ]
  },
  {
   "cell_type": "code",
   "execution_count": null,
   "id": "38ac05da",
   "metadata": {
    "ExecuteTime": {
     "end_time": "2024-11-01T05:17:38.065449Z",
     "start_time": "2024-11-01T05:17:38.065449Z"
    }
   },
   "outputs": [],
   "source": [
    "# size difference 1\n",
    "Target_temp0 = Target_Data[:5]\n",
    "# size difference 2 \n",
    "Target_temp1 = Target_Data[5:10]\n",
    "# size difference 3 \n",
    "Target_temp2 = Target_Data[10:15]\n",
    "# size difference 4 \n",
    "Target_temp3 = Target_Data[15:20]\n",
    "# size difference 5 \n",
    "Target_temp4 = Target_Data[20:25]"
   ]
  },
  {
   "cell_type": "code",
   "execution_count": null,
   "id": "1d4b74ce",
   "metadata": {
    "ExecuteTime": {
     "end_time": "2024-11-01T05:17:38.066446Z",
     "start_time": "2024-11-01T05:17:38.066446Z"
    }
   },
   "outputs": [],
   "source": [
    "# Target data, engram 정리\n",
    "for n in range(5):\n",
    "    for m in range(5):\n",
    "        globals()[\"Data_size{}_{}\".format(n,m)] = []\n",
    "        globals()[\"CA3_size{}_{}\".format(n,m)] = []\n",
    "        for j, comp in enumerate(globals()[\"Target_temp{}\".format(n)][m]):\n",
    "            globals()[\"Data_size{}_{}\".format(n,m)].append(np.where(Filt_idata[:,comp] !=0)[0])\n",
    "            globals()[\"CA3_size{}_{}\".format(n,m)].append(Af_py[comp])"
   ]
  },
  {
   "cell_type": "code",
   "execution_count": null,
   "id": "0a161ecb",
   "metadata": {
    "ExecuteTime": {
     "end_time": "2024-11-01T05:17:38.069438Z",
     "start_time": "2024-11-01T05:17:38.069438Z"
    }
   },
   "outputs": [],
   "source": [
    "N = 2\n",
    "for n in range(5):\n",
    "    for m in range(5):\n",
    "        globals()[\"Success_sG{}_{}\".format(n+1,m)], globals()[\"W_sG{}_{}\".format(n+1,m)], globals()[\"If_sG{}_{}\".format(n+1,m)], globals()[\"F_sG{}_{}\".format(n+1,m)], globals()[\"Win_sG{}_{}\".format(n+1,m)] =  calculate_success(\n",
    "        globals()[\"CA3_R_list_sG{}_{}\".format(n+1,m)], \n",
    "        globals()[\"CA1_R_list_sG{}_{}\".format(n+1,m)], \n",
    "        globals()[\"CA3_size{}_{}\".format(n,m)], \n",
    "        globals()[\"Data_size{}_{}\".format(n,m)], N)\n",
    "        \n",
    "Success_sG = []\n",
    "Success_sG_list = []\n",
    "for n in range(5):\n",
    "    Success_temp = []\n",
    "    for m in range(5):\n",
    "        Success_temp.append(globals()[\"Success_sG{}_{}\".format(n+1,m)]*100/Repeat)\n",
    "    Success_sG.append(np.mean(Success_temp))\n",
    "    Success_sG_list += Success_temp"
   ]
  },
  {
   "cell_type": "code",
   "execution_count": null,
   "id": "ea510a3d",
   "metadata": {
    "ExecuteTime": {
     "end_time": "2024-11-01T05:17:38.071434Z",
     "start_time": "2024-11-01T05:17:38.071434Z"
    }
   },
   "outputs": [],
   "source": [
    "N = 2\n",
    "for n in range(5):\n",
    "    for m in range(5):\n",
    "        globals()[\"Success_sM{}_{}\".format(n+1,m)], globals()[\"W_sM{}_{}\".format(n+1,m)], globals()[\"If_sM{}_{}\".format(n+1,m)], globals()[\"F_sM{}_{}\".format(n+1,m)], globals()[\"Win_sM{}_{}\".format(n+1,m)] =  calculate_success(\n",
    "        globals()[\"CA3_R_list_sM{}_{}\".format(n+1,m)], \n",
    "        globals()[\"CA1_R_list_sM{}_{}\".format(n+1,m)], \n",
    "        globals()[\"CA3_size{}_{}\".format(n,m)], \n",
    "        globals()[\"Data_size{}_{}\".format(n,m)], N)\n",
    "        \n",
    "Success_sM = []\n",
    "Success_sM_list = []\n",
    "for n in range(5):\n",
    "    Success_temp = []\n",
    "    for m in range(5):\n",
    "        Success_temp.append(globals()[\"Success_sM{}_{}\".format(n+1,m)]*100/Repeat)\n",
    "    Success_sM.append(np.mean(Success_temp))\n",
    "    Success_sM_list += Success_temp"
   ]
  },
  {
   "cell_type": "code",
   "execution_count": null,
   "id": "54db62bc",
   "metadata": {
    "ExecuteTime": {
     "end_time": "2024-11-01T05:17:38.073428Z",
     "start_time": "2024-11-01T05:17:38.073428Z"
    }
   },
   "outputs": [],
   "source": [
    "size_biasG = []\n",
    "size_biasM = []\n",
    "size_biasG_list = []\n",
    "size_biasM_list = []\n",
    "for n in range(5):\n",
    "    Winfin_AG_temp = []\n",
    "    Winfin_BG_temp = []\n",
    "    Winfin_AM_temp = []\n",
    "    Winfin_BM_temp = []\n",
    "    for m in range(5):\n",
    "        Winfin_AG_temp.append(globals()[\"Win_sG{}_{}\".format(n+1,m)][0])\n",
    "        Winfin_BG_temp.append(globals()[\"Win_sG{}_{}\".format(n+1,m)][1])\n",
    "        \n",
    "        Winfin_AM_temp.append(globals()[\"Win_sM{}_{}\".format(n+1,m)][0])\n",
    "        Winfin_BM_temp.append(globals()[\"Win_sM{}_{}\".format(n+1,m)][1])\n",
    "        \n",
    "    size_biasG_list += list((np.array(Winfin_AG_temp) - np.array(Winfin_BG_temp)))\n",
    "    size_biasM_list += list((np.array(Winfin_AM_temp) - np.array(Winfin_BM_temp)))\n",
    "    \n",
    "    size_biasG.append(np.mean((np.array(Winfin_AG_temp) - np.array(Winfin_BG_temp))))\n",
    "    size_biasM.append(np.mean((np.array(Winfin_AM_temp) - np.array(Winfin_BM_temp))))"
   ]
  },
  {
   "cell_type": "code",
   "execution_count": null,
   "id": "dd5a73f1",
   "metadata": {
    "ExecuteTime": {
     "end_time": "2024-11-01T05:17:38.076420Z",
     "start_time": "2024-11-01T05:17:38.076420Z"
    }
   },
   "outputs": [],
   "source": [
    "Success_sM_F = []\n",
    "for n in range(5):\n",
    "    temp = Success_sM_list[5*n:5*(n+1)]\n",
    "    Success_sM_F.append(np.mean(temp))\n",
    "\n",
    "Success_sG_F = []\n",
    "for n in range(5):\n",
    "    temp = Success_sG_list[5*n:5*(n+1)]\n",
    "    Success_sG_F.append(np.mean(temp))   "
   ]
  },
  {
   "cell_type": "code",
   "execution_count": null,
   "id": "fdd6ab79",
   "metadata": {
    "ExecuteTime": {
     "end_time": "2024-11-01T05:17:38.078416Z",
     "start_time": "2024-11-01T05:17:38.078416Z"
    }
   },
   "outputs": [],
   "source": [
    "data_dic = {}\n",
    "data_dic['Size bias'] = [1,2,3,4,5,1,2,3,4,5]\n",
    "data_dic['Mutual exclusive / Global inhibition'] = []\n",
    "for n in range(5):\n",
    "    data_dic['Mutual exclusive / Global inhibition'].append('Mutual exclusive')\n",
    "for n in range(5):\n",
    "    data_dic['Mutual exclusive / Global inhibition'].append('Global inhibition')\n",
    "\n",
    "data_dic['Performance (%)'] = np.array(Success_sM_F+Success_sG_F)\n",
    "\n",
    "df = pd.DataFrame(data_dic)\n",
    "\n",
    "fig = plt.subplot(111)\n",
    "sns.set(rc={'figure.figsize':(5, 5)})\n",
    "sns.set_theme(style='white')\n",
    "ax = sns.lineplot(data = df, x='Size bias', y='Performance (%)', marker='o', markersize=10, palette={'Mutual exclusive':'cornflowerblue','Global inhibition':'salmon'}, hue=df['Mutual exclusive / Global inhibition'], linewidth=2.5)\n",
    "plt.legend(loc='lower left', bbox_to_anchor=(1.0,0.5))\n",
    "plt.ylim([0,100])\n",
    "fig.spines['top'].set_visible(False)\n",
    "fig.spines['right'].set_visible(False)\n",
    "plt.savefig('Fig-Sizef.png', bbox_inches='tight')\n",
    "plt.show()"
   ]
  },
  {
   "cell_type": "code",
   "execution_count": null,
   "id": "7ef1ac6b",
   "metadata": {
    "ExecuteTime": {
     "end_time": "2024-11-01T05:17:38.080409Z",
     "start_time": "2024-11-01T05:17:38.080409Z"
    }
   },
   "outputs": [],
   "source": [
    "data_dic = {}\n",
    "data_dic['Size bias'] = []\n",
    "for n in range(10):\n",
    "    m = n%5+1\n",
    "    data_dic['Size bias'] += [m,m,m,m,m]\n",
    "data_dic['Mutual exclusive / Global inhibition'] = []\n",
    "for n in range(25):\n",
    "    data_dic['Mutual exclusive / Global inhibition'].append('Mutual exclusive')\n",
    "for n in range(25):\n",
    "    data_dic['Mutual exclusive / Global inhibition'].append('Global inhibition')\n",
    "    \n",
    "data_dic['Bias ratio (%)'] = np.array(list(size_biasM_list) +list(size_biasG_list))\n",
    "df = pd.DataFrame(data_dic)\n",
    "\n",
    "fig = plt.subplot(111)\n",
    "sns.set(rc={'figure.figsize':(5, 5)})\n",
    "sns.set_theme(style='white')\n",
    "ax = sns.lineplot(data = df, x='Size bias', y='Bias ratio (%)', marker='o', markersize=10, palette={'Mutual exclusive':'cornflowerblue','Global inhibition':'salmon'}, hue=df['Mutual exclusive / Global inhibition'], linewidth=2.5)\n",
    "plt.legend(loc='lower left', bbox_to_anchor=(0.55,0.85))\n",
    "plt.ylim([0,50])\n",
    "fig.spines['top'].set_visible(False)\n",
    "fig.spines['right'].set_visible(False)\n",
    "plt.savefig('Fig-Size_biasf.png', bbox_inches='tight')\n",
    "plt.show()"
   ]
  },
  {
   "cell_type": "code",
   "execution_count": null,
   "id": "1c37b179",
   "metadata": {
    "ExecuteTime": {
     "end_time": "2024-11-01T05:17:38.082404Z",
     "start_time": "2024-11-01T05:17:38.082404Z"
    }
   },
   "outputs": [],
   "source": [
    "data_dic = {}\n",
    "data_dic['Size bias'] = [1,2,3,4,5,1,2,3,4,5]\n",
    "data_dic['Mutual exclusive / Global inhibition'] = []\n",
    "for n in range(5):\n",
    "    data_dic['Mutual exclusive / Global inhibition'].append('Mutual exclusive')\n",
    "for n in range(5):\n",
    "    data_dic['Mutual exclusive / Global inhibition'].append('Global inhibition')\n",
    "    \n",
    "data_dic['Bias ratio (%)'] = np.array(list(size_biasM) +list(size_biasG))\n",
    "df = pd.DataFrame(data_dic)\n",
    "\n",
    "fig = plt.subplot(111)\n",
    "sns.set(rc={'figure.figsize':(5, 5)})\n",
    "sns.set_theme(style='white')\n",
    "ax = sns.lineplot(data = df, x='Size bias', y='Bias ratio (%)', marker='o', markersize=10, palette={'Mutual exclusive':'cornflowerblue','Global inhibition':'salmon'}, hue=df['Mutual exclusive / Global inhibition'], linewidth=2.5)\n",
    "plt.legend(loc='lower left', bbox_to_anchor=(0.55,0.85))\n",
    "plt.ylim([0,100])\n",
    "fig.spines['top'].set_visible(False)\n",
    "fig.spines['right'].set_visible(False)\n",
    "plt.savefig('Fig-Size_biasf.png', bbox_inches='tight')\n",
    "plt.show()"
   ]
  },
  {
   "cell_type": "code",
   "execution_count": null,
   "id": "a07fd7c2",
   "metadata": {
    "ExecuteTime": {
     "end_time": "2024-11-01T05:17:38.083408Z",
     "start_time": "2024-11-01T05:17:38.083408Z"
    }
   },
   "outputs": [],
   "source": [
    "for n in range(5):\n",
    "    for m in range(5):\n",
    "        with open(path+path_results+'//Results-compG_v4%d-%d.pkl' % (n+1,m), 'rb') as file:\n",
    "            Success = pickle.load(file)\n",
    "            Fail = pickle.load(file)\n",
    "            If_fail = pickle.load(file)\n",
    "            Winfin = pickle.load(file)\n",
    "            \n",
    "            globals()[\"CA3_R_list_cG{}_{}\".format(n+1,m)] = pickle.load(file)\n",
    "            globals()[\"CA1_R_list_cG{}_{}\".format(n+1,m)] = pickle.load(file)"
   ]
  },
  {
   "cell_type": "code",
   "execution_count": null,
   "id": "6d0f186c",
   "metadata": {
    "ExecuteTime": {
     "end_time": "2024-11-01T05:17:38.086394Z",
     "start_time": "2024-11-01T05:17:38.086394Z"
    }
   },
   "outputs": [],
   "source": [
    "for n in range(5):\n",
    "    for m in range(5):\n",
    "        with open(path+path_results+'//Results-compM_v4%d-%d.pkl' % (n+1,m), 'rb') as file:\n",
    "            Success = pickle.load(file)\n",
    "            Fail = pickle.load(file)\n",
    "            If_fail = pickle.load(file)\n",
    "            Winfin = pickle.load(file)\n",
    "            \n",
    "            globals()[\"CA3_R_list_cM{}_{}\".format(n+1,m)] = pickle.load(file)\n",
    "            globals()[\"CA1_R_list_cM{}_{}\".format(n+1,m)] = pickle.load(file)"
   ]
  },
  {
   "cell_type": "code",
   "execution_count": null,
   "id": "845f79d4",
   "metadata": {
    "ExecuteTime": {
     "end_time": "2024-11-01T05:17:38.088389Z",
     "start_time": "2024-11-01T05:17:38.088389Z"
    }
   },
   "outputs": [],
   "source": [
    "with open('Cue_and_Target_Numcomp_v4.pkl', 'rb') as file:\n",
    "    Target_Data = pickle.load(file)\n",
    "    Cue_Data = pickle.load(file)"
   ]
  },
  {
   "cell_type": "code",
   "execution_count": null,
   "id": "e537e066",
   "metadata": {
    "ExecuteTime": {
     "end_time": "2024-11-01T05:17:38.090383Z",
     "start_time": "2024-11-01T05:17:38.090383Z"
    }
   },
   "outputs": [],
   "source": [
    "# competition num 2\n",
    "Target_temp0 = Target_Data[:5]\n",
    "# competition num 3\n",
    "Target_temp1 = Target_Data[5:10]\n",
    "# competition num 4\n",
    "Target_temp2 = Target_Data[10:15]\n",
    "# competition num 5\n",
    "Target_temp3 = Target_Data[15:20]\n",
    "# competition num 6\n",
    "Target_temp4 = Target_Data[20:25]"
   ]
  },
  {
   "cell_type": "code",
   "execution_count": null,
   "id": "18ecaed6",
   "metadata": {
    "ExecuteTime": {
     "end_time": "2024-11-01T05:17:38.093375Z",
     "start_time": "2024-11-01T05:17:38.093375Z"
    }
   },
   "outputs": [],
   "source": [
    "# Target data, engram 정리\n",
    "for n in range(5):\n",
    "    for m in range(5):\n",
    "        globals()[\"Data_comp{}_{}\".format(n,m)] = []\n",
    "        globals()[\"CA3_comp{}_{}\".format(n,m)] = []\n",
    "        for j, comp in enumerate(globals()[\"Target_temp{}\".format(n)][m]):\n",
    "            globals()[\"Data_comp{}_{}\".format(n,m)].append(np.where(Filt_idata[:,comp] !=0)[0])\n",
    "            globals()[\"CA3_comp{}_{}\".format(n,m)].append(Af_py[comp])"
   ]
  },
  {
   "cell_type": "code",
   "execution_count": null,
   "id": "d29c1d55",
   "metadata": {
    "ExecuteTime": {
     "end_time": "2024-11-01T05:17:38.094373Z",
     "start_time": "2024-11-01T05:17:38.094373Z"
    }
   },
   "outputs": [],
   "source": [
    "N = 2\n",
    "for n in range(5):\n",
    "    N = N+n\n",
    "    for m in range(5):\n",
    "        globals()[\"Success_cG{}_{}\".format(n+1,m)], globals()[\"W_cG{}_{}\".format(n+1,m)], globals()[\"If_cG{}_{}\".format(n+1,m)], globals()[\"F_cG{}_{}\".format(n+1,m)], globals()[\"W_cG{}_{}\".format(n+1,m)] =  calculate_success(\n",
    "        globals()[\"CA3_R_list_cG{}_{}\".format(n+1,m)], \n",
    "        globals()[\"CA1_R_list_cG{}_{}\".format(n+1,m)], \n",
    "        globals()[\"CA3_comp{}_{}\".format(n,m)], \n",
    "        globals()[\"Data_comp{}_{}\".format(n,m)], N)\n",
    "        \n",
    "Success_cG = []\n",
    "Success_cG_list = []\n",
    "for n in range(5):\n",
    "    Success_temp = []\n",
    "    for m in range(5):\n",
    "        Success_temp.append(globals()[\"Success_cG{}_{}\".format(n+1,m)]*100/Repeat)\n",
    "    Success_cG.append(np.mean(Success_temp))\n",
    "    Success_cG_list += Success_temp"
   ]
  },
  {
   "cell_type": "code",
   "execution_count": null,
   "id": "a5cca251",
   "metadata": {
    "ExecuteTime": {
     "end_time": "2024-11-01T05:17:38.096368Z",
     "start_time": "2024-11-01T05:17:38.096368Z"
    }
   },
   "outputs": [],
   "source": [
    "N = 2\n",
    "for n in range(5):\n",
    "    N = N+n\n",
    "    for m in range(5):\n",
    "        globals()[\"Success_cM{}_{}\".format(n+1,m)], globals()[\"W_cM{}_{}\".format(n+1,m)], globals()[\"If_cM{}_{}\".format(n+1,m)], globals()[\"F_cM{}_{}\".format(n+1,m)], globals()[\"W_cM{}_{}\".format(n+1,m)] =  calculate_success(\n",
    "        globals()[\"CA3_R_list_cM{}_{}\".format(n+1,m)], \n",
    "        globals()[\"CA1_R_list_cM{}_{}\".format(n+1,m)], \n",
    "        globals()[\"CA3_comp{}_{}\".format(n,m)], \n",
    "        globals()[\"Data_comp{}_{}\".format(n,m)], N)\n",
    "        \n",
    "Success_cM = []\n",
    "Success_cM_list = []\n",
    "for n in range(5):\n",
    "    Success_temp = []\n",
    "    for m in range(5):\n",
    "        Success_temp.append(globals()[\"Success_cM{}_{}\".format(n+1,m)]*100/Repeat)\n",
    "    Success_cM.append(np.mean(Success_temp))\n",
    "    Success_cM_list += Success_temp"
   ]
  },
  {
   "cell_type": "code",
   "execution_count": null,
   "id": "1a630c7f",
   "metadata": {
    "ExecuteTime": {
     "end_time": "2024-11-01T05:17:38.098370Z",
     "start_time": "2024-11-01T05:17:38.098370Z"
    }
   },
   "outputs": [],
   "source": [
    "Success_cM_F = []\n",
    "for n in range(5):\n",
    "    temp = Success_cM_list[5*n:5*(n+1)]\n",
    "    Success_cM_F.append(np.mean(temp))\n",
    "Success_cG_F = []\n",
    "for n in range(5):\n",
    "    temp = Success_cG_list[5*n:5*(n+1)]\n",
    "    Success_cG_F.append(np.mean(temp))   "
   ]
  },
  {
   "cell_type": "code",
   "execution_count": null,
   "id": "21d728d4",
   "metadata": {
    "ExecuteTime": {
     "end_time": "2024-11-01T05:17:38.100356Z",
     "start_time": "2024-11-01T05:17:38.100356Z"
    }
   },
   "outputs": [],
   "source": [
    "data_dic = {}\n",
    "data_dic['Number of competitive engram'] = [2,3,4,5,6]+[2,3,4,5,6]\n",
    "data_dic['Mutual exclusive / Global inhibition'] = []\n",
    "for n in range(5):\n",
    "    data_dic['Mutual exclusive / Global inhibition'].append('Mutual exclusive')\n",
    "for n in range(5):\n",
    "    data_dic['Mutual exclusive / Global inhibition'].append('Global inhibition')\n",
    "\n",
    "data_dic['Performance (%)'] = np.array(Success_cM_F+Success_cG_F)\n",
    "\n",
    "df = pd.DataFrame(data_dic)\n",
    "\n",
    "fig = plt.subplot(111)\n",
    "sns.set(rc={'figure.figsize':(5, 5)})\n",
    "sns.set_theme(style='white')\n",
    "ax = sns.lineplot(data = df, x='Number of competitive engram', y='Performance (%)', marker='o', markersize=10, palette={'Mutual exclusive':'cornflowerblue','Global inhibition':'salmon'}, hue=df['Mutual exclusive / Global inhibition'], linewidth=2.5)\n",
    "plt.legend(loc='lower left', bbox_to_anchor=(1.0,0.5))\n",
    "plt.ylim([0,100])\n",
    "fig.spines['top'].set_visible(False)\n",
    "fig.spines['right'].set_visible(False)\n",
    "plt.savefig('Fig-Compf.png', bbox_inches='tight')\n",
    "plt.show()"
   ]
  },
  {
   "cell_type": "code",
   "execution_count": null,
   "id": "671eb9fe",
   "metadata": {
    "ExecuteTime": {
     "end_time": "2024-11-01T05:17:38.103348Z",
     "start_time": "2024-11-01T05:17:38.103348Z"
    }
   },
   "outputs": [],
   "source": [
    "data_dic = {}\n",
    "data_dic['Number of competitive engram'] = []\n",
    "for n in range(10):\n",
    "    m = n%5\n",
    "    data_dic['Number of competitive engram'] += [m+2,m+2,m+2,m+2,m+2]\n",
    "data_dic['Mutual exclusive / Global inhibition'] = []\n",
    "for n in range(25):\n",
    "    data_dic['Mutual exclusive / Global inhibition'].append('Mutual exclusive')\n",
    "for n in range(25):\n",
    "    data_dic['Mutual exclusive / Global inhibition'].append('Global inhibition')\n",
    "\n",
    "data_dic['Performance (%)'] = Success_cM_list+Success_cG_list\n",
    "\n",
    "df = pd.DataFrame(data_dic)\n",
    "\n",
    "fig = plt.subplot(111)\n",
    "sns.set(rc={'figure.figsize':(5, 5)})\n",
    "sns.set_theme(style='white')\n",
    "ax = sns.lineplot(data = df, x='Number of competitive engram', y='Performance (%)', marker='o', markersize=10, palette={'Mutual exclusive':'cornflowerblue','Global inhibition':'salmon'}, hue=df['Mutual exclusive / Global inhibition'], linewidth=2.5)\n",
    "plt.legend(loc='lower left', bbox_to_anchor=(1.0,0.5))\n",
    "plt.ylim([0,100])\n",
    "fig.spines['top'].set_visible(False)\n",
    "fig.spines['right'].set_visible(False)\n",
    "plt.show()"
   ]
  },
  {
   "cell_type": "code",
   "execution_count": null,
   "id": "1142cd75",
   "metadata": {
    "ExecuteTime": {
     "end_time": "2024-11-01T05:17:38.105343Z",
     "start_time": "2024-11-01T05:17:38.105343Z"
    }
   },
   "outputs": [],
   "source": [
    "data_dic = {}\n",
    "data_dic['Number of competitive engram'] = []\n",
    "for n in range(10):\n",
    "    m = n%5\n",
    "    data_dic['Number of competitive engram'] += [m+2,m+2,m+2,m+2,m+2]\n",
    "data_dic['Mutual exclusive / Global inhibition'] = []\n",
    "for n in range(25):\n",
    "    data_dic['Mutual exclusive / Global inhibition'].append('Mutual exclusive')\n",
    "for n in range(25):\n",
    "    data_dic['Mutual exclusive / Global inhibition'].append('Global inhibition')\n",
    "\n",
    "data_dic['Performance (%)'] = Success_cM_list+Success_cG_list\n",
    "\n",
    "df = pd.DataFrame(data_dic)\n",
    "\n",
    "fig = plt.subplot(111)\n",
    "sns.set(rc={'figure.figsize':(5, 5)})\n",
    "sns.set_theme(style='white')\n",
    "ax = sns.scatterplot(data = df, x='Number of competitive engram', y='Performance (%)', marker='o', palette={'Mutual exclusive':'cornflowerblue','Global inhibition':'salmon'}, hue=df['Mutual exclusive / Global inhibition'], linewidth=2.5)\n",
    "plt.legend(loc='lower left', bbox_to_anchor=(1.0,0.5))\n",
    "plt.ylim([0,100])\n",
    "fig.spines['top'].set_visible(False)\n",
    "fig.spines['right'].set_visible(False)\n",
    "#plt.savefig('Fig-Comp.png', bbox_inches='tight')\n",
    "plt.show()"
   ]
  },
  {
   "cell_type": "code",
   "execution_count": null,
   "id": "e1a5398e",
   "metadata": {
    "ExecuteTime": {
     "end_time": "2024-11-01T05:17:38.106340Z",
     "start_time": "2024-11-01T05:17:38.106340Z"
    }
   },
   "outputs": [],
   "source": [
    "with open('Results_various_cond3.pkl' ,'wb') as file:\n",
    "    pickle.dump(Success_bM_list, file)\n",
    "    pickle.dump(Success_bG_list, file)\n",
    "    \n",
    "    pickle.dump(Success_oM_list, file)\n",
    "    pickle.dump(Success_oG_list, file)\n",
    "    \n",
    "    pickle.dump(Success_sM_list, file)\n",
    "    pickle.dump(Success_sG_list, file)\n",
    "    \n",
    "    pickle.dump(size_biasM_list, file)\n",
    "    pickle.dump(size_biasG_list, file)\n",
    "    \n",
    "    pickle.dump(Success_cM_list, file)\n",
    "    pickle.dump(Success_cG_list, file)\n"
   ]
  },
  {
   "cell_type": "code",
   "execution_count": null,
   "id": "498ab90d",
   "metadata": {},
   "outputs": [],
   "source": []
  }
 ],
 "metadata": {
  "kernelspec": {
   "display_name": "Python 3 (ipykernel)",
   "language": "python",
   "name": "python3"
  },
  "language_info": {
   "codemirror_mode": {
    "name": "ipython",
    "version": 3
   },
   "file_extension": ".py",
   "mimetype": "text/x-python",
   "name": "python",
   "nbconvert_exporter": "python",
   "pygments_lexer": "ipython3",
   "version": "3.8.5"
  },
  "toc": {
   "base_numbering": 1,
   "nav_menu": {},
   "number_sections": true,
   "sideBar": true,
   "skip_h1_title": false,
   "title_cell": "Table of Contents",
   "title_sidebar": "Contents",
   "toc_cell": false,
   "toc_position": {},
   "toc_section_display": true,
   "toc_window_display": false
  },
  "varInspector": {
   "cols": {
    "lenName": 16,
    "lenType": 16,
    "lenVar": 40
   },
   "kernels_config": {
    "python": {
     "delete_cmd_postfix": "",
     "delete_cmd_prefix": "del ",
     "library": "var_list.py",
     "varRefreshCmd": "print(var_dic_list())"
    },
    "r": {
     "delete_cmd_postfix": ") ",
     "delete_cmd_prefix": "rm(",
     "library": "var_list.r",
     "varRefreshCmd": "cat(var_dic_list()) "
    }
   },
   "types_to_exclude": [
    "module",
    "function",
    "builtin_function_or_method",
    "instance",
    "_Feature"
   ],
   "window_display": false
  }
 },
 "nbformat": 4,
 "nbformat_minor": 5
}
