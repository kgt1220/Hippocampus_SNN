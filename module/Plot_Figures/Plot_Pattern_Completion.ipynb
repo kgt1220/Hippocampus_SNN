{
 "cells": [
  {
   "cell_type": "code",
   "execution_count": 1,
   "id": "6a916c6a",
   "metadata": {
    "ExecuteTime": {
     "end_time": "2024-10-31T05:19:33.689109Z",
     "start_time": "2024-10-31T05:19:30.382918Z"
    }
   },
   "outputs": [],
   "source": [
    "import numpy as np\n",
    "import random\n",
    "import matplotlib.pyplot as plt\n",
    "import matplotlib.cm as cm \n",
    "import seaborn as sns\n",
    "import pandas as pd\n",
    "from scipy import signal\n",
    "from importlib import reload\n",
    "\n",
    "import winsound as sd\n",
    "import pickle\n",
    "import sys\n",
    "import os"
   ]
  },
  {
   "cell_type": "code",
   "execution_count": 2,
   "id": "558c24ac",
   "metadata": {
    "ExecuteTime": {
     "end_time": "2024-10-31T05:19:34.498951Z",
     "start_time": "2024-10-31T05:19:33.692102Z"
    }
   },
   "outputs": [],
   "source": [
    "# load\n",
    "cd = os.getcwd()\n",
    "path = os.path.dirname(cd)\n",
    "    \n",
    "with open(path+'//Data_final.pkl', 'rb') as file:\n",
    "    Filt_idata = pickle.load(file)\n",
    "    Filt_gdata = pickle.load(file)\n",
    "    Filt_glen = pickle.load(file)\n",
    "    F_DataLen = pickle.load(file)\n",
    "    \n",
    "    Af_py = pickle.load(file)\n",
    "    Af_in = pickle.load(file)\n",
    "    \n",
    "    In_py_list = pickle.load(file)\n",
    "    In_in_list = pickle.load(file)"
   ]
  },
  {
   "cell_type": "code",
   "execution_count": 3,
   "id": "4d0c088a",
   "metadata": {
    "ExecuteTime": {
     "end_time": "2024-10-31T05:19:34.578391Z",
     "start_time": "2024-10-31T05:19:34.500946Z"
    }
   },
   "outputs": [],
   "source": [
    "# 전반적인 cue 200개에 대한 결과\n",
    "path_results = '//module//Results_trade_off5'\n",
    "\n",
    "with open(path+path_results+'//Results-tradeoff_DG_vf0.pkl', 'rb') as file:\n",
    "    Success = pickle.load(file)\n",
    "    Fail = pickle.load(file)\n",
    "    If_fail = pickle.load(file)\n",
    "    Winfin = pickle.load(file)\n",
    "\n",
    "    DG_E_listL = pickle.load(file)"
   ]
  },
  {
   "cell_type": "code",
   "execution_count": 4,
   "id": "b042cedc",
   "metadata": {
    "ExecuteTime": {
     "end_time": "2024-10-31T05:19:34.625594Z",
     "start_time": "2024-10-31T05:19:34.581356Z"
    }
   },
   "outputs": [],
   "source": [
    "# 전반적인 cue 200개에 대한 결과\n",
    "path_results = '//module//Results_trade_off5'\n",
    "\n",
    "with open(path+path_results+'//Results-tradeoff_DG_vf1.pkl', 'rb') as file:\n",
    "    Success = pickle.load(file)\n",
    "    Fail = pickle.load(file)\n",
    "    If_fail = pickle.load(file)\n",
    "    Winfin = pickle.load(file)\n",
    "\n",
    "    DG_E_listN = pickle.load(file)"
   ]
  },
  {
   "cell_type": "code",
   "execution_count": 5,
   "id": "8e757ac9",
   "metadata": {
    "ExecuteTime": {
     "end_time": "2024-10-31T05:19:36.288682Z",
     "start_time": "2024-10-31T05:19:34.628560Z"
    }
   },
   "outputs": [],
   "source": [
    "# 전반적인 cue 200개에 대한 결과\n",
    "path_results = '//module//Results_trade_off5'\n",
    "\n",
    "for n in range(4):\n",
    "    with open(path+path_results+'//Results-tradeoff_vf0%d.pkl' %(n+1), 'rb') as file:\n",
    "        globals()[\"Success{}\".format(n+1)] = pickle.load(file)\n",
    "        globals()[\"Fail{}\".format(n+1)] = pickle.load(file)\n",
    "        globals()[\"If_fail{}\".format(n+1)] = pickle.load(file)\n",
    "        globals()[\"Winfin{}\".format(n+1)] = pickle.load(file)\n",
    "        \n",
    "        globals()[\"CA3_R_listL{}\".format(n+1)] = pickle.load(file)\n",
    "        globals()[\"CA1_R_listL{}\".format(n+1)] = pickle.load(file)"
   ]
  },
  {
   "cell_type": "code",
   "execution_count": 6,
   "id": "df4069be",
   "metadata": {
    "ExecuteTime": {
     "end_time": "2024-10-31T05:19:37.886911Z",
     "start_time": "2024-10-31T05:19:36.296624Z"
    }
   },
   "outputs": [],
   "source": [
    "# 전반적인 cue 200개에 대한 결과\n",
    "path_results = '//module//Results_trade_off5'\n",
    "\n",
    "for n in range(4):\n",
    "    with open(path+path_results+'//Results-tradeoff_vf1%d.pkl' %(n+1), 'rb') as file:\n",
    "        globals()[\"Success{}\".format(n+1)] = pickle.load(file)\n",
    "        globals()[\"Fail{}\".format(n+1)] = pickle.load(file)\n",
    "        globals()[\"If_fail{}\".format(n+1)] = pickle.load(file)\n",
    "        globals()[\"Winfin{}\".format(n+1)] = pickle.load(file)\n",
    "        \n",
    "        globals()[\"CA3_R_listN{}\".format(n+1)] = pickle.load(file)\n",
    "        globals()[\"CA1_R_listN{}\".format(n+1)] = pickle.load(file)"
   ]
  },
  {
   "cell_type": "code",
   "execution_count": 7,
   "id": "019ad0e8",
   "metadata": {
    "ExecuteTime": {
     "end_time": "2024-10-31T05:19:37.934816Z",
     "start_time": "2024-10-31T05:19:37.890901Z"
    }
   },
   "outputs": [
    {
     "data": {
      "text/plain": [
       "(3000, 2400)"
      ]
     },
     "execution_count": 7,
     "metadata": {},
     "output_type": "execute_result"
    }
   ],
   "source": [
    "CA3_R_listL = []\n",
    "CA1_R_listL = []\n",
    "for n in range(4):\n",
    "    CA3_R_listL += globals()[\"CA3_R_listL{}\".format(n+1)]\n",
    "    CA1_R_listL += globals()[\"CA1_R_listL{}\".format(n+1)]\n",
    "np.shape(CA3_R_listL)"
   ]
  },
  {
   "cell_type": "code",
   "execution_count": 8,
   "id": "a65cf734",
   "metadata": {
    "ExecuteTime": {
     "end_time": "2024-10-31T05:19:37.981659Z",
     "start_time": "2024-10-31T05:19:37.937776Z"
    }
   },
   "outputs": [
    {
     "data": {
      "text/plain": [
       "(3000, 2400)"
      ]
     },
     "execution_count": 8,
     "metadata": {},
     "output_type": "execute_result"
    }
   ],
   "source": [
    "CA3_R_listN = []\n",
    "CA1_R_listN = []\n",
    "for n in range(4):\n",
    "    CA3_R_listN += globals()[\"CA3_R_listN{}\".format(n+1)]\n",
    "    CA1_R_listN += globals()[\"CA1_R_listN{}\".format(n+1)]\n",
    "np.shape(CA3_R_listN)"
   ]
  },
  {
   "cell_type": "code",
   "execution_count": 9,
   "id": "bfff7fdb",
   "metadata": {
    "ExecuteTime": {
     "end_time": "2024-10-31T05:19:38.060454Z",
     "start_time": "2024-10-31T05:19:37.984652Z"
    }
   },
   "outputs": [],
   "source": [
    "# 여기는 Filt_idata에 대한 idx값들 200개\n",
    "with open(path+'//module//Cue_Tradeoff_vf0.pkl', 'rb') as file:\n",
    "    Cue_DataL = pickle.load(file)\n",
    "# 여기는 Filt_idata에 대한 idx값들 200개\n",
    "with open(path+'//module//Cue_Tradeoff_vf1.pkl', 'rb') as file:\n",
    "    Cue_DataN = pickle.load(file)"
   ]
  },
  {
   "cell_type": "code",
   "execution_count": 10,
   "id": "4136acfe",
   "metadata": {
    "ExecuteTime": {
     "end_time": "2024-10-31T05:19:38.076407Z",
     "start_time": "2024-10-31T05:19:38.065437Z"
    }
   },
   "outputs": [],
   "source": [
    "def cal_overlap(total,A,B):\n",
    "    if (len(A)+len(B)) !=0:\n",
    "        output = len(A.intersection(B))*2 / (len(A)+len(B))\n",
    "    else:\n",
    "        output = 0\n",
    "    return output"
   ]
  },
  {
   "cell_type": "code",
   "execution_count": 11,
   "id": "255b0253",
   "metadata": {
    "ExecuteTime": {
     "end_time": "2024-10-31T05:19:38.092363Z",
     "start_time": "2024-10-31T05:19:38.079399Z"
    }
   },
   "outputs": [],
   "source": [
    "def cal_relative_overlap_CA1(total, B, T):\n",
    "    temp_list = []\n",
    "    for i, comp in enumerate(Target_fin):\n",
    "        temp2 = set(np.where(Filt_idata[:,comp]!=0)[0])\n",
    "        temp_list.append(cal_overlap(total,temp2,B))\n",
    "    if np.max(temp_list) !=0:\n",
    "        temp_list = temp_list/np.max(temp_list)\n",
    "        return temp_list[T]   \n",
    "    else:\n",
    "        return 0"
   ]
  },
  {
   "cell_type": "code",
   "execution_count": 12,
   "id": "171ebe17",
   "metadata": {
    "ExecuteTime": {
     "end_time": "2024-10-31T05:19:38.108321Z",
     "start_time": "2024-10-31T05:19:38.095357Z"
    }
   },
   "outputs": [],
   "source": [
    "def cal_relative_overlap_CA3(total, B, T):\n",
    "    temp_list = []\n",
    "    for i, comp in enumerate(Target_fin):\n",
    "        temp2 = set(Af_py[comp])\n",
    "        temp_list.append(cal_overlap(total,temp2,B))\n",
    "    if np.max(temp_list) !=0:\n",
    "        temp_list = temp_list/np.max(temp_list)\n",
    "        return temp_list[T]   \n",
    "    else:\n",
    "        return 0           "
   ]
  },
  {
   "cell_type": "code",
   "execution_count": 13,
   "id": "88f6b4b6",
   "metadata": {
    "ExecuteTime": {
     "end_time": "2024-10-31T05:19:38.124278Z",
     "start_time": "2024-10-31T05:19:38.112311Z"
    }
   },
   "outputs": [],
   "source": [
    "def cal_relative_overlap_DG(total, B, T):\n",
    "    temp_list = []\n",
    "    for i, comp in enumerate(Target_fin):\n",
    "        temp2 = set(np.where(Filt_gdata[:,comp]!=0)[0])\n",
    "        temp_list.append(cal_overlap(total,temp2,B))\n",
    "    if np.max(temp_list) !=0:\n",
    "        temp_list = temp_list/np.max(temp_list)\n",
    "        return temp_list[T]   \n",
    "    else:\n",
    "        return 0        "
   ]
  },
  {
   "cell_type": "code",
   "execution_count": 14,
   "id": "da64cdad",
   "metadata": {
    "ExecuteTime": {
     "end_time": "2024-10-31T05:19:38.156195Z",
     "start_time": "2024-10-31T05:19:38.127271Z"
    },
    "code_folding": [
     0
    ]
   },
   "outputs": [],
   "source": [
    "def calculate_success(CA3_R_list, CA1_R_list, CA3, Data, CN, num_cue, repeat):\n",
    "    Trial = num_cue*repeat\n",
    "    Trial_CA3 = np.zeros(Trial)\n",
    "    Trial_CA1 = np.zeros(Trial)\n",
    "    Inter_CA1 = np.zeros(Trial)\n",
    "    # CA3 firing rate\n",
    "    N = 3\n",
    "    # CA3 firing ratio\n",
    "    R = 0.3\n",
    "    Success = 0\n",
    "    S_list = []\n",
    "    Weird = 0\n",
    "    Interference = 0\n",
    "    Fail = 0\n",
    "    Classify_num = CN\n",
    "    Winner = np.zeros(Classify_num)\n",
    "\n",
    "    # 각 trial 에서 CA3의 firing rate N 보다 큰 애들 인덱스\n",
    "    # 각 엔그램이랑 겹치는 정도 R\n",
    "    for i, comp in enumerate(CA3_R_list):\n",
    "        temp = np.where(comp >= N)[0]\n",
    "        # firing neuron과 target engram과의 overlap 정도 비교\n",
    "        # 어느 하나로 수렴했으면 +1\n",
    "        # 여러 엔그램으로 수렴했으면 1< 일 것\n",
    "        for j, ca3 in enumerate(CA3):\n",
    "            if len(set(temp).intersection(set(ca3)))/len(ca3) >= R:\n",
    "                Trial_CA3[i] += 1\n",
    "\n",
    "    # 각 trial 에서 CA1의 firing rate 1보다 큰 애들 인덱스\n",
    "    # 특정 인풋이랑 완전히 일치해야만 성공\n",
    "    for i, comp in enumerate(CA1_R_list):\n",
    "        # 일단 발화했으면 다 체크\n",
    "        temp = np.where(comp >= 1)[0]\n",
    "        # 그리고 최종적으로 발화한 애들이 2보단 많이 발화해야함\n",
    "        temp2 = np.where(comp >= 2)[0]\n",
    "        \n",
    "        for j, data in enumerate(Data):\n",
    "            # 일단 발화한 애들이 어떤 data로 수렴했고\n",
    "            if len(temp) == len(data) and len(set(temp).intersection(set(data))) == len(temp):\n",
    "                # 얘네가 충분히 rate가 크다면 +1\n",
    "                if len(temp) == len(temp2):\n",
    "                    Trial_CA1[i] += 1\n",
    "                    Winner[j] += 1\n",
    "            elif len(set(temp2)) !=0:\n",
    "                Inter_CA1[i] += 1\n",
    "        \n",
    "    for n in range(Trial):\n",
    "        if Trial_CA1[n] == 1:\n",
    "            Success += 1\n",
    "            S_list.append(1)\n",
    "        # CA3에서 여러 engram이 발화했지만 성공했을 때\n",
    "        #elif Trial_CA3[n] == 0 and Trial_CA1[n] == 1:\n",
    "        #    Weird += 1\n",
    "        #    S_list.append(0)\n",
    "        # CA3에서 여러 engram이 발화하면서 성공도 못했을 때\n",
    "        # 여러 engram이 발화했어도 CA1에 영향없으면 괜찮기 때문\n",
    "        elif Inter_CA1[n] != 0 and Trial_CA3[n] > 1:\n",
    "            Interference += 1\n",
    "            S_list.append(0)\n",
    "        else:\n",
    "            Fail += 1\n",
    "            S_list.append(0)\n",
    "    print('Success : ', Success)\n",
    "    #print('Weird : ', Weird)\n",
    "    print('Interference : ', Interference)\n",
    "    print('Fail : ', Fail)\n",
    "    return S_list, Success, Weird, Interference, Fail, Winner, Trial_CA1, Trial_CA3"
   ]
  },
  {
   "cell_type": "code",
   "execution_count": 15,
   "id": "4a743a4f",
   "metadata": {
    "ExecuteTime": {
     "end_time": "2024-10-31T05:19:38.186113Z",
     "start_time": "2024-10-31T05:19:38.160184Z"
    },
    "code_folding": [
     0
    ]
   },
   "outputs": [],
   "source": [
    "def calculate_success_bin(CA3_R_list, CA1_R_list, CA3, Data, CN, num_cue, repeat):\n",
    "    Trial = repeat\n",
    "    Trial_CA3 = np.zeros(Trial)\n",
    "    Trial_CA1 = np.zeros(Trial)\n",
    "    Inter_CA1 = np.zeros(Trial)\n",
    "    # CA3 firing rate\n",
    "    N = 3\n",
    "    # CA3 firing ratio\n",
    "    R = 0.3\n",
    "    Success = 0\n",
    "    S_list = []\n",
    "    Weird = 0\n",
    "    Interference = 0\n",
    "    Fail = 0\n",
    "    Classify_num = CN\n",
    "    Winner = np.zeros(Classify_num)\n",
    "\n",
    "    # 각 trial 에서 CA3의 firing rate N 보다 큰 애들 인덱스\n",
    "    # 각 엔그램이랑 겹치는 정도 R\n",
    "    for i, comp in enumerate(CA3_R_list):\n",
    "        temp = np.where(comp >= N)[0]\n",
    "        # firing neuron과 target engram과의 overlap 정도 비교\n",
    "        # 어느 하나로 수렴했으면 +1\n",
    "        # 여러 엔그램으로 수렴했으면 1< 일 것\n",
    "        for j, ca3 in enumerate(CA3):\n",
    "            if len(set(temp).intersection(set(ca3)))/len(ca3) >= R:\n",
    "                Trial_CA3[i] += 1\n",
    "\n",
    "    # 각 trial 에서 CA1의 firing rate 1보다 큰 애들 인덱스\n",
    "    # 특정 인풋이랑 완전히 일치해야만 성공\n",
    "    for i, comp in enumerate(CA1_R_list):\n",
    "        # 일단 발화했으면 다 체크\n",
    "        temp = np.where(comp >= 1)[0]\n",
    "        # 그리고 최종적으로 발화한 애들이 2보단 많이 발화해야함\n",
    "        temp2 = np.where(comp >= 2)[0]\n",
    "        \n",
    "        for j, data in enumerate(Data):\n",
    "            # 일단 발화한 애들이 어떤 data로 수렴했고\n",
    "            if len(temp) == len(data) and len(set(temp).intersection(set(data))) == len(temp):\n",
    "                # 얘네가 충분히 rate가 크다면 +1\n",
    "                if len(temp) == len(temp2):\n",
    "                    Trial_CA1[i] += 1\n",
    "                    Winner[j] += 1\n",
    "            elif len(set(temp2)) !=0:\n",
    "                Inter_CA1[i] += 1\n",
    "        \n",
    "    for n in range(Trial):\n",
    "        if Trial_CA1[n] == 1:\n",
    "            Success += 1\n",
    "            S_list.append(1)\n",
    "        # CA3에서 여러 engram이 발화했지만 성공했을 때\n",
    "        #elif Trial_CA3[n] == 0 and Trial_CA1[n] == 1:\n",
    "        #    Weird += 1\n",
    "        #    S_list.append(0)\n",
    "        # CA3에서 여러 engram이 발화하면서 성공도 못했을 때\n",
    "        # 여러 engram이 발화했어도 CA1에 영향없으면 괜찮기 때문\n",
    "        elif Inter_CA1[n] != 0 and Trial_CA3[n] > 1:\n",
    "            Interference += 1\n",
    "            S_list.append(0)\n",
    "        else:\n",
    "            Fail += 1\n",
    "            S_list.append(0)\n",
    "    print('Success : ', Success)\n",
    "    #print('Weird : ', Weird)\n",
    "    print('Interference : ', Interference)\n",
    "    print('Fail : ', Fail)\n",
    "    return Winner"
   ]
  },
  {
   "cell_type": "code",
   "execution_count": 16,
   "id": "0bd055a5",
   "metadata": {
    "ExecuteTime": {
     "end_time": "2024-10-31T05:19:38.202071Z",
     "start_time": "2024-10-31T05:19:38.191102Z"
    }
   },
   "outputs": [],
   "source": [
    "Target_fin = [144, 327]\n",
    "#Target_fin = [236,339]\n",
    "CN = len(Target_fin)\n",
    "Repeat = 30\n",
    "Num_cue = np.shape(Cue_DataL)[1]\n",
    "T_idx = 0\n",
    "NN = Target_fin[T_idx]\n",
    "\n",
    "# target data neuron idx on comp task\n",
    "Data_CP = []\n",
    "for i, comp in enumerate(Target_fin):\n",
    "    Data_CP.append(np.where(Filt_idata[:,comp] !=0)[0])\n",
    "    \n",
    "# target CA3 engram idx on competition task\n",
    "CA3_CP = []\n",
    "for i, comp in enumerate(Target_fin):\n",
    "    CA3_CP.append(Af_py[comp])"
   ]
  },
  {
   "cell_type": "code",
   "execution_count": 17,
   "id": "9b163cf5",
   "metadata": {
    "ExecuteTime": {
     "end_time": "2024-10-31T05:19:38.217032Z",
     "start_time": "2024-10-31T05:19:38.207059Z"
    }
   },
   "outputs": [
    {
     "data": {
      "text/plain": [
       "[array([ 0,  1,  8, 10, 12, 14], dtype=int64),\n",
       " array([2, 3, 4, 5, 6, 9], dtype=int64)]"
      ]
     },
     "execution_count": 17,
     "metadata": {},
     "output_type": "execute_result"
    }
   ],
   "source": [
    "Data_CP"
   ]
  },
  {
   "cell_type": "markdown",
   "id": "893dbc7a",
   "metadata": {
    "ExecuteTime": {
     "end_time": "2024-05-13T07:39:53.582508Z",
     "start_time": "2024-05-13T07:39:53.452817Z"
    }
   },
   "source": [
    "Winner_list = np.zeros([2,100])\n",
    "for n in range(100):\n",
    "    Num_cue = 1\n",
    "    Repeat = 30\n",
    "    CA3_R_list_temp = CA3_R_list[30*n:30*(n+1)]\n",
    "    CA1_R_list_temp = CA1_R_list[30*n:30*(n+1)]\n",
    "    S_list, Success, Weird, Interference, Fail, Winner, Trial_CA1, Trial_CA3 = calculate_success(CA3_R_list_temp, CA1_R_list_temp, CA3_CP, Data_CP, CN, Num_cue, Repeat)\n",
    "    Winner_list[0,n] = Winner[0]\n",
    "    Winner_list[1,n] = Winner[1]"
   ]
  },
  {
   "cell_type": "code",
   "execution_count": 18,
   "id": "9d27fe19",
   "metadata": {
    "ExecuteTime": {
     "end_time": "2024-10-31T05:19:38.990972Z",
     "start_time": "2024-10-31T05:19:38.220024Z"
    }
   },
   "outputs": [
    {
     "ename": "NameError",
     "evalue": "name 'CA3_R_list' is not defined",
     "output_type": "error",
     "traceback": [
      "\u001b[1;31m---------------------------------------------------------------------------\u001b[0m",
      "\u001b[1;31mNameError\u001b[0m                                 Traceback (most recent call last)",
      "\u001b[1;32m~\\AppData\\Local\\Temp\\ipykernel_5836\\3863773030.py\u001b[0m in \u001b[0;36m<module>\u001b[1;34m\u001b[0m\n\u001b[0;32m      1\u001b[0m \u001b[1;32mfor\u001b[0m \u001b[0mn\u001b[0m \u001b[1;32min\u001b[0m \u001b[0mrange\u001b[0m\u001b[1;33m(\u001b[0m\u001b[0mNum_cue\u001b[0m\u001b[1;33m)\u001b[0m\u001b[1;33m:\u001b[0m\u001b[1;33m\u001b[0m\u001b[1;33m\u001b[0m\u001b[0m\n\u001b[1;32m----> 2\u001b[1;33m     \u001b[0mCA3_R_list_temp\u001b[0m \u001b[1;33m=\u001b[0m \u001b[0mCA3_R_list\u001b[0m\u001b[1;33m[\u001b[0m\u001b[0mRepeat\u001b[0m\u001b[1;33m*\u001b[0m\u001b[0mn\u001b[0m\u001b[1;33m:\u001b[0m\u001b[0mRepeat\u001b[0m\u001b[1;33m*\u001b[0m\u001b[1;33m(\u001b[0m\u001b[0mn\u001b[0m\u001b[1;33m+\u001b[0m\u001b[1;36m1\u001b[0m\u001b[1;33m)\u001b[0m\u001b[1;33m]\u001b[0m\u001b[1;33m\u001b[0m\u001b[1;33m\u001b[0m\u001b[0m\n\u001b[0m\u001b[0;32m      3\u001b[0m     \u001b[0mCA1_R_list_temp\u001b[0m \u001b[1;33m=\u001b[0m \u001b[0mCA1_R_list\u001b[0m\u001b[1;33m[\u001b[0m\u001b[0mRepeat\u001b[0m\u001b[1;33m*\u001b[0m\u001b[0mn\u001b[0m\u001b[1;33m:\u001b[0m\u001b[0mRepeat\u001b[0m\u001b[1;33m*\u001b[0m\u001b[1;33m(\u001b[0m\u001b[0mn\u001b[0m\u001b[1;33m+\u001b[0m\u001b[1;36m1\u001b[0m\u001b[1;33m)\u001b[0m\u001b[1;33m]\u001b[0m\u001b[1;33m\u001b[0m\u001b[1;33m\u001b[0m\u001b[0m\n\u001b[0;32m      4\u001b[0m     \u001b[0mglobals\u001b[0m\u001b[1;33m(\u001b[0m\u001b[1;33m)\u001b[0m\u001b[1;33m[\u001b[0m\u001b[1;34m\"Winner{}\"\u001b[0m\u001b[1;33m.\u001b[0m\u001b[0mformat\u001b[0m\u001b[1;33m(\u001b[0m\u001b[0mn\u001b[0m\u001b[1;33m)\u001b[0m\u001b[1;33m]\u001b[0m \u001b[1;33m=\u001b[0m \u001b[0mcalculate_success_bin\u001b[0m\u001b[1;33m(\u001b[0m\u001b[0mCA3_R_list_temp\u001b[0m\u001b[1;33m,\u001b[0m \u001b[0mCA1_R_list_temp\u001b[0m\u001b[1;33m,\u001b[0m \u001b[0mCA3_CP\u001b[0m\u001b[1;33m,\u001b[0m \u001b[0mData_CP\u001b[0m\u001b[1;33m,\u001b[0m \u001b[0mCN\u001b[0m\u001b[1;33m,\u001b[0m \u001b[0mNum_cue\u001b[0m\u001b[1;33m,\u001b[0m \u001b[0mRepeat\u001b[0m\u001b[1;33m)\u001b[0m\u001b[1;33m\u001b[0m\u001b[1;33m\u001b[0m\u001b[0m\n",
      "\u001b[1;31mNameError\u001b[0m: name 'CA3_R_list' is not defined"
     ]
    }
   ],
   "source": [
    "for n in range(Num_cue):\n",
    "    CA3_R_list_temp = CA3_R_list[Repeat*n:Repeat*(n+1)]\n",
    "    CA1_R_list_temp = CA1_R_list[Repeat*n:Repeat*(n+1)]\n",
    "    globals()[\"Winner{}\".format(n)] = calculate_success_bin(CA3_R_list_temp, CA1_R_list_temp, CA3_CP, Data_CP, CN, Num_cue, Repeat)"
   ]
  },
  {
   "cell_type": "code",
   "execution_count": 19,
   "id": "7aa3b14d",
   "metadata": {
    "ExecuteTime": {
     "end_time": "2024-10-31T05:20:53.519281Z",
     "start_time": "2024-10-31T05:20:53.409603Z"
    }
   },
   "outputs": [
    {
     "name": "stdout",
     "output_type": "stream",
     "text": [
      "Success :  2470\n",
      "Interference :  6\n",
      "Fail :  524\n"
     ]
    }
   ],
   "source": [
    "S_listL, SuccessL, WeirdL, InterferenceL, FailL, WinnerL, Trial_CA1L, Trial_CA3L = calculate_success(CA3_R_listL, CA1_R_listL, CA3_CP, Data_CP, CN, Num_cue, Repeat)"
   ]
  },
  {
   "cell_type": "code",
   "execution_count": 20,
   "id": "f1316807",
   "metadata": {
    "ExecuteTime": {
     "end_time": "2024-10-31T05:20:54.269300Z",
     "start_time": "2024-10-31T05:20:54.160590Z"
    }
   },
   "outputs": [
    {
     "name": "stdout",
     "output_type": "stream",
     "text": [
      "Success :  2404\n",
      "Interference :  9\n",
      "Fail :  587\n"
     ]
    }
   ],
   "source": [
    "S_listN, SuccessN, WeirdN, InterferenceN, FailN, WinnerN, Trial_CA1N, Trial_CA3N = calculate_success(CA3_R_listN, CA1_R_listN, CA3_CP, Data_CP, CN, Num_cue, Repeat)"
   ]
  },
  {
   "cell_type": "markdown",
   "id": "089f03f9",
   "metadata": {
    "ExecuteTime": {
     "end_time": "2024-05-13T07:39:58.745766Z",
     "start_time": "2024-05-13T07:39:58.309828Z"
    }
   },
   "source": [
    "plt.bar(np.array(range(100)), Winner_list[0,:], 0.5)\n",
    "plt.bar(np.array(range(100))+0.5, Winner_list[1,:], 0.5)\n",
    "plt.show()"
   ]
  },
  {
   "cell_type": "code",
   "execution_count": 21,
   "id": "93d49393",
   "metadata": {
    "ExecuteTime": {
     "end_time": "2024-10-31T05:20:55.565922Z",
     "start_time": "2024-10-31T05:20:55.440258Z"
    }
   },
   "outputs": [
    {
     "name": "stdout",
     "output_type": "stream",
     "text": [
      "Success :  27\n",
      "Interference :  0\n",
      "Fail :  3\n",
      "Success :  26\n",
      "Interference :  0\n",
      "Fail :  4\n",
      "Success :  26\n",
      "Interference :  0\n",
      "Fail :  4\n",
      "Success :  21\n",
      "Interference :  0\n",
      "Fail :  9\n",
      "Success :  20\n",
      "Interference :  0\n",
      "Fail :  10\n",
      "Success :  21\n",
      "Interference :  0\n",
      "Fail :  9\n",
      "Success :  24\n",
      "Interference :  0\n",
      "Fail :  6\n",
      "Success :  26\n",
      "Interference :  0\n",
      "Fail :  4\n",
      "Success :  27\n",
      "Interference :  0\n",
      "Fail :  3\n",
      "Success :  20\n",
      "Interference :  0\n",
      "Fail :  10\n",
      "Success :  24\n",
      "Interference :  0\n",
      "Fail :  6\n",
      "Success :  20\n",
      "Interference :  0\n",
      "Fail :  10\n",
      "Success :  24\n",
      "Interference :  0\n",
      "Fail :  6\n",
      "Success :  26\n",
      "Interference :  0\n",
      "Fail :  4\n",
      "Success :  23\n",
      "Interference :  0\n",
      "Fail :  7\n",
      "Success :  22\n",
      "Interference :  0\n",
      "Fail :  8\n",
      "Success :  24\n",
      "Interference :  0\n",
      "Fail :  6\n",
      "Success :  25\n",
      "Interference :  0\n",
      "Fail :  5\n",
      "Success :  24\n",
      "Interference :  0\n",
      "Fail :  6\n",
      "Success :  23\n",
      "Interference :  0\n",
      "Fail :  7\n",
      "Success :  23\n",
      "Interference :  0\n",
      "Fail :  7\n",
      "Success :  24\n",
      "Interference :  0\n",
      "Fail :  6\n",
      "Success :  25\n",
      "Interference :  0\n",
      "Fail :  5\n",
      "Success :  23\n",
      "Interference :  0\n",
      "Fail :  7\n",
      "Success :  25\n",
      "Interference :  0\n",
      "Fail :  5\n",
      "Success :  22\n",
      "Interference :  0\n",
      "Fail :  8\n",
      "Success :  26\n",
      "Interference :  0\n",
      "Fail :  4\n",
      "Success :  24\n",
      "Interference :  0\n",
      "Fail :  6\n",
      "Success :  26\n",
      "Interference :  0\n",
      "Fail :  4\n",
      "Success :  22\n",
      "Interference :  0\n",
      "Fail :  8\n",
      "Success :  27\n",
      "Interference :  0\n",
      "Fail :  3\n",
      "Success :  25\n",
      "Interference :  0\n",
      "Fail :  5\n",
      "Success :  26\n",
      "Interference :  1\n",
      "Fail :  3\n",
      "Success :  21\n",
      "Interference :  0\n",
      "Fail :  9\n",
      "Success :  23\n",
      "Interference :  0\n",
      "Fail :  7\n",
      "Success :  26\n",
      "Interference :  0\n",
      "Fail :  4\n",
      "Success :  23\n",
      "Interference :  1\n",
      "Fail :  6\n",
      "Success :  26\n",
      "Interference :  0\n",
      "Fail :  4\n",
      "Success :  24\n",
      "Interference :  0\n",
      "Fail :  6\n",
      "Success :  28\n",
      "Interference :  0\n",
      "Fail :  2\n",
      "Success :  26\n",
      "Interference :  0\n",
      "Fail :  4\n",
      "Success :  22\n",
      "Interference :  0\n",
      "Fail :  8\n",
      "Success :  28\n",
      "Interference :  0\n",
      "Fail :  2\n",
      "Success :  25\n",
      "Interference :  0\n",
      "Fail :  5\n",
      "Success :  25\n",
      "Interference :  0\n",
      "Fail :  5\n",
      "Success :  25\n",
      "Interference :  0\n",
      "Fail :  5\n",
      "Success :  25\n",
      "Interference :  0\n",
      "Fail :  5\n",
      "Success :  27\n",
      "Interference :  0\n",
      "Fail :  3\n",
      "Success :  26\n",
      "Interference :  0\n",
      "Fail :  4\n",
      "Success :  22\n",
      "Interference :  0\n",
      "Fail :  8\n",
      "Success :  28\n",
      "Interference :  0\n",
      "Fail :  2\n",
      "Success :  25\n",
      "Interference :  1\n",
      "Fail :  4\n",
      "Success :  27\n",
      "Interference :  0\n",
      "Fail :  3\n",
      "Success :  23\n",
      "Interference :  0\n",
      "Fail :  7\n",
      "Success :  23\n",
      "Interference :  0\n",
      "Fail :  7\n",
      "Success :  25\n",
      "Interference :  0\n",
      "Fail :  5\n",
      "Success :  24\n",
      "Interference :  0\n",
      "Fail :  6\n",
      "Success :  23\n",
      "Interference :  0\n",
      "Fail :  7\n",
      "Success :  25\n",
      "Interference :  0\n",
      "Fail :  5\n",
      "Success :  21\n",
      "Interference :  0\n",
      "Fail :  9\n",
      "Success :  26\n",
      "Interference :  0\n",
      "Fail :  4\n",
      "Success :  21\n",
      "Interference :  0\n",
      "Fail :  9\n",
      "Success :  27\n",
      "Interference :  0\n",
      "Fail :  3\n",
      "Success :  23\n",
      "Interference :  0\n",
      "Fail :  7\n",
      "Success :  28\n",
      "Interference :  0\n",
      "Fail :  2\n",
      "Success :  24\n",
      "Interference :  0\n",
      "Fail :  6\n",
      "Success :  24\n",
      "Interference :  0\n",
      "Fail :  6\n",
      "Success :  29\n",
      "Interference :  0\n",
      "Fail :  1\n",
      "Success :  24\n",
      "Interference :  0\n",
      "Fail :  6\n",
      "Success :  21\n",
      "Interference :  0\n",
      "Fail :  9\n",
      "Success :  25\n",
      "Interference :  0\n",
      "Fail :  5\n",
      "Success :  27\n",
      "Interference :  0\n",
      "Fail :  3\n",
      "Success :  28\n",
      "Interference :  0\n",
      "Fail :  2\n",
      "Success :  26\n",
      "Interference :  0\n",
      "Fail :  4\n",
      "Success :  24\n",
      "Interference :  1\n",
      "Fail :  5\n",
      "Success :  28\n",
      "Interference :  0\n",
      "Fail :  2\n",
      "Success :  26\n",
      "Interference :  0\n",
      "Fail :  4\n",
      "Success :  25\n",
      "Interference :  2\n",
      "Fail :  3\n",
      "Success :  26\n",
      "Interference :  0\n",
      "Fail :  4\n",
      "Success :  29\n",
      "Interference :  0\n",
      "Fail :  1\n",
      "Success :  29\n",
      "Interference :  0\n",
      "Fail :  1\n",
      "Success :  26\n",
      "Interference :  0\n",
      "Fail :  4\n",
      "Success :  27\n",
      "Interference :  0\n",
      "Fail :  3\n",
      "Success :  22\n",
      "Interference :  0\n",
      "Fail :  8\n",
      "Success :  27\n",
      "Interference :  0\n",
      "Fail :  3\n",
      "Success :  23\n",
      "Interference :  0\n",
      "Fail :  7\n",
      "Success :  29\n",
      "Interference :  0\n",
      "Fail :  1\n",
      "Success :  28\n",
      "Interference :  0\n",
      "Fail :  2\n",
      "Success :  23\n",
      "Interference :  0\n",
      "Fail :  7\n",
      "Success :  23\n",
      "Interference :  0\n",
      "Fail :  7\n",
      "Success :  28\n",
      "Interference :  0\n",
      "Fail :  2\n",
      "Success :  25\n",
      "Interference :  0\n",
      "Fail :  5\n",
      "Success :  26\n",
      "Interference :  0\n",
      "Fail :  4\n",
      "Success :  21\n",
      "Interference :  0\n",
      "Fail :  9\n",
      "Success :  26\n",
      "Interference :  0\n",
      "Fail :  4\n",
      "Success :  21\n",
      "Interference :  0\n",
      "Fail :  9\n",
      "Success :  25\n",
      "Interference :  0\n",
      "Fail :  5\n",
      "Success :  24\n",
      "Interference :  0\n",
      "Fail :  6\n",
      "Success :  26\n",
      "Interference :  0\n",
      "Fail :  4\n",
      "Success :  23\n",
      "Interference :  0\n",
      "Fail :  7\n"
     ]
    }
   ],
   "source": [
    "Winner_list = np.zeros([2,100])\n",
    "for n in range(100):\n",
    "    Num_cue_temp = 1\n",
    "    Repeat = 30\n",
    "    CA3_R_list_temp = CA3_R_listL[30*n:30*(n+1)]\n",
    "    CA1_R_list_temp = CA1_R_listL[30*n:30*(n+1)]\n",
    "    S_list, Success, Weird, Interference, Fail, Winner, Trial_CA1, Trial_CA3 = calculate_success(CA3_R_list_temp, CA1_R_list_temp, CA3_CP, Data_CP, CN, Num_cue_temp, Repeat)\n",
    "    Winner_list[0,n] = Winner[0]\n",
    "    Winner_list[1,n] = Winner[1]"
   ]
  },
  {
   "cell_type": "code",
   "execution_count": 22,
   "id": "89557c09",
   "metadata": {
    "ExecuteTime": {
     "end_time": "2024-10-31T05:20:56.547698Z",
     "start_time": "2024-10-31T05:20:56.530742Z"
    }
   },
   "outputs": [
    {
     "data": {
      "text/plain": [
       "array([[ 1.,  0.,  0.,  0.,  0.,  0.,  0.,  1.,  0.,  0.,  2.,  3.,  7.,\n",
       "         2.,  0.,  7.,  7.,  6.,  3.,  6.,  3.,  5., 10.,  4., 13.,  6.,\n",
       "         6., 10., 13.,  8.,  9.,  8., 14.,  9., 11., 10., 10., 11., 15.,\n",
       "        15., 13., 13., 17., 14.,  8.,  9., 17., 16., 15., 10., 22., 15.,\n",
       "        15., 13., 13., 12., 13., 14., 21., 13., 16., 16., 18., 18., 19.,\n",
       "        20., 15., 21., 16., 15., 17., 26., 18., 23., 17., 24., 25., 19.,\n",
       "        19., 21., 23., 26., 25., 17., 27., 23., 25., 22., 22., 23., 28.,\n",
       "        24., 26., 21., 26., 21., 25., 24., 26., 23.],\n",
       "       [26., 26., 26., 21., 20., 21., 24., 25., 27., 20., 22., 17., 17.,\n",
       "        24., 23., 15., 17., 19., 21., 17., 20., 19., 15., 19., 12., 16.,\n",
       "        20., 14., 13., 14., 18., 17., 12., 12., 12., 16., 13., 15.,  9.,\n",
       "        13., 13.,  9., 11., 11., 17., 16.,  8., 11., 11., 12.,  6., 10.,\n",
       "        12., 10., 10., 13., 11.,  9.,  4.,  8., 10.,  5.,  9.,  5.,  9.,\n",
       "         4.,  9.,  8.,  8.,  6.,  8.,  1., 10.,  3.,  7.,  4.,  1.,  6.,\n",
       "         7.,  8.,  6.,  0.,  2.,  5.,  0.,  0.,  4.,  6.,  1.,  0.,  0.,\n",
       "         1.,  0.,  0.,  0.,  0.,  0.,  0.,  0.,  0.]])"
      ]
     },
     "execution_count": 22,
     "metadata": {},
     "output_type": "execute_result"
    }
   ],
   "source": [
    "Winner_list"
   ]
  },
  {
   "cell_type": "code",
   "execution_count": 23,
   "id": "cc3df037",
   "metadata": {
    "ExecuteTime": {
     "end_time": "2024-10-31T05:20:57.371213Z",
     "start_time": "2024-10-31T05:20:57.347277Z"
    }
   },
   "outputs": [],
   "source": [
    "Classify_num = 10\n",
    "Winner_A = []\n",
    "Winner_B = []\n",
    "for n in range(Classify_num+1):\n",
    "    Winner_A.append([])\n",
    "    Winner_B.append([])\n",
    "    \n",
    "for n in range(Num_cue):\n",
    "    temp = 1-cal_overlap(set(range(16)), set(np.where(Filt_idata[:,144])[0]), set(np.where(Cue_DataL[:,n])[0]))\n",
    "    for m in range(Classify_num):    \n",
    "        if (1/Classify_num)*m < temp <= (1/Classify_num)*m+(1/Classify_num):\n",
    "            Winner_A[m].append(Winner_list[0][n])\n",
    "            Winner_B[m].append(Winner_list[1][n])\n",
    "                \n",
    "Winner_A_fin = np.zeros(Classify_num)\n",
    "Winner_B_fin = np.zeros(Classify_num)\n",
    "\n",
    "for n in range(Classify_num):\n",
    "    Winner_A_fin[n] = np.mean(Winner_A[n])*(100/30)\n",
    "    Winner_B_fin[n] = np.mean(Winner_B[n])*(100/30)"
   ]
  },
  {
   "cell_type": "code",
   "execution_count": 24,
   "id": "3bb7da7e",
   "metadata": {
    "ExecuteTime": {
     "end_time": "2024-10-31T05:20:58.109598Z",
     "start_time": "2024-10-31T05:20:58.096605Z"
    }
   },
   "outputs": [
    {
     "ename": "TypeError",
     "evalue": "can't multiply sequence by non-int of type 'float'",
     "output_type": "error",
     "traceback": [
      "\u001b[1;31m---------------------------------------------------------------------------\u001b[0m",
      "\u001b[1;31mTypeError\u001b[0m                                 Traceback (most recent call last)",
      "\u001b[1;32m~\\AppData\\Local\\Temp\\ipykernel_5836\\1518180711.py\u001b[0m in \u001b[0;36m<module>\u001b[1;34m\u001b[0m\n\u001b[1;32m----> 1\u001b[1;33m \u001b[1;33m(\u001b[0m\u001b[0mlist\u001b[0m\u001b[1;33m(\u001b[0m\u001b[0mWinner_A_fin\u001b[0m\u001b[1;33m)\u001b[0m \u001b[1;33m+\u001b[0m \u001b[0mlist\u001b[0m\u001b[1;33m(\u001b[0m\u001b[0mWinner_B_fin\u001b[0m\u001b[1;33m)\u001b[0m\u001b[1;33m)\u001b[0m\u001b[1;33m*\u001b[0m\u001b[1;33m(\u001b[0m\u001b[1;36m100\u001b[0m\u001b[1;33m/\u001b[0m\u001b[1;36m30\u001b[0m\u001b[1;33m)\u001b[0m\u001b[1;33m\u001b[0m\u001b[1;33m\u001b[0m\u001b[0m\n\u001b[0m",
      "\u001b[1;31mTypeError\u001b[0m: can't multiply sequence by non-int of type 'float'"
     ]
    }
   ],
   "source": [
    "(list(Winner_A_fin) + list(Winner_B_fin))*(100/30)"
   ]
  },
  {
   "cell_type": "code",
   "execution_count": 25,
   "id": "613be006",
   "metadata": {
    "ExecuteTime": {
     "end_time": "2024-10-31T05:20:58.519066Z",
     "start_time": "2024-10-31T05:20:58.497093Z"
    },
    "scrolled": true
   },
   "outputs": [
    {
     "ename": "NameError",
     "evalue": "name 'data_dic' is not defined",
     "output_type": "error",
     "traceback": [
      "\u001b[1;31m---------------------------------------------------------------------------\u001b[0m",
      "\u001b[1;31mNameError\u001b[0m                                 Traceback (most recent call last)",
      "\u001b[1;32m~\\AppData\\Local\\Temp\\ipykernel_5836\\3317682549.py\u001b[0m in \u001b[0;36m<module>\u001b[1;34m\u001b[0m\n\u001b[1;32m----> 1\u001b[1;33m \u001b[0mlen\u001b[0m\u001b[1;33m(\u001b[0m\u001b[0mdata_dic\u001b[0m\u001b[1;33m[\u001b[0m\u001b[1;34m'Performance'\u001b[0m\u001b[1;33m]\u001b[0m\u001b[1;33m)\u001b[0m\u001b[1;33m\u001b[0m\u001b[1;33m\u001b[0m\u001b[0m\n\u001b[0m",
      "\u001b[1;31mNameError\u001b[0m: name 'data_dic' is not defined"
     ]
    }
   ],
   "source": [
    "len(data_dic['Performance'])"
   ]
  },
  {
   "cell_type": "code",
   "execution_count": 26,
   "id": "287c54fa",
   "metadata": {
    "ExecuteTime": {
     "end_time": "2024-10-31T05:20:59.538886Z",
     "start_time": "2024-10-31T05:20:59.520913Z"
    }
   },
   "outputs": [],
   "source": [
    "palette = sns.color_palette('cool')"
   ]
  },
  {
   "cell_type": "code",
   "execution_count": 29,
   "id": "cb207913",
   "metadata": {
    "ExecuteTime": {
     "end_time": "2024-10-31T05:21:22.818259Z",
     "start_time": "2024-10-31T05:21:21.570266Z"
    }
   },
   "outputs": [
    {
     "data": {
      "image/png": "[encoded data removed]",
      "text/plain": [
       "<Figure size 1000x500 with 1 Axes>"
      ]
     },
     "metadata": {},
     "output_type": "display_data"
    }
   ],
   "source": [
    "data_dic = {}\n",
    "data_dic['$\\Delta$ (A-Cue)'] = []\n",
    "for n in range(2):\n",
    "    data_dic['$\\Delta$ (A-Cue)'] +=  list(np.around(0.1*np.array(range(10)),1))\n",
    "data_dic['A / B'] = []\n",
    "for n in range(10):\n",
    "    data_dic['A / B'].append('A')\n",
    "for n in range(10):\n",
    "    data_dic['A / B'].append('B')\n",
    "    \n",
    "data_dic['Performance (%)'] = (list(Winner_A_fin) + list(Winner_B_fin))\n",
    "\n",
    "df = pd.DataFrame(data_dic)\n",
    "\n",
    "fig = plt.subplot(111)\n",
    "sns.set(rc={'figure.figsize':(10, 5)})\n",
    "sns.set_theme(style='white')\n",
    "ax = sns.barplot(data = df, x='$\\Delta$ (A-Cue)', y='Performance (%)', palette={'A':palette[1],'B':palette[-3]}, hue=df['A / B'], linewidth=2, dodge=True)\n",
    "plt.legend(loc='upper right', frameon=False)\n",
    "plt.ylim([0,100])\n",
    "plt.title('Retrieval probabilitiy over the cue')\n",
    "ax.spines[['top', 'right']].set_visible(False)\n",
    "plt.savefig('Fig-tradeoffbar.pdf', bbox_inches='tight')\n",
    "plt.savefig('Fig-tradeoffbar.tiff', bbox_inches='tight', dpi=300)\n",
    "plt.show()"
   ]
  },
  {
   "cell_type": "code",
   "execution_count": 30,
   "id": "7d23fc68",
   "metadata": {
    "ExecuteTime": {
     "end_time": "2024-10-31T05:21:24.400526Z",
     "start_time": "2024-10-31T05:21:24.337723Z"
    }
   },
   "outputs": [],
   "source": [
    "Simlist_IN = []\n",
    "Simlist_DG = []\n",
    "Simlist_CA3 = []\n",
    "Simlist_CA1 = []\n",
    "Simlist_idx = []\n",
    "# # 각 cue에 대해 발화한 각 영역의 엔그램 idx\n",
    "for n in range(Num_cue*Repeat):\n",
    "    temp = n // Repeat\n",
    "    if Trial_CA1L[n] == 1:\n",
    "        if Trial_CA3L[n] == 1:\n",
    "            Simlist_IN.append(np.where(Cue_DataL[:,temp] !=0)[0])\n",
    "            Simlist_DG.append(np.where(DG_E_listL[temp] >= 2)[0])\n",
    "            Simlist_CA3.append(np.where(CA3_R_listL[n] >= 3)[0])\n",
    "            Simlist_CA1.append(np.where(CA1_R_listL[n] >= 2)[0])\n",
    "            Simlist_idx.append(temp)\n",
    "            \n",
    "# for n in range(Num_cue*Repeat):\n",
    "#     temp = n // Repeat\n",
    "#     if Trial_CA1N[n] == 1:\n",
    "#         if Trial_CA3N[n] == 1:\n",
    "#             Simlist_IN.append(np.where(Cue_DataN[:,temp] !=0)[0])\n",
    "#             Simlist_DG.append(np.where(DG_E_listN[temp] >= 2)[0])\n",
    "#             Simlist_CA3.append(np.where(CA3_R_listN[n] >= 3)[0])\n",
    "#             Simlist_CA1.append(np.where(CA1_R_listN[n] >= 2)[0])\n",
    "#             Simlist_idx.append(temp+100)"
   ]
  },
  {
   "cell_type": "code",
   "execution_count": 31,
   "id": "6be0c2f4",
   "metadata": {
    "ExecuteTime": {
     "end_time": "2024-10-31T05:21:25.329478Z",
     "start_time": "2024-10-31T05:21:25.315489Z"
    }
   },
   "outputs": [
    {
     "data": {
      "text/plain": [
       "2463"
      ]
     },
     "execution_count": 31,
     "metadata": {},
     "output_type": "execute_result"
    }
   ],
   "source": [
    "len(Simlist_idx)"
   ]
  },
  {
   "cell_type": "code",
   "execution_count": 32,
   "id": "12024377",
   "metadata": {
    "ExecuteTime": {
     "end_time": "2024-10-31T05:21:26.197178Z",
     "start_time": "2024-10-31T05:21:25.841768Z"
    }
   },
   "outputs": [],
   "source": [
    "# \n",
    "Pair_IN = []\n",
    "Pair_DG = []\n",
    "Pair_CA3 = []\n",
    "#Pair_CA1 = []\n",
    "Pair_idx = []\n",
    "idx = []\n",
    "\n",
    "for i, comp in enumerate(Simlist_DG):\n",
    "    temp = 1-cal_relative_overlap_DG(set(range(800)), set(comp), T_idx)\n",
    "    #separation 됐으면\n",
    "    #if temp > 0:\n",
    "    Pair_DG.append(temp)\n",
    "    #else:\n",
    "    #    idx.append(i)\n",
    "                       \n",
    "# for i, comp in enumerate(Simlist_CA1):\n",
    "#     #if i not in idx:\n",
    "#         #Pair_CA1.append(1-cal_relative_overlap_CA1(set(range(16)), set(comp), T_idx))\n",
    "#     Pair_CA1.append(1-cal_overlap(set(range(16)), set(np.where(Filt_idata[:,NN]!=0)[0]), set(comp)))\n",
    "        \n",
    "for i, comp in enumerate(Simlist_IN):\n",
    "    #if i not in idx:\n",
    "    Pair_IN.append(1-cal_overlap(set(range(16)), set(np.where(Filt_idata[:,NN]!=0)[0]), set(comp)))\n",
    "\n",
    "for i, comp in enumerate(Simlist_CA3):\n",
    "    #if i not in idx:\n",
    "    #Pair_CA3.append(1-cal_relative_overlap_CA3(set(range(2400)), set(comp), T_idx))\n",
    "    Pair_CA3.append(1-cal_overlap(set(range(2400)), set(comp), set(Af_py[144])))    \n",
    "    \n",
    "for i, comp in enumerate(Simlist_idx):\n",
    "    #if i not in idx:        \n",
    "    Pair_idx.append(comp)"
   ]
  },
  {
   "cell_type": "code",
   "execution_count": 33,
   "id": "59714722",
   "metadata": {
    "ExecuteTime": {
     "end_time": "2024-10-31T05:21:26.810810Z",
     "start_time": "2024-10-31T05:21:26.785883Z"
    }
   },
   "outputs": [
    {
     "name": "stderr",
     "output_type": "stream",
     "text": [
      "C:\\Users\\fiat_\\AppData\\Local\\Temp\\ipykernel_5836\\3046759818.py:7: RuntimeWarning: invalid value encountered in divide\n",
      "  Pair_IN_fin = Pair_IN_sum/Pair_IN_idx\n",
      "C:\\Users\\fiat_\\AppData\\Local\\Temp\\ipykernel_5836\\3046759818.py:16: RuntimeWarning: invalid value encountered in divide\n",
      "  Pair_DG_fin = Pair_DG_sum/Pair_DG_idx\n",
      "C:\\Users\\fiat_\\AppData\\Local\\Temp\\ipykernel_5836\\3046759818.py:25: RuntimeWarning: invalid value encountered in divide\n",
      "  Pair_CA3_fin = Pair_CA3_sum/Pair_CA3_idx\n"
     ]
    }
   ],
   "source": [
    "Pair_IN_sum = np.zeros(Num_cue*2)\n",
    "Pair_IN_idx = np.zeros(Num_cue*2)\n",
    "for i, comp in enumerate(Pair_idx):\n",
    "    Pair_IN_sum[comp] += Pair_IN[i]\n",
    "    Pair_IN_idx[comp] += 1\n",
    "    \n",
    "Pair_IN_fin = Pair_IN_sum/Pair_IN_idx\n",
    "Pair_IN_fin = Pair_IN_fin[~np.isnan(Pair_IN_fin)]\n",
    "\n",
    "Pair_DG_sum = np.zeros(Num_cue*2)\n",
    "Pair_DG_idx = np.zeros(Num_cue*2)\n",
    "for i, comp in enumerate(Pair_idx):\n",
    "    Pair_DG_sum[comp] += Pair_DG[i]\n",
    "    Pair_DG_idx[comp] += 1\n",
    "    \n",
    "Pair_DG_fin = Pair_DG_sum/Pair_DG_idx\n",
    "Pair_DG_fin = Pair_DG_fin[~np.isnan(Pair_DG_fin)]\n",
    "\n",
    "Pair_CA3_sum = np.zeros(Num_cue*2)\n",
    "Pair_CA3_idx = np.zeros(Num_cue*2)\n",
    "for i, comp in enumerate(Pair_idx):\n",
    "    Pair_CA3_sum[comp] += Pair_CA3[i]\n",
    "    Pair_CA3_idx[comp] += 1\n",
    "    \n",
    "Pair_CA3_fin = Pair_CA3_sum/Pair_CA3_idx\n",
    "Pair_CA3_fin = Pair_CA3_fin[~np.isnan(Pair_CA3_fin)]\n",
    "\n",
    "# Pair_CA1_sum = np.zeros(Num_cue*2)\n",
    "# Pair_CA1_idx = np.zeros(Num_cue*2)\n",
    "# for i, comp in enumerate(Pair_idx):\n",
    "#     Pair_CA1_sum[comp] += Pair_CA1[i]\n",
    "#     Pair_CA1_idx[comp] += 1\n",
    "    \n",
    "# Pair_CA1_fin = Pair_CA1_sum/Pair_CA1_idx\n",
    "# Pair_CA1_fin = Pair_CA1_fin[~np.isnan(Pair_CA1_fin)]"
   ]
  },
  {
   "cell_type": "code",
   "execution_count": 34,
   "id": "0e838c03",
   "metadata": {
    "ExecuteTime": {
     "end_time": "2024-10-31T05:21:28.270947Z",
     "start_time": "2024-10-31T05:21:28.225043Z"
    }
   },
   "outputs": [],
   "source": [
    "with open(path+'//module//Learned weights-tradeoff_encoding.pkl', 'rb') as file:\n",
    "    DG_E_list = pickle.load(file)\n",
    "    CA3_E_list = pickle.load(file)\n",
    "    CA1_E_list = pickle.load(file)"
   ]
  },
  {
   "cell_type": "code",
   "execution_count": 35,
   "id": "653b3eb5",
   "metadata": {
    "ExecuteTime": {
     "end_time": "2024-10-31T05:21:29.025041Z",
     "start_time": "2024-10-31T05:21:29.009084Z"
    }
   },
   "outputs": [
    {
     "data": {
      "text/plain": [
       "(array([ 12,  14,  15,  21,  22,  31,  35,  37,  40,  56,  59,  74,  77,\n",
       "         87,  88,  93,  94,  96, 104, 109, 111, 113, 116, 122, 135, 136,\n",
       "        141, 150, 157, 164, 166, 182, 186, 192, 193, 196], dtype=int64),)"
      ]
     },
     "execution_count": 35,
     "metadata": {},
     "output_type": "execute_result"
    }
   ],
   "source": [
    "np.where(CA1_E_list[0])"
   ]
  },
  {
   "cell_type": "code",
   "execution_count": 36,
   "id": "ae3b9c16",
   "metadata": {
    "ExecuteTime": {
     "end_time": "2024-10-31T05:21:29.482710Z",
     "start_time": "2024-10-31T05:21:29.474733Z"
    }
   },
   "outputs": [
    {
     "data": {
      "text/plain": [
       "(array([  3,   7,  23,  27,  29,  32,  34,  39,  43,  55,  58,  62,  69,\n",
       "         78,  86,  97, 101, 112, 118, 119, 123, 124, 137, 139, 144, 159,\n",
       "        160, 163, 171, 173, 178, 189, 198], dtype=int64),)"
      ]
     },
     "execution_count": 36,
     "metadata": {},
     "output_type": "execute_result"
    }
   ],
   "source": [
    "np.where(CA1_E_list[1])"
   ]
  },
  {
   "cell_type": "code",
   "execution_count": 37,
   "id": "46e490ce",
   "metadata": {
    "ExecuteTime": {
     "end_time": "2024-10-31T05:21:29.826725Z",
     "start_time": "2024-10-31T05:21:29.809802Z"
    }
   },
   "outputs": [
    {
     "ename": "NameError",
     "evalue": "name 'CA1_A' is not defined",
     "output_type": "error",
     "traceback": [
      "\u001b[1;31m---------------------------------------------------------------------------\u001b[0m",
      "\u001b[1;31mNameError\u001b[0m                                 Traceback (most recent call last)",
      "\u001b[1;32m~\\AppData\\Local\\Temp\\ipykernel_5836\\1067827936.py\u001b[0m in \u001b[0;36m<module>\u001b[1;34m\u001b[0m\n\u001b[1;32m----> 1\u001b[1;33m \u001b[0mCA1_A\u001b[0m\u001b[1;33m\u001b[0m\u001b[1;33m\u001b[0m\u001b[0m\n\u001b[0m",
      "\u001b[1;31mNameError\u001b[0m: name 'CA1_A' is not defined"
     ]
    }
   ],
   "source": [
    "CA1_A"
   ]
  },
  {
   "cell_type": "code",
   "execution_count": 38,
   "id": "b9eb38c4",
   "metadata": {
    "ExecuteTime": {
     "end_time": "2024-10-31T05:21:30.236987Z",
     "start_time": "2024-10-31T05:21:30.210031Z"
    }
   },
   "outputs": [],
   "source": [
    "Pair_CA1_fin = np.zeros(len(set(Pair_idx)))\n",
    "for i, comp in enumerate(set(Pair_idx)):\n",
    "    A_R = Winner_list[0,comp]\n",
    "    B_R = Winner_list[1,comp]\n",
    "    CA1_A = 1-cal_overlap(set(range(200)), set(np.where(CA1_E_list[0])[0]), set(np.where(CA1_E_list[0])[0]))\n",
    "    CA1_B = 1-cal_overlap(set(range(200)), set(np.where(CA1_E_list[0])[0]), set(np.where(CA1_E_list[1])[0]))\n",
    "    Pair_CA1_fin[i] = (A_R*CA1_A+B_R*CA1_B)/(A_R+B_R)"
   ]
  },
  {
   "cell_type": "code",
   "execution_count": 39,
   "id": "5c469166",
   "metadata": {
    "ExecuteTime": {
     "end_time": "2024-10-31T05:21:32.201041Z",
     "start_time": "2024-10-31T05:21:31.218822Z"
    }
   },
   "outputs": [
    {
     "data": {
      "image/png": "[encoded data removed]",
      "text/plain": [
       "<Figure size 1000x500 with 1 Axes>"
      ]
     },
     "metadata": {},
     "output_type": "display_data"
    }
   ],
   "source": [
    "x = np.linspace(0,1,100)\n",
    "fig = plt.subplot(111)\n",
    "plt.scatter(Pair_IN_fin, Pair_CA3_fin, color='cornflowerblue', label='CA3')\n",
    "plt.scatter(Pair_IN_fin, Pair_CA1_fin, color='salmon', marker=',', label='CA1')\n",
    "\n",
    "#plt.errorbar(DeltaI_block, DeltaO_block, yerr=DeltaO_block_std, fmt=\"o\")\n",
    "#plt.plot(x,x, color='black')\n",
    "plt.axis(\"square\")\n",
    "plt.xlim([0,1.02])\n",
    "plt.ylim([-0.02,1.02])\n",
    "plt.legend(loc='upper left', framealpha=0.3)\n",
    "plt.xlabel('$\\Delta$ (A-Cue)')\n",
    "plt.ylabel('Average of $\\Delta$ Output')\n",
    "\n",
    "fig.spines['top'].set_visible(False)\n",
    "fig.spines['right'].set_visible(False)\n",
    "plt.title('Neural represenatation during retrieval')\n",
    "plt.savefig('Cog-Tradeoff.pdf', bbox_inches='tight')\n",
    "plt.savefig('Cog-Tradeoff.tiff', bbox_inches='tight', dpi=300)\n",
    "plt.show()"
   ]
  },
  {
   "cell_type": "code",
   "execution_count": null,
   "id": "f88af529",
   "metadata": {
    "ExecuteTime": {
     "end_time": "2024-10-31T05:19:39.116636Z",
     "start_time": "2024-10-31T05:19:39.116636Z"
    }
   },
   "outputs": [],
   "source": [
    "TEM3 = []\n",
    "TEM1 = []\n",
    "for i, comp in enumerate(Simlist_CA3):\n",
    "    if Simlist_idx[i] == 60:\n",
    "        te3 = 1-cal_overlap(set(range(2400)), set(Af_py[NN]), set(comp))\n",
    "        TEM3.append(te3)\n",
    "        if te3 < 0.3:\n",
    "            te1 = 1-cal_overlap(set(range(200)), set(np.where(CA1_E_T[0])[0]), set(np.where(CA1_E_T[0])[0]))\n",
    "        else:\n",
    "            te1 = 1-cal_overlap(set(range(200)), set(np.where(CA1_E_T[0])[0]), set(np.where(CA1_E_list[Simlist_idx[i]])[0]))\n",
    "        TEM1.append(te1)\n",
    "        print(comp, np.round(te3, 3), np.round(te1, 3))"
   ]
  },
  {
   "cell_type": "code",
   "execution_count": null,
   "id": "62c3e618",
   "metadata": {
    "ExecuteTime": {
     "end_time": "2024-10-31T05:19:39.118631Z",
     "start_time": "2024-10-31T05:19:39.118631Z"
    }
   },
   "outputs": [],
   "source": [
    "a"
   ]
  },
  {
   "cell_type": "code",
   "execution_count": null,
   "id": "ae44f84d",
   "metadata": {
    "ExecuteTime": {
     "end_time": "2024-10-31T05:19:39.120626Z",
     "start_time": "2024-10-31T05:19:39.120626Z"
    }
   },
   "outputs": [],
   "source": [
    "DeltaIN = []\n",
    "#DeltaDG = []\n",
    "DeltaCA3 = []\n",
    "DeltaCA1 = []\n",
    "Classfy_num = 40\n",
    "for n in range(Classfy_num+1):\n",
    "    DeltaIN.append([])\n",
    "    #DeltaDG.append([])\n",
    "    DeltaCA3.append([])\n",
    "    DeltaCA1.append([])\n",
    "    \n",
    "for i, comp in enumerate(Pair_IN_fin):\n",
    "    if comp == 0:\n",
    "        DeltaIN[0].append(comp)\n",
    "        #DeltaDG[0].append(Pair_DG_fin[i])\n",
    "        DeltaCA3[0].append(Pair_CA3_fin[i])\n",
    "        DeltaCA1[0].append(Pair_CA1_fin[i])\n",
    "    for n in range(Classfy_num):    \n",
    "        if (1/Classfy_num)*n < comp <= (1/Classfy_num)*n+(1/Classfy_num):\n",
    "            DeltaIN[n+1].append(comp)\n",
    "            #DeltaDG[n+1].append(Pair_DG_fin[i])\n",
    "            DeltaCA3[n+1].append(Pair_CA3_fin[i])\n",
    "            DeltaCA1[n+1].append(Pair_CA1_fin[i])\n",
    "\n",
    "DeltaIN_final = np.zeros(len(DeltaIN))\n",
    "#DeltaDG_final = np.zeros(len(DeltaDG))\n",
    "DeltaCA3_final = np.zeros(len(DeltaCA3))\n",
    "DeltaCA1_final = np.zeros(len(DeltaCA1))\n",
    "for n in range(len(DeltaIN)):\n",
    "    DeltaIN_final[n] = np.mean(DeltaIN[n])\n",
    "    #DeltaDG_final[n] = np.mean(DeltaDG[n])\n",
    "    DeltaCA3_final[n] = np.mean(DeltaCA3[n])\n",
    "    DeltaCA1_final[n] = np.mean(DeltaCA1[n])"
   ]
  },
  {
   "cell_type": "code",
   "execution_count": null,
   "id": "0623e6f8",
   "metadata": {
    "ExecuteTime": {
     "end_time": "2024-10-31T05:19:39.126610Z",
     "start_time": "2024-10-31T05:19:39.126610Z"
    }
   },
   "outputs": [],
   "source": [
    "x = np.linspace(0,1,100)\n",
    "fig = plt.subplot(111)\n",
    "plt.scatter(DeltaIN_final, DeltaCA3_final, color='cornflowerblue', label='CA3')\n",
    "plt.scatter(DeltaIN_final, DeltaCA1_final, color='salmon', marker=',', label='CA1')\n",
    "#plt.errorbar(DeltaI_block, DeltaO_block, yerr=DeltaO_block_std, fmt=\"o\")\n",
    "#plt.plot(x,x, color='black')\n",
    "\n",
    "plt.axis(\"square\")\n",
    "plt.xlim([0,1.02])\n",
    "plt.ylim([-0.02,1.02])\n",
    "plt.legend(loc='upper left')\n",
    "plt.xlabel('$\\Delta$ (A-Cue)')\n",
    "plt.ylabel('Average of $\\Delta$ Output')\n",
    "\n",
    "fig.spines['top'].set_visible(False)\n",
    "fig.spines['right'].set_visible(False)\n",
    "plt.title('Neural represenatation during retrieval')\n",
    "plt.savefig('Cog-Tradeoff.pdf', bbox_inches='tight')\n",
    "plt.show()"
   ]
  },
  {
   "cell_type": "code",
   "execution_count": null,
   "id": "92caf30d",
   "metadata": {
    "ExecuteTime": {
     "end_time": "2024-10-31T05:19:39.128612Z",
     "start_time": "2024-10-31T05:19:39.128612Z"
    }
   },
   "outputs": [],
   "source": [
    "a"
   ]
  },
  {
   "cell_type": "code",
   "execution_count": null,
   "id": "1b64ca77",
   "metadata": {
    "ExecuteTime": {
     "end_time": "2024-10-31T05:19:39.132594Z",
     "start_time": "2024-10-31T05:19:39.131597Z"
    }
   },
   "outputs": [],
   "source": [
    "A = set(np.where(Filt_idata[:,144])[0])\n",
    "B = set(np.where(Filt_idata[:,327])[0])\n",
    "# 여기는 Filt_idata에 대한 idx값들 200개\n",
    "with open(path+'//module//Cue_Tradeoff_vf0.pkl', 'rb') as file:\n",
    "    Cue_DataL = pickle.load(file)\n",
    "# 여기는 Filt_idata에 대한 idx값들 200개\n",
    "with open(path+'//module//Cue_Tradeoff_vf1.pkl', 'rb') as file:\n",
    "    Cue_DataN = pickle.load(file)\n",
    "    "
   ]
  },
  {
   "cell_type": "code",
   "execution_count": null,
   "id": "5cd3f515",
   "metadata": {
    "ExecuteTime": {
     "end_time": "2024-10-31T05:19:39.133591Z",
     "start_time": "2024-10-31T05:19:39.133591Z"
    }
   },
   "outputs": [],
   "source": [
    "for n in range(100):\n",
    "    withA = cal_overlap(set(range(16)), A, set(np.where(Cue_DataN[:,n])[0]))\n",
    "    withB = cal_overlap(set(range(16)), B, set(np.where(Cue_DataN[:,n])[0]))\n",
    "    print(withA, withB)"
   ]
  },
  {
   "cell_type": "code",
   "execution_count": null,
   "id": "ff775c1a",
   "metadata": {
    "ExecuteTime": {
     "end_time": "2024-10-31T05:19:39.136583Z",
     "start_time": "2024-10-31T05:19:39.136583Z"
    }
   },
   "outputs": [],
   "source": [
    "np.shape(Cue_DataL)"
   ]
  },
  {
   "cell_type": "code",
   "execution_count": null,
   "id": "554b3790",
   "metadata": {
    "ExecuteTime": {
     "end_time": "2024-10-31T05:19:39.141572Z",
     "start_time": "2024-10-31T05:19:39.140573Z"
    }
   },
   "outputs": [],
   "source": [
    "np.shape(Cue_DataN)"
   ]
  },
  {
   "cell_type": "code",
   "execution_count": null,
   "id": "38db1567",
   "metadata": {
    "ExecuteTime": {
     "end_time": "2024-10-31T05:19:39.143564Z",
     "start_time": "2024-10-31T05:19:39.143564Z"
    }
   },
   "outputs": [],
   "source": [
    "a"
   ]
  },
  {
   "cell_type": "code",
   "execution_count": null,
   "id": "6942640b",
   "metadata": {
    "ExecuteTime": {
     "end_time": "2024-10-31T05:19:39.145560Z",
     "start_time": "2024-10-31T05:19:39.145560Z"
    }
   },
   "outputs": [],
   "source": [
    "a"
   ]
  },
  {
   "cell_type": "code",
   "execution_count": null,
   "id": "ff753121",
   "metadata": {
    "ExecuteTime": {
     "end_time": "2024-10-31T05:19:39.149550Z",
     "start_time": "2024-10-31T05:19:39.149550Z"
    }
   },
   "outputs": [],
   "source": [
    "from scipy.optimize import curve_fit"
   ]
  },
  {
   "cell_type": "code",
   "execution_count": null,
   "id": "a386d647",
   "metadata": {
    "ExecuteTime": {
     "end_time": "2024-10-31T05:19:39.151543Z",
     "start_time": "2024-10-31T05:19:39.151543Z"
    }
   },
   "outputs": [],
   "source": [
    "# Define the logistic function\n",
    "def logistic_function(x, L, x0, k, b):\n",
    "    return L / (1 + np.exp(-k * (x - x0))) + b\n",
    "\n",
    "# Example data (replace this with your actual data)\n",
    "x_data = np.array(Pair_IN_fin)\n",
    "y_data = np.array(Pair_CA3_fin)\n",
    "\n",
    "# Initial guess for the parameters L, x0, k, b\n",
    "initial_guess = [1, 0.5, 1, 0]\n",
    "\n",
    "# Fit the logistic function to the data\n",
    "popt, pcov = curve_fit(logistic_function, x_data, y_data, p0=initial_guess)\n",
    "\n",
    "# Get the parameters from the fit\n",
    "L, x0, k, b = popt\n",
    "\n",
    "# Generate x values for the fit line\n",
    "x_fit = np.linspace(min(x_data), max(x_data), 1000)\n",
    "y_fit = logistic_function(x_fit, L, x0, k, b)\n",
    "\n",
    "# Plot the original data and the fit\n",
    "plt.scatter(x_data, y_data, label='Data', color='red')\n",
    "plt.plot(x_fit, y_fit, label='Logistic Fit', color='blue')\n",
    "plt.plot(x,x, color='black')\n",
    "plt.xlabel('∆ Input')\n",
    "plt.ylabel('∆ Output')\n",
    "plt.legend()\n",
    "plt.show()\n",
    "\n",
    "# Print the parameters\n",
    "print(f\"L = {L}, x0 = {x0}, k = {k}, b = {b}\")"
   ]
  },
  {
   "cell_type": "code",
   "execution_count": null,
   "id": "8b472c9d",
   "metadata": {
    "ExecuteTime": {
     "end_time": "2024-10-31T05:19:39.154537Z",
     "start_time": "2024-10-31T05:19:39.154537Z"
    }
   },
   "outputs": [],
   "source": [
    "16*15*14*13*12*11/(8*7*6*5*4*3*2)"
   ]
  },
  {
   "cell_type": "code",
   "execution_count": null,
   "id": "01a06a79",
   "metadata": {
    "ExecuteTime": {
     "end_time": "2024-10-31T05:19:39.159522Z",
     "start_time": "2024-10-31T05:19:39.159522Z"
    }
   },
   "outputs": [],
   "source": [
    "DeltaIN = []\n",
    "DeltaDG = []\n",
    "DeltaCA3 = []\n",
    "Classfy_num = 30\n",
    "for n in range(Classfy_num):\n",
    "    DeltaIN.append([])\n",
    "    DeltaDG.append([])\n",
    "    DeltaCA3.append([])\n",
    "    \n",
    "for i, comp in enumerate(Pair_IN_fin):\n",
    "    for n in range(Classfy_num):    \n",
    "        if (1/Classfy_num)*n < comp <= (1/Classfy_num)*n+(1/Classfy_num):\n",
    "            DeltaIN[n].append(comp)\n",
    "            DeltaDG[n].append(Pair_DG_fin[i])\n",
    "            DeltaCA3[n].append(Pair_CA3_fin[i])\n",
    "            \n",
    "DeltaIN_fin = np.zeros(Classfy_num)\n",
    "DeltaDG_fin = np.zeros(Classfy_num)\n",
    "DeltaCA3_fin = np.zeros(Classfy_num)\n",
    "for n in range(Classfy_num):\n",
    "    DeltaIN_fin[n] = np.mean(DeltaIN[n])\n",
    "    DeltaDG_fin[n] = np.mean(DeltaDG[n])\n",
    "    DeltaCA3_fin[n] = np.mean(DeltaCA3[n])"
   ]
  },
  {
   "cell_type": "code",
   "execution_count": null,
   "id": "9580d72b",
   "metadata": {
    "ExecuteTime": {
     "end_time": "2024-10-31T05:19:39.161517Z",
     "start_time": "2024-10-31T05:19:39.161517Z"
    }
   },
   "outputs": [],
   "source": [
    "x = np.linspace(0,1,100)\n",
    "fig = plt.subplot(111)\n",
    "plt.scatter(DeltaIN_fin, DeltaCA3_fin, color='salmon', label='CA3')\n",
    "#plt.scatter(DeltaIN, DeltaCA1, color='black', label='CA1')\n",
    "\n",
    "#plt.errorbar(DeltaI_block, DeltaO_block, yerr=DeltaO_block_std, fmt=\"o\")\n",
    "plt.plot(x,x, color='black')\n",
    "#plt.xlim([0,1])\n",
    "#plt.ylim([0,1.2])\n",
    "plt.xlabel('$\\Delta$ Input')\n",
    "plt.ylabel('$\\Delta$ Output')\n",
    "plt.axis(\"square\")\n",
    "plt.legend(loc='lower left', bbox_to_anchor=(1.0,0.5))\n",
    "fig.spines['top'].set_visible(False)\n",
    "fig.spines['right'].set_visible(False)\n",
    "#plt.savefig('Discrimination degreeF-relv2-30.png', bbox_inches='tight')\n",
    "plt.show()"
   ]
  },
  {
   "cell_type": "code",
   "execution_count": null,
   "id": "c74d585d",
   "metadata": {
    "ExecuteTime": {
     "end_time": "2024-10-31T05:19:39.164509Z",
     "start_time": "2024-10-31T05:19:39.164509Z"
    }
   },
   "outputs": [],
   "source": [
    "Overlap_I = []\n",
    "Overlap_DG = []\n",
    "Overlap_CA3 = []\n",
    "Overlap_CA1 = []\n",
    "Classfy_num = 96\n",
    "for n in range(Classfy_num+1):\n",
    "    Overlap_I.append([])\n",
    "    Overlap_DG.append([])\n",
    "    Overlap_CA3.append([])\n",
    "    Overlap_CA1.append([])\n",
    "    \n",
    "for i, comp in enumerate(Pair_IN_fin):\n",
    "    if comp == 0:\n",
    "        Overlap_I[0].append(1-comp)\n",
    "        Overlap_DG[0].append(1-Pair_DG_fin[i])\n",
    "        Overlap_CA3[0].append(1-Pair_CA3_fin[i])\n",
    "        Overlap_CA1[0].append(1-Pair_CA1_fin[i])\n",
    "    for n in range(Classfy_num):    \n",
    "        if (1/Classfy_num)*n < comp <= (1/Classfy_num)*n+(1/Classfy_num):\n",
    "            Overlap_I[n+1].append(1-comp)\n",
    "            Overlap_DG[n+1].append(1-Pair_DG_fin[i])\n",
    "            Overlap_CA3[n+1].append(1-Pair_CA3_fin[i])\n",
    "            Overlap_CA1[n+1].append(1-Pair_CA1_fin[i])\n",
    "            \n",
    "DeltaIN = []\n",
    "DeltaDG = []\n",
    "DeltaCA3 = []\n",
    "DeltaCA1 = []\n",
    "for i, comp in enumerate(Overlap_I):\n",
    "    DeltaIN.append(1-np.mean(comp))\n",
    "    DeltaDG.append(1-np.mean(Overlap_DG[i]))\n",
    "    DeltaCA3.append(1-np.mean(Overlap_CA3[i]))\n",
    "    DeltaCA1.append(1-np.mean(Overlap_CA1[i]))"
   ]
  },
  {
   "cell_type": "code",
   "execution_count": null,
   "id": "d8b207d6",
   "metadata": {
    "ExecuteTime": {
     "end_time": "2024-10-31T05:19:39.166504Z",
     "start_time": "2024-10-31T05:19:39.166504Z"
    }
   },
   "outputs": [],
   "source": [
    "x = np.linspace(0,1,100)\n",
    "fig = plt.subplot(111)\n",
    "#plt.scatter(DeltaIN, DeltaDG, color='cornflowerblue', label='DG')\n",
    "plt.scatter(DeltaIN, DeltaCA3, color='salmon', label='CA3')\n",
    "#plt.scatter(DeltaIN, DeltaCA1, color='black', label='CA1')\n",
    "\n",
    "#plt.errorbar(DeltaI_block, DeltaO_block, yerr=DeltaO_block_std, fmt=\"o\")\n",
    "plt.plot(x,x, color='black')\n",
    "#plt.xlim([0,1])\n",
    "#plt.ylim([0,1.2])\n",
    "plt.xlabel('$\\Delta$ Input')\n",
    "plt.ylabel('$\\Delta$ Output')\n",
    "plt.axis(\"square\")\n",
    "plt.legend(loc='lower left', bbox_to_anchor=(1.0,0.5))\n",
    "fig.spines['top'].set_visible(False)\n",
    "fig.spines['right'].set_visible(False)\n",
    "plt.savefig('Discrimination degreeF-relv2-30.png', bbox_inches='tight')\n",
    "plt.show()"
   ]
  },
  {
   "cell_type": "code",
   "execution_count": null,
   "id": "2b11f333",
   "metadata": {
    "ExecuteTime": {
     "end_time": "2024-10-31T05:19:39.167502Z",
     "start_time": "2024-10-31T05:19:39.167502Z"
    }
   },
   "outputs": [],
   "source": [
    "DeltaIN"
   ]
  },
  {
   "cell_type": "code",
   "execution_count": null,
   "id": "74ed7b54",
   "metadata": {},
   "outputs": [],
   "source": []
  },
  {
   "cell_type": "code",
   "execution_count": null,
   "id": "06543c4f",
   "metadata": {},
   "outputs": [],
   "source": []
  },
  {
   "cell_type": "code",
   "execution_count": null,
   "id": "c53f6513",
   "metadata": {},
   "outputs": [],
   "source": []
  },
  {
   "cell_type": "code",
   "execution_count": null,
   "id": "a9e52422",
   "metadata": {},
   "outputs": [],
   "source": []
  }
 ],
 "metadata": {
  "kernelspec": {
   "display_name": "Python 3 (ipykernel)",
   "language": "python",
   "name": "python3"
  },
  "language_info": {
   "codemirror_mode": {
    "name": "ipython",
    "version": 3
   },
   "file_extension": ".py",
   "mimetype": "text/x-python",
   "name": "python",
   "nbconvert_exporter": "python",
   "pygments_lexer": "ipython3",
   "version": "3.8.5"
  },
  "toc": {
   "base_numbering": 1,
   "nav_menu": {},
   "number_sections": true,
   "sideBar": true,
   "skip_h1_title": false,
   "title_cell": "Table of Contents",
   "title_sidebar": "Contents",
   "toc_cell": false,
   "toc_position": {},
   "toc_section_display": true,
   "toc_window_display": false
  },
  "varInspector": {
   "cols": {
    "lenName": 16,
    "lenType": 16,
    "lenVar": 40
   },
   "kernels_config": {
    "python": {
     "delete_cmd_postfix": "",
     "delete_cmd_prefix": "del ",
     "library": "var_list.py",
     "varRefreshCmd": "print(var_dic_list())"
    },
    "r": {
     "delete_cmd_postfix": ") ",
     "delete_cmd_prefix": "rm(",
     "library": "var_list.r",
     "varRefreshCmd": "cat(var_dic_list()) "
    }
   },
   "types_to_exclude": [
    "module",
    "function",
    "builtin_function_or_method",
    "instance",
    "_Feature"
   ],
   "window_display": false
  }
 },
 "nbformat": 4,
 "nbformat_minor": 5
}
