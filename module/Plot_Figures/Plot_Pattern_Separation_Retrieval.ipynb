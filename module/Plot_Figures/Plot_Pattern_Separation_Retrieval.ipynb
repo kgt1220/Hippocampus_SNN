{
 "cells": [
  {
   "cell_type": "code",
   "execution_count": 1,
   "id": "cbb2e6dc",
   "metadata": {
    "ExecuteTime": {
     "end_time": "2024-10-31T05:24:12.189873Z",
     "start_time": "2024-10-31T05:24:09.554480Z"
    }
   },
   "outputs": [],
   "source": [
    "import numpy as np\n",
    "import random\n",
    "import matplotlib.pyplot as plt\n",
    "import matplotlib.cm as cm \n",
    "import seaborn as sns\n",
    "import pandas as pd\n",
    "from scipy import signal\n",
    "from importlib import reload\n",
    "\n",
    "import winsound as sd\n",
    "import pickle\n",
    "import sys\n",
    "import os"
   ]
  },
  {
   "cell_type": "code",
   "execution_count": 2,
   "id": "0f91fb0d",
   "metadata": {
    "ExecuteTime": {
     "end_time": "2024-10-31T05:24:12.648792Z",
     "start_time": "2024-10-31T05:24:12.198855Z"
    },
    "code_folding": []
   },
   "outputs": [],
   "source": [
    "# load\n",
    "cd = os.getcwd()\n",
    "path = os.path.dirname(cd)\n",
    "    \n",
    "with open(path+'//Data_final.pkl', 'rb') as file:\n",
    "    Filt_idata = pickle.load(file)\n",
    "    Filt_gdata = pickle.load(file)\n",
    "    Filt_glen = pickle.load(file)\n",
    "    F_DataLen = pickle.load(file)\n",
    "    \n",
    "    Af_py = pickle.load(file)\n",
    "    Af_in = pickle.load(file)\n",
    "    \n",
    "    In_py_list = pickle.load(file)\n",
    "    In_in_list = pickle.load(file)"
   ]
  },
  {
   "cell_type": "code",
   "execution_count": 3,
   "id": "d8923924",
   "metadata": {
    "ExecuteTime": {
     "end_time": "2024-10-31T05:24:12.664768Z",
     "start_time": "2024-10-31T05:24:12.651833Z"
    }
   },
   "outputs": [],
   "source": [
    "with open(path+'//module//Weights_Sim//Learned weights-sim_encoding.pkl', 'rb') as file:\n",
    "    DG_E_list = pickle.load(file)\n",
    "    CA3_E_list = pickle.load(file)\n",
    "    CA1_E_list = pickle.load(file)"
   ]
  },
  {
   "cell_type": "code",
   "execution_count": 4,
   "id": "90f5c676",
   "metadata": {
    "ExecuteTime": {
     "end_time": "2024-10-31T05:24:12.679833Z",
     "start_time": "2024-10-31T05:24:12.669754Z"
    }
   },
   "outputs": [],
   "source": [
    "with open(path+'//module//Weights_Sim//Learned weights-sim_144.pkl', 'rb') as file:\n",
    "    DG_E_T = pickle.load(file)\n",
    "    CA3_E_T = pickle.load(file)\n",
    "    CA1_E_T = pickle.load(file)"
   ]
  },
  {
   "cell_type": "code",
   "execution_count": 5,
   "id": "fe69f53e",
   "metadata": {
    "ExecuteTime": {
     "end_time": "2024-10-31T05:24:12.695514Z",
     "start_time": "2024-10-31T05:24:12.683827Z"
    }
   },
   "outputs": [],
   "source": [
    "targetCA1 = [ 12,  14,  15,  21,  22,  31,  35,  37,  40,  56,  59,  74,  77,\n",
    "         87,  88,  93,  94,  96, 104, 109, 111, 113, 116, 122, 135, 136,\n",
    "        141, 150, 157, 164, 166, 182, 186, 192, 193, 196]"
   ]
  },
  {
   "cell_type": "code",
   "execution_count": 6,
   "id": "5184c5f4",
   "metadata": {
    "ExecuteTime": {
     "end_time": "2024-10-31T05:24:12.710509Z",
     "start_time": "2024-10-31T05:24:12.697511Z"
    }
   },
   "outputs": [],
   "source": [
    "temp = np.zeros(200)\n",
    "temp[targetCA1] = 1\n",
    "CA1_E_T = [temp]"
   ]
  },
  {
   "cell_type": "code",
   "execution_count": 7,
   "id": "1b62ba73",
   "metadata": {
    "ExecuteTime": {
     "end_time": "2024-10-31T05:24:12.725437Z",
     "start_time": "2024-10-31T05:24:12.712472Z"
    }
   },
   "outputs": [],
   "source": [
    "#             pickle.dump(network.q_ppCA3, file)\n",
    "#             pickle.dump(network.q_Rc, file)\n",
    "#             pickle.dump(network.q_CA33i, file)\n",
    "#             pickle.dump(network.q_Sc, file)"
   ]
  },
  {
   "cell_type": "code",
   "execution_count": 8,
   "id": "1f5aeeb9",
   "metadata": {
    "ExecuteTime": {
     "end_time": "2024-10-31T05:24:12.867091Z",
     "start_time": "2024-10-31T05:24:12.736408Z"
    }
   },
   "outputs": [],
   "source": [
    "# 전반적인 cue 200개에 대한 결과\n",
    "path_results = '//module//Results_sim'\n",
    "\n",
    "for n in range(105):\n",
    "    with open(path+path_results+'//Results-sim%d.pkl' %(n), 'rb') as file:\n",
    "        globals()[\"Success{}\".format(n)] = pickle.load(file)\n",
    "        globals()[\"Fail{}\".format(n)] = pickle.load(file)\n",
    "        globals()[\"If_fail{}\".format(n)] = pickle.load(file)\n",
    "        \n",
    "        globals()[\"CA3_R_list{}\".format(n)] = pickle.load(file)\n",
    "        globals()[\"CA1_R_list{}\".format(n)] = pickle.load(file)"
   ]
  },
  {
   "cell_type": "code",
   "execution_count": 9,
   "id": "3a6a910e",
   "metadata": {
    "ExecuteTime": {
     "end_time": "2024-10-31T05:24:12.882554Z",
     "start_time": "2024-10-31T05:24:12.870051Z"
    }
   },
   "outputs": [],
   "source": [
    "with open(path+'//module//Cue_Sim_v2.pkl', 'rb') as file:\n",
    "    Cue_Data = pickle.load(file)"
   ]
  },
  {
   "cell_type": "code",
   "execution_count": 10,
   "id": "03d8bf5b",
   "metadata": {
    "ExecuteTime": {
     "end_time": "2024-10-31T05:24:12.898545Z",
     "start_time": "2024-10-31T05:24:12.889538Z"
    },
    "code_folding": []
   },
   "outputs": [],
   "source": [
    "def cal_overlap(total,A,B):\n",
    "    if (len(A)+len(B)) !=0:\n",
    "        output = len(A.intersection(B))*2 / (len(A)+len(B))\n",
    "    else:\n",
    "        output = 0\n",
    "    return output"
   ]
  },
  {
   "cell_type": "code",
   "execution_count": 11,
   "id": "d2e65877",
   "metadata": {
    "ExecuteTime": {
     "end_time": "2024-10-31T05:24:12.914502Z",
     "start_time": "2024-10-31T05:24:12.902502Z"
    },
    "code_folding": [
     0
    ]
   },
   "outputs": [],
   "source": [
    "def cal_relative_overlap_CA1(total, B, T):\n",
    "    temp_list = []\n",
    "    for i, comp in enumerate(Target_fin):\n",
    "        temp2 = set(np.where(Filt_idata[:,comp]!=0)[0])\n",
    "        temp_list.append(cal_overlap(total,temp2,B))\n",
    "    if np.max(temp_list) !=0:\n",
    "        temp_list = temp_list/np.max(temp_list)\n",
    "        return temp_list[T]   \n",
    "    else:\n",
    "        return 0"
   ]
  },
  {
   "cell_type": "code",
   "execution_count": 12,
   "id": "55d53602",
   "metadata": {
    "ExecuteTime": {
     "end_time": "2024-10-31T05:24:12.946385Z",
     "start_time": "2024-10-31T05:24:12.919457Z"
    }
   },
   "outputs": [
    {
     "data": {
      "text/plain": [
       "(105, 2400)"
      ]
     },
     "execution_count": 12,
     "metadata": {},
     "output_type": "execute_result"
    }
   ],
   "source": [
    "np.shape(CA3_E_list)"
   ]
  },
  {
   "cell_type": "code",
   "execution_count": 13,
   "id": "bb60e523",
   "metadata": {
    "ExecuteTime": {
     "end_time": "2024-10-31T05:24:12.962341Z",
     "start_time": "2024-10-31T05:24:12.950375Z"
    },
    "code_folding": []
   },
   "outputs": [],
   "source": [
    "def cal_relative_overlap_CA3(total, B, N, T):\n",
    "    temp_list = []\n",
    "    for n in range(2):\n",
    "        if n == 0:\n",
    "            temp2 = set(np.where(CA3_E_T[0])[0])\n",
    "        else:\n",
    "            temp2 = set(np.where(CA3_E_list[N])[0])\n",
    "        temp_list.append(cal_overlap(total, temp2, B))\n",
    "    if np.max(temp_list) !=0:\n",
    "        temp_list = temp_list/np.max(temp_list)\n",
    "        return temp_list[T]   \n",
    "    else:\n",
    "        return 0           "
   ]
  },
  {
   "cell_type": "code",
   "execution_count": 14,
   "id": "55f066b0",
   "metadata": {
    "ExecuteTime": {
     "end_time": "2024-10-31T05:24:12.978301Z",
     "start_time": "2024-10-31T05:24:12.966332Z"
    },
    "code_folding": []
   },
   "outputs": [],
   "source": [
    "def cal_relative_overlap_DG(total, B, T):\n",
    "    temp_list = []\n",
    "    for i, comp in enumerate(Target_fin):\n",
    "        temp2 = set(np.where(Filt_gdata[:,comp]!=0)[0])\n",
    "        temp_list.append(cal_overlap(total,temp2,B))\n",
    "    if np.max(temp_list) !=0:\n",
    "        temp_list = temp_list/np.max(temp_list)\n",
    "        return temp_list[T]   \n",
    "    else:\n",
    "        return 0        "
   ]
  },
  {
   "cell_type": "code",
   "execution_count": 15,
   "id": "6ae49d84",
   "metadata": {
    "ExecuteTime": {
     "end_time": "2024-10-31T05:24:13.010214Z",
     "start_time": "2024-10-31T05:24:12.983292Z"
    },
    "code_folding": []
   },
   "outputs": [],
   "source": [
    "def calculate_success(CA3_R_list, CA1_R_list, CA3, Data, CN, num_cue, repeat):\n",
    "    Trial = repeat\n",
    "    Trial_CA3 = np.zeros(Trial)\n",
    "    Trial_CA1 = np.zeros(Trial)\n",
    "    Inter_CA1 = np.zeros(Trial)\n",
    "    # CA3 firing rate\n",
    "    N = 3\n",
    "    # CA3 firing ratio\n",
    "    R = 0.3\n",
    "    Success = 0\n",
    "    S_list = []\n",
    "    Weird = 0\n",
    "    Interference = 0\n",
    "    Fail = 0\n",
    "    Classify_num = CN\n",
    "    Winner = np.zeros(Classify_num)\n",
    "\n",
    "    # 각 trial 에서 CA3의 firing rate N 보다 큰 애들 인덱스\n",
    "    # 각 엔그램이랑 겹치는 정도 R\n",
    "    for i, comp in enumerate(CA3_R_list):\n",
    "        temp = np.where(comp >= N)[0]\n",
    "        # firing neuron과 target engram과의 overlap 정도 비교\n",
    "        # 어느 하나로 수렴했으면 +1\n",
    "        # 여러 엔그램으로 수렴했으면 1< 일 것\n",
    "        for j, ca3 in enumerate(CA3):\n",
    "            if len(ca3)== 0:\n",
    "                Trial_CA3[i] += 0\n",
    "            else:\n",
    "                if len(set(temp).intersection(set(ca3)))/len(ca3) >= R:\n",
    "                    Trial_CA3[i] += 1\n",
    "\n",
    "    # 각 trial 에서 CA1의 firing rate 1보다 큰 애들 인덱스\n",
    "    # 특정 인풋이랑 완전히 일치해야만 성공\n",
    "    for i, comp in enumerate(CA1_R_list):\n",
    "        # 일단 발화했으면 다 체크\n",
    "        temp = np.where(comp >= 1)[0]\n",
    "        # 그리고 최종적으로 발화한 애들이 2보단 많이 발화해야함\n",
    "        temp2 = np.where(comp >= 2)[0]\n",
    "        for j, data in enumerate(Data):\n",
    "            # 일단 발화한 애들이 어떤 data로 수렴했고\n",
    "            if len(temp) == len(data) and len(set(temp).intersection(set(data))) == len(temp):\n",
    "                # 얘네가 충분히 rate가 크다면 +1\n",
    "                if len(temp) == len(temp2):\n",
    "                    Trial_CA1[i] += 1\n",
    "                    Winner[j] += 1\n",
    "            elif len(set(temp2)) !=0:\n",
    "                Inter_CA1[i] += 1\n",
    "        \n",
    "    for n in range(Trial):\n",
    "        if Trial_CA1[n] == 1:\n",
    "            Success += 1\n",
    "            S_list.append(1)\n",
    "        # CA3에서 여러 engram이 발화했지만 성공했을 때\n",
    "        #elif Trial_CA3[n] == 0 and Trial_CA1[n] == 1:\n",
    "        #    Weird += 1\n",
    "        #    S_list.append(0)\n",
    "        # CA3에서 여러 engram이 발화하면서 성공도 못했을 때\n",
    "        # 여러 engram이 발화했어도 CA1에 영향없으면 괜찮기 때문\n",
    "        elif Inter_CA1[n] != 0:\n",
    "            Interference += 1\n",
    "            S_list.append(0)\n",
    "        else:\n",
    "            Fail += 1\n",
    "            S_list.append(0)\n",
    "    print('Success : ', Success)\n",
    "    #print('Weird : ', Weird)\n",
    "    print('Interference : ', Interference)\n",
    "    print('Fail : ', Fail)\n",
    "    return Success, Winner, Trial_CA1, Trial_CA3"
   ]
  },
  {
   "cell_type": "code",
   "execution_count": 16,
   "id": "ec84a481",
   "metadata": {
    "ExecuteTime": {
     "end_time": "2024-10-31T05:24:13.026171Z",
     "start_time": "2024-10-31T05:24:13.014204Z"
    }
   },
   "outputs": [],
   "source": [
    "Target = Filt_idata[:,144]\n",
    "Target = np.append(Target, Cue_Data[:,0])\n",
    "Target = np.reshape(Target, (2,16)).T"
   ]
  },
  {
   "cell_type": "code",
   "execution_count": 17,
   "id": "927a989a",
   "metadata": {
    "ExecuteTime": {
     "end_time": "2024-10-31T05:24:13.168792Z",
     "start_time": "2024-10-31T05:24:13.031166Z"
    },
    "scrolled": true
   },
   "outputs": [
    {
     "name": "stdout",
     "output_type": "stream",
     "text": [
      "Success :  22\n",
      "Interference :  0\n",
      "Fail :  8\n",
      "Success :  28\n",
      "Interference :  0\n",
      "Fail :  2\n",
      "Success :  9\n",
      "Interference :  1\n",
      "Fail :  20\n",
      "Success :  27\n",
      "Interference :  0\n",
      "Fail :  3\n",
      "Success :  0\n",
      "Interference :  0\n",
      "Fail :  30\n",
      "Success :  25\n",
      "Interference :  0\n",
      "Fail :  5\n",
      "Success :  0\n",
      "Interference :  0\n",
      "Fail :  30\n",
      "Success :  19\n",
      "Interference :  0\n",
      "Fail :  11\n",
      "Success :  2\n",
      "Interference :  0\n",
      "Fail :  28\n",
      "Success :  19\n",
      "Interference :  0\n",
      "Fail :  11\n",
      "Success :  2\n",
      "Interference :  1\n",
      "Fail :  27\n",
      "Success :  29\n",
      "Interference :  0\n",
      "Fail :  1\n",
      "Success :  2\n",
      "Interference :  0\n",
      "Fail :  28\n",
      "Success :  27\n",
      "Interference :  0\n",
      "Fail :  3\n",
      "Success :  23\n",
      "Interference :  0\n",
      "Fail :  7\n",
      "Success :  19\n",
      "Interference :  4\n",
      "Fail :  7\n",
      "Success :  23\n",
      "Interference :  2\n",
      "Fail :  5\n",
      "Success :  28\n",
      "Interference :  2\n",
      "Fail :  0\n",
      "Success :  21\n",
      "Interference :  0\n",
      "Fail :  9\n",
      "Success :  14\n",
      "Interference :  0\n",
      "Fail :  16\n",
      "Success :  21\n",
      "Interference :  0\n",
      "Fail :  9\n",
      "Success :  22\n",
      "Interference :  2\n",
      "Fail :  6\n",
      "Success :  21\n",
      "Interference :  0\n",
      "Fail :  9\n",
      "Success :  20\n",
      "Interference :  0\n",
      "Fail :  10\n",
      "Success :  18\n",
      "Interference :  0\n",
      "Fail :  12\n",
      "Success :  21\n",
      "Interference :  0\n",
      "Fail :  9\n",
      "Success :  0\n",
      "Interference :  28\n",
      "Fail :  2\n",
      "Success :  15\n",
      "Interference :  1\n",
      "Fail :  14\n",
      "Success :  26\n",
      "Interference :  3\n",
      "Fail :  1\n",
      "Success :  14\n",
      "Interference :  0\n",
      "Fail :  16\n",
      "Success :  24\n",
      "Interference :  2\n",
      "Fail :  4\n",
      "Success :  23\n",
      "Interference :  5\n",
      "Fail :  2\n",
      "Success :  27\n",
      "Interference :  0\n",
      "Fail :  3\n",
      "Success :  0\n",
      "Interference :  28\n",
      "Fail :  2\n",
      "Success :  17\n",
      "Interference :  2\n",
      "Fail :  11\n",
      "Success :  23\n",
      "Interference :  0\n",
      "Fail :  7\n",
      "Success :  23\n",
      "Interference :  0\n",
      "Fail :  7\n",
      "Success :  20\n",
      "Interference :  0\n",
      "Fail :  10\n",
      "Success :  25\n",
      "Interference :  3\n",
      "Fail :  2\n",
      "Success :  0\n",
      "Interference :  30\n",
      "Fail :  0\n",
      "Success :  20\n",
      "Interference :  0\n",
      "Fail :  10\n",
      "Success :  0\n",
      "Interference :  30\n",
      "Fail :  0\n",
      "Success :  24\n",
      "Interference :  3\n",
      "Fail :  3\n",
      "Success :  19\n",
      "Interference :  0\n",
      "Fail :  11\n",
      "Success :  22\n",
      "Interference :  7\n",
      "Fail :  1\n",
      "Success :  20\n",
      "Interference :  9\n",
      "Fail :  1\n",
      "Success :  22\n",
      "Interference :  8\n",
      "Fail :  0\n",
      "Success :  16\n",
      "Interference :  14\n",
      "Fail :  0\n",
      "Success :  19\n",
      "Interference :  10\n",
      "Fail :  1\n",
      "Success :  22\n",
      "Interference :  4\n",
      "Fail :  4\n",
      "Success :  25\n",
      "Interference :  3\n",
      "Fail :  2\n",
      "Success :  27\n",
      "Interference :  0\n",
      "Fail :  3\n",
      "Success :  23\n",
      "Interference :  0\n",
      "Fail :  7\n",
      "Success :  19\n",
      "Interference :  0\n",
      "Fail :  11\n",
      "Success :  28\n",
      "Interference :  0\n",
      "Fail :  2\n",
      "Success :  24\n",
      "Interference :  1\n",
      "Fail :  5\n",
      "Success :  25\n",
      "Interference :  0\n",
      "Fail :  5\n",
      "Success :  0\n",
      "Interference :  23\n",
      "Fail :  7\n",
      "Success :  25\n",
      "Interference :  0\n",
      "Fail :  5\n",
      "Success :  25\n",
      "Interference :  0\n",
      "Fail :  5\n",
      "Success :  27\n",
      "Interference :  3\n",
      "Fail :  0\n",
      "Success :  27\n",
      "Interference :  0\n",
      "Fail :  3\n",
      "Success :  0\n",
      "Interference :  22\n",
      "Fail :  8\n",
      "Success :  27\n",
      "Interference :  0\n",
      "Fail :  3\n",
      "Success :  1\n",
      "Interference :  21\n",
      "Fail :  8\n",
      "Success :  27\n",
      "Interference :  3\n",
      "Fail :  0\n",
      "Success :  25\n",
      "Interference :  1\n",
      "Fail :  4\n",
      "Success :  22\n",
      "Interference :  0\n",
      "Fail :  8\n",
      "Success :  28\n",
      "Interference :  0\n",
      "Fail :  2\n",
      "Success :  15\n",
      "Interference :  8\n",
      "Fail :  7\n",
      "Success :  23\n",
      "Interference :  6\n",
      "Fail :  1\n",
      "Success :  26\n",
      "Interference :  0\n",
      "Fail :  4\n",
      "Success :  1\n",
      "Interference :  23\n",
      "Fail :  6\n",
      "Success :  0\n",
      "Interference :  29\n",
      "Fail :  1\n",
      "Success :  0\n",
      "Interference :  25\n",
      "Fail :  5\n",
      "Success :  0\n",
      "Interference :  28\n",
      "Fail :  2\n",
      "Success :  0\n",
      "Interference :  26\n",
      "Fail :  4\n",
      "Success :  0\n",
      "Interference :  26\n",
      "Fail :  4\n",
      "Success :  26\n",
      "Interference :  2\n",
      "Fail :  2\n",
      "Success :  0\n",
      "Interference :  25\n",
      "Fail :  5\n",
      "Success :  20\n",
      "Interference :  8\n",
      "Fail :  2\n",
      "Success :  0\n",
      "Interference :  25\n",
      "Fail :  5\n",
      "Success :  0\n",
      "Interference :  27\n",
      "Fail :  3\n",
      "Success :  0\n",
      "Interference :  27\n",
      "Fail :  3\n",
      "Success :  0\n",
      "Interference :  29\n",
      "Fail :  1\n",
      "Success :  0\n",
      "Interference :  28\n",
      "Fail :  2\n",
      "Success :  0\n",
      "Interference :  26\n",
      "Fail :  4\n",
      "Success :  28\n",
      "Interference :  0\n",
      "Fail :  2\n",
      "Success :  0\n",
      "Interference :  24\n",
      "Fail :  6\n",
      "Success :  24\n",
      "Interference :  5\n",
      "Fail :  1\n",
      "Success :  28\n",
      "Interference :  0\n",
      "Fail :  2\n",
      "Success :  28\n",
      "Interference :  0\n",
      "Fail :  2\n",
      "Success :  27\n",
      "Interference :  0\n",
      "Fail :  3\n",
      "Success :  27\n",
      "Interference :  0\n",
      "Fail :  3\n",
      "Success :  28\n",
      "Interference :  0\n",
      "Fail :  2\n",
      "Success :  24\n",
      "Interference :  3\n",
      "Fail :  3\n",
      "Success :  24\n",
      "Interference :  0\n",
      "Fail :  6\n",
      "Success :  27\n",
      "Interference :  0\n",
      "Fail :  3\n",
      "Success :  25\n",
      "Interference :  0\n",
      "Fail :  5\n",
      "Success :  0\n",
      "Interference :  0\n",
      "Fail :  30\n",
      "Success :  27\n",
      "Interference :  0\n",
      "Fail :  3\n",
      "Success :  29\n",
      "Interference :  0\n",
      "Fail :  1\n",
      "Success :  29\n",
      "Interference :  0\n",
      "Fail :  1\n",
      "Success :  30\n",
      "Interference :  0\n",
      "Fail :  0\n",
      "Success :  28\n",
      "Interference :  0\n",
      "Fail :  2\n"
     ]
    }
   ],
   "source": [
    "Num_cue = 105\n",
    "Repeat = 30\n",
    "Winner_list = np.zeros([2,Num_cue])\n",
    "Success_list = np.zeros(Num_cue)\n",
    "Trial_CA3_list = np.zeros([Repeat,Num_cue])\n",
    "Trial_CA1_list = np.zeros([Repeat,Num_cue])\n",
    "for n in range(Num_cue):\n",
    "    CN = 2\n",
    "    # target data neuron idx on comp task\n",
    "    Data_CP = [np.where(Filt_idata[:,144] !=0)[0]]\n",
    "    Data_CP.append(np.where(Cue_Data[:,n] !=0)[0])\n",
    "\n",
    "    # target CA3 engram idx on competition task\n",
    "    CA3_CP = [Af_py[144], list(np.where(CA3_E_list[n])[0])]\n",
    "    Num_cue_p = 1\n",
    "    Success_list[n], Winner_list[:,n], Trial_CA1_list[:,n], Trial_CA3_list[:,n] = calculate_success(globals()[\"CA3_R_list{}\".format(n)], globals()[\"CA1_R_list{}\".format(n)], CA3_CP, Data_CP, CN, Num_cue_p, Repeat)\n"
   ]
  },
  {
   "cell_type": "code",
   "execution_count": 18,
   "id": "4729e660",
   "metadata": {
    "ExecuteTime": {
     "end_time": "2024-10-31T05:24:13.184750Z",
     "start_time": "2024-10-31T05:24:13.170787Z"
    }
   },
   "outputs": [
    {
     "data": {
      "text/plain": [
       "array([0., 0., 0., 0., 0., 0., 0., 0., 0., 0., 0., 0., 0., 0., 0., 0., 0.,\n",
       "       0., 0., 0., 0., 0., 0., 0., 0., 0., 0., 0., 0., 0.])"
      ]
     },
     "execution_count": 18,
     "metadata": {},
     "output_type": "execute_result"
    }
   ],
   "source": [
    "Trial_CA1_list[:,77]"
   ]
  },
  {
   "cell_type": "code",
   "execution_count": 19,
   "id": "981dca68",
   "metadata": {
    "ExecuteTime": {
     "end_time": "2024-10-31T05:24:13.200707Z",
     "start_time": "2024-10-31T05:24:13.191737Z"
    }
   },
   "outputs": [],
   "source": [
    "Target_fin = [144]\n",
    "T_idx = 0\n",
    "NN = Target_fin[T_idx]"
   ]
  },
  {
   "cell_type": "code",
   "execution_count": 20,
   "id": "2078edba",
   "metadata": {
    "ExecuteTime": {
     "end_time": "2024-10-31T05:24:13.231624Z",
     "start_time": "2024-10-31T05:24:13.205694Z"
    }
   },
   "outputs": [
    {
     "data": {
      "text/plain": [
       "(30, 105)"
      ]
     },
     "execution_count": 20,
     "metadata": {},
     "output_type": "execute_result"
    }
   ],
   "source": [
    "np.shape(Trial_CA1_list)"
   ]
  },
  {
   "cell_type": "code",
   "execution_count": 21,
   "id": "4b099bfa",
   "metadata": {
    "ExecuteTime": {
     "end_time": "2024-10-31T05:24:13.341331Z",
     "start_time": "2024-10-31T05:24:13.234625Z"
    }
   },
   "outputs": [],
   "source": [
    "Simlist_IN = []\n",
    "Simlist_DG = []\n",
    "Simlist_CA3 = []\n",
    "Simlist_CA1 = []\n",
    "Simlist_CA1_E = []\n",
    "Simlist_idx = []\n",
    "# 각 cue에 대해 발화한 각 영역의 엔그램 idx\n",
    "for n in range(Num_cue*Repeat):\n",
    "    temp = n // Repeat\n",
    "    temp2 = n % Repeat\n",
    "    #if Trial_CA1_list[temp2,temp] == 1:\n",
    "    Simlist_IN.append(np.where(Cue_Data[:,temp] !=0)[0])\n",
    "    Simlist_DG.append(np.where(DG_E_list[temp] >= 2)[0])\n",
    "    Simlist_CA1_E.append(np.where(CA1_E_list[temp] >= 1)[0])\n",
    "    \n",
    "    Simlist_CA3.append(np.where(globals()[\"CA3_R_list{}\".format(temp)][temp2] >= 3)[0])\n",
    "    Simlist_CA1.append(np.where(globals()[\"CA1_R_list{}\".format(temp)][temp2] >= 1)[0])\n",
    "    \n",
    "    Simlist_idx.append(temp)"
   ]
  },
  {
   "cell_type": "code",
   "execution_count": 22,
   "id": "125c986f",
   "metadata": {
    "ExecuteTime": {
     "end_time": "2024-10-31T05:24:13.453034Z",
     "start_time": "2024-10-31T05:24:13.344324Z"
    }
   },
   "outputs": [],
   "source": [
    "with open('Over_Re.pkl', 'wb') as file:\n",
    "    pickle.dump(Simlist_IN, file)\n",
    "    pickle.dump(Simlist_DG, file)\n",
    "    pickle.dump(Simlist_CA3, file)\n",
    "    pickle.dump(Simlist_CA1, file)\n",
    "    pickle.dump(Simlist_idx, file)\n",
    "    pickle.dump(Success_list, file)\n",
    "    pickle.dump(Winner_list, file)"
   ]
  },
  {
   "cell_type": "code",
   "execution_count": 23,
   "id": "8da62199",
   "metadata": {
    "ExecuteTime": {
     "end_time": "2024-10-31T05:24:14.111511Z",
     "start_time": "2024-10-31T05:24:13.460016Z"
    }
   },
   "outputs": [],
   "source": [
    "# \n",
    "Pair_IN = []\n",
    "Pair_DG = []\n",
    "Pair_CA3 = []\n",
    "Pair_CA1 = []\n",
    "Pair_idx = []\n",
    "idx_DG = []\n",
    "idx_CA1 = []\n",
    "idx_CA1_E = []\n",
    "idx_CA3 = []\n",
    "idx_succ = []\n",
    "for i, comp in enumerate(Simlist_DG):\n",
    "    if len(comp) == 0:\n",
    "        idx_DG.append(i)\n",
    "for i, comp in enumerate(Simlist_CA1):\n",
    "    if len(comp) == 0:\n",
    "        idx_CA1.append(i)\n",
    "for i, comp in enumerate(Simlist_CA1_E):\n",
    "    if len(comp) == 0:\n",
    "        idx_CA1_E.append(i)\n",
    "for i, comp in enumerate(CA3_E_list):\n",
    "    if len(np.where(comp)[0]) < 1:\n",
    "        idx_CA3.append(i)\n",
    "# for i, comp in enumerate(Success_list):\n",
    "#     if comp < 18:\n",
    "#         idx_succ.append(i)\n",
    "        \n",
    "for i, comp in enumerate(Simlist_IN):\n",
    "    if i not in idx_DG and i not in idx_CA1:\n",
    "            if Simlist_idx[i] not in idx_CA3 and Simlist_idx[i] not in idx_succ:\n",
    "                if i not in idx_CA1_E:\n",
    "                    Pair_IN.append(1-cal_overlap(set(range(16)), set(np.where(Filt_idata[:,NN]!=0)[0]), set(comp)))\n",
    "                \n",
    "for i, comp in enumerate(Simlist_DG):\n",
    "    if i not in idx_DG and i not in idx_CA1:\n",
    "        if Simlist_idx[i] not in idx_CA3 and Simlist_idx[i] not in idx_succ:\n",
    "            if i not in idx_CA1_E:\n",
    "                Pair_DG.append(1-cal_overlap(set(range(800)), set(np.where(Filt_gdata[:,NN]!=0)[0]), set(comp)))\n",
    "\n",
    "for i, comp in enumerate(Simlist_CA3):\n",
    "    if i not in idx_DG and i not in idx_CA1:\n",
    "        if Simlist_idx[i] not in idx_CA3 and Simlist_idx[i] not in idx_succ:\n",
    "            if i not in idx_CA1_E:\n",
    "                #Pair_CA3.append(1-cal_relative_overlap_CA3(set(range(2400)), set(comp), Simlist_idx[i], 0))\n",
    "                Pair_CA3.append(1-cal_overlap(set(range(2400)), set(Af_py[NN]), set(comp)))\n",
    "\n",
    "for i, comp in enumerate(Simlist_idx):\n",
    "    if i not in idx_DG and i not in idx_CA1:  \n",
    "            if Simlist_idx[i] not in idx_CA3 and Simlist_idx[i] not in idx_succ:\n",
    "                if i not in idx_CA1_E:\n",
    "                    Pair_idx.append(comp)"
   ]
  },
  {
   "cell_type": "code",
   "execution_count": 24,
   "id": "079fd72b",
   "metadata": {
    "ExecuteTime": {
     "end_time": "2024-10-31T05:24:14.126471Z",
     "start_time": "2024-10-31T05:24:14.115501Z"
    }
   },
   "outputs": [
    {
     "data": {
      "text/plain": [
       "49"
      ]
     },
     "execution_count": 24,
     "metadata": {},
     "output_type": "execute_result"
    }
   ],
   "source": [
    "len(set(Pair_idx))"
   ]
  },
  {
   "cell_type": "code",
   "execution_count": 25,
   "id": "e6ba59a1",
   "metadata": {
    "ExecuteTime": {
     "end_time": "2024-10-31T05:24:14.142430Z",
     "start_time": "2024-10-31T05:24:14.129464Z"
    }
   },
   "outputs": [],
   "source": [
    "Pair_CA1_fin = np.zeros(len(set(Pair_idx)))\n",
    "for i, comp in enumerate(set(Pair_idx)):\n",
    "    if Winner_list[:,comp].sum() == 0:\n",
    "        Pair_CA1_fin[i] = 1-cal_overlap(set(range(200)), set(np.where(CA1_E_T)[1]), set(np.where(CA1_E_T)[1])|set(np.where(CA1_E_list[comp])[0]))\n",
    "    else:\n",
    "        A_R = Winner_list[0,comp]\n",
    "        B_R = Winner_list[1,comp]\n",
    "        CA1_A = 1-cal_overlap(set(range(200)), set(np.where(CA1_E_T)[1]), set(np.where(CA1_E_T)[1]))\n",
    "        CA1_B = 1-cal_overlap(set(range(200)), set(np.where(CA1_E_T)[1]), set(np.where(CA1_E_list[comp])[0]))\n",
    "        Pair_CA1_fin[i] = (A_R*CA1_A+B_R*CA1_B)/(A_R+B_R)"
   ]
  },
  {
   "cell_type": "code",
   "execution_count": 26,
   "id": "9864d9b1",
   "metadata": {
    "ExecuteTime": {
     "end_time": "2024-10-31T05:24:14.174345Z",
     "start_time": "2024-10-31T05:24:14.145423Z"
    }
   },
   "outputs": [
    {
     "name": "stderr",
     "output_type": "stream",
     "text": [
      "C:\\Users\\fiat_\\AppData\\Local\\Temp\\ipykernel_4324\\2371016391.py:7: RuntimeWarning: invalid value encountered in divide\n",
      "  Pair_IN_fin = Pair_IN_sum/Pair_IN_idx\n",
      "C:\\Users\\fiat_\\AppData\\Local\\Temp\\ipykernel_4324\\2371016391.py:16: RuntimeWarning: invalid value encountered in divide\n",
      "  Pair_DG_fin = Pair_DG_sum/Pair_DG_idx\n",
      "C:\\Users\\fiat_\\AppData\\Local\\Temp\\ipykernel_4324\\2371016391.py:25: RuntimeWarning: invalid value encountered in divide\n",
      "  Pair_CA3_fin = Pair_CA3_sum/Pair_CA3_idx\n"
     ]
    }
   ],
   "source": [
    "Pair_IN_sum = np.zeros(Num_cue)\n",
    "Pair_IN_idx = np.zeros(Num_cue)\n",
    "for i, comp in enumerate(Pair_idx):\n",
    "    Pair_IN_sum[comp] += Pair_IN[i]\n",
    "    Pair_IN_idx[comp] += 1\n",
    "    \n",
    "Pair_IN_fin = Pair_IN_sum/Pair_IN_idx\n",
    "Pair_IN_fin = Pair_IN_fin[~np.isnan(Pair_IN_fin)]\n",
    "\n",
    "Pair_DG_sum = np.zeros(Num_cue)\n",
    "Pair_DG_idx = np.zeros(Num_cue)\n",
    "for i, comp in enumerate(Pair_idx):\n",
    "    Pair_DG_sum[comp] += Pair_DG[i]\n",
    "    Pair_DG_idx[comp] += 1\n",
    "    \n",
    "Pair_DG_fin = Pair_DG_sum/Pair_DG_idx\n",
    "Pair_DG_fin = Pair_DG_fin[~np.isnan(Pair_DG_fin)]\n",
    "\n",
    "Pair_CA3_sum = np.zeros(Num_cue)\n",
    "Pair_CA3_idx = np.zeros(Num_cue)\n",
    "for i, comp in enumerate(Pair_idx):\n",
    "    Pair_CA3_sum[comp] += Pair_CA3[i]\n",
    "    Pair_CA3_idx[comp] += 1\n",
    "    \n",
    "Pair_CA3_fin = Pair_CA3_sum/Pair_CA3_idx\n",
    "Pair_CA3_fin = Pair_CA3_fin[~np.isnan(Pair_CA3_fin)]"
   ]
  },
  {
   "cell_type": "code",
   "execution_count": 27,
   "id": "3e3b1903",
   "metadata": {
    "ExecuteTime": {
     "end_time": "2024-10-31T05:24:14.190302Z",
     "start_time": "2024-10-31T05:24:14.178335Z"
    }
   },
   "outputs": [
    {
     "data": {
      "text/plain": [
       "49"
      ]
     },
     "execution_count": 27,
     "metadata": {},
     "output_type": "execute_result"
    }
   ],
   "source": [
    "len(Pair_DG_fin)"
   ]
  },
  {
   "cell_type": "code",
   "execution_count": 28,
   "id": "54f1f416",
   "metadata": {
    "ExecuteTime": {
     "end_time": "2024-10-31T05:24:14.788699Z",
     "start_time": "2024-10-31T05:24:14.200276Z"
    }
   },
   "outputs": [
    {
     "data": {
      "image/png": "[encoded data removed]",
      "text/plain": [
       "<Figure size 640x480 with 1 Axes>"
      ]
     },
     "metadata": {},
     "output_type": "display_data"
    }
   ],
   "source": [
    "x = np.linspace(0,1,100)\n",
    "fig = plt.subplot(111)\n",
    "plt.scatter(Pair_IN_fin, Pair_CA1_fin, color='salmon', label='CA1')\n",
    "#plt.scatter(Pair_IN_fin, Pair_CA1_fin, color='salmon', label='CA1')\n",
    "#plt.scatter(DeltaIN, DeltaCA1, color='black', label='CA1')\n",
    "\n",
    "#plt.errorbar(DeltaI_block, DeltaO_block, yerr=DeltaO_block_std, fmt=\"o\")\n",
    "#plt.plot(x,x, color='black')\n",
    "plt.axis(\"square\")\n",
    "plt.xlim([0,1.02])\n",
    "plt.ylim([-0.02,1.02])\n",
    "plt.xlabel('$\\Delta$ Input')\n",
    "plt.ylabel('$\\Delta$ Output')\n",
    "\n",
    "plt.legend(loc='lower left', bbox_to_anchor=(1.0,0.5))\n",
    "fig.spines['top'].set_visible(False)\n",
    "fig.spines['right'].set_visible(False)\n",
    "plt.title('CA1 activity during retrieval')\n",
    "plt.show()"
   ]
  },
  {
   "cell_type": "code",
   "execution_count": 29,
   "id": "316fbaf0",
   "metadata": {
    "ExecuteTime": {
     "end_time": "2024-10-31T05:24:14.804667Z",
     "start_time": "2024-10-31T05:24:14.791691Z"
    }
   },
   "outputs": [
    {
     "name": "stdout",
     "output_type": "stream",
     "text": [
      "set()\n"
     ]
    }
   ],
   "source": [
    "temp1 = np.where(Pair_IN_fin < 0.6)[0]\n",
    "temp2 = np.where(Pair_IN_fin > 0.3)[0]\n",
    "temp3 = np.where(Pair_DG_fin == 0.5)[0]\n",
    "\n",
    "\n",
    "temp5 = set(temp1).intersection(set(temp2))\n",
    "\n",
    "\n",
    "tempf = set(temp5).intersection(temp3)\n",
    "print(tempf)\n",
    "for i, comp in enumerate(tempf):\n",
    "    print(list(set(Pair_idx))[comp])"
   ]
  },
  {
   "cell_type": "code",
   "execution_count": 30,
   "id": "efdd6491",
   "metadata": {
    "ExecuteTime": {
     "end_time": "2024-10-31T05:24:14.993338Z",
     "start_time": "2024-10-31T05:24:14.812636Z"
    }
   },
   "outputs": [
    {
     "data": {
      "image/png": "[encoded data removed]",
      "text/plain": [
       "<Figure size 640x480 with 1 Axes>"
      ]
     },
     "metadata": {},
     "output_type": "display_data"
    }
   ],
   "source": [
    "x = np.linspace(0,1,100)\n",
    "fig = plt.subplot(111)\n",
    "plt.scatter(Pair_IN_fin, Pair_DG_fin, color='mediumaquamarine', label='DG')\n",
    "#plt.scatter(Pair_IN_fin, Pair_CA1_fin, color='salmon', label='CA1')\n",
    "#plt.scatter(DeltaIN, DeltaCA1, color='black', label='CA1')\n",
    "\n",
    "#plt.errorbar(DeltaI_block, DeltaO_block, yerr=DeltaO_block_std, fmt=\"o\")\n",
    "#plt.plot(x,x, color='black')\n",
    "plt.axis(\"square\")\n",
    "plt.xlim([0,1.02])\n",
    "plt.ylim([-0.02,1.02])\n",
    "plt.xlabel('$\\Delta$ Input')\n",
    "plt.ylabel('$\\Delta$ Output')\n",
    "\n",
    "plt.legend(loc='lower left', bbox_to_anchor=(1.0,0.5))\n",
    "fig.spines['top'].set_visible(False)\n",
    "fig.spines['right'].set_visible(False)\n",
    "plt.title('DG activity during retrieval')\n",
    "plt.show()"
   ]
  },
  {
   "cell_type": "code",
   "execution_count": 31,
   "id": "b0295c05",
   "metadata": {
    "ExecuteTime": {
     "end_time": "2024-10-31T05:24:15.167152Z",
     "start_time": "2024-10-31T05:24:14.996303Z"
    }
   },
   "outputs": [
    {
     "data": {
      "image/png": "[encoded data removed]",
      "text/plain": [
       "<Figure size 640x480 with 1 Axes>"
      ]
     },
     "metadata": {},
     "output_type": "display_data"
    }
   ],
   "source": [
    "x = np.linspace(0,1,100)\n",
    "fig = plt.subplot(111)\n",
    "plt.scatter(Pair_IN_fin, Pair_CA3_fin, color='cornflowerblue', label='CA3')\n",
    "#plt.scatter(Pair_IN_fin, Pair_CA1_fin, color='salmon', label='CA1')\n",
    "#plt.scatter(DeltaIN, DeltaCA1, color='black', label='CA1')\n",
    "\n",
    "#plt.errorbar(DeltaI_block, DeltaO_block, yerr=DeltaO_block_std, fmt=\"o\")\n",
    "#plt.plot(x,x, color='black')\n",
    "plt.axis(\"square\")\n",
    "plt.xlim([0,1.02])\n",
    "plt.ylim([-0.02,1.02])\n",
    "plt.xlabel('$\\Delta$ Input')\n",
    "plt.ylabel('$\\Delta$ Output')\n",
    "\n",
    "plt.legend(loc='lower left', bbox_to_anchor=(1.0,0.5))\n",
    "fig.spines['top'].set_visible(False)\n",
    "fig.spines['right'].set_visible(False)\n",
    "plt.title('CA3 activity during retrieval')\n",
    "plt.show()"
   ]
  },
  {
   "cell_type": "code",
   "execution_count": 32,
   "id": "0fd252d0",
   "metadata": {
    "ExecuteTime": {
     "end_time": "2024-10-31T05:24:15.369637Z",
     "start_time": "2024-10-31T05:24:15.173097Z"
    }
   },
   "outputs": [
    {
     "data": {
      "image/png": "[encoded data removed]",
      "text/plain": [
       "<Figure size 640x480 with 1 Axes>"
      ]
     },
     "metadata": {},
     "output_type": "display_data"
    }
   ],
   "source": [
    "x = np.linspace(0,1,100)\n",
    "fig = plt.subplot(111)\n",
    "plt.scatter(Pair_IN_fin, Pair_CA3_fin, color='cornflowerblue', label='CA3')\n",
    "plt.scatter(Pair_IN_fin, Pair_CA1_fin, color='salmon', label='CA1')\n",
    "#plt.scatter(Pair_IN_fin, Pair_CA1_fin, color='salmon', label='CA1')\n",
    "#plt.scatter(DeltaIN, DeltaCA1, color='black', label='CA1')\n",
    "\n",
    "#plt.errorbar(DeltaI_block, DeltaO_block, yerr=DeltaO_block_std, fmt=\"o\")\n",
    "#plt.plot(x,x, color='black')\n",
    "plt.axis(\"square\")\n",
    "plt.xlim([0,1.02])\n",
    "plt.ylim([-0.02,1.02])\n",
    "plt.xlabel('$\\Delta$ Input')\n",
    "plt.ylabel('$\\Delta$ Output')\n",
    "\n",
    "plt.legend(loc='lower left', bbox_to_anchor=(1.0,0.5))\n",
    "fig.spines['top'].set_visible(False)\n",
    "fig.spines['right'].set_visible(False)\n",
    "plt.title('CA3 activity during retrieval')\n",
    "plt.show()"
   ]
  },
  {
   "cell_type": "code",
   "execution_count": 33,
   "id": "6189838c",
   "metadata": {
    "ExecuteTime": {
     "end_time": "2024-10-31T05:24:16.390422Z",
     "start_time": "2024-10-31T05:24:15.376618Z"
    },
    "code_folding": []
   },
   "outputs": [
    {
     "data": {
      "image/png": "[encoded data removed]",
      "text/plain": [
       "<Figure size 640x480 with 1 Axes>"
      ]
     },
     "metadata": {},
     "output_type": "display_data"
    }
   ],
   "source": [
    "x = np.linspace(0,1,100)\n",
    "fig = plt.subplot(111)\n",
    "plt.scatter(Pair_IN_fin, Pair_CA3_fin, color='cornflowerblue', label='CA3')\n",
    "plt.scatter(Pair_IN_fin, Pair_CA1_fin, color='salmon', marker=',', label='CA1')\n",
    "#plt.scatter(DeltaIN, DeltaCA1, color='black', label='CA1')\n",
    "\n",
    "#plt.errorbar(DeltaI_block, DeltaO_block, yerr=DeltaO_block_std, fmt=\"o\")\n",
    "#plt.plot(x,x, color='black')\n",
    "plt.legend(loc='upper left', framealpha=0.3)\n",
    "plt.axis(\"square\")\n",
    "plt.xlim([0,1.02])\n",
    "plt.ylim([-0.02,1.02])\n",
    "plt.xlabel('$\\Delta$ Input')\n",
    "plt.ylabel('Average of $\\Delta$ Output')\n",
    "\n",
    "fig.spines['top'].set_visible(False)\n",
    "fig.spines['right'].set_visible(False)\n",
    "plt.title('Neural representation during retrieval')\n",
    "plt.savefig('Activity for each subregion during retrieval.pdf', bbox_inches='tight')\n",
    "plt.savefig('Activity for each subregion during retrieval.tiff', bbox_inches='tight', dpi=300)\n",
    "plt.show()"
   ]
  },
  {
   "cell_type": "code",
   "execution_count": 34,
   "id": "7002f08a",
   "metadata": {
    "ExecuteTime": {
     "end_time": "2024-10-31T05:24:17.023760Z",
     "start_time": "2024-10-31T05:24:16.393414Z"
    }
   },
   "outputs": [
    {
     "ename": "NameError",
     "evalue": "name 'a' is not defined",
     "output_type": "error",
     "traceback": [
      "\u001b[1;31m---------------------------------------------------------------------------\u001b[0m",
      "\u001b[1;31mNameError\u001b[0m                                 Traceback (most recent call last)",
      "\u001b[1;32m~\\AppData\\Local\\Temp\\ipykernel_4324\\2167009006.py\u001b[0m in \u001b[0;36m<module>\u001b[1;34m\u001b[0m\n\u001b[1;32m----> 1\u001b[1;33m \u001b[0ma\u001b[0m\u001b[1;33m\u001b[0m\u001b[1;33m\u001b[0m\u001b[0m\n\u001b[0m",
      "\u001b[1;31mNameError\u001b[0m: name 'a' is not defined"
     ]
    }
   ],
   "source": [
    "a"
   ]
  },
  {
   "cell_type": "code",
   "execution_count": null,
   "id": "1716911b",
   "metadata": {
    "ExecuteTime": {
     "end_time": "2024-10-31T05:24:17.038710Z",
     "start_time": "2024-10-31T05:24:17.038710Z"
    }
   },
   "outputs": [],
   "source": [
    "for i, comp in enumerate(Pair_CA3_fin):\n",
    "    if 0.4 < comp < 0.5 and Pair_CA1_fin[i] < 0.3:\n",
    "        print(i, comp, Pair_idx[i])"
   ]
  },
  {
   "cell_type": "code",
   "execution_count": null,
   "id": "99a6d54f",
   "metadata": {
    "ExecuteTime": {
     "end_time": "2024-10-31T05:24:17.042684Z",
     "start_time": "2024-10-31T05:24:17.042684Z"
    }
   },
   "outputs": [],
   "source": [
    "Af_py[NN]"
   ]
  },
  {
   "cell_type": "code",
   "execution_count": null,
   "id": "70623672",
   "metadata": {
    "ExecuteTime": {
     "end_time": "2024-10-31T05:24:17.045678Z",
     "start_time": "2024-10-31T05:24:17.045678Z"
    }
   },
   "outputs": [],
   "source": [
    "TEM3 = []\n",
    "TEM1 = []\n",
    "for i, comp in enumerate(Simlist_CA3):\n",
    "    if Simlist_idx[i] == 60:\n",
    "        te3 = 1-cal_overlap(set(range(2400)), set(Af_py[NN]), set(comp))\n",
    "        TEM3.append(te3)\n",
    "        if te3 < 0.3:\n",
    "            te1 = 1-cal_overlap(set(range(200)), set(np.where(CA1_E_T[0])[0]), set(np.where(CA1_E_T[0])[0]))\n",
    "        else:\n",
    "            te1 = 1-cal_overlap(set(range(200)), set(np.where(CA1_E_T[0])[0]), set(np.where(CA1_E_list[Simlist_idx[i]])[0]))\n",
    "        TEM1.append(te1)\n",
    "        print(comp, np.round(te3, 3), np.round(te1, 3))"
   ]
  },
  {
   "cell_type": "code",
   "execution_count": null,
   "id": "6d9d125e",
   "metadata": {
    "ExecuteTime": {
     "end_time": "2024-10-31T05:24:17.048668Z",
     "start_time": "2024-10-31T05:24:17.048668Z"
    }
   },
   "outputs": [],
   "source": [
    "np.mean(TEM)"
   ]
  },
  {
   "cell_type": "code",
   "execution_count": null,
   "id": "8f1c814e",
   "metadata": {
    "ExecuteTime": {
     "end_time": "2024-10-31T05:24:17.050662Z",
     "start_time": "2024-10-31T05:24:17.050662Z"
    }
   },
   "outputs": [],
   "source": [
    "len(Pair_CA3_fin)"
   ]
  },
  {
   "cell_type": "code",
   "execution_count": null,
   "id": "69e474e3",
   "metadata": {
    "ExecuteTime": {
     "end_time": "2024-10-31T05:24:17.052657Z",
     "start_time": "2024-10-31T05:24:17.052657Z"
    }
   },
   "outputs": [],
   "source": [
    "np.shape(Winner_list)"
   ]
  },
  {
   "cell_type": "code",
   "execution_count": null,
   "id": "9629ffaf",
   "metadata": {
    "ExecuteTime": {
     "end_time": "2024-10-31T05:24:17.056646Z",
     "start_time": "2024-10-31T05:24:17.056646Z"
    }
   },
   "outputs": [],
   "source": [
    "Winner_list[:,-10]"
   ]
  },
  {
   "cell_type": "code",
   "execution_count": null,
   "id": "3a60178a",
   "metadata": {
    "ExecuteTime": {
     "end_time": "2024-10-31T05:24:17.057643Z",
     "start_time": "2024-10-31T05:24:17.057643Z"
    }
   },
   "outputs": [],
   "source": [
    "Winner_list[:,60]"
   ]
  },
  {
   "cell_type": "code",
   "execution_count": null,
   "id": "06314c11",
   "metadata": {
    "ExecuteTime": {
     "end_time": "2024-10-31T05:24:17.060635Z",
     "start_time": "2024-10-31T05:24:17.060635Z"
    }
   },
   "outputs": [],
   "source": [
    "cal_overlap(set(range(16)), set(np.where(Filt_idata[:,144])[0]), set(np.where(Cue_Data[:,60])[0]))"
   ]
  },
  {
   "cell_type": "code",
   "execution_count": null,
   "id": "5da8d5ef",
   "metadata": {
    "ExecuteTime": {
     "end_time": "2024-10-31T05:24:17.062629Z",
     "start_time": "2024-10-31T05:24:17.062629Z"
    }
   },
   "outputs": [],
   "source": [
    "cal_overlap(set(range(16)), set(np.where(Filt_idata[:,144])[0]), set(np.where(Cue_Data[:,-10])[0]))"
   ]
  },
  {
   "cell_type": "code",
   "execution_count": null,
   "id": "c51a96d7",
   "metadata": {
    "ExecuteTime": {
     "end_time": "2024-10-31T05:24:17.065622Z",
     "start_time": "2024-10-31T05:24:17.065622Z"
    }
   },
   "outputs": [],
   "source": [
    "Winner_list[:,65]"
   ]
  },
  {
   "cell_type": "code",
   "execution_count": null,
   "id": "86db82f1",
   "metadata": {
    "ExecuteTime": {
     "end_time": "2024-10-31T05:24:17.066619Z",
     "start_time": "2024-10-31T05:24:17.066619Z"
    }
   },
   "outputs": [],
   "source": [
    "DeltaIN = []\n",
    "DeltaDG = []\n",
    "DeltaCA3 = []\n",
    "DeltaCA1 = []\n",
    "Classfy_num = 40\n",
    "for n in range(Classfy_num+1):\n",
    "    DeltaIN.append([])\n",
    "    DeltaDG.append([])\n",
    "    DeltaCA3.append([])\n",
    "    DeltaCA1.append([])\n",
    "    \n",
    "for i, comp in enumerate(Pair_IN_fin):\n",
    "    if comp == 0:\n",
    "        DeltaIN[0].append(comp)\n",
    "        DeltaDG[0].append(Pair_DG_fin[i])\n",
    "        DeltaCA3[0].append(Pair_CA3_fin[i])\n",
    "        DeltaCA1[0].append(Pair_CA1_fin[i])\n",
    "    else:\n",
    "        for n in range(Classfy_num):    \n",
    "            if (1/Classfy_num)*n < comp <= (1/Classfy_num)*n+(1/Classfy_num):\n",
    "                DeltaIN[n+1].append(comp)\n",
    "                DeltaDG[n+1].append(Pair_DG_fin[i])\n",
    "                DeltaCA3[n+1].append(Pair_CA3_fin[i])\n",
    "                DeltaCA1[n+1].append(Pair_CA1_fin[i])\n",
    "\n",
    "DeltaIN_final = np.zeros(len(DeltaIN))\n",
    "DeltaDG_final = np.zeros(len(DeltaDG))\n",
    "DeltaCA3_final = np.zeros(len(DeltaCA3))\n",
    "DeltaCA1_final = np.zeros(len(DeltaCA1))\n",
    "for n in range(len(DeltaIN)):\n",
    "    DeltaIN_final[n] = np.mean(DeltaIN[n])\n",
    "    DeltaDG_final[n] = np.mean(DeltaDG[n])\n",
    "    DeltaCA3_final[n] = np.mean(DeltaCA3[n])\n",
    "    DeltaCA1_final[n] = np.mean(DeltaCA1[n])"
   ]
  },
  {
   "cell_type": "code",
   "execution_count": null,
   "id": "0489e76c",
   "metadata": {
    "ExecuteTime": {
     "end_time": "2024-10-31T05:24:17.069610Z",
     "start_time": "2024-10-31T05:24:17.069610Z"
    }
   },
   "outputs": [],
   "source": [
    "x = np.linspace(0,1,100)\n",
    "fig = plt.subplot(111)\n",
    "plt.scatter(DeltaIN_final, DeltaCA1_final, color='salmon', label='CA1')\n",
    "\n",
    "#plt.errorbar(DeltaI_block, DeltaO_block, yerr=DeltaO_block_std, fmt=\"o\")\n",
    "#plt.plot(x,x, color='black')\n",
    "plt.axis(\"square\")\n",
    "plt.xlim([0,1.02])\n",
    "plt.ylim([-0.02,1.02])\n",
    "plt.xlabel('$\\Delta$ Input')\n",
    "plt.ylabel('$\\Delta$ Output')\n",
    "\n",
    "plt.legend(loc='lower left', bbox_to_anchor=(1.0,0.5))\n",
    "fig.spines['top'].set_visible(False)\n",
    "fig.spines['right'].set_visible(False)\n",
    "plt.title('CA1 activity during retrieval')\n",
    "plt.show()"
   ]
  },
  {
   "cell_type": "code",
   "execution_count": null,
   "id": "a5ea6443",
   "metadata": {
    "ExecuteTime": {
     "end_time": "2024-10-31T05:24:17.072610Z",
     "start_time": "2024-10-31T05:24:17.072610Z"
    }
   },
   "outputs": [],
   "source": [
    "x = np.linspace(0,1,100)\n",
    "fig = plt.subplot(111)\n",
    "plt.scatter(DeltaIN_final, DeltaCA3_final, color='cornflowerblue', label='CA3')\n",
    "\n",
    "#plt.errorbar(DeltaI_block, DeltaO_block, yerr=DeltaO_block_std, fmt=\"o\")\n",
    "#plt.plot(x,x, color='black')\n",
    "plt.axis(\"square\")\n",
    "plt.xlim([0,1.02])\n",
    "plt.ylim([-0.02,1.02])\n",
    "plt.xlabel('$\\Delta$ Input')\n",
    "plt.ylabel('$\\Delta$ Output')\n",
    "\n",
    "plt.legend(loc='lower left', bbox_to_anchor=(1.0,0.5))\n",
    "fig.spines['top'].set_visible(False)\n",
    "fig.spines['right'].set_visible(False)\n",
    "plt.title('CA3 activity during retrieval')\n",
    "plt.show()"
   ]
  },
  {
   "cell_type": "code",
   "execution_count": null,
   "id": "34f9e451",
   "metadata": {
    "ExecuteTime": {
     "end_time": "2024-10-31T05:24:17.074597Z",
     "start_time": "2024-10-31T05:24:17.074597Z"
    }
   },
   "outputs": [],
   "source": [
    "x = np.linspace(0,1,100)\n",
    "fig = plt.subplot(111)\n",
    "plt.scatter(DeltaIN_final, DeltaCA3_final, color='cornflowerblue', label='CA3')\n",
    "plt.scatter(DeltaIN_final, DeltaCA1_final, color='salmon', marker=',', label='CA1')\n",
    "#plt.errorbar(DeltaI_block, DeltaO_block, yerr=DeltaO_block_std, fmt=\"o\")\n",
    "#plt.plot(x,x, color='black')\n",
    "plt.legend(loc='lower right')\n",
    "plt.axis(\"square\")\n",
    "plt.xlim([0,1.02])\n",
    "plt.ylim([-0.02,1.02])\n",
    "plt.xlabel('$\\Delta$ Input')\n",
    "plt.ylabel('Average of $\\Delta$ Output')\n",
    "\n",
    "fig.spines['top'].set_visible(False)\n",
    "fig.spines['right'].set_visible(False)\n",
    "plt.title('Neural representation during retrieval')\n",
    "plt.savefig('Activity for each subregion during retrieval.pdf', bbox_inches='tight')\n",
    "plt.show()"
   ]
  },
  {
   "cell_type": "code",
   "execution_count": null,
   "id": "9a949ec0",
   "metadata": {
    "ExecuteTime": {
     "end_time": "2024-10-31T05:24:17.076593Z",
     "start_time": "2024-10-31T05:24:17.076593Z"
    }
   },
   "outputs": [],
   "source": [
    "a"
   ]
  },
  {
   "cell_type": "code",
   "execution_count": null,
   "id": "c28d5c4f",
   "metadata": {
    "ExecuteTime": {
     "end_time": "2024-10-31T05:24:17.079584Z",
     "start_time": "2024-10-31T05:24:17.079584Z"
    }
   },
   "outputs": [],
   "source": [
    "index = []\n",
    "for n in range(50):\n",
    "    if Pair_CA3_fin[n] < 0.3:\n",
    "        if Pair_IN_fin[n] > 0.5:\n",
    "            temp_idx = Pair_idx_fin[n]\n",
    "            index.append(temp_idx)\n",
    "            print(temp_idx, Pair_IN_fin[n], Pair_CA3_fin[n], Winner_list[:,temp_idx])"
   ]
  },
  {
   "cell_type": "code",
   "execution_count": null,
   "id": "eab3d7d9",
   "metadata": {
    "ExecuteTime": {
     "end_time": "2024-10-31T05:24:17.081579Z",
     "start_time": "2024-10-31T05:24:17.081579Z"
    }
   },
   "outputs": [],
   "source": [
    "for i, comp in enumerate(index):\n",
    "    print(np.where(CA3_E_list[comp]))"
   ]
  },
  {
   "cell_type": "code",
   "execution_count": null,
   "id": "25a70dbd",
   "metadata": {
    "ExecuteTime": {
     "end_time": "2024-10-31T05:24:17.083574Z",
     "start_time": "2024-10-31T05:24:17.083574Z"
    }
   },
   "outputs": [],
   "source": [
    "Overlap_I = []\n",
    "Overlap_DG = []\n",
    "Overlap_CA3 = []\n",
    "Overlap_CA1 = []\n",
    "Classfy_num = 100\n",
    "for n in range(Classfy_num+1):\n",
    "    Overlap_I.append([])\n",
    "    Overlap_DG.append([])\n",
    "    Overlap_CA3.append([])\n",
    "    Overlap_CA1.append([])\n",
    "    \n",
    "for i, comp in enumerate(Pair_IN_fin):\n",
    "    if comp == 0:\n",
    "        Overlap_I[0].append(1-comp)\n",
    "        Overlap_DG[0].append(1-Pair_DG_fin[i])\n",
    "        Overlap_CA3[0].append(1-Pair_CA3_fin[i])\n",
    "        Overlap_CA1[0].append(1-Pair_CA1_fin[i])\n",
    "    for n in range(Classfy_num):    \n",
    "        if (1/Classfy_num)*n < comp <= (1/Classfy_num)*n+(1/Classfy_num):\n",
    "            Overlap_I[n+1].append(1-comp)\n",
    "            Overlap_DG[n+1].append(1-Pair_DG_fin[i])\n",
    "            Overlap_CA3[n+1].append(1-Pair_CA3_fin[i])\n",
    "            Overlap_CA1[n+1].append(1-Pair_CA1_fin[i])\n",
    "            \n",
    "DeltaIN = []\n",
    "DeltaDG = []\n",
    "DeltaCA3 = []\n",
    "DeltaCA1 = []\n",
    "for i, comp in enumerate(Overlap_I):\n",
    "    DeltaIN.append(1-np.mean(comp))\n",
    "    DeltaDG.append(1-np.mean(Overlap_DG[i]))\n",
    "    DeltaCA3.append(1-np.mean(Overlap_CA3[i]))\n",
    "    DeltaCA1.append(1-np.mean(Overlap_CA1[i]))"
   ]
  },
  {
   "cell_type": "code",
   "execution_count": null,
   "id": "dbe07800",
   "metadata": {
    "ExecuteTime": {
     "end_time": "2024-10-31T05:24:17.085569Z",
     "start_time": "2024-10-31T05:24:17.085569Z"
    }
   },
   "outputs": [],
   "source": [
    "x = np.linspace(0,1,100)\n",
    "fig = plt.subplot(111)\n",
    "plt.scatter(DeltaIN, DeltaDG, color='mediumaquamarine', label='DG')\n",
    "plt.scatter(DeltaIN, DeltaCA3, color='cornflowerblue', label='CA3')\n",
    "#plt.scatter(DeltaIN, DeltaCA1, color='salmon', label='CA1')\n",
    "\n",
    "#plt.errorbar(DeltaI_block, DeltaO_block, yerr=DeltaO_block_std, fmt=\"o\")\n",
    "plt.plot(x,x, color='black')\n",
    "#plt.xlim([0,1])\n",
    "#plt.ylim([0,1.2])\n",
    "plt.xlabel('$\\Delta$ Input')\n",
    "plt.ylabel('$\\Delta$ Output')\n",
    "plt.axis(\"square\")\n",
    "plt.legend(loc='lower left', bbox_to_anchor=(1.0,0.5))\n",
    "fig.spines['top'].set_visible(False)\n",
    "fig.spines['right'].set_visible(False)\n",
    "#plt.savefig('Cogtask-similarity.png', bbox_inches='tight')\n",
    "plt.show()"
   ]
  },
  {
   "cell_type": "code",
   "execution_count": null,
   "id": "4316f8b0",
   "metadata": {
    "ExecuteTime": {
     "end_time": "2024-10-31T05:24:17.089561Z",
     "start_time": "2024-10-31T05:24:17.089561Z"
    }
   },
   "outputs": [],
   "source": [
    "for n in range(100):\n",
    "    if DeltaCA3[n] < 0.3:\n",
    "        print(n, DeltaIN[n], Winner_list[:,n])"
   ]
  },
  {
   "cell_type": "code",
   "execution_count": null,
   "id": "32a2515d",
   "metadata": {
    "ExecuteTime": {
     "end_time": "2024-10-31T05:24:17.091553Z",
     "start_time": "2024-10-31T05:24:17.091553Z"
    }
   },
   "outputs": [],
   "source": [
    "Winner_list[:,97]"
   ]
  },
  {
   "cell_type": "code",
   "execution_count": null,
   "id": "1ef48c64",
   "metadata": {
    "ExecuteTime": {
     "end_time": "2024-10-31T05:24:17.094545Z",
     "start_time": "2024-10-31T05:24:17.094545Z"
    }
   },
   "outputs": [],
   "source": [
    "for n in range(100):\n",
    "    temp = np.where(CA3_E_list[n])[0]\n",
    "    if len(temp) ==0:\n",
    "        print(n, Winner_list[:,n], np.where(DG_E_list[n])[0] )"
   ]
  },
  {
   "cell_type": "code",
   "execution_count": null,
   "id": "382a4278",
   "metadata": {
    "ExecuteTime": {
     "end_time": "2024-10-31T05:24:17.096540Z",
     "start_time": "2024-10-31T05:24:17.096540Z"
    }
   },
   "outputs": [],
   "source": [
    "np.where(Cue_Data[:,97])"
   ]
  },
  {
   "cell_type": "code",
   "execution_count": null,
   "id": "6099cb2c",
   "metadata": {
    "ExecuteTime": {
     "end_time": "2024-10-31T05:24:17.098534Z",
     "start_time": "2024-10-31T05:24:17.098534Z"
    }
   },
   "outputs": [],
   "source": [
    "np.where(Filt_idata[:,144])"
   ]
  },
  {
   "cell_type": "code",
   "execution_count": null,
   "id": "1bed00d5",
   "metadata": {},
   "outputs": [],
   "source": []
  }
 ],
 "metadata": {
  "kernelspec": {
   "display_name": "Python 3 (ipykernel)",
   "language": "python",
   "name": "python3"
  },
  "language_info": {
   "codemirror_mode": {
    "name": "ipython",
    "version": 3
   },
   "file_extension": ".py",
   "mimetype": "text/x-python",
   "name": "python",
   "nbconvert_exporter": "python",
   "pygments_lexer": "ipython3",
   "version": "3.8.5"
  },
  "toc": {
   "base_numbering": 1,
   "nav_menu": {},
   "number_sections": true,
   "sideBar": true,
   "skip_h1_title": false,
   "title_cell": "Table of Contents",
   "title_sidebar": "Contents",
   "toc_cell": false,
   "toc_position": {},
   "toc_section_display": true,
   "toc_window_display": false
  },
  "varInspector": {
   "cols": {
    "lenName": 16,
    "lenType": 16,
    "lenVar": 40
   },
   "kernels_config": {
    "python": {
     "delete_cmd_postfix": "",
     "delete_cmd_prefix": "del ",
     "library": "var_list.py",
     "varRefreshCmd": "print(var_dic_list())"
    },
    "r": {
     "delete_cmd_postfix": ") ",
     "delete_cmd_prefix": "rm(",
     "library": "var_list.r",
     "varRefreshCmd": "cat(var_dic_list()) "
    }
   },
   "types_to_exclude": [
    "module",
    "function",
    "builtin_function_or_method",
    "instance",
    "_Feature"
   ],
   "window_display": false
  }
 },
 "nbformat": 4,
 "nbformat_minor": 5
}
