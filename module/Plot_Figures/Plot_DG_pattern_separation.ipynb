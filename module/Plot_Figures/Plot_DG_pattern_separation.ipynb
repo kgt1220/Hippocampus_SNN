{
 "cells": [
  {
   "cell_type": "code",
   "execution_count": 2,
   "id": "1107014d",
   "metadata": {
    "ExecuteTime": {
     "end_time": "2024-09-11T03:27:15.653789Z",
     "start_time": "2024-09-11T03:27:13.647135Z"
    }
   },
   "outputs": [],
   "source": [
    "import numpy as np\n",
    "import random\n",
    "import matplotlib.pyplot as plt\n",
    "from matplotlib.patches import Rectangle\n",
    "import matplotlib.cm as cm \n",
    "import seaborn as sns\n",
    "import pandas as pd\n",
    "from scipy import signal\n",
    "\n",
    "import winsound as sd\n",
    "import pickle\n",
    "import os\n",
    "import sys"
   ]
  },
  {
   "cell_type": "code",
   "execution_count": null,
   "id": "c9075363",
   "metadata": {
    "ExecuteTime": {
     "end_time": "2024-09-11T03:27:08.305711Z",
     "start_time": "2024-09-11T03:27:08.305711Z"
    }
   },
   "outputs": [],
   "source": [
    "# Load\n",
    "cd = os.getcwd()\n",
    "path = os.path.dirname(cd)\n",
    "\n",
    "with open(path+'//Data_DG.pkl', 'rb') as file:\n",
    "    # Patterns in input layer\n",
    "    Data = pickle.load(file)   \n",
    "    # The number of data\n",
    "    Datalen = pickle.load(file)    \n",
    "    # Patterns of granule cells\n",
    "    Data_DG = pickle.load(file)\n",
    "    \n",
    "    # Lengths of each patterns of granule cells\n",
    "    Data_DG_len = pickle.load(file)\n",
    "    Data_idx = pickle.load(file) # indices of patterns having proper lengths\n",
    "    DataX_idx = pickle.load(file) # indices of patterns having proper lengths\n",
    "    \n",
    "    # input/output overlap values and indices\n",
    "    OverI = pickle.load(file)\n",
    "    OverO = pickle.load(file)\n",
    "    Pair_idx = pickle.load(file)\n",
    "    \n",
    "    # input/output overlap values and indices for inputs having proper lengths\n",
    "    OverI_v2 = pickle.load(file)\n",
    "    OverO_v2 = pickle.load(file)\n",
    "    Pair_idx_v2 = pickle.load(file)"
   ]
  },
  {
   "cell_type": "code",
   "execution_count": null,
   "id": "ab90c79e",
   "metadata": {
    "ExecuteTime": {
     "end_time": "2024-09-11T03:27:08.307706Z",
     "start_time": "2024-09-11T03:27:08.307706Z"
    }
   },
   "outputs": [],
   "source": [
    "# 중복 데이터 제거\n",
    "Data_set = []\n",
    "for n in range(Datalen):\n",
    "    Data_set.append(set(np.where(Data[:,n] !=0)[0]))\n",
    "Repeated_data = []\n",
    "for i, comp in enumerate(Data_set):\n",
    "    for j, comp2 in enumerate(Data_set):\n",
    "        if i < j:\n",
    "            if comp == comp2:\n",
    "                Repeated_data.append(j)\n",
    "                \n",
    "Data_final_idx = set(range(Datalen))-set(Repeated_data)\n",
    "Datalen_final = len(Data_final_idx)\n",
    "Data_final = np.zeros((16,Datalen_final))\n",
    "for i, comp in enumerate(Data_final_idx):\n",
    "    Data_final[:,i] = Data[:,comp]\n",
    "print(Datalen_final)"
   ]
  },
  {
   "cell_type": "code",
   "execution_count": null,
   "id": "1b1a9cbf",
   "metadata": {
    "ExecuteTime": {
     "end_time": "2024-09-11T03:27:08.309700Z",
     "start_time": "2024-09-11T03:27:08.309700Z"
    }
   },
   "outputs": [],
   "source": [
    "with open(path+'//Data_final.pkl', 'rb') as file:\n",
    "    # Filtered by proper length\n",
    "    Filt_idata = pickle.load(file) # patterns in input layer\n",
    "    Filt_gdata = pickle.load(file) # patterns of granule cells\n",
    "    Filt_glen = pickle.load(file) # lengths of each patterns of granule cells\n",
    "    F_DataLen = pickle.load(file) # the number of data\n",
    "    \n",
    "    # Index of CA3 patterns\n",
    "    Af_py = pickle.load(file) # Pyramidal neurons\n",
    "    Af_in = pickle.load(file) # Inhibitory neurons\n",
    "    \n",
    "    # \n",
    "    In_py_list = pickle.load(file)\n",
    "    In_in_list = pickle.load(file)"
   ]
  },
  {
   "cell_type": "code",
   "execution_count": null,
   "id": "04037250",
   "metadata": {
    "ExecuteTime": {
     "end_time": "2024-09-11T03:27:08.310697Z",
     "start_time": "2024-09-11T03:27:08.310697Z"
    }
   },
   "outputs": [],
   "source": [
    "def cal_overlap(total,A,B):\n",
    "    if (len(A)+len(B)) !=0:\n",
    "        output = len(A-(total- B))*2 / (len(A)+len(B))\n",
    "    else:\n",
    "        output = 0\n",
    "    return output"
   ]
  },
  {
   "cell_type": "code",
   "execution_count": null,
   "id": "501fbc70",
   "metadata": {
    "ExecuteTime": {
     "end_time": "2024-09-11T03:27:08.313689Z",
     "start_time": "2024-09-11T03:27:08.313689Z"
    }
   },
   "outputs": [],
   "source": [
    "Overlap_ascending_I = []\n",
    "Overlap_ascending_O = []\n",
    "Classfy_num = 25\n",
    "for n in range(Classfy_num+1):\n",
    "    Overlap_ascending_I.append([])\n",
    "    Overlap_ascending_O.append([])\n",
    "    \n",
    "for i, comp in enumerate(OverI):\n",
    "    if comp == 0:\n",
    "        Overlap_ascending_I[0].append(comp)\n",
    "        Overlap_ascending_O[0].append(OverO[i])\n",
    "    for n in range(Classfy_num):    \n",
    "        if (1/Classfy_num)*n < comp <= (1/Classfy_num)*n+(1/Classfy_num):\n",
    "            Overlap_ascending_I[n+1].append(comp)\n",
    "            Overlap_ascending_O[n+1].append(OverO[i])"
   ]
  },
  {
   "cell_type": "code",
   "execution_count": null,
   "id": "9ab094a0",
   "metadata": {
    "ExecuteTime": {
     "end_time": "2024-09-11T03:27:08.315683Z",
     "start_time": "2024-09-11T03:27:08.315683Z"
    }
   },
   "outputs": [],
   "source": [
    "OverI_block = []\n",
    "OverO_block = []\n",
    "for i, comp in enumerate(Overlap_ascending_I):\n",
    "    OverI_block.append(np.mean(comp))\n",
    "    OverO_block.append(np.mean(Overlap_ascending_O[i]))\n",
    "    \n",
    "DeltaI_block = []\n",
    "DeltaO_block = []\n",
    "DeltaO_block_std = []\n",
    "for i, comp in enumerate(Overlap_ascending_I):\n",
    "    DeltaI_block.append(1-np.mean(comp))\n",
    "    DeltaO_block.append(1-np.mean(Overlap_ascending_O[i]))\n",
    "    DeltaO_block_std.append(np.std(np.array(Overlap_ascending_O[-1])))"
   ]
  },
  {
   "cell_type": "markdown",
   "id": "a88377ca",
   "metadata": {
    "ExecuteTime": {
     "end_time": "2024-09-10T06:46:26.562812Z",
     "start_time": "2024-09-10T06:46:25.592393Z"
    }
   },
   "source": [
    "x = np.linspace(0,1,100)\n",
    "fig = plt.subplot(111)\n",
    "plt.scatter(DeltaI_block, DeltaO_block, color='#423121', label='DG')\n",
    "#plt.errorbar(DeltaI_block, DeltaO_block, yerr=DeltaO_block_std, fmt=\"o\")\n",
    "plt.plot(x,x, color='black')\n",
    "#plt.xlim([0,1])\n",
    "#plt.ylim([0,1.2])\n",
    "plt.xlabel('$\\Delta$ Input')\n",
    "plt.ylabel('$\\Delta$ Output (DG)')\n",
    "plt.axis(\"square\")\n",
    "fig.spines['top'].set_visible(False)\n",
    "fig.spines['right'].set_visible(False)\n",
    "plt.savefig('Separation performance of DG.pdf', bbox_inches='tight')\n",
    "plt.show()"
   ]
  },
  {
   "cell_type": "code",
   "execution_count": null,
   "id": "3bfbfa7b",
   "metadata": {
    "ExecuteTime": {
     "end_time": "2024-09-11T03:27:08.326655Z",
     "start_time": "2024-09-11T03:27:08.326655Z"
    }
   },
   "outputs": [],
   "source": [
    "data_dic = {}\n",
    "data_dic['$\\Delta$ Input'] = []\n",
    "data_dic['$\\Delta$ Output (DG)'] = []\n",
    "for i, comp in enumerate(DeltaI_block):\n",
    "    for m in range(len(Overlap_ascending_O[i])):\n",
    "        data_dic['$\\Delta$ Input'].append(comp)\n",
    "    data_dic['$\\Delta$ Output (DG)'] += list(1-np.array(Overlap_ascending_O[i]))\n",
    "\n",
    "df = pd.DataFrame(data_dic)    \n",
    "    \n",
    "fig = plt.subplot(111)\n",
    "sns.set(rc={'figure.figsize':(5, 5)})\n",
    "sns.set_theme(style='white')\n",
    "ax = sns.lineplot(data = df, x='$\\Delta$ Input', y='$\\Delta$ Output (DG)', color='#423121', marker='o', markersize=7.5, linewidth=2.5)\n",
    "ax.tick_params(axis='both', direction='out', length=3.5, width=0.75, colors='black')\n",
    "x = np.linspace(0,1,100)\n",
    "plt.plot(x,x, color='black')\n",
    "plt.xlim([0,1.05])\n",
    "plt.ylim([0,1.05])\n",
    "plt.xlabel('$\\Delta$ Input', fontsize=16)\n",
    "plt.ylabel('$\\Delta$ DG output', fontsize=16)\n",
    "plt.title('Pattern separation performance', fontsize=16)\n",
    "fig.spines['top'].set_visible(False)\n",
    "fig.spines['right'].set_visible(False)\n",
    "fig.set_aspect(1.0 / fig.get_data_ratio(), adjustable=\"box\")\n",
    "plt.savefig('Separation performance of DG.pdf', bbox_inches='tight')\n",
    "plt.show()"
   ]
  },
  {
   "cell_type": "code",
   "execution_count": null,
   "id": "bce7f080",
   "metadata": {
    "ExecuteTime": {
     "end_time": "2024-09-11T03:27:08.330644Z",
     "start_time": "2024-09-11T03:27:08.330644Z"
    }
   },
   "outputs": [],
   "source": [
    "OverI_new = np.array([])\n",
    "OverO_new = np.array([])\n",
    "\n",
    "for i, comp in enumerate(OverI):\n",
    "    if comp != 0:\n",
    "        OverI_new = np.append(OverI_new, comp)\n",
    "        OverO_new = np.append(OverO_new, OverO[i])"
   ]
  },
  {
   "cell_type": "code",
   "execution_count": null,
   "id": "580e5ada",
   "metadata": {
    "ExecuteTime": {
     "end_time": "2024-09-11T03:27:08.332638Z",
     "start_time": "2024-09-11T03:27:08.331641Z"
    }
   },
   "outputs": [],
   "source": [
    "palette = sns.color_palette('cool')\n",
    "palette"
   ]
  },
  {
   "cell_type": "code",
   "execution_count": null,
   "id": "fed012f3",
   "metadata": {
    "ExecuteTime": {
     "end_time": "2024-09-11T03:27:08.333636Z",
     "start_time": "2024-09-11T03:27:08.333636Z"
    }
   },
   "outputs": [],
   "source": [
    "fig, (ax1, ax2) = plt.subplots(2, 1, sharex=True, figsize=(5,5))\n",
    "sns.set_theme(style='white')\n",
    "fig.subplots_adjust(hspace = 0.1)\n",
    "ax1 = sns.histplot(OverI_v2, binwidth= 0.05, kde=False, stat='percent', color=palette[1], multiple='dodge', ax=ax1)\n",
    "ax1 = sns.histplot(OverO_v2, binwidth= 0.05, kde=False, stat='percent', color=palette[-3], multiple='dodge', ax=ax1)\n",
    "ax2 = sns.histplot(OverI_v2, binwidth= 0.05, kde=False, stat='percent', color=palette[1], multiple='dodge', ax=ax2)\n",
    "ax2 = sns.histplot(OverO_v2, binwidth= 0.05, kde=False, stat='percent', color=palette[-3], multiple='dodge', ax=ax2)\n",
    "\n",
    "ax2.set_xlabel('Similarity between engrams', fontsize=16)\n",
    "ax1.set_ylabel(\"\")\n",
    "ax2.set_ylabel(\"\")\n",
    "\n",
    "ax1.set_ylim(60, 100)\n",
    "ax2.set_ylim(0, 20)\n",
    "\n",
    "fig.text(-0.02, 0.5, \"Information pair distribution (%)\", va='center', rotation = 'vertical', fontsize=16)\n",
    "fig.text(0.2, 0.95, 'Distribution of engram pairs', va='center', fontsize=16)\n",
    "ax1.get_xaxis().set_visible(False)\n",
    "\n",
    "d = .7    # how big to make the diagonal lines in axes coordinates\n",
    "\n",
    "kwargs = dict(marker=[(-1, -d), (1, d)], markersize=15, linestyle=\"none\", color='k', clip_on=False)\n",
    "\n",
    "ax1.plot([0.05, 0.09], [0, 0], transform=ax1.transAxes, **kwargs)\n",
    "ax2.plot([0.05, 0.09], [1, 1], transform=ax2.transAxes, **kwargs)\n",
    "ax1.legend(handles=[Rectangle((0,0), 0, 0, color = palette[1], label=\"Input (sEC)\"), Rectangle((0,0), 0, 0, color = palette[-3], label=\"Output (DG)\")],  loc='upper right', frameon=False)\n",
    "\n",
    "ax1.spines['bottom'].set_visible(False)\n",
    "ax2.spines['top'].set_visible(False)\n",
    "\n",
    "ax1.spines['top'].set_visible(False)\n",
    "ax1.spines['right'].set_visible(False)\n",
    "ax2.spines['right'].set_visible(False)\n",
    "#plt.savefig('Histogram for DG overlap.pdf', bbox_inches='tight')\n",
    "plt.show()"
   ]
  },
  {
   "cell_type": "code",
   "execution_count": null,
   "id": "b6a6ae72",
   "metadata": {},
   "outputs": [],
   "source": []
  }
 ],
 "metadata": {
  "kernelspec": {
   "display_name": "Python 3 (ipykernel)",
   "language": "python",
   "name": "python3"
  },
  "language_info": {
   "codemirror_mode": {
    "name": "ipython",
    "version": 3
   },
   "file_extension": ".py",
   "mimetype": "text/x-python",
   "name": "python",
   "nbconvert_exporter": "python",
   "pygments_lexer": "ipython3",
   "version": "3.8.5"
  },
  "toc": {
   "base_numbering": 1,
   "nav_menu": {},
   "number_sections": true,
   "sideBar": true,
   "skip_h1_title": false,
   "title_cell": "Table of Contents",
   "title_sidebar": "Contents",
   "toc_cell": false,
   "toc_position": {},
   "toc_section_display": true,
   "toc_window_display": false
  },
  "varInspector": {
   "cols": {
    "lenName": 16,
    "lenType": 16,
    "lenVar": 40
   },
   "kernels_config": {
    "python": {
     "delete_cmd_postfix": "",
     "delete_cmd_prefix": "del ",
     "library": "var_list.py",
     "varRefreshCmd": "print(var_dic_list())"
    },
    "r": {
     "delete_cmd_postfix": ") ",
     "delete_cmd_prefix": "rm(",
     "library": "var_list.r",
     "varRefreshCmd": "cat(var_dic_list()) "
    }
   },
   "types_to_exclude": [
    "module",
    "function",
    "builtin_function_or_method",
    "instance",
    "_Feature"
   ],
   "window_display": false
  }
 },
 "nbformat": 4,
 "nbformat_minor": 5
}
