{
 "cells": [
  {
   "cell_type": "code",
   "execution_count": 1,
   "id": "cbb2e6dc",
   "metadata": {
    "ExecuteTime": {
     "end_time": "2024-10-31T05:23:37.594886Z",
     "start_time": "2024-10-31T05:23:35.111052Z"
    }
   },
   "outputs": [],
   "source": [
    "import numpy as np\n",
    "import random\n",
    "import matplotlib.pyplot as plt\n",
    "import matplotlib.cm as cm \n",
    "import seaborn as sns\n",
    "import pandas as pd\n",
    "from scipy import signal\n",
    "from importlib import reload\n",
    "\n",
    "import winsound as sd\n",
    "import pickle\n",
    "import sys\n",
    "import os"
   ]
  },
  {
   "cell_type": "code",
   "execution_count": 2,
   "id": "0f91fb0d",
   "metadata": {
    "ExecuteTime": {
     "end_time": "2024-10-31T05:23:38.102716Z",
     "start_time": "2024-10-31T05:23:37.598877Z"
    },
    "code_folding": []
   },
   "outputs": [],
   "source": [
    "# load\n",
    "cd = os.getcwd()\n",
    "path = os.path.dirname(cd)\n",
    "    \n",
    "with open(path+'//Data_final.pkl', 'rb') as file:\n",
    "    Filt_idata = pickle.load(file)\n",
    "    Filt_gdata = pickle.load(file)\n",
    "    Filt_glen = pickle.load(file)\n",
    "    F_DataLen = pickle.load(file)\n",
    "    \n",
    "    Af_py = pickle.load(file)\n",
    "    Af_in = pickle.load(file)\n",
    "    \n",
    "    In_py_list = pickle.load(file)\n",
    "    In_in_list = pickle.load(file)"
   ]
  },
  {
   "cell_type": "code",
   "execution_count": 3,
   "id": "d8923924",
   "metadata": {
    "ExecuteTime": {
     "end_time": "2024-10-31T05:23:38.118675Z",
     "start_time": "2024-10-31T05:23:38.105711Z"
    }
   },
   "outputs": [],
   "source": [
    "with open(path+'//module//Weights_Sim//Learned weights-sim_encoding.pkl', 'rb') as file:\n",
    "    DG_E_list = pickle.load(file)\n",
    "    CA3_E_list = pickle.load(file)\n",
    "    CA1_E_list = pickle.load(file)"
   ]
  },
  {
   "cell_type": "code",
   "execution_count": 4,
   "id": "f37e8ddd",
   "metadata": {
    "ExecuteTime": {
     "end_time": "2024-10-31T05:23:38.134269Z",
     "start_time": "2024-10-31T05:23:38.122672Z"
    }
   },
   "outputs": [],
   "source": [
    "with open(path+'//module//Weights_Sim//Learned weights-sim_144.pkl', 'rb') as file:\n",
    "    DG_E_T = pickle.load(file)\n",
    "    CA3_E_T = pickle.load(file)\n",
    "    CA1_E_T = pickle.load(file)"
   ]
  },
  {
   "cell_type": "code",
   "execution_count": 5,
   "id": "fa06329e",
   "metadata": {
    "ExecuteTime": {
     "end_time": "2024-10-31T05:23:38.150226Z",
     "start_time": "2024-10-31T05:23:38.137262Z"
    }
   },
   "outputs": [],
   "source": [
    "targetCA1 = [ 12,  14,  15,  21,  22,  31,  35,  37,  40,  56,  59,  74,  77,\n",
    "         87,  88,  93,  94,  96, 104, 109, 111, 113, 116, 122, 135, 136,\n",
    "        141, 150, 157, 164, 166, 182, 186, 192, 193, 196]"
   ]
  },
  {
   "cell_type": "code",
   "execution_count": 6,
   "id": "9dc95b75",
   "metadata": {
    "ExecuteTime": {
     "end_time": "2024-10-31T05:23:38.166183Z",
     "start_time": "2024-10-31T05:23:38.152221Z"
    }
   },
   "outputs": [],
   "source": [
    "temp = np.zeros(200)\n",
    "temp[targetCA1] = 1\n",
    "CA1_E_T = [temp]"
   ]
  },
  {
   "cell_type": "code",
   "execution_count": 7,
   "id": "1b62ba73",
   "metadata": {
    "ExecuteTime": {
     "end_time": "2024-10-31T05:23:38.182141Z",
     "start_time": "2024-10-31T05:23:38.169175Z"
    }
   },
   "outputs": [],
   "source": [
    "#             pickle.dump(network.q_ppCA3, file)\n",
    "#             pickle.dump(network.q_Rc, file)\n",
    "#             pickle.dump(network.q_CA33i, file)\n",
    "#             pickle.dump(network.q_Sc, file)"
   ]
  },
  {
   "cell_type": "code",
   "execution_count": 8,
   "id": "1f5aeeb9",
   "metadata": {
    "ExecuteTime": {
     "end_time": "2024-10-31T05:23:41.372341Z",
     "start_time": "2024-10-31T05:23:38.185135Z"
    }
   },
   "outputs": [],
   "source": [
    "# 전반적인 cue 200개에 대한 결과\n",
    "path_results = '//module//Results_sim'\n",
    "\n",
    "for n in range(105):\n",
    "    with open(path+path_results+'//Results-sim%d.pkl' %(n), 'rb') as file:\n",
    "        globals()[\"Success{}\".format(n)] = pickle.load(file)\n",
    "        globals()[\"Fail{}\".format(n)] = pickle.load(file)\n",
    "        globals()[\"If_fail{}\".format(n)] = pickle.load(file)\n",
    "        \n",
    "        globals()[\"CA3_R_list{}\".format(n)] = pickle.load(file)\n",
    "        globals()[\"CA1_R_list{}\".format(n)] = pickle.load(file)"
   ]
  },
  {
   "cell_type": "code",
   "execution_count": 9,
   "id": "3a6a910e",
   "metadata": {
    "ExecuteTime": {
     "end_time": "2024-10-31T05:23:41.403259Z",
     "start_time": "2024-10-31T05:23:41.375334Z"
    }
   },
   "outputs": [],
   "source": [
    "with open(path+'//module//Cue_Sim_v2.pkl', 'rb') as file:\n",
    "    Cue_Data = pickle.load(file)"
   ]
  },
  {
   "cell_type": "code",
   "execution_count": 10,
   "id": "03d8bf5b",
   "metadata": {
    "ExecuteTime": {
     "end_time": "2024-10-31T05:23:41.419216Z",
     "start_time": "2024-10-31T05:23:41.411238Z"
    },
    "code_folding": [
     0
    ]
   },
   "outputs": [],
   "source": [
    "def cal_overlap(total,A,B):\n",
    "    if (len(A)+len(B)) !=0:\n",
    "        output = len(A.intersection(B))*2 / (len(A)+len(B))\n",
    "    else:\n",
    "        output = 0\n",
    "    return output"
   ]
  },
  {
   "cell_type": "code",
   "execution_count": 11,
   "id": "d2e65877",
   "metadata": {
    "ExecuteTime": {
     "end_time": "2024-10-31T05:23:41.435174Z",
     "start_time": "2024-10-31T05:23:41.423207Z"
    },
    "code_folding": [
     0
    ]
   },
   "outputs": [],
   "source": [
    "def cal_relative_overlap_CA1(total, B, T):\n",
    "    temp_list = []\n",
    "    for i, comp in enumerate(Target_fin):\n",
    "        temp2 = set(np.where(Filt_idata[:,comp]!=0)[0])\n",
    "        temp_list.append(cal_overlap(total,temp2,B))\n",
    "    if np.max(temp_list) !=0:\n",
    "        temp_list = temp_list/np.max(temp_list)\n",
    "        return temp_list[T]   \n",
    "    else:\n",
    "        return 0"
   ]
  },
  {
   "cell_type": "code",
   "execution_count": 12,
   "id": "bb60e523",
   "metadata": {
    "ExecuteTime": {
     "end_time": "2024-10-31T05:23:41.451132Z",
     "start_time": "2024-10-31T05:23:41.439164Z"
    },
    "code_folding": []
   },
   "outputs": [],
   "source": [
    "def cal_relative_overlap_CA3(total, B, T):\n",
    "    temp_list = []\n",
    "    for i, comp in enumerate(Target_fin):\n",
    "        temp2 = set(Af_py[comp])\n",
    "        temp_list.append(cal_overlap(total,temp2,B))\n",
    "    if np.max(temp_list) !=0:\n",
    "        temp_list = temp_list/np.max(temp_list)\n",
    "        return temp_list[T]   \n",
    "    else:\n",
    "        return 0           "
   ]
  },
  {
   "cell_type": "code",
   "execution_count": 13,
   "id": "55f066b0",
   "metadata": {
    "ExecuteTime": {
     "end_time": "2024-10-31T05:23:41.467089Z",
     "start_time": "2024-10-31T05:23:41.455121Z"
    },
    "code_folding": [
     0
    ]
   },
   "outputs": [],
   "source": [
    "def cal_relative_overlap_DG(total, B, T):\n",
    "    temp_list = []\n",
    "    for i, comp in enumerate(Target_fin):\n",
    "        temp2 = set(np.where(Filt_gdata[:,comp]!=0)[0])\n",
    "        temp_list.append(cal_overlap(total,temp2,B))\n",
    "    if np.max(temp_list) !=0:\n",
    "        temp_list = temp_list/np.max(temp_list)\n",
    "        return temp_list[T]   \n",
    "    else:\n",
    "        return 0        "
   ]
  },
  {
   "cell_type": "code",
   "execution_count": 14,
   "id": "6ae49d84",
   "metadata": {
    "ExecuteTime": {
     "end_time": "2024-10-31T05:23:41.499004Z",
     "start_time": "2024-10-31T05:23:41.470082Z"
    },
    "code_folding": []
   },
   "outputs": [],
   "source": [
    "def calculate_success(CA3_R_list, CA1_R_list, CA3, Data, CN, num_cue, repeat):\n",
    "    Trial = repeat\n",
    "    Trial_CA3 = np.zeros(Trial)\n",
    "    Trial_CA1 = np.zeros(Trial)\n",
    "    Inter_CA1 = np.zeros(Trial)\n",
    "    # CA3 firing rate\n",
    "    N = 3\n",
    "    # CA3 firing ratio\n",
    "    R = 0.3\n",
    "    Success = 0\n",
    "    S_list = []\n",
    "    Weird = 0\n",
    "    Interference = 0\n",
    "    Fail = 0\n",
    "    Classify_num = CN\n",
    "    Winner = np.zeros(Classify_num)\n",
    "\n",
    "    # 각 trial 에서 CA3의 firing rate N 보다 큰 애들 인덱스\n",
    "    # 각 엔그램이랑 겹치는 정도 R\n",
    "    for i, comp in enumerate(CA3_R_list):\n",
    "        temp = np.where(comp >= N)[0]\n",
    "        # firing neuron과 target engram과의 overlap 정도 비교\n",
    "        # 어느 하나로 수렴했으면 +1\n",
    "        # 여러 엔그램으로 수렴했으면 1< 일 것\n",
    "        for j, ca3 in enumerate(CA3):\n",
    "            if len(ca3)== 0:\n",
    "                Trial_CA3[i] += 0\n",
    "            else:\n",
    "                if len(set(temp).intersection(set(ca3)))/len(ca3) >= R:\n",
    "                    Trial_CA3[i] += 1\n",
    "\n",
    "    # 각 trial 에서 CA1의 firing rate 1보다 큰 애들 인덱스\n",
    "    # 특정 인풋이랑 완전히 일치해야만 성공\n",
    "    for i, comp in enumerate(CA1_R_list):\n",
    "        # 일단 발화했으면 다 체크\n",
    "        temp = np.where(comp >= 1)[0]\n",
    "        # 그리고 최종적으로 발화한 애들이 2보단 많이 발화해야함\n",
    "        temp2 = np.where(comp >= 2)[0]\n",
    "        \n",
    "        for j, data in enumerate(Data):\n",
    "            # 일단 발화한 애들이 어떤 data로 수렴했고\n",
    "            if len(temp) == len(data) and len(set(temp).intersection(set(data))) == len(temp):\n",
    "                # 얘네가 충분히 rate가 크다면 +1\n",
    "                if len(temp) == len(temp2):\n",
    "                    Trial_CA1[i] += 1\n",
    "                    Winner[j] += 1\n",
    "            elif len(set(temp2)) !=0:\n",
    "                Inter_CA1[i] += 1\n",
    "        \n",
    "    for n in range(Trial):\n",
    "        if Trial_CA1[n] == 1:\n",
    "            Success += 1\n",
    "            S_list.append(1)\n",
    "        # CA3에서 여러 engram이 발화했지만 성공했을 때\n",
    "        #elif Trial_CA3[n] == 0 and Trial_CA1[n] == 1:\n",
    "        #    Weird += 1\n",
    "        #    S_list.append(0)\n",
    "        # CA3에서 여러 engram이 발화하면서 성공도 못했을 때\n",
    "        # 여러 engram이 발화했어도 CA1에 영향없으면 괜찮기 때문\n",
    "        elif Inter_CA1[n] != 0 and Trial_CA3[n] > 1:\n",
    "            Interference += 1\n",
    "            S_list.append(0)\n",
    "        else:\n",
    "            Fail += 1\n",
    "            S_list.append(0)\n",
    "    print('Success : ', Success)\n",
    "    #print('Weird : ', Weird)\n",
    "    print('Interference : ', Interference)\n",
    "    print('Fail : ', Fail)\n",
    "    return Success, Winner, Trial_CA1, Trial_CA3"
   ]
  },
  {
   "cell_type": "code",
   "execution_count": 15,
   "id": "ec84a481",
   "metadata": {
    "ExecuteTime": {
     "end_time": "2024-10-31T05:23:41.528925Z",
     "start_time": "2024-10-31T05:23:41.507987Z"
    }
   },
   "outputs": [],
   "source": [
    "Target = Filt_idata[:,144]\n",
    "Target = np.append(Target, Cue_Data[:,0])\n",
    "Target = np.reshape(Target, (2,16)).T"
   ]
  },
  {
   "cell_type": "code",
   "execution_count": 16,
   "id": "cc5420ff",
   "metadata": {
    "ExecuteTime": {
     "end_time": "2024-10-31T05:23:41.559842Z",
     "start_time": "2024-10-31T05:23:41.531916Z"
    }
   },
   "outputs": [
    {
     "data": {
      "text/plain": [
       "105"
      ]
     },
     "execution_count": 16,
     "metadata": {},
     "output_type": "execute_result"
    }
   ],
   "source": [
    "len(CA3_E_list)"
   ]
  },
  {
   "cell_type": "code",
   "execution_count": 17,
   "id": "927a989a",
   "metadata": {
    "ExecuteTime": {
     "end_time": "2024-10-31T05:23:41.732381Z",
     "start_time": "2024-10-31T05:23:41.562834Z"
    },
    "scrolled": true
   },
   "outputs": [
    {
     "name": "stdout",
     "output_type": "stream",
     "text": [
      "Success :  22\n",
      "Interference :  0\n",
      "Fail :  8\n",
      "Success :  28\n",
      "Interference :  0\n",
      "Fail :  2\n",
      "Success :  9\n",
      "Interference :  0\n",
      "Fail :  21\n",
      "Success :  27\n",
      "Interference :  0\n",
      "Fail :  3\n",
      "Success :  0\n",
      "Interference :  0\n",
      "Fail :  30\n",
      "Success :  25\n",
      "Interference :  0\n",
      "Fail :  5\n",
      "Success :  0\n",
      "Interference :  0\n",
      "Fail :  30\n",
      "Success :  19\n",
      "Interference :  0\n",
      "Fail :  11\n",
      "Success :  2\n",
      "Interference :  0\n",
      "Fail :  28\n",
      "Success :  19\n",
      "Interference :  0\n",
      "Fail :  11\n",
      "Success :  2\n",
      "Interference :  0\n",
      "Fail :  28\n",
      "Success :  29\n",
      "Interference :  0\n",
      "Fail :  1\n",
      "Success :  2\n",
      "Interference :  0\n",
      "Fail :  28\n",
      "Success :  27\n",
      "Interference :  0\n",
      "Fail :  3\n",
      "Success :  23\n",
      "Interference :  0\n",
      "Fail :  7\n",
      "Success :  19\n",
      "Interference :  3\n",
      "Fail :  8\n",
      "Success :  23\n",
      "Interference :  0\n",
      "Fail :  7\n",
      "Success :  28\n",
      "Interference :  0\n",
      "Fail :  2\n",
      "Success :  21\n",
      "Interference :  0\n",
      "Fail :  9\n",
      "Success :  14\n",
      "Interference :  0\n",
      "Fail :  16\n",
      "Success :  21\n",
      "Interference :  0\n",
      "Fail :  9\n",
      "Success :  22\n",
      "Interference :  0\n",
      "Fail :  8\n",
      "Success :  21\n",
      "Interference :  0\n",
      "Fail :  9\n",
      "Success :  20\n",
      "Interference :  0\n",
      "Fail :  10\n",
      "Success :  18\n",
      "Interference :  0\n",
      "Fail :  12\n",
      "Success :  21\n",
      "Interference :  0\n",
      "Fail :  9\n",
      "Success :  0\n",
      "Interference :  28\n",
      "Fail :  2\n",
      "Success :  15\n",
      "Interference :  0\n",
      "Fail :  15\n",
      "Success :  26\n",
      "Interference :  0\n",
      "Fail :  4\n",
      "Success :  14\n",
      "Interference :  0\n",
      "Fail :  16\n",
      "Success :  24\n",
      "Interference :  0\n",
      "Fail :  6\n",
      "Success :  23\n",
      "Interference :  0\n",
      "Fail :  7\n",
      "Success :  27\n",
      "Interference :  0\n",
      "Fail :  3\n",
      "Success :  0\n",
      "Interference :  28\n",
      "Fail :  2\n",
      "Success :  17\n",
      "Interference :  0\n",
      "Fail :  13\n",
      "Success :  23\n",
      "Interference :  0\n",
      "Fail :  7\n",
      "Success :  23\n",
      "Interference :  0\n",
      "Fail :  7\n",
      "Success :  20\n",
      "Interference :  0\n",
      "Fail :  10\n",
      "Success :  25\n",
      "Interference :  0\n",
      "Fail :  5\n",
      "Success :  0\n",
      "Interference :  30\n",
      "Fail :  0\n",
      "Success :  20\n",
      "Interference :  0\n",
      "Fail :  10\n",
      "Success :  0\n",
      "Interference :  30\n",
      "Fail :  0\n",
      "Success :  24\n",
      "Interference :  1\n",
      "Fail :  5\n",
      "Success :  19\n",
      "Interference :  0\n",
      "Fail :  11\n",
      "Success :  22\n",
      "Interference :  0\n",
      "Fail :  8\n",
      "Success :  20\n",
      "Interference :  0\n",
      "Fail :  10\n",
      "Success :  22\n",
      "Interference :  0\n",
      "Fail :  8\n",
      "Success :  16\n",
      "Interference :  7\n",
      "Fail :  7\n",
      "Success :  19\n",
      "Interference :  1\n",
      "Fail :  10\n",
      "Success :  22\n",
      "Interference :  0\n",
      "Fail :  8\n",
      "Success :  25\n",
      "Interference :  1\n",
      "Fail :  4\n",
      "Success :  27\n",
      "Interference :  0\n",
      "Fail :  3\n",
      "Success :  23\n",
      "Interference :  0\n",
      "Fail :  7\n",
      "Success :  19\n",
      "Interference :  0\n",
      "Fail :  11\n",
      "Success :  28\n",
      "Interference :  0\n",
      "Fail :  2\n",
      "Success :  24\n",
      "Interference :  0\n",
      "Fail :  6\n",
      "Success :  25\n",
      "Interference :  0\n",
      "Fail :  5\n",
      "Success :  0\n",
      "Interference :  21\n",
      "Fail :  9\n",
      "Success :  25\n",
      "Interference :  0\n",
      "Fail :  5\n",
      "Success :  25\n",
      "Interference :  0\n",
      "Fail :  5\n",
      "Success :  27\n",
      "Interference :  0\n",
      "Fail :  3\n",
      "Success :  27\n",
      "Interference :  0\n",
      "Fail :  3\n",
      "Success :  0\n",
      "Interference :  22\n",
      "Fail :  8\n",
      "Success :  27\n",
      "Interference :  0\n",
      "Fail :  3\n",
      "Success :  1\n",
      "Interference :  19\n",
      "Fail :  10\n",
      "Success :  27\n",
      "Interference :  0\n",
      "Fail :  3\n",
      "Success :  25\n",
      "Interference :  0\n",
      "Fail :  5\n",
      "Success :  22\n",
      "Interference :  0\n",
      "Fail :  8\n",
      "Success :  28\n",
      "Interference :  0\n",
      "Fail :  2\n",
      "Success :  15\n",
      "Interference :  8\n",
      "Fail :  7\n",
      "Success :  23\n",
      "Interference :  4\n",
      "Fail :  3\n",
      "Success :  26\n",
      "Interference :  0\n",
      "Fail :  4\n",
      "Success :  1\n",
      "Interference :  23\n",
      "Fail :  6\n",
      "Success :  0\n",
      "Interference :  22\n",
      "Fail :  8\n",
      "Success :  0\n",
      "Interference :  25\n",
      "Fail :  5\n",
      "Success :  0\n",
      "Interference :  28\n",
      "Fail :  2\n",
      "Success :  0\n",
      "Interference :  26\n",
      "Fail :  4\n",
      "Success :  0\n",
      "Interference :  26\n",
      "Fail :  4\n",
      "Success :  26\n",
      "Interference :  0\n",
      "Fail :  4\n",
      "Success :  0\n",
      "Interference :  25\n",
      "Fail :  5\n",
      "Success :  20\n",
      "Interference :  0\n",
      "Fail :  10\n",
      "Success :  0\n",
      "Interference :  25\n",
      "Fail :  5\n",
      "Success :  0\n",
      "Interference :  27\n",
      "Fail :  3\n",
      "Success :  0\n",
      "Interference :  26\n",
      "Fail :  4\n",
      "Success :  0\n",
      "Interference :  27\n",
      "Fail :  3\n",
      "Success :  0\n",
      "Interference :  28\n",
      "Fail :  2\n",
      "Success :  0\n",
      "Interference :  26\n",
      "Fail :  4\n",
      "Success :  28\n",
      "Interference :  0\n",
      "Fail :  2\n",
      "Success :  0\n",
      "Interference :  24\n",
      "Fail :  6\n",
      "Success :  24\n",
      "Interference :  0\n",
      "Fail :  6\n",
      "Success :  28\n",
      "Interference :  0\n",
      "Fail :  2\n",
      "Success :  28\n",
      "Interference :  0\n",
      "Fail :  2\n",
      "Success :  27\n",
      "Interference :  0\n",
      "Fail :  3\n",
      "Success :  27\n",
      "Interference :  0\n",
      "Fail :  3\n",
      "Success :  28\n",
      "Interference :  0\n",
      "Fail :  2\n",
      "Success :  24\n",
      "Interference :  0\n",
      "Fail :  6\n",
      "Success :  24\n",
      "Interference :  0\n",
      "Fail :  6\n",
      "Success :  27\n",
      "Interference :  0\n",
      "Fail :  3\n",
      "Success :  25\n",
      "Interference :  0\n",
      "Fail :  5\n",
      "Success :  0\n",
      "Interference :  0\n",
      "Fail :  30\n",
      "Success :  27\n",
      "Interference :  0\n",
      "Fail :  3\n",
      "Success :  29\n",
      "Interference :  0\n",
      "Fail :  1\n",
      "Success :  29\n",
      "Interference :  0\n",
      "Fail :  1\n",
      "Success :  30\n",
      "Interference :  0\n",
      "Fail :  0\n",
      "Success :  28\n",
      "Interference :  0\n",
      "Fail :  2\n"
     ]
    }
   ],
   "source": [
    "Num_cue = 105\n",
    "Repeat = 30\n",
    "Winner_list = np.zeros([2,Num_cue])\n",
    "Success_list = np.zeros(Num_cue)\n",
    "Trial_CA3_list = np.zeros([Repeat,Num_cue])\n",
    "Trial_CA1_list = np.zeros([Repeat,Num_cue])\n",
    "for n in range(Num_cue):\n",
    "    CN = 2\n",
    "    # target data neuron idx on comp task\n",
    "    Data_CP = [np.where(Filt_idata[:,144] !=0)[0]]\n",
    "    Data_CP.append(np.where(Cue_Data[:,n] !=0)[0])\n",
    "\n",
    "    # target CA3 engram idx on competition task\n",
    "    CA3_CP = [Af_py[144], list(np.where(CA3_E_list[n])[0])]\n",
    "    Num_cue_p = 1\n",
    "    Success_list[n], Winner_list[:,n], Trial_CA1_list[:,n], Trial_CA3_list[:,n] = calculate_success(globals()[\"CA3_R_list{}\".format(n)], globals()[\"CA1_R_list{}\".format(n)], CA3_CP, Data_CP, CN, Num_cue_p, Repeat)\n"
   ]
  },
  {
   "cell_type": "code",
   "execution_count": 18,
   "id": "981dca68",
   "metadata": {
    "ExecuteTime": {
     "end_time": "2024-10-31T05:23:41.748339Z",
     "start_time": "2024-10-31T05:23:41.739363Z"
    }
   },
   "outputs": [],
   "source": [
    "Target_fin = [144]"
   ]
  },
  {
   "cell_type": "code",
   "execution_count": 19,
   "id": "febe6535",
   "metadata": {
    "ExecuteTime": {
     "end_time": "2024-10-31T05:23:41.764309Z",
     "start_time": "2024-10-31T05:23:41.754324Z"
    },
    "scrolled": true
   },
   "outputs": [],
   "source": [
    "T_idx = 0\n",
    "NN = Target_fin[T_idx]"
   ]
  },
  {
   "cell_type": "code",
   "execution_count": 20,
   "id": "4b099bfa",
   "metadata": {
    "ExecuteTime": {
     "end_time": "2024-10-31T05:23:41.796213Z",
     "start_time": "2024-10-31T05:23:41.771279Z"
    }
   },
   "outputs": [],
   "source": [
    "Simlist_IN = []\n",
    "Simlist_DG = []\n",
    "Simlist_CA3 = []\n",
    "Simlist_CA1 = []\n",
    "Simlist_idx = []\n",
    "# 각 cue에 대해 발화한 각 영역의 엔그램 idx\n",
    "for n in range(Num_cue):\n",
    "    Simlist_IN.append(np.where(Cue_Data[:,n] !=0)[0])\n",
    "    Simlist_DG.append(np.where(DG_E_list[n] >= 1)[0])\n",
    "    Simlist_CA3.append(np.where(CA3_E_list[n] >= 1)[0])\n",
    "    Simlist_CA1.append(np.where(CA1_E_list[n] >= 1)[0])\n",
    "    Simlist_idx.append(n)"
   ]
  },
  {
   "cell_type": "code",
   "execution_count": 21,
   "id": "913c99e7",
   "metadata": {
    "ExecuteTime": {
     "end_time": "2024-10-31T05:23:41.843087Z",
     "start_time": "2024-10-31T05:23:41.802198Z"
    }
   },
   "outputs": [],
   "source": [
    "with open('Over_En.pkl', 'wb') as file:\n",
    "    pickle.dump(Simlist_IN, file)\n",
    "    pickle.dump(Simlist_DG, file)\n",
    "    pickle.dump(Simlist_CA3, file)\n",
    "    pickle.dump(Simlist_CA1, file)\n",
    "    pickle.dump(Simlist_idx, file)"
   ]
  },
  {
   "cell_type": "code",
   "execution_count": 22,
   "id": "8da62199",
   "metadata": {
    "ExecuteTime": {
     "end_time": "2024-10-31T05:23:41.905919Z",
     "start_time": "2024-10-31T05:23:41.847077Z"
    }
   },
   "outputs": [],
   "source": [
    "# \n",
    "Pair_IN = []\n",
    "Pair_DG = []\n",
    "Pair_CA3 = []\n",
    "Pair_CA1 = []\n",
    "Pair_idx = []\n",
    "idx_DG = []\n",
    "idx_CA1 = []\n",
    "idx_succ = []\n",
    "for i, comp in enumerate(Simlist_DG):\n",
    "    if len(comp) == 0:\n",
    "        idx_DG.append(i)\n",
    "for i, comp in enumerate(Simlist_CA1):\n",
    "    if len(comp) == 0:\n",
    "        idx_CA1.append(i)\n",
    "# for i, comp in enumerate(Success_list):\n",
    "#     if comp < 18:\n",
    "#         idx_succ.append(i)\n",
    "        \n",
    "for i, comp in enumerate(Simlist_DG):\n",
    "    if i not in idx_DG and i not in idx_CA1:\n",
    "        if Simlist_idx[i] not in idx_succ:\n",
    "            Pair_DG.append(1-cal_overlap(set(range(800)), set(np.where(Filt_gdata[:,NN]!=0)[0]), set(comp)))\n",
    "\n",
    "                       \n",
    "for i, comp in enumerate(Simlist_CA1):\n",
    "    if i not in idx_DG and i not in idx_CA1:\n",
    "        if Simlist_idx[i] not in idx_succ:\n",
    "#        #Pair_CA1.append(1-cal_relative_overlap_CA1(set(range(16)), set(comp), T_idx))\n",
    "            Pair_CA1.append(1-cal_overlap(set(range(200)), set(np.where(CA1_E_T)[1]), set(comp)))\n",
    "        \n",
    "for i, comp in enumerate(Simlist_IN):\n",
    "    if i not in idx_DG and i not in idx_CA1:\n",
    "        if Simlist_idx[i] not in idx_succ:\n",
    "            Pair_IN.append(1-cal_overlap(set(range(16)), set(np.where(Filt_idata[:,NN]!=0)[0]), set(comp)))\n",
    "\n",
    "for i, comp in enumerate(Simlist_CA3):\n",
    "    if i not in idx_DG and i not in idx_CA1:\n",
    "        if Simlist_idx[i] not in idx_succ:\n",
    "            Pair_CA3.append(1-cal_overlap(set(range(2400)), set(Af_py[NN]), set(comp)))\n",
    "        \n",
    "for i, comp in enumerate(Simlist_idx):\n",
    "    if Simlist_idx[i] not in idx_succ:\n",
    "        if i not in idx_DG and i not in idx_CA1:      \n",
    "            Pair_idx.append(comp)"
   ]
  },
  {
   "cell_type": "code",
   "execution_count": 23,
   "id": "bebbf5ac",
   "metadata": {
    "ExecuteTime": {
     "end_time": "2024-10-31T05:23:41.921877Z",
     "start_time": "2024-10-31T05:23:41.909909Z"
    }
   },
   "outputs": [
    {
     "data": {
      "text/plain": [
       "49"
      ]
     },
     "execution_count": 23,
     "metadata": {},
     "output_type": "execute_result"
    }
   ],
   "source": [
    "len(Pair_idx)"
   ]
  },
  {
   "cell_type": "code",
   "execution_count": 24,
   "id": "9864d9b1",
   "metadata": {
    "ExecuteTime": {
     "end_time": "2024-10-31T05:23:41.936836Z",
     "start_time": "2024-10-31T05:23:41.924869Z"
    }
   },
   "outputs": [
    {
     "name": "stderr",
     "output_type": "stream",
     "text": [
      "C:\\Users\\fiat_\\AppData\\Local\\Temp\\ipykernel_17388\\3065975168.py:7: RuntimeWarning: invalid value encountered in divide\n",
      "  Pair_IN_fin = Pair_IN_sum/Pair_IN_idx\n",
      "C:\\Users\\fiat_\\AppData\\Local\\Temp\\ipykernel_17388\\3065975168.py:16: RuntimeWarning: invalid value encountered in divide\n",
      "  Pair_DG_fin = Pair_DG_sum/Pair_DG_idx\n",
      "C:\\Users\\fiat_\\AppData\\Local\\Temp\\ipykernel_17388\\3065975168.py:25: RuntimeWarning: invalid value encountered in divide\n",
      "  Pair_CA3_fin = Pair_CA3_sum/Pair_CA3_idx\n",
      "C:\\Users\\fiat_\\AppData\\Local\\Temp\\ipykernel_17388\\3065975168.py:34: RuntimeWarning: invalid value encountered in divide\n",
      "  Pair_CA1_fin = Pair_CA1_sum/Pair_CA1_idx\n"
     ]
    }
   ],
   "source": [
    "Pair_IN_sum = np.zeros(Num_cue)\n",
    "Pair_IN_idx = np.zeros(Num_cue)\n",
    "for i, comp in enumerate(Pair_idx):\n",
    "    Pair_IN_sum[comp] += Pair_IN[i]\n",
    "    Pair_IN_idx[comp] += 1\n",
    "    \n",
    "Pair_IN_fin = Pair_IN_sum/Pair_IN_idx\n",
    "Pair_IN_fin = Pair_IN_fin[~np.isnan(Pair_IN_fin)]\n",
    "\n",
    "Pair_DG_sum = np.zeros(Num_cue)\n",
    "Pair_DG_idx = np.zeros(Num_cue)\n",
    "for i, comp in enumerate(Pair_idx):\n",
    "    Pair_DG_sum[comp] += Pair_DG[i]\n",
    "    Pair_DG_idx[comp] += 1\n",
    "    \n",
    "Pair_DG_fin = Pair_DG_sum/Pair_DG_idx\n",
    "Pair_DG_fin = Pair_DG_fin[~np.isnan(Pair_DG_fin)]\n",
    "\n",
    "Pair_CA3_sum = np.zeros(Num_cue)\n",
    "Pair_CA3_idx = np.zeros(Num_cue)\n",
    "for i, comp in enumerate(Pair_idx):\n",
    "    Pair_CA3_sum[comp] += Pair_CA3[i]\n",
    "    Pair_CA3_idx[comp] += 1\n",
    "    \n",
    "Pair_CA3_fin = Pair_CA3_sum/Pair_CA3_idx\n",
    "Pair_CA3_fin = Pair_CA3_fin[~np.isnan(Pair_CA3_fin)]\n",
    "\n",
    "Pair_CA1_sum = np.zeros(Num_cue)\n",
    "Pair_CA1_idx = np.zeros(Num_cue)\n",
    "for i, comp in enumerate(Pair_idx):\n",
    "    Pair_CA1_sum[comp] += Pair_CA1[i]\n",
    "    Pair_CA1_idx[comp] += 1\n",
    "    \n",
    "Pair_CA1_fin = Pair_CA1_sum/Pair_CA1_idx\n",
    "Pair_CA1_fin = Pair_CA1_fin[~np.isnan(Pair_CA1_fin)]"
   ]
  },
  {
   "cell_type": "code",
   "execution_count": 25,
   "id": "09c9188f",
   "metadata": {
    "ExecuteTime": {
     "end_time": "2024-10-31T05:23:41.952795Z",
     "start_time": "2024-10-31T05:23:41.939833Z"
    }
   },
   "outputs": [
    {
     "name": "stdout",
     "output_type": "stream",
     "text": [
      "{33, 35, 37, 38, 31}\n",
      "79\n",
      "83\n",
      "85\n",
      "86\n",
      "77\n"
     ]
    }
   ],
   "source": [
    "temp1 = np.where(Pair_IN_fin < 0.4)[0]\n",
    "temp3 = np.where(Pair_IN_fin > 0.1)[0]\n",
    "temp2 = np.where(Pair_DG_fin < 0.1)[0]\n",
    "temp4 = set(temp1).intersection(set(temp3))\n",
    "tempf = set(temp2).intersection(temp4)\n",
    "print(tempf)\n",
    "for i, comp in enumerate(tempf):\n",
    "    print(Pair_idx[comp])"
   ]
  },
  {
   "cell_type": "code",
   "execution_count": 26,
   "id": "d1f8f0fb",
   "metadata": {
    "ExecuteTime": {
     "end_time": "2024-10-31T05:23:42.446477Z",
     "start_time": "2024-10-31T05:23:41.957781Z"
    }
   },
   "outputs": [
    {
     "data": {
      "image/png": "[encoded data removed]",
      "text/plain": [
       "<Figure size 640x480 with 1 Axes>"
      ]
     },
     "metadata": {},
     "output_type": "display_data"
    }
   ],
   "source": [
    "x = np.linspace(0,1,100)\n",
    "fig = plt.subplot(111)\n",
    "plt.scatter(Pair_IN_fin, Pair_DG_fin, color='mediumaquamarine', label='DG')\n",
    "\n",
    "#plt.scatter(DeltaIN, DeltaCA1, color='black', label='CA1')\n",
    "\n",
    "#plt.errorbar(DeltaI_block, DeltaO_block, yerr=DeltaO_block_std, fmt=\"o\")\n",
    "#plt.plot(x,x, color='black')\n",
    "plt.axis(\"square\")\n",
    "plt.xlim([0,1.02])\n",
    "plt.ylim([-0.02,1.02])\n",
    "plt.xlabel('$\\Delta$ Input')\n",
    "plt.ylabel('$\\Delta$ Output')\n",
    "plt.legend(loc='lower left', bbox_to_anchor=(1.0,0.5))\n",
    "fig.spines['top'].set_visible(False)\n",
    "fig.spines['right'].set_visible(False)\n",
    "plt.title('DG activity during encoding')\n",
    "plt.show()"
   ]
  },
  {
   "cell_type": "code",
   "execution_count": 27,
   "id": "092d853f",
   "metadata": {
    "ExecuteTime": {
     "end_time": "2024-10-31T05:23:42.462434Z",
     "start_time": "2024-10-31T05:23:42.448474Z"
    }
   },
   "outputs": [
    {
     "name": "stdout",
     "output_type": "stream",
     "text": [
      "0.8333333333333334 26\n",
      "0.23076923076923073 77\n",
      "0.16666666666666663 79\n",
      "0.16666666666666663 83\n",
      "0.23076923076923073 85\n",
      "0.23076923076923073 86\n",
      "0.09090909090909094 90\n",
      "0.09090909090909094 91\n",
      "0.09090909090909094 92\n",
      "0.07692307692307687 96\n",
      "0.09090909090909094 97\n",
      "0.07692307692307687 98\n",
      "0.07692307692307687 101\n",
      "0.07692307692307687 104\n"
     ]
    }
   ],
   "source": [
    "for i, comp in enumerate(Pair_DG_fin):\n",
    "    if comp == 0:\n",
    "        print(Pair_IN_fin[i], Pair_idx[i])"
   ]
  },
  {
   "cell_type": "code",
   "execution_count": 28,
   "id": "7cc91df8",
   "metadata": {
    "ExecuteTime": {
     "end_time": "2024-10-31T05:23:42.653926Z",
     "start_time": "2024-10-31T05:23:42.471412Z"
    }
   },
   "outputs": [
    {
     "data": {
      "image/png": "[encoded data removed]",
      "text/plain": [
       "<Figure size 640x480 with 1 Axes>"
      ]
     },
     "metadata": {},
     "output_type": "display_data"
    }
   ],
   "source": [
    "x = np.linspace(0,1,100)\n",
    "fig = plt.subplot(111)\n",
    "plt.scatter(Pair_IN_fin, Pair_CA3_fin, color='cornflowerblue', label='CA3')\n",
    "#plt.scatter(DeltaIN, DeltaCA1, color='black', label='CA1')\n",
    "\n",
    "#plt.errorbar(DeltaI_block, DeltaO_block, yerr=DeltaO_block_std, fmt=\"o\")\n",
    "#plt.plot(x,x, color='black')\n",
    "plt.xlim([0,1])\n",
    "plt.ylim([0,1])\n",
    "plt.xlabel('$\\Delta$ Input')\n",
    "plt.ylabel('$\\Delta$ Output')\n",
    "plt.axis(\"square\")\n",
    "plt.legend(loc='lower left', bbox_to_anchor=(1.0,0.5))\n",
    "fig.spines['top'].set_visible(False)\n",
    "fig.spines['right'].set_visible(False)\n",
    "plt.title('CA3 activity during encoding')\n",
    "plt.show()"
   ]
  },
  {
   "cell_type": "code",
   "execution_count": 29,
   "id": "52e39470",
   "metadata": {
    "ExecuteTime": {
     "end_time": "2024-10-31T05:23:42.891293Z",
     "start_time": "2024-10-31T05:23:42.657915Z"
    }
   },
   "outputs": [
    {
     "data": {
      "image/png": "[encoded data removed]",
      "text/plain": [
       "<Figure size 640x480 with 1 Axes>"
      ]
     },
     "metadata": {},
     "output_type": "display_data"
    }
   ],
   "source": [
    "x = np.linspace(0,1,100)\n",
    "fig = plt.subplot(111)\n",
    "plt.scatter(Pair_IN_fin, Pair_CA1_fin, color='salmon', label='CA1')\n",
    "#plt.scatter(DeltaIN, DeltaCA1, color='black', label='CA1')\n",
    "\n",
    "#plt.errorbar(DeltaI_block, DeltaO_block, yerr=DeltaO_block_std, fmt=\"o\")\n",
    "#plt.plot(x,x, color='black')\n",
    "plt.axis(\"square\")\n",
    "plt.xlim([0,1.02])\n",
    "plt.ylim([-0.02,1.02])\n",
    "plt.xlabel('$\\Delta$ Input')\n",
    "plt.ylabel('$\\Delta$ Output')\n",
    "\n",
    "plt.legend(loc='lower left', bbox_to_anchor=(1.0,0.5))\n",
    "fig.spines['top'].set_visible(False)\n",
    "fig.spines['right'].set_visible(False)\n",
    "plt.title('CA1 activity during encoding')\n",
    "plt.show()"
   ]
  },
  {
   "cell_type": "code",
   "execution_count": 30,
   "id": "7487e54d",
   "metadata": {
    "ExecuteTime": {
     "end_time": "2024-10-31T05:23:44.081275Z",
     "start_time": "2024-10-31T05:23:42.893287Z"
    }
   },
   "outputs": [
    {
     "data": {
      "image/png": "[encoded data removed]",
      "text/plain": [
       "<Figure size 640x480 with 1 Axes>"
      ]
     },
     "metadata": {},
     "output_type": "display_data"
    }
   ],
   "source": [
    "x = np.linspace(0,1,100)\n",
    "fig = plt.subplot(111)\n",
    "plt.scatter(Pair_IN_fin, Pair_DG_fin, color='mediumaquamarine', marker='^', label='DG')\n",
    "plt.scatter(Pair_IN_fin, Pair_CA3_fin, color='cornflowerblue', label='CA3')\n",
    "plt.scatter(Pair_IN_fin, Pair_CA1_fin, color='salmon', marker=',', label='CA1')\n",
    "#plt.scatter(DeltaIN, DeltaCA1, color='black', label='CA1')\n",
    "\n",
    "#plt.errorbar(DeltaI_block, DeltaO_block, yerr=DeltaO_block_std, fmt=\"o\")\n",
    "#plt.plot(x,x, color='black')\n",
    "plt.legend(loc='lower right', framealpha=0.3)\n",
    "plt.axis(\"square\")\n",
    "plt.xlim([0,1.02])\n",
    "plt.ylim([-0.02,1.02])\n",
    "plt.xlabel('$\\Delta$ Input')\n",
    "plt.ylabel('Average of $\\Delta$ Output')\n",
    "\n",
    "fig.spines['top'].set_visible(False)\n",
    "fig.spines['right'].set_visible(False)\n",
    "plt.title('Neural representation during encoding')\n",
    "plt.savefig('Activity for each subregion during encoding.pdf', bbox_inches='tight')\n",
    "plt.savefig('Activity for each subregion during encoding.tiff', bbox_inches='tight', dpi=300)\n",
    "plt.show()"
   ]
  },
  {
   "cell_type": "code",
   "execution_count": 31,
   "id": "8b6580f1",
   "metadata": {
    "ExecuteTime": {
     "end_time": "2024-10-31T05:23:44.728869Z",
     "start_time": "2024-10-31T05:23:44.083271Z"
    }
   },
   "outputs": [
    {
     "ename": "NameError",
     "evalue": "name 'a' is not defined",
     "output_type": "error",
     "traceback": [
      "\u001b[1;31m---------------------------------------------------------------------------\u001b[0m",
      "\u001b[1;31mNameError\u001b[0m                                 Traceback (most recent call last)",
      "\u001b[1;32m~\\AppData\\Local\\Temp\\ipykernel_17388\\2167009006.py\u001b[0m in \u001b[0;36m<module>\u001b[1;34m\u001b[0m\n\u001b[1;32m----> 1\u001b[1;33m \u001b[0ma\u001b[0m\u001b[1;33m\u001b[0m\u001b[1;33m\u001b[0m\u001b[0m\n\u001b[0m",
      "\u001b[1;31mNameError\u001b[0m: name 'a' is not defined"
     ]
    }
   ],
   "source": [
    "a"
   ]
  },
  {
   "cell_type": "code",
   "execution_count": null,
   "id": "979bd86c",
   "metadata": {
    "ExecuteTime": {
     "end_time": "2024-10-31T05:23:44.732858Z",
     "start_time": "2024-10-31T05:23:44.732858Z"
    }
   },
   "outputs": [],
   "source": [
    "DeltaIN = []\n",
    "DeltaDG = []\n",
    "DeltaCA3 = []\n",
    "DeltaCA1 = []\n",
    "Classfy_num = 40\n",
    "for n in range(Classfy_num+1):\n",
    "    DeltaIN.append([])\n",
    "    DeltaDG.append([])\n",
    "    DeltaCA3.append([])\n",
    "    DeltaCA1.append([])\n",
    "    \n",
    "for i, comp in enumerate(Pair_IN_fin):\n",
    "    if comp == 0:\n",
    "        DeltaIN[0].append(comp)\n",
    "        DeltaDG[0].append(Pair_DG_fin[i])\n",
    "        DeltaCA3[0].append(Pair_CA3_fin[i])\n",
    "        DeltaCA1[0].append(Pair_CA1_fin[i])\n",
    "    else:\n",
    "        for n in range(Classfy_num):    \n",
    "            if (1/Classfy_num)*n < comp <= (1/Classfy_num)*n+(1/Classfy_num):\n",
    "                DeltaIN[n+1].append(comp)\n",
    "                DeltaDG[n+1].append(Pair_DG_fin[i])\n",
    "                DeltaCA3[n+1].append(Pair_CA3_fin[i])\n",
    "                DeltaCA1[n+1].append(Pair_CA1_fin[i])\n",
    "\n",
    "DeltaIN_final = np.zeros(len(DeltaIN))\n",
    "DeltaDG_final = np.zeros(len(DeltaDG))\n",
    "DeltaCA3_final = np.zeros(len(DeltaCA3))\n",
    "DeltaCA1_final = np.zeros(len(DeltaCA1))\n",
    "for n in range(len(DeltaIN)):\n",
    "    DeltaIN_final[n] = np.mean(DeltaIN[n])\n",
    "    DeltaDG_final[n] = np.mean(DeltaDG[n])\n",
    "    DeltaCA3_final[n] = np.mean(DeltaCA3[n])\n",
    "    DeltaCA1_final[n] = np.mean(DeltaCA1[n])"
   ]
  },
  {
   "cell_type": "code",
   "execution_count": null,
   "id": "65f14e88",
   "metadata": {
    "ExecuteTime": {
     "end_time": "2024-10-31T05:23:44.734820Z",
     "start_time": "2024-10-31T05:23:44.734820Z"
    }
   },
   "outputs": [],
   "source": [
    "x = np.linspace(0,1,100)\n",
    "fig = plt.subplot(111)\n",
    "plt.scatter(DeltaIN_final, DeltaDG_final, color='mediumaquamarine', marker='^', label='DG')\n",
    "plt.scatter(DeltaIN_final, DeltaCA3_final, color='cornflowerblue', label='CA3')\n",
    "plt.scatter(DeltaIN_final, DeltaCA1_final, color='salmon', marker=',', label='CA1')\n",
    "#plt.errorbar(DeltaI_block, DeltaO_block, yerr=DeltaO_block_std, fmt=\"o\")\n",
    "#plt.plot(x,x, color='black')\n",
    "plt.legend(loc='lower right')\n",
    "plt.axis(\"square\")\n",
    "plt.xlim([0,1.02])\n",
    "plt.ylim([-0.02,1.02])\n",
    "plt.xlabel('$\\Delta$ Input')\n",
    "plt.ylabel('Average of $\\Delta$ Output')\n",
    "\n",
    "fig.spines['top'].set_visible(False)\n",
    "fig.spines['right'].set_visible(False)\n",
    "plt.title('Neural representation during encoding')\n",
    "plt.savefig('Activity for each subregion during encoding.pdf', bbox_inches='tight')\n",
    "plt.show()"
   ]
  },
  {
   "cell_type": "code",
   "execution_count": null,
   "id": "6a85db67",
   "metadata": {
    "ExecuteTime": {
     "end_time": "2024-10-31T05:23:44.737814Z",
     "start_time": "2024-10-31T05:23:44.737814Z"
    }
   },
   "outputs": [],
   "source": [
    "a"
   ]
  },
  {
   "cell_type": "code",
   "execution_count": null,
   "id": "25a70dbd",
   "metadata": {
    "ExecuteTime": {
     "end_time": "2024-10-31T05:23:44.739808Z",
     "start_time": "2024-10-31T05:23:44.739808Z"
    }
   },
   "outputs": [],
   "source": [
    "Overlap_I = []\n",
    "Overlap_DG = []\n",
    "Overlap_CA3 = []\n",
    "Overlap_CA1 = []\n",
    "Classfy_num = 100\n",
    "for n in range(Classfy_num+1):\n",
    "    Overlap_I.append([])\n",
    "    Overlap_DG.append([])\n",
    "    Overlap_CA3.append([])\n",
    "    Overlap_CA1.append([])\n",
    "    \n",
    "for i, comp in enumerate(Pair_IN_fin):\n",
    "    if comp == 0:\n",
    "        Overlap_I[0].append(1-comp)\n",
    "        Overlap_DG[0].append(1-Pair_DG_fin[i])\n",
    "        Overlap_CA3[0].append(1-Pair_CA3_fin[i])\n",
    "        Overlap_CA1[0].append(1-Pair_CA1_fin[i])\n",
    "    else:\n",
    "        for n in range(Classfy_num):    \n",
    "            if (1/Classfy_num)*n < comp <= (1/Classfy_num)*n+(1/Classfy_num):\n",
    "                Overlap_I[n+1].append(1-comp)\n",
    "                Overlap_DG[n+1].append(1-Pair_DG_fin[i])\n",
    "                Overlap_CA3[n+1].append(1-Pair_CA3_fin[i])\n",
    "                Overlap_CA1[n+1].append(1-Pair_CA1_fin[i])\n",
    "            \n",
    "DeltaIN = []\n",
    "DeltaDG = []\n",
    "DeltaCA3 = []\n",
    "DeltaCA1 = []\n",
    "for i, comp in enumerate(Overlap_I):\n",
    "    DeltaIN.append(1-np.mean(comp))\n",
    "    DeltaDG.append(1-np.mean(Overlap_DG[i]))\n",
    "    DeltaCA3.append(1-np.mean(Overlap_CA3[i]))\n",
    "    DeltaCA1.append(1-np.mean(Overlap_CA1[i]))"
   ]
  },
  {
   "cell_type": "code",
   "execution_count": null,
   "id": "dbe07800",
   "metadata": {
    "ExecuteTime": {
     "end_time": "2024-10-31T05:23:44.741802Z",
     "start_time": "2024-10-31T05:23:44.741802Z"
    }
   },
   "outputs": [],
   "source": [
    "x = np.linspace(0,1,100)\n",
    "fig = plt.subplot(111)\n",
    "plt.scatter(DeltaIN, DeltaDG, color='mediumaquamarine', label='DG',  alpha=1)\n",
    "plt.scatter(DeltaIN, DeltaCA3, color='cornflowerblue', label='CA3',  alpha=1)\n",
    "plt.scatter(DeltaIN, DeltaCA1, color='salmon', label='CA1', alpha=1)\n",
    "\n",
    "#plt.errorbar(DeltaI_block, DeltaO_block, yerr=DeltaO_block_std, fmt=\"o\")\n",
    "#plt.plot(x,x, color='black')\n",
    "#plt.xlim([0,1])\n",
    "#plt.ylim([0,1.2])\n",
    "plt.xlabel('$\\Delta$ Input')\n",
    "plt.ylabel('$\\Delta$ Output')\n",
    "plt.axis(\"square\")\n",
    "plt.legend(loc='lower left', bbox_to_anchor=(1.0,0.5))\n",
    "fig.spines['top'].set_visible(False)\n",
    "fig.spines['right'].set_visible(False)\n",
    "#plt.savefig('Cogtask-similarity.png', bbox_inches='tight')\n",
    "plt.show()"
   ]
  },
  {
   "cell_type": "code",
   "execution_count": null,
   "id": "4316f8b0",
   "metadata": {},
   "outputs": [],
   "source": []
  }
 ],
 "metadata": {
  "kernelspec": {
   "display_name": "Python 3 (ipykernel)",
   "language": "python",
   "name": "python3"
  },
  "language_info": {
   "codemirror_mode": {
    "name": "ipython",
    "version": 3
   },
   "file_extension": ".py",
   "mimetype": "text/x-python",
   "name": "python",
   "nbconvert_exporter": "python",
   "pygments_lexer": "ipython3",
   "version": "3.8.5"
  },
  "toc": {
   "base_numbering": 1,
   "nav_menu": {},
   "number_sections": true,
   "sideBar": true,
   "skip_h1_title": false,
   "title_cell": "Table of Contents",
   "title_sidebar": "Contents",
   "toc_cell": false,
   "toc_position": {},
   "toc_section_display": true,
   "toc_window_display": false
  },
  "varInspector": {
   "cols": {
    "lenName": 16,
    "lenType": 16,
    "lenVar": 40
   },
   "kernels_config": {
    "python": {
     "delete_cmd_postfix": "",
     "delete_cmd_prefix": "del ",
     "library": "var_list.py",
     "varRefreshCmd": "print(var_dic_list())"
    },
    "r": {
     "delete_cmd_postfix": ") ",
     "delete_cmd_prefix": "rm(",
     "library": "var_list.r",
     "varRefreshCmd": "cat(var_dic_list()) "
    }
   },
   "types_to_exclude": [
    "module",
    "function",
    "builtin_function_or_method",
    "instance",
    "_Feature"
   ],
   "window_display": false
  }
 },
 "nbformat": 4,
 "nbformat_minor": 5
}
