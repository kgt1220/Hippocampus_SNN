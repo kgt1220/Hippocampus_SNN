{
 "cells": [
  {
   "cell_type": "code",
   "execution_count": 1,
   "id": "c189ff7d",
   "metadata": {
    "ExecuteTime": {
     "end_time": "2024-10-31T05:23:12.496616Z",
     "start_time": "2024-10-31T05:23:10.026454Z"
    }
   },
   "outputs": [],
   "source": [
    "import numpy as np\n",
    "import random\n",
    "import matplotlib.pyplot as plt\n",
    "import matplotlib.cm as cm \n",
    "import seaborn as sns\n",
    "import pandas as pd\n",
    "from scipy import signal\n",
    "from importlib import reload\n",
    "\n",
    "import winsound as sd\n",
    "import pickle\n",
    "import sys\n",
    "import os"
   ]
  },
  {
   "cell_type": "code",
   "execution_count": 2,
   "id": "d198c729",
   "metadata": {
    "ExecuteTime": {
     "end_time": "2024-10-31T05:23:13.004265Z",
     "start_time": "2024-10-31T05:23:12.499610Z"
    }
   },
   "outputs": [],
   "source": [
    "# load\n",
    "cd = os.getcwd()\n",
    "path = os.path.dirname(cd)\n",
    "    \n",
    "with open(path+'//Data_final.pkl', 'rb') as file:\n",
    "    Filt_idata = pickle.load(file)\n",
    "    Filt_gdata = pickle.load(file)\n",
    "    Filt_glen = pickle.load(file)\n",
    "    F_DataLen = pickle.load(file)\n",
    "    \n",
    "    Af_py = pickle.load(file)\n",
    "    Af_in = pickle.load(file)\n",
    "    \n",
    "    In_py_list = pickle.load(file)\n",
    "    In_in_list = pickle.load(file)"
   ]
  },
  {
   "cell_type": "code",
   "execution_count": 3,
   "id": "bf68901e",
   "metadata": {
    "ExecuteTime": {
     "end_time": "2024-10-31T05:23:13.128872Z",
     "start_time": "2024-10-31T05:23:13.010249Z"
    }
   },
   "outputs": [],
   "source": [
    "with open(path+'//module//Weights_Sim//Learned weights-sim_Encoding.pkl', 'rb') as file:\n",
    "    DG_E_list = pickle.load(file)\n",
    "    CA3_E_list = pickle.load(file)\n",
    "    CA1_E_list = pickle.load(file)"
   ]
  },
  {
   "cell_type": "code",
   "execution_count": 4,
   "id": "eb207cec",
   "metadata": {
    "ExecuteTime": {
     "end_time": "2024-10-31T05:23:13.160753Z",
     "start_time": "2024-10-31T05:23:13.143801Z"
    }
   },
   "outputs": [],
   "source": [
    "with open(path+'//module//Weights_Sim//Learned weights-sim_144.pkl', 'rb') as file:\n",
    "    DG_E_T = pickle.load(file)\n",
    "    CA3_E_T = pickle.load(file)\n",
    "    CA1_E_T = pickle.load(file)"
   ]
  },
  {
   "cell_type": "code",
   "execution_count": 5,
   "id": "986d4827",
   "metadata": {
    "ExecuteTime": {
     "end_time": "2024-10-31T05:23:13.198658Z",
     "start_time": "2024-10-31T05:23:13.169730Z"
    }
   },
   "outputs": [],
   "source": [
    "targetCA1 = [ 12,  14,  15,  21,  22,  31,  35,  37,  40,  56,  59,  74,  77,\n",
    "         87,  88,  93,  94,  96, 104, 109, 111, 113, 116, 122, 135, 136,\n",
    "        141, 150, 157, 164, 166, 182, 186, 192, 193, 196]"
   ]
  },
  {
   "cell_type": "code",
   "execution_count": 6,
   "id": "cb8a9119",
   "metadata": {
    "ExecuteTime": {
     "end_time": "2024-10-31T05:23:13.223642Z",
     "start_time": "2024-10-31T05:23:13.208627Z"
    }
   },
   "outputs": [],
   "source": [
    "temp = np.zeros(200)\n",
    "temp[targetCA1] = 1\n",
    "CA1_E_T = [temp]"
   ]
  },
  {
   "cell_type": "code",
   "execution_count": 7,
   "id": "f2720aa6",
   "metadata": {
    "ExecuteTime": {
     "end_time": "2024-10-31T05:23:13.286870Z",
     "start_time": "2024-10-31T05:23:13.229622Z"
    }
   },
   "outputs": [],
   "source": [
    "with open('Over_En.pkl', 'rb') as file:\n",
    "    Simlist_INe = pickle.load(file)\n",
    "    Simlist_DGe = pickle.load(file)\n",
    "    Simlist_CA3e = pickle.load(file)\n",
    "    Simlist_CA1e = pickle.load(file)\n",
    "    Simlist_idxe = pickle.load(file)"
   ]
  },
  {
   "cell_type": "code",
   "execution_count": 8,
   "id": "a8913989",
   "metadata": {
    "ExecuteTime": {
     "end_time": "2024-10-31T05:23:13.460653Z",
     "start_time": "2024-10-31T05:23:13.311803Z"
    }
   },
   "outputs": [],
   "source": [
    "with open('Over_Re.pkl', 'rb') as file:\n",
    "    Simlist_INr = pickle.load(file)\n",
    "    Simlist_DGr = pickle.load(file)\n",
    "    Simlist_CA3r = pickle.load(file)\n",
    "    Simlist_CA1r = pickle.load(file)\n",
    "    Simlist_idxr = pickle.load(file)\n",
    "    \n",
    "    Success_list = pickle.load(file)\n",
    "    Winner_list = pickle.load(file)"
   ]
  },
  {
   "cell_type": "code",
   "execution_count": 9,
   "id": "4e6b37f6",
   "metadata": {
    "ExecuteTime": {
     "end_time": "2024-10-31T05:23:13.507600Z",
     "start_time": "2024-10-31T05:23:13.479612Z"
    }
   },
   "outputs": [],
   "source": [
    "def cal_overlap(total,A,B):\n",
    "    if (len(A)+len(B)) !=0:\n",
    "        output = len(A.intersection(B))*2 / (len(A)+len(B))\n",
    "    else:\n",
    "        output = 0\n",
    "    return output"
   ]
  },
  {
   "cell_type": "code",
   "execution_count": 10,
   "id": "3620e6a9",
   "metadata": {
    "ExecuteTime": {
     "end_time": "2024-10-31T05:23:13.538479Z",
     "start_time": "2024-10-31T05:23:13.516539Z"
    }
   },
   "outputs": [],
   "source": [
    "Target_fin = [144]\n",
    "T_idx = 0\n",
    "NN = Target_fin[T_idx]\n",
    "Num_cue = 105"
   ]
  },
  {
   "cell_type": "code",
   "execution_count": 11,
   "id": "0fc7263c",
   "metadata": {
    "ExecuteTime": {
     "end_time": "2024-10-31T05:23:13.617700Z",
     "start_time": "2024-10-31T05:23:13.544463Z"
    }
   },
   "outputs": [],
   "source": [
    "Simlist_IN = []\n",
    "Simlist_DG = []\n",
    "Simlist_CA3 = []\n",
    "Simlist_CA1 = []\n",
    "for i, comp in enumerate(Simlist_idxr):\n",
    "    Simlist_IN.append(set(Simlist_INe[comp])|set(Simlist_INr[i])) \n",
    "    Simlist_DG.append(set(Simlist_DGe[comp])|set(Simlist_DGr[i])) \n",
    "    Simlist_CA3.append(set(Simlist_CA3e[comp])|set(Simlist_CA3r[i])) \n",
    "    Simlist_CA1.append(set(Simlist_CA1e[comp])) \n",
    "Simlist_idx = Simlist_idxr"
   ]
  },
  {
   "cell_type": "code",
   "execution_count": 12,
   "id": "c6993e49",
   "metadata": {
    "ExecuteTime": {
     "end_time": "2024-10-31T05:23:13.663117Z",
     "start_time": "2024-10-31T05:23:13.626685Z"
    }
   },
   "outputs": [
    {
     "data": {
      "text/plain": [
       "(105,)"
      ]
     },
     "execution_count": 12,
     "metadata": {},
     "output_type": "execute_result"
    }
   ],
   "source": [
    "np.shape(Success_list)"
   ]
  },
  {
   "cell_type": "code",
   "execution_count": 13,
   "id": "e0851e53",
   "metadata": {
    "ExecuteTime": {
     "end_time": "2024-10-31T05:23:13.695131Z",
     "start_time": "2024-10-31T05:23:13.671097Z"
    }
   },
   "outputs": [
    {
     "data": {
      "text/plain": [
       "(3150,)"
      ]
     },
     "execution_count": 13,
     "metadata": {},
     "output_type": "execute_result"
    }
   ],
   "source": [
    "np.shape(Simlist_CA3)"
   ]
  },
  {
   "cell_type": "code",
   "execution_count": 14,
   "id": "251220f0",
   "metadata": {
    "ExecuteTime": {
     "end_time": "2024-10-31T05:23:13.711089Z",
     "start_time": "2024-10-31T05:23:13.698123Z"
    }
   },
   "outputs": [
    {
     "data": {
      "text/plain": [
       "(3150,)"
      ]
     },
     "execution_count": 14,
     "metadata": {},
     "output_type": "execute_result"
    }
   ],
   "source": [
    "np.shape(Simlist_DG)"
   ]
  },
  {
   "cell_type": "code",
   "execution_count": 15,
   "id": "84b082ee",
   "metadata": {
    "ExecuteTime": {
     "end_time": "2024-10-31T05:23:13.727046Z",
     "start_time": "2024-10-31T05:23:13.714080Z"
    }
   },
   "outputs": [
    {
     "data": {
      "text/plain": [
       "(105, 2400)"
      ]
     },
     "execution_count": 15,
     "metadata": {},
     "output_type": "execute_result"
    }
   ],
   "source": [
    "np.shape(CA3_E_list)"
   ]
  },
  {
   "cell_type": "code",
   "execution_count": 16,
   "id": "25497215",
   "metadata": {
    "ExecuteTime": {
     "end_time": "2024-10-31T05:23:14.185527Z",
     "start_time": "2024-10-31T05:23:13.730037Z"
    }
   },
   "outputs": [],
   "source": [
    "# \n",
    "Pair_IN = []\n",
    "Pair_DG = []\n",
    "Pair_CA3 = []\n",
    "Pair_CA1 = []\n",
    "Pair_idx = []\n",
    "idx_DG = []\n",
    "idx_CA1 = []\n",
    "idx_CA3 = []\n",
    "idx_succ = []\n",
    "for i, comp in enumerate(Simlist_DG):\n",
    "    if len(comp) == 0:\n",
    "        idx_DG.append(i)\n",
    "for i, comp in enumerate(Simlist_CA1):\n",
    "    if len(comp) == 0:\n",
    "        idx_CA1.append(i)\n",
    "for i, comp in enumerate(CA3_E_list):\n",
    "    if len(np.where(comp)[0]) < 1:\n",
    "        idx_CA3.append(i)\n",
    "# for i, comp in enumerate(Success_list):\n",
    "#     if comp < 18:\n",
    "#         idx_succ.append(i)\n",
    "\n",
    "for i, comp in enumerate(Simlist_DG):\n",
    "    if i not in idx_DG and i not in idx_CA1:\n",
    "        if Simlist_idx[i] not in idx_CA3 and Simlist_idx[i] not in idx_succ:\n",
    "            Pair_DG.append(1-cal_overlap(set(range(800)), set(np.where(Filt_gdata[:,NN]!=0)[0]), set(comp)))\n",
    "    #else:\n",
    "    #    idx.append(i)\n",
    "\n",
    "for i, comp in enumerate(Simlist_IN):\n",
    "    if i not in idx_DG and i not in idx_CA1:\n",
    "            if Simlist_idx[i] not in idx_CA3 and Simlist_idx[i] not in idx_succ:\n",
    "                Pair_IN.append(1-cal_overlap(set(range(16)), set(np.where(Filt_idata[:,NN]!=0)[0]), set(comp)))\n",
    "\n",
    "for i, comp in enumerate(Simlist_CA3):\n",
    "    if i not in idx_DG and i not in idx_CA1:\n",
    "        if Simlist_idx[i] not in idx_CA3 and Simlist_idx[i] not in idx_succ:\n",
    "                #Pair_CA3.append(1-cal_relative_overlap_CA3(set(range(2400)), set(comp), T_idx))\n",
    "                Pair_CA3.append(1-cal_overlap(set(range(2400)), set(Af_py[NN]), set(comp)))\n",
    "\n",
    "for i, comp in enumerate(Simlist_idx):\n",
    "    if i not in idx_DG and i not in idx_CA1:  \n",
    "            if Simlist_idx[i] not in idx_CA3 and Simlist_idx[i] not in idx_succ:\n",
    "                Pair_idx.append(comp)"
   ]
  },
  {
   "cell_type": "code",
   "execution_count": 17,
   "id": "313b3e2d",
   "metadata": {
    "ExecuteTime": {
     "end_time": "2024-10-31T05:23:14.216669Z",
     "start_time": "2024-10-31T05:23:14.193506Z"
    }
   },
   "outputs": [],
   "source": [
    "Pair_CA1_fin = np.zeros(len(set(Pair_idx)))\n",
    "for i, comp in enumerate(set(Pair_idx)):\n",
    "    if Winner_list[:,comp].sum() == 0:\n",
    "        Pair_CA1_fin[i] = 1-cal_overlap(set(range(200)), set(np.where(CA1_E_T)[1]), set(np.where(CA1_E_T)[1])|set(np.where(CA1_E_list[comp])[0]))\n",
    "    else:\n",
    "        A_R = Winner_list[0,comp]\n",
    "        B_R = Winner_list[1,comp]\n",
    "        CA1_A = 1-cal_overlap(set(range(200)), set(np.where(CA1_E_T)[1]), set(np.where(CA1_E_T)[1]))\n",
    "        CA1_B = 1-cal_overlap(set(range(200)), set(np.where(CA1_E_T)[1]), set(np.where(CA1_E_list[comp])[0]))\n",
    "        Pair_CA1_fin[i] = (A_R*CA1_A+B_R*CA1_B)/(A_R+B_R)"
   ]
  },
  {
   "cell_type": "code",
   "execution_count": 18,
   "id": "42fd89a9",
   "metadata": {
    "ExecuteTime": {
     "end_time": "2024-10-31T05:23:14.247393Z",
     "start_time": "2024-10-31T05:23:14.219652Z"
    }
   },
   "outputs": [
    {
     "name": "stderr",
     "output_type": "stream",
     "text": [
      "C:\\Users\\fiat_\\AppData\\Local\\Temp\\ipykernel_1792\\2371016391.py:7: RuntimeWarning: invalid value encountered in divide\n",
      "  Pair_IN_fin = Pair_IN_sum/Pair_IN_idx\n",
      "C:\\Users\\fiat_\\AppData\\Local\\Temp\\ipykernel_1792\\2371016391.py:16: RuntimeWarning: invalid value encountered in divide\n",
      "  Pair_DG_fin = Pair_DG_sum/Pair_DG_idx\n",
      "C:\\Users\\fiat_\\AppData\\Local\\Temp\\ipykernel_1792\\2371016391.py:25: RuntimeWarning: invalid value encountered in divide\n",
      "  Pair_CA3_fin = Pair_CA3_sum/Pair_CA3_idx\n"
     ]
    }
   ],
   "source": [
    "Pair_IN_sum = np.zeros(Num_cue)\n",
    "Pair_IN_idx = np.zeros(Num_cue)\n",
    "for i, comp in enumerate(Pair_idx):\n",
    "    Pair_IN_sum[comp] += Pair_IN[i]\n",
    "    Pair_IN_idx[comp] += 1\n",
    "    \n",
    "Pair_IN_fin = Pair_IN_sum/Pair_IN_idx\n",
    "Pair_IN_fin = Pair_IN_fin[~np.isnan(Pair_IN_fin)]\n",
    "\n",
    "Pair_DG_sum = np.zeros(Num_cue)\n",
    "Pair_DG_idx = np.zeros(Num_cue)\n",
    "for i, comp in enumerate(Pair_idx):\n",
    "    Pair_DG_sum[comp] += Pair_DG[i]\n",
    "    Pair_DG_idx[comp] += 1\n",
    "    \n",
    "Pair_DG_fin = Pair_DG_sum/Pair_DG_idx\n",
    "Pair_DG_fin = Pair_DG_fin[~np.isnan(Pair_DG_fin)]\n",
    "\n",
    "Pair_CA3_sum = np.zeros(Num_cue)\n",
    "Pair_CA3_idx = np.zeros(Num_cue)\n",
    "for i, comp in enumerate(Pair_idx):\n",
    "    Pair_CA3_sum[comp] += Pair_CA3[i]\n",
    "    Pair_CA3_idx[comp] += 1\n",
    "    \n",
    "Pair_CA3_fin = Pair_CA3_sum/Pair_CA3_idx\n",
    "Pair_CA3_fin = Pair_CA3_fin[~np.isnan(Pair_CA3_fin)]"
   ]
  },
  {
   "cell_type": "code",
   "execution_count": 19,
   "id": "9c4c54f1",
   "metadata": {
    "ExecuteTime": {
     "end_time": "2024-10-31T05:23:14.703094Z",
     "start_time": "2024-10-31T05:23:14.250435Z"
    }
   },
   "outputs": [
    {
     "data": {
      "image/png": "[encoded data removed]",
      "text/plain": [
       "<Figure size 640x480 with 1 Axes>"
      ]
     },
     "metadata": {},
     "output_type": "display_data"
    }
   ],
   "source": [
    "x = np.linspace(0,1,100)\n",
    "fig = plt.subplot(111)\n",
    "plt.scatter(Pair_IN_fin, Pair_DG_fin, color='mediumaquamarine', label='DG')\n",
    "#plt.scatter(Pair_IN_fin, Pair_CA1_fin, color='salmon', label='CA1')\n",
    "#plt.scatter(DeltaIN, DeltaCA1, color='black', label='CA1')\n",
    "\n",
    "#plt.errorbar(DeltaI_block, DeltaO_block, yerr=DeltaO_block_std, fmt=\"o\")\n",
    "#plt.plot(x,x, color='black')\n",
    "plt.axis(\"square\")\n",
    "plt.xlim([0,1.02])\n",
    "plt.ylim([-0.02,1.02])\n",
    "plt.xlabel('$\\Delta$ Input')\n",
    "plt.ylabel('$\\Delta$ Output')\n",
    "\n",
    "plt.legend(loc='lower left', bbox_to_anchor=(1.0,0.5))\n",
    "fig.spines['top'].set_visible(False)\n",
    "fig.spines['right'].set_visible(False)\n",
    "plt.title('DG activity')\n",
    "plt.show()"
   ]
  },
  {
   "cell_type": "code",
   "execution_count": 20,
   "id": "107c6d67",
   "metadata": {
    "ExecuteTime": {
     "end_time": "2024-10-31T05:23:14.891598Z",
     "start_time": "2024-10-31T05:23:14.713074Z"
    }
   },
   "outputs": [
    {
     "data": {
      "image/png": "[encoded data removed]",
      "text/plain": [
       "<Figure size 640x480 with 1 Axes>"
      ]
     },
     "metadata": {},
     "output_type": "display_data"
    }
   ],
   "source": [
    "x = np.linspace(0,1,100)\n",
    "fig = plt.subplot(111)\n",
    "plt.scatter(Pair_IN_fin, Pair_CA3_fin, color='cornflowerblue', label='CA3')\n",
    "#plt.scatter(Pair_IN_fin, Pair_CA1_fin, color='salmon', label='CA1')\n",
    "#plt.scatter(DeltaIN, DeltaCA1, color='black', label='CA1')\n",
    "\n",
    "#plt.errorbar(DeltaI_block, DeltaO_block, yerr=DeltaO_block_std, fmt=\"o\")\n",
    "#plt.plot(x,x, color='black')\n",
    "plt.axis(\"square\")\n",
    "plt.xlim([0,1.02])\n",
    "plt.ylim([-0.02,1.02])\n",
    "plt.xlabel('$\\Delta$ Input')\n",
    "plt.ylabel('$\\Delta$ Output')\n",
    "\n",
    "plt.legend(loc='lower left', bbox_to_anchor=(1.0,0.5))\n",
    "fig.spines['top'].set_visible(False)\n",
    "fig.spines['right'].set_visible(False)\n",
    "plt.title('CA3 activity')\n",
    "plt.show()"
   ]
  },
  {
   "cell_type": "code",
   "execution_count": 21,
   "id": "9f412b77",
   "metadata": {
    "ExecuteTime": {
     "end_time": "2024-10-31T05:23:15.083085Z",
     "start_time": "2024-10-31T05:23:14.901581Z"
    }
   },
   "outputs": [
    {
     "data": {
      "image/png": "[encoded data removed]",
      "text/plain": [
       "<Figure size 640x480 with 1 Axes>"
      ]
     },
     "metadata": {},
     "output_type": "display_data"
    }
   ],
   "source": [
    "x = np.linspace(0,1,100)\n",
    "fig = plt.subplot(111)\n",
    "plt.scatter(Pair_IN_fin, Pair_CA1_fin, color='salmon', label='CA1')\n",
    "#plt.scatter(Pair_IN_fin, Pair_CA1_fin, color='salmon', label='CA1')\n",
    "#plt.scatter(DeltaIN, DeltaCA1, color='black', label='CA1')\n",
    "\n",
    "#plt.errorbar(DeltaI_block, DeltaO_block, yerr=DeltaO_block_std, fmt=\"o\")\n",
    "#plt.plot(x,x, color='black')\n",
    "plt.axis(\"square\")\n",
    "plt.xlim([0,1.02])\n",
    "plt.ylim([-0.02,1.02])\n",
    "plt.xlabel('$\\Delta$ Input')\n",
    "plt.ylabel('$\\Delta$ Output')\n",
    "\n",
    "plt.legend(loc='lower left', bbox_to_anchor=(1.0,0.5))\n",
    "fig.spines['top'].set_visible(False)\n",
    "fig.spines['right'].set_visible(False)\n",
    "plt.title('CA1 activity')\n",
    "plt.show()"
   ]
  },
  {
   "cell_type": "code",
   "execution_count": 22,
   "id": "ec71c988",
   "metadata": {
    "ExecuteTime": {
     "end_time": "2024-10-31T05:23:16.234324Z",
     "start_time": "2024-10-31T05:23:15.085080Z"
    }
   },
   "outputs": [
    {
     "data": {
      "image/png": "[encoded data removed]",
      "text/plain": [
       "<Figure size 640x480 with 1 Axes>"
      ]
     },
     "metadata": {},
     "output_type": "display_data"
    }
   ],
   "source": [
    "x = np.linspace(0,1,100)\n",
    "fig = plt.subplot(111)\n",
    "plt.scatter(Pair_IN_fin, Pair_DG_fin, color='mediumaquamarine', marker='^', label='DG')\n",
    "plt.scatter(Pair_IN_fin, Pair_CA3_fin, color='cornflowerblue', label='CA3')\n",
    "plt.scatter(Pair_IN_fin, Pair_CA1_fin, color='salmon', marker=',', label='CA1')\n",
    "#plt.scatter(Pair_IN_fin, Pair_CA1_fin, color='salmon', label='CA1')\n",
    "#plt.scatter(DeltaIN, DeltaCA1, color='black', label='CA1')\n",
    "\n",
    "#plt.errorbar(DeltaI_block, DeltaO_block, yerr=DeltaO_block_std, fmt=\"o\")\n",
    "#plt.plot(x,x, color='black')\n",
    "plt.axis(\"square\")\n",
    "plt.legend(loc='lower right', framealpha=0.3)\n",
    "plt.xlim([0,1.02])\n",
    "plt.ylim([-0.02,1.02])\n",
    "plt.xlabel('$\\Delta$ Input')\n",
    "plt.ylabel('Average of $\\Delta$ Output')\n",
    "\n",
    "fig.spines['top'].set_visible(False)\n",
    "fig.spines['right'].set_visible(False)\n",
    "plt.title('Neural representation for each subregion')\n",
    "plt.savefig('Activity for each subregion.pdf', bbox_inches='tight')\n",
    "plt.savefig('Activity for each subregion.tiff', bbox_inches='tight', dpi=300)\n",
    "plt.show()"
   ]
  },
  {
   "cell_type": "code",
   "execution_count": 23,
   "id": "eeafbf86",
   "metadata": {
    "ExecuteTime": {
     "end_time": "2024-10-31T05:23:16.941440Z",
     "start_time": "2024-10-31T05:23:16.236320Z"
    }
   },
   "outputs": [
    {
     "ename": "NameError",
     "evalue": "name 'a' is not defined",
     "output_type": "error",
     "traceback": [
      "\u001b[1;31m---------------------------------------------------------------------------\u001b[0m",
      "\u001b[1;31mNameError\u001b[0m                                 Traceback (most recent call last)",
      "\u001b[1;32m~\\AppData\\Local\\Temp\\ipykernel_1792\\2167009006.py\u001b[0m in \u001b[0;36m<module>\u001b[1;34m\u001b[0m\n\u001b[1;32m----> 1\u001b[1;33m \u001b[0ma\u001b[0m\u001b[1;33m\u001b[0m\u001b[1;33m\u001b[0m\u001b[0m\n\u001b[0m",
      "\u001b[1;31mNameError\u001b[0m: name 'a' is not defined"
     ]
    }
   ],
   "source": [
    "a"
   ]
  },
  {
   "cell_type": "code",
   "execution_count": null,
   "id": "f0ec66ed",
   "metadata": {
    "ExecuteTime": {
     "end_time": "2024-10-31T05:23:16.950417Z",
     "start_time": "2024-10-31T05:23:16.950417Z"
    }
   },
   "outputs": [],
   "source": [
    "DeltaIN = []\n",
    "DeltaDG = []\n",
    "DeltaCA3 = []\n",
    "DeltaCA1 = []\n",
    "Classfy_num = 40\n",
    "for n in range(Classfy_num+1):\n",
    "    DeltaIN.append([])\n",
    "    DeltaDG.append([])\n",
    "    DeltaCA3.append([])\n",
    "    DeltaCA1.append([])\n",
    "    \n",
    "for i, comp in enumerate(Pair_IN_fin):\n",
    "    if comp == 0:\n",
    "        DeltaIN[0].append(comp)\n",
    "        DeltaDG[0].append(Pair_DG_fin[i])\n",
    "        DeltaCA3[0].append(Pair_CA3_fin[i])\n",
    "        DeltaCA1[0].append(Pair_CA1_fin[i])\n",
    "    for n in range(Classfy_num):    \n",
    "        if (1/Classfy_num)*n < comp <= (1/Classfy_num)*n+(1/Classfy_num):\n",
    "            DeltaIN[n+1].append(comp)\n",
    "            DeltaDG[n+1].append(Pair_DG_fin[i])\n",
    "            DeltaCA3[n+1].append(Pair_CA3_fin[i])\n",
    "            DeltaCA1[n+1].append(Pair_CA1_fin[i])\n",
    "\n",
    "DeltaIN_final = np.zeros(len(DeltaIN))\n",
    "DeltaDG_final = np.zeros(len(DeltaDG))\n",
    "DeltaCA3_final = np.zeros(len(DeltaCA3))\n",
    "DeltaCA1_final = np.zeros(len(DeltaCA1))\n",
    "for n in range(len(DeltaIN)):\n",
    "    DeltaIN_final[n] = np.mean(DeltaIN[n])\n",
    "    DeltaDG_final[n] = np.mean(DeltaDG[n])\n",
    "    DeltaCA3_final[n] = np.mean(DeltaCA3[n])\n",
    "    DeltaCA1_final[n] = np.mean(DeltaCA1[n])"
   ]
  },
  {
   "cell_type": "code",
   "execution_count": null,
   "id": "b6e0bb1d",
   "metadata": {
    "ExecuteTime": {
     "end_time": "2024-10-31T05:23:16.953410Z",
     "start_time": "2024-10-31T05:23:16.953410Z"
    }
   },
   "outputs": [],
   "source": [
    "x = np.linspace(0,1,100)\n",
    "fig = plt.subplot(111)\n",
    "plt.scatter(DeltaIN_final, DeltaDG_final, color='mediumaquamarine', label='DG')\n",
    "\n",
    "#plt.errorbar(DeltaI_block, DeltaO_block, yerr=DeltaO_block_std, fmt=\"o\")\n",
    "#plt.plot(x,x, color='black')\n",
    "plt.axis(\"square\")\n",
    "plt.xlim([0,1.02])\n",
    "plt.ylim([-0.02,1.02])\n",
    "plt.xlabel('$\\Delta$ Input')\n",
    "plt.ylabel('$\\Delta$ Output')\n",
    "\n",
    "plt.legend(loc='lower left', bbox_to_anchor=(1.0,0.5))\n",
    "fig.spines['top'].set_visible(False)\n",
    "fig.spines['right'].set_visible(False)\n",
    "plt.title('DG activity')\n",
    "plt.show()"
   ]
  },
  {
   "cell_type": "code",
   "execution_count": null,
   "id": "cb9c97e1",
   "metadata": {
    "ExecuteTime": {
     "end_time": "2024-10-31T05:23:16.964380Z",
     "start_time": "2024-10-31T05:23:16.964380Z"
    }
   },
   "outputs": [],
   "source": [
    "x = np.linspace(0,1,100)\n",
    "fig = plt.subplot(111)\n",
    "plt.scatter(DeltaIN_final, DeltaCA3_final, color='cornflowerblue', label='CA3')\n",
    "\n",
    "#plt.errorbar(DeltaI_block, DeltaO_block, yerr=DeltaO_block_std, fmt=\"o\")\n",
    "#plt.plot(x,x, color='black')\n",
    "plt.axis(\"square\")\n",
    "plt.xlim([0,1.02])\n",
    "plt.ylim([-0.02,1.02])\n",
    "plt.xlabel('$\\Delta$ Input')\n",
    "plt.ylabel('$\\Delta$ Output')\n",
    "\n",
    "plt.legend(loc='lower left', bbox_to_anchor=(1.0,0.5))\n",
    "fig.spines['top'].set_visible(False)\n",
    "fig.spines['right'].set_visible(False)\n",
    "plt.title('CA3 activity')\n",
    "plt.show()"
   ]
  },
  {
   "cell_type": "code",
   "execution_count": null,
   "id": "50020b48",
   "metadata": {
    "ExecuteTime": {
     "end_time": "2024-10-31T05:23:16.970364Z",
     "start_time": "2024-10-31T05:23:16.969366Z"
    }
   },
   "outputs": [],
   "source": [
    "x = np.linspace(0,1,100)\n",
    "fig = plt.subplot(111)\n",
    "plt.scatter(DeltaIN_final, DeltaCA1_final, color='salmon', label='CA1')\n",
    "\n",
    "#plt.errorbar(DeltaI_block, DeltaO_block, yerr=DeltaO_block_std, fmt=\"o\")\n",
    "#plt.plot(x,x, color='black')\n",
    "plt.axis(\"square\")\n",
    "plt.xlim([0,1.02])\n",
    "plt.ylim([-0.02,1.02])\n",
    "plt.xlabel('$\\Delta$ Input')\n",
    "plt.ylabel('$\\Delta$ Output')\n",
    "\n",
    "plt.legend(loc='lower left', bbox_to_anchor=(1.0,0.5))\n",
    "fig.spines['top'].set_visible(False)\n",
    "fig.spines['right'].set_visible(False)\n",
    "plt.title('CA1 activity')\n",
    "plt.show()"
   ]
  },
  {
   "cell_type": "code",
   "execution_count": null,
   "id": "2bafc45f",
   "metadata": {
    "ExecuteTime": {
     "end_time": "2024-10-31T05:23:16.972358Z",
     "start_time": "2024-10-31T05:23:16.972358Z"
    }
   },
   "outputs": [],
   "source": [
    "x = np.linspace(0,1,100)\n",
    "fig = plt.subplot(111)\n",
    "plt.scatter(DeltaIN_final, DeltaDG_final, color='mediumaquamarine', marker='^', label='DG')\n",
    "plt.scatter(DeltaIN_final, DeltaCA3_final, color='cornflowerblue', label='CA3')\n",
    "plt.scatter(DeltaIN_final, DeltaCA1_final, color='salmon', marker=',', label='CA1')\n",
    "\n",
    "#plt.errorbar(DeltaI_block, DeltaO_block, yerr=DeltaO_block_std, fmt=\"o\")\n",
    "#plt.plot(x,x, color='black')\n",
    "plt.legend(loc='lower right')\n",
    "plt.axis(\"square\")\n",
    "plt.xlim([0,1.02])\n",
    "plt.ylim([-0.02,1.02])\n",
    "plt.xlabel('$\\Delta$ Input')\n",
    "plt.ylabel('Average of $\\Delta$ Output')\n",
    "\n",
    "fig.spines['top'].set_visible(False)\n",
    "fig.spines['right'].set_visible(False)\n",
    "plt.title('Neural representation for each subregion')\n",
    "plt.savefig('Activity for each subregion.pdf', bbox_inches='tight')\n",
    "plt.show()"
   ]
  },
  {
   "cell_type": "code",
   "execution_count": null,
   "id": "6b35b6cc",
   "metadata": {},
   "outputs": [],
   "source": []
  }
 ],
 "metadata": {
  "kernelspec": {
   "display_name": "Python 3 (ipykernel)",
   "language": "python",
   "name": "python3"
  },
  "language_info": {
   "codemirror_mode": {
    "name": "ipython",
    "version": 3
   },
   "file_extension": ".py",
   "mimetype": "text/x-python",
   "name": "python",
   "nbconvert_exporter": "python",
   "pygments_lexer": "ipython3",
   "version": "3.8.5"
  },
  "toc": {
   "base_numbering": 1,
   "nav_menu": {},
   "number_sections": true,
   "sideBar": true,
   "skip_h1_title": false,
   "title_cell": "Table of Contents",
   "title_sidebar": "Contents",
   "toc_cell": false,
   "toc_position": {},
   "toc_section_display": true,
   "toc_window_display": false
  },
  "varInspector": {
   "cols": {
    "lenName": 16,
    "lenType": 16,
    "lenVar": 40
   },
   "kernels_config": {
    "python": {
     "delete_cmd_postfix": "",
     "delete_cmd_prefix": "del ",
     "library": "var_list.py",
     "varRefreshCmd": "print(var_dic_list())"
    },
    "r": {
     "delete_cmd_postfix": ") ",
     "delete_cmd_prefix": "rm(",
     "library": "var_list.r",
     "varRefreshCmd": "cat(var_dic_list()) "
    }
   },
   "types_to_exclude": [
    "module",
    "function",
    "builtin_function_or_method",
    "instance",
    "_Feature"
   ],
   "window_display": false
  }
 },
 "nbformat": 4,
 "nbformat_minor": 5
}
