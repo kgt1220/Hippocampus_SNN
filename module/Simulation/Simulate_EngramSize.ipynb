{
 "cells": [
  {
   "cell_type": "code",
   "execution_count": 1,
   "metadata": {
    "ExecuteTime": {
     "end_time": "2024-11-01T03:24:10.311752Z",
     "start_time": "2024-11-01T03:24:07.754363Z"
    },
    "code_folding": []
   },
   "outputs": [],
   "source": [
    "# import\n",
    "import numpy as np\n",
    "import random\n",
    "import matplotlib.pyplot as plt\n",
    "import matplotlib.cm as cm \n",
    "import seaborn as sns\n",
    "from scipy import signal\n",
    "from importlib import reload\n",
    "\n",
    "#import winsound as sd\n",
    "import pickle\n",
    "import sys\n",
    "import os\n",
    "\n",
    "from Tools.tools import *\n",
    "from Plasticity.plasticity import *\n",
    "from Neuron.neuron import *\n",
    "from Model.model import *\n",
    "from Analysis.analysis import *\n",
    "import Operate_model"
   ]
  },
  {
   "cell_type": "code",
   "execution_count": 3,
   "metadata": {
    "ExecuteTime": {
     "end_time": "2024-11-01T03:24:38.253879Z",
     "start_time": "2024-11-01T03:24:38.199026Z"
    },
    "code_folding": []
   },
   "outputs": [],
   "source": [
    "# load\n",
    "cd = os.getcwd()\n",
    "path = os.path.dirname(cd)\n",
    "    \n",
    "with open(path+'//Data_final.pkl', 'rb') as file:\n",
    "    # 453개의 data에 해당하는 input vector, DG vector, DG vector size, \n",
    "    Filt_idata = pickle.load(file)\n",
    "    Filt_gdata = pickle.load(file)\n",
    "    Filt_glen = pickle.load(file)\n",
    "    F_DataLen = pickle.load(file)\n",
    "    \n",
    "    # CA3 vector index, CA3i vector index\n",
    "    Af_py = pickle.load(file)\n",
    "    Af_in = pickle.load(file)\n",
    "    \n",
    "    # 뭐였더라\n",
    "    In_py_list = pickle.load(file)\n",
    "    In_in_list = pickle.load(file)"
   ]
  },
  {
   "cell_type": "code",
   "execution_count": 5,
   "metadata": {
    "ExecuteTime": {
     "end_time": "2024-11-01T03:24:40.458809Z",
     "start_time": "2024-11-01T03:24:40.438542Z"
    },
    "code_folding": []
   },
   "outputs": [],
   "source": [
    "class config:\n",
    "    def __init__(self, pc):\n",
    "        # The number of neurons\n",
    "        self.N_I = 16\n",
    "        self.N_O = self.N_I\n",
    "\n",
    "        self.N_DG = 800\n",
    "        self.N_DGH = self.N_I\n",
    "        self.N_DGM = 100 \n",
    "        self.N_DGB = 400 \n",
    "\n",
    "        self.N_CA3 = pc[3] \n",
    "        self.N_CA1 = 200\n",
    "        self.N_CA3i = pc[4] \n",
    "        \n",
    "        # Weights of each connection\n",
    "        # From EC\n",
    "        self.w_EI = 3\n",
    "        self.w_ppDG = 2 \n",
    "        self.w_ppCA3 = 1 \n",
    "        self.w_ppCA1 = 0.5 \n",
    "\n",
    "        # DG\n",
    "        self.w_IH = 3 \n",
    "        self.w_IB = 4 \n",
    "        self.w_IM = 3 \n",
    "        self.w_HM = 4 \n",
    "        self.w_MB = 4 \n",
    "        self.w_BDG = 3 \n",
    "\n",
    "        # CA3\n",
    "        self.w_mf = 2 \n",
    "        self.w_mfi = 2 \n",
    "        self.w_Rc = 1\n",
    "\n",
    "        self.w_CA33i = 1\n",
    "        self.w_3iCA3 = 2 \n",
    "        self.w_3i3i = 0.5 \n",
    "        self.w_NoCA3 = 0.5\n",
    "\n",
    "        # CA1\n",
    "        self.w_Sc = 0.15\n",
    "        self.w_CA1O = 2 \n",
    "\n",
    "        # The number of connections \n",
    "        # From EC\n",
    "        self.c_ppDG = 1\n",
    "        self.c_ppCA3 = 8\n",
    "        self.c_ppCA1 = 3\n",
    "\n",
    "        # DG\n",
    "        self.c_IH = 1\n",
    "        self.c_IB = self.N_I\n",
    "        self.c_IM = self.N_I*2//3\n",
    "        self.c_HM = 1\n",
    "        self.c_MB = self.N_I\n",
    "        self.c_BDG = 1\n",
    "\n",
    "        # CA3\n",
    "        self.c_mf = pc[0]\n",
    "        self.c_mfi = pc[1]\n",
    "        self.c_Rc = self.N_CA3//4\n",
    "\n",
    "        self.c_CA33i = self.N_CA3i//4\n",
    "        self.c_3iCA3 = pc[2]\n",
    "        self.c_3i3i = pc[5]\n",
    "        self.c_NoCA3 = self.N_CA3\n",
    "        self.c_Sc =  self.N_CA3//2\n",
    "\n",
    "        # Parameters for delay\n",
    "        self.d_I = 10\n",
    "        self.d_O = 15\n",
    "        self.d_DG = 3\n",
    "        self.d_CA3 = 5\n",
    "        self.d_CA3i = 1"
   ]
  },
  {
   "cell_type": "code",
   "execution_count": 6,
   "metadata": {
    "ExecuteTime": {
     "end_time": "2024-11-01T03:24:41.115255Z",
     "start_time": "2024-11-01T03:24:41.110269Z"
    },
    "code_folding": []
   },
   "outputs": [],
   "source": [
    "# init\n",
    "pc = [30,3,600,2400,120,20]\n",
    "already_learned = False\n",
    "learned_weights = [0,0,0,0]\n",
    "params = config(pc)"
   ]
  },
  {
   "cell_type": "code",
   "execution_count": 7,
   "metadata": {
    "ExecuteTime": {
     "end_time": "2024-11-01T03:24:42.072152Z",
     "start_time": "2024-11-01T03:24:42.055198Z"
    },
    "code_folding": []
   },
   "outputs": [
    {
     "name": "stdout",
     "output_type": "stream",
     "text": [
      "332\n"
     ]
    }
   ],
   "source": [
    "# CA3 size 기준 데이터 분류 / 9-14\n",
    "CA3_size = []\n",
    "for n in range(F_DataLen):\n",
    "    CA3_size.append(len(Af_py[n]))\n",
    "\n",
    "# Classified by size\n",
    "CA3_SC = [[],[],[],[],[],[]]\n",
    "size_min = 9\n",
    "size_max = size_min+len(CA3_SC)\n",
    "for i, comp in enumerate(CA3_size):\n",
    "    if size_min <= comp < size_max:\n",
    "        idx = comp-size_min\n",
    "        CA3_SC[idx].append(i)\n",
    "\n",
    "Number = 0\n",
    "for n in range(len(CA3_SC)):\n",
    "    Number += len(CA3_SC[n])\n",
    "print(Number)\n",
    "\n",
    "Af_py_final_idx = set()\n",
    "for n in range(len(CA3_SC)):\n",
    "    Af_py_final_idx |= set(CA3_SC[n])"
   ]
  },
  {
   "cell_type": "code",
   "execution_count": 8,
   "metadata": {
    "ExecuteTime": {
     "end_time": "2024-11-01T03:24:42.650634Z",
     "start_time": "2024-11-01T03:24:42.646640Z"
    }
   },
   "outputs": [],
   "source": [
    "# Neuron indices want to see the specific values\n",
    "WTS_I = []\n",
    "WTS_DGH = []\n",
    "WTS_DGM = []\n",
    "WTS_DGB = []\n",
    "WTS_DG = []\n",
    "WTS_CA3 = []\n",
    "WTS_CA3i = []\n",
    "WTS_CA1 = []\n",
    "WTS = [WTS_I, WTS_DGH, WTS_DGM, WTS_DGB, WTS_DG, WTS_CA3, WTS_CA3i, WTS_CA1]"
   ]
  },
  {
   "cell_type": "code",
   "execution_count": 21,
   "metadata": {
    "ExecuteTime": {
     "end_time": "2024-11-01T04:15:40.037087Z",
     "start_time": "2024-11-01T04:15:40.021130Z"
    }
   },
   "outputs": [],
   "source": [
    "# Size 조사\n",
    "with open('Data_EngramSize\\Cue_and_Target_Size_Set3.pkl', 'rb') as file:\n",
    "    Target_Data = pickle.load(file)\n",
    "    Cue_Data = pickle.load(file)\n",
    "    \n",
    "learned_path = path+'//module//Weights_Size'"
   ]
  },
  {
   "cell_type": "code",
   "execution_count": 18,
   "metadata": {
    "ExecuteTime": {
     "end_time": "2024-11-01T04:09:32.318583Z",
     "start_time": "2024-11-01T04:09:10.001514Z"
    },
    "scrolled": true
   },
   "outputs": [
    {
     "ename": "NameError",
     "evalue": "name 'CA3input' is not defined",
     "output_type": "error",
     "traceback": [
      "\u001b[1;31m---------------------------------------------------------------------------\u001b[0m",
      "\u001b[1;31mNameError\u001b[0m                                 Traceback (most recent call last)",
      "\u001b[1;32m~\\AppData\\Local\\Temp\\ipykernel_11072\\1164479410.py\u001b[0m in \u001b[0;36m<module>\u001b[1;34m\u001b[0m\n\u001b[0;32m     21\u001b[0m     \u001b[0mCue\u001b[0m \u001b[1;33m=\u001b[0m \u001b[0mnp\u001b[0m\u001b[1;33m.\u001b[0m\u001b[0mzeros\u001b[0m\u001b[1;33m(\u001b[0m\u001b[0mparams\u001b[0m\u001b[1;33m.\u001b[0m\u001b[0mN_I\u001b[0m\u001b[1;33m)\u001b[0m\u001b[1;33m\u001b[0m\u001b[1;33m\u001b[0m\u001b[0m\n\u001b[0;32m     22\u001b[0m \u001b[1;33m\u001b[0m\u001b[0m\n\u001b[1;32m---> 23\u001b[1;33m     network, Fail, If_fail, Success, Winfin, Voltage, FT, CA3_R_list, Out_R_list = Operate_model.run_model(\n\u001b[0m\u001b[0;32m     24\u001b[0m         \u001b[0mEn_win\u001b[0m\u001b[1;33m,\u001b[0m \u001b[0mRe_win\u001b[0m\u001b[1;33m,\u001b[0m\u001b[1;33m\u001b[0m\u001b[1;33m\u001b[0m\u001b[0m\n\u001b[0;32m     25\u001b[0m         \u001b[0mNum_tar\u001b[0m\u001b[1;33m,\u001b[0m \u001b[0mNum_cue\u001b[0m\u001b[1;33m,\u001b[0m \u001b[0mRepeat\u001b[0m\u001b[1;33m,\u001b[0m \u001b[0mTarget\u001b[0m\u001b[1;33m,\u001b[0m \u001b[0mCue\u001b[0m\u001b[1;33m,\u001b[0m\u001b[1;33m\u001b[0m\u001b[1;33m\u001b[0m\u001b[0m\n",
      "\u001b[1;32mG:\\Hippocampus_NN\\Hippocampus_SNN\\module\\Operate_model.py\u001b[0m in \u001b[0;36mrun_model\u001b[1;34m(En_win, Re_win, Num_tar, Num_cue, Repeat, Target, Cue, WTS, params, already_learned, learned_weights, Direct_pp, Filt_idata, Af_py, Af_in, Noise_on, plot_I, plot_O, plot_H, plot_M, plot_B, plot_DG, plot_CA3, plot_CA3i, plot_CA1)\u001b[0m\n\u001b[0;32m    206\u001b[0m                 \u001b[0mNoise\u001b[0m \u001b[1;33m=\u001b[0m \u001b[0mnp\u001b[0m\u001b[1;33m.\u001b[0m\u001b[0mrandom\u001b[0m\u001b[1;33m.\u001b[0m\u001b[0mpoisson\u001b[0m\u001b[1;33m(\u001b[0m\u001b[1;36m0.0035\u001b[0m\u001b[1;33m,\u001b[0m \u001b[0mparams\u001b[0m\u001b[1;33m.\u001b[0m\u001b[0mN_CA3\u001b[0m\u001b[1;33m)\u001b[0m\u001b[1;33m\u001b[0m\u001b[1;33m\u001b[0m\u001b[0m\n\u001b[0;32m    207\u001b[0m \u001b[1;33m\u001b[0m\u001b[0m\n\u001b[1;32m--> 208\u001b[1;33m         \u001b[0mnetwork\u001b[0m\u001b[1;33m.\u001b[0m\u001b[0msolve\u001b[0m\u001b[1;33m(\u001b[0m\u001b[0menv\u001b[0m\u001b[1;33m,\u001b[0m \u001b[0mCA3input\u001b[0m\u001b[1;33m,\u001b[0m \u001b[0mNoise\u001b[0m\u001b[1;33m,\u001b[0m \u001b[0mER\u001b[0m\u001b[1;33m,\u001b[0m \u001b[0mT\u001b[0m\u001b[1;33m,\u001b[0m \u001b[0mEn_win\u001b[0m\u001b[1;33m,\u001b[0m \u001b[0mRe_win\u001b[0m\u001b[1;33m)\u001b[0m\u001b[1;33m\u001b[0m\u001b[1;33m\u001b[0m\u001b[0m\n\u001b[0m\u001b[0;32m    209\u001b[0m \u001b[1;33m\u001b[0m\u001b[0m\n\u001b[0;32m    210\u001b[0m         \u001b[1;31m# Just before finishing one cycle\u001b[0m\u001b[1;33m\u001b[0m\u001b[1;33m\u001b[0m\u001b[1;33m\u001b[0m\u001b[0m\n",
      "\u001b[1;31mNameError\u001b[0m: name 'CA3input' is not defined"
     ]
    }
   ],
   "source": [
    "# Learning\n",
    "for Trial in range(25):\n",
    "    Trial = Trial\n",
    "    Tar = (Trial // 5) + 1\n",
    "    Try = Trial % 5\n",
    "    \n",
    "    # initiation\n",
    "    En_win = 120\n",
    "    Re_win = 120\n",
    "    \n",
    "    Num_tar = len(Target_Data[Trial])\n",
    "    Num_cue = 1\n",
    "    Repeat = 1\n",
    "    \n",
    "    EtoI_learning = True\n",
    "    already_learned = False\n",
    "    learned_weights = [0,0,0,0]\n",
    "    Direct_pp = True\n",
    "    \n",
    "    Target = Target_Data[Trial]\n",
    "    Cue = np.zeros(params.N_I)\n",
    "\n",
    "    network, Fail, If_fail, Success, Winfin, Voltage, FT, CA3_R_list, Out_R_list = Operate_model.run_model(\n",
    "        En_win, Re_win, \n",
    "        Num_tar, Num_cue, Repeat, Target, Cue, \n",
    "        WTS, params, \n",
    "        already_learned, learned_weights, Direct_pp,\n",
    "        Filt_idata, Filt_gdata, Af_py, Af_in)\n",
    "    \n",
    "    if not already_learned:\n",
    "        with open('Learned weights-size_v4%d-%d.pkl' % (Tar, Try), 'wb') as file:\n",
    "            pickle.dump(network.q_ppCA3, file)\n",
    "            pickle.dump(network.q_Rc, file)\n",
    "            pickle.dump(network.q_CA33i, file)\n",
    "            pickle.dump(network.q_Sc, file)"
   ]
  },
  {
   "cell_type": "code",
   "execution_count": null,
   "metadata": {
    "ExecuteTime": {
     "end_time": "2024-04-11T16:11:42.966221Z",
     "start_time": "2024-04-11T12:07:53.044Z"
    },
    "code_folding": [],
    "scrolled": true
   },
   "outputs": [],
   "source": [
    "# Retrieval\n",
    "for Trial in range(5*5):\n",
    "    Tar = (Trial // 5) + 1\n",
    "    Try = Trial % 5\n",
    "    \n",
    "    # initiation\n",
    "    En_win = 120\n",
    "    Re_win = 120\n",
    "    \n",
    "    # 현 trial에서 cue의 개수\n",
    "    Num_tar = len(Target_Data[Trial])\n",
    "    Num_cue = 1\n",
    "    Repeat = 100\n",
    "    \n",
    "    Phase_num = Num_cue*Repeat\n",
    "    \n",
    "    # target : 2x25 / P_Data : 16x25\n",
    "    Target = Target_Data[Trial]\n",
    "    Cue = Cue_Data[:,Trial]\n",
    "\n",
    "    EtoI_learning = True\n",
    "    already_learned = True\n",
    "    Direct_pp = True\n",
    "    \n",
    "    if already_learned:\n",
    "        with open(learned_path+'//Learned weights-size_v2%d-%d.pkl' % (Tar, Try), 'rb') as file:\n",
    "            q_ppCA3 = pickle.load(file)   \n",
    "            q_Rc = pickle.load(file)\n",
    "            q_CA33i = pickle.load(file)\n",
    "            q_Sc = pickle.load(file)\n",
    "\n",
    "        if not EtoI_learning:\n",
    "            for n in range(params.N_CA3):\n",
    "                for m in range(params.N_CA3i):\n",
    "                    if q_CA33i[n,m] !=0:\n",
    "                        q_CA33i[n,m] = 0.5\n",
    "        learned_weights = [q_ppCA3, q_Rc, q_CA33i, q_Sc]\n",
    "    else:\n",
    "        learned_weights = [0,0,0,0]\n",
    "\n",
    "    network, Fail, If_fail, Success, Winfin, CA3_R_list, CA1_R_list = Operate_model_v3.run_model(\n",
    "        En_win, Re_win, \n",
    "        Num_tar, Num_cue, Repeat, Target, Cue, \n",
    "        WTS, params, \n",
    "        already_learned, learned_weights, Direct_pp,\n",
    "        Filt_idata, Filt_gdata, Af_py, Af_in)\n",
    "    \n",
    "    with open('Results-sizeM_v2%d-%d.pkl' % (Tar, Try), 'wb') as file:\n",
    "        pickle.dump(CA3_R_list, file)\n",
    "        pickle.dump(CA1_R_list, file)"
   ]
  },
  {
   "cell_type": "code",
   "execution_count": null,
   "metadata": {},
   "outputs": [],
   "source": []
  }
 ],
 "metadata": {
  "kernelspec": {
   "display_name": "Python 3 (ipykernel)",
   "language": "python",
   "name": "python3"
  },
  "language_info": {
   "codemirror_mode": {
    "name": "ipython",
    "version": 3
   },
   "file_extension": ".py",
   "mimetype": "text/x-python",
   "name": "python",
   "nbconvert_exporter": "python",
   "pygments_lexer": "ipython3",
   "version": "3.8.5"
  },
  "toc": {
   "base_numbering": 1,
   "nav_menu": {},
   "number_sections": true,
   "sideBar": true,
   "skip_h1_title": false,
   "title_cell": "Table of Contents",
   "title_sidebar": "Contents",
   "toc_cell": false,
   "toc_position": {},
   "toc_section_display": true,
   "toc_window_display": false
  },
  "varInspector": {
   "cols": {
    "lenName": 16,
    "lenType": 16,
    "lenVar": 40
   },
   "kernels_config": {
    "python": {
     "delete_cmd_postfix": "",
     "delete_cmd_prefix": "del ",
     "library": "var_list.py",
     "varRefreshCmd": "print(var_dic_list())"
    },
    "r": {
     "delete_cmd_postfix": ") ",
     "delete_cmd_prefix": "rm(",
     "library": "var_list.r",
     "varRefreshCmd": "cat(var_dic_list()) "
    }
   },
   "types_to_exclude": [
    "module",
    "function",
    "builtin_function_or_method",
    "instance",
    "_Feature"
   ],
   "window_display": false
  }
 },
 "nbformat": 4,
 "nbformat_minor": 4
}
