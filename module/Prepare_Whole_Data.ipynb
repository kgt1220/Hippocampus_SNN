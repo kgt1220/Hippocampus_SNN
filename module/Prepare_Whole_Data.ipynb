{
 "cells": [
  {
   "cell_type": "code",
   "execution_count": 1,
   "metadata": {
    "ExecuteTime": {
     "end_time": "2024-09-10T05:58:56.267196Z",
     "start_time": "2024-09-10T05:58:54.473461Z"
    },
    "code_folding": []
   },
   "outputs": [],
   "source": [
    "###### import\n",
    "import numpy as np\n",
    "import random\n",
    "import matplotlib.pyplot as plt\n",
    "import matplotlib.cm as cm \n",
    "import seaborn as sns\n",
    "from scipy import signal\n",
    "from importlib import reload\n",
    "\n",
    "import winsound as sd\n",
    "import pickle\n",
    "import sys\n",
    "import os\n",
    "\n",
    "from Tools.tools import *\n",
    "from Plasticity.plasticity import *\n",
    "from Neuron.neuron import *\n",
    "from Model.model import *\n",
    "from Analysis.analysis import *\n",
    "import Operate_model"
   ]
  },
  {
   "cell_type": "code",
   "execution_count": 2,
   "metadata": {
    "ExecuteTime": {
     "end_time": "2024-09-10T05:58:56.282198Z",
     "start_time": "2024-09-10T05:58:56.269233Z"
    },
    "code_folding": []
   },
   "outputs": [],
   "source": [
    "class config:\n",
    "    def __init__(self, pc):\n",
    "        # The number of neurons\n",
    "        self.N_I = 16\n",
    "        self.N_O = self.N_I\n",
    "\n",
    "        self.N_DG = 800\n",
    "        self.N_DGH = self.N_I\n",
    "        self.N_DGM = 100 \n",
    "        self.N_DGB = 400 \n",
    "\n",
    "        self.N_CA3 = pc[3] \n",
    "        self.N_CA1 = 200\n",
    "        self.N_CA3i = pc[4] \n",
    "        \n",
    "        # Weights of each connection\n",
    "        # From EC\n",
    "        self.w_EI = 3\n",
    "        self.w_ppDG = 2 \n",
    "        self.w_ppCA3 = 1 \n",
    "        self.w_ppCA1 = 0.5 \n",
    "\n",
    "        # DG\n",
    "        self.w_IH = 3 \n",
    "        self.w_IB = 4 \n",
    "        self.w_IM = 3 \n",
    "        self.w_HM = 4 \n",
    "        self.w_MB = 4 \n",
    "        self.w_BDG = 3 \n",
    "\n",
    "        # CA3\n",
    "        self.w_mf = 2 \n",
    "        self.w_mfi = 2 \n",
    "        self.w_Rc = 1\n",
    "\n",
    "        self.w_CA33i = 1\n",
    "        self.w_3iCA3 = 2 \n",
    "        self.w_3i3i = 0.5 \n",
    "        self.w_NoCA3 = 0.5\n",
    "\n",
    "        # CA1\n",
    "        self.w_Sc = 0.15\n",
    "        self.w_CA1O = 2 \n",
    "\n",
    "        # The number of connections \n",
    "        # From EC\n",
    "        self.c_ppDG = 1\n",
    "        self.c_ppCA3 = 8\n",
    "        self.c_ppCA1 = 3\n",
    "\n",
    "        # DG\n",
    "        self.c_IH = 1\n",
    "        self.c_IB = self.N_I\n",
    "        self.c_IM = self.N_I*2//3\n",
    "        self.c_HM = 1\n",
    "        self.c_MB = self.N_I\n",
    "        self.c_BDG = 1\n",
    "\n",
    "        # CA3\n",
    "        self.c_mf = pc[0]\n",
    "        self.c_mfi = pc[1]\n",
    "        self.c_Rc = self.N_CA3//4\n",
    "\n",
    "        self.c_CA33i = self.N_CA3i//4\n",
    "        self.c_3iCA3 = pc[2]\n",
    "        self.c_3i3i = pc[5]\n",
    "        self.c_NoCA3 = self.N_CA3\n",
    "        self.c_Sc =  self.N_CA3//2\n",
    "\n",
    "        # Parameters for delay\n",
    "        self.d_I = 10\n",
    "        self.d_O = 15\n",
    "        self.d_DG = 3\n",
    "        self.d_CA3 = 5\n",
    "        self.d_CA3i = 1"
   ]
  },
  {
   "cell_type": "code",
   "execution_count": 3,
   "metadata": {
    "ExecuteTime": {
     "end_time": "2024-09-10T05:58:56.297158Z",
     "start_time": "2024-09-10T05:58:56.284193Z"
    },
    "code_folding": []
   },
   "outputs": [],
   "source": [
    "# init\n",
    "pc = [30,3,600,2400,120,20]\n",
    "already_learned = False\n",
    "learned_weights = [0,0,0,0]\n",
    "params = config(pc)"
   ]
  },
  {
   "cell_type": "code",
   "execution_count": 4,
   "metadata": {
    "ExecuteTime": {
     "end_time": "2024-09-10T05:58:56.345030Z",
     "start_time": "2024-09-10T05:58:56.299153Z"
    }
   },
   "outputs": [],
   "source": [
    "# Generation data\n",
    "np.random.seed(100)\n",
    "Datalen = 1250\n",
    "Data = np.zeros((params.N_I,Datalen))\n",
    "for n in range(Datalen):\n",
    "    num_F = np.random.randint(params.N_I)+1\n",
    "    Data[:,n] = generate_binvec(params.N_I, num_F) "
   ]
  },
  {
   "cell_type": "code",
   "execution_count": 5,
   "metadata": {
    "ExecuteTime": {
     "end_time": "2024-09-10T05:58:56.634761Z",
     "start_time": "2024-09-10T05:58:56.348022Z"
    }
   },
   "outputs": [
    {
     "name": "stdout",
     "output_type": "stream",
     "text": [
      "997\n"
     ]
    }
   ],
   "source": [
    "# Delete repetitive data\n",
    "Data_set = []\n",
    "for n in range(Datalen):\n",
    "    Data_set.append(set(np.where(Data[:,n] !=0)[0]))\n",
    "Repeated_data = []\n",
    "for i, comp in enumerate(Data_set):\n",
    "    for j, comp2 in enumerate(Data_set):\n",
    "        if i < j:\n",
    "            if comp == comp2:\n",
    "                Repeated_data.append(j)\n",
    "                \n",
    "Data_final_idx = set(range(Datalen))-set(Repeated_data)\n",
    "Datalen_final = len(Data_final_idx)\n",
    "Data_final = np.zeros((params.N_I,Datalen_final))\n",
    "for i, comp in enumerate(Data_final_idx):\n",
    "    Data_final[:,i] = Data[:,comp]\n",
    "print(Datalen_final)"
   ]
  },
  {
   "cell_type": "code",
   "execution_count": 6,
   "metadata": {
    "ExecuteTime": {
     "end_time": "2024-09-10T05:58:57.577272Z",
     "start_time": "2024-09-10T05:58:56.635759Z"
    }
   },
   "outputs": [
    {
     "ename": "NameError",
     "evalue": "name 'a' is not defined",
     "output_type": "error",
     "traceback": [
      "\u001b[1;31m---------------------------------------------------------------------------\u001b[0m",
      "\u001b[1;31mNameError\u001b[0m                                 Traceback (most recent call last)",
      "\u001b[1;32m<ipython-input-6-3f786850e387>\u001b[0m in \u001b[0;36m<module>\u001b[1;34m\u001b[0m\n\u001b[1;32m----> 1\u001b[1;33m \u001b[0ma\u001b[0m\u001b[1;33m\u001b[0m\u001b[1;33m\u001b[0m\u001b[0m\n\u001b[0m",
      "\u001b[1;31mNameError\u001b[0m: name 'a' is not defined"
     ]
    }
   ],
   "source": [
    "a"
   ]
  },
  {
   "cell_type": "code",
   "execution_count": 7,
   "metadata": {
    "ExecuteTime": {
     "end_time": "2024-09-10T06:02:28.071476Z",
     "start_time": "2024-09-10T06:02:28.067488Z"
    }
   },
   "outputs": [],
   "source": [
    "# DG separation \n",
    "# initiation\n",
    "Freq = 20\n",
    "En_win = 120\n",
    "Re_win = 0\n",
    "\n",
    "ER = True\n",
    "theta = False\n",
    "only_DG = True\n",
    "only_CA3 = False"
   ]
  },
  {
   "cell_type": "code",
   "execution_count": 13,
   "metadata": {
    "ExecuteTime": {
     "end_time": "2024-09-10T06:13:35.843734Z",
     "start_time": "2024-09-10T06:13:34.802688Z"
    }
   },
   "outputs": [
    {
     "ename": "KeyboardInterrupt",
     "evalue": "",
     "output_type": "error",
     "traceback": [
      "\u001b[1;31m---------------------------------------------------------------------------\u001b[0m",
      "\u001b[1;31mKeyboardInterrupt\u001b[0m                         Traceback (most recent call last)",
      "\u001b[1;32m<ipython-input-13-48e85829b95a>\u001b[0m in \u001b[0;36m<module>\u001b[1;34m\u001b[0m\n\u001b[0;32m      1\u001b[0m \u001b[1;31m# Observe the granule cell patterns for each data\u001b[0m\u001b[1;33m\u001b[0m\u001b[1;33m\u001b[0m\u001b[1;33m\u001b[0m\u001b[0m\n\u001b[0;32m      2\u001b[0m \u001b[0mparams\u001b[0m \u001b[1;33m=\u001b[0m \u001b[0mconfig\u001b[0m\u001b[1;33m(\u001b[0m\u001b[0mpc\u001b[0m\u001b[1;33m)\u001b[0m\u001b[1;33m\u001b[0m\u001b[1;33m\u001b[0m\u001b[0m\n\u001b[1;32m----> 3\u001b[1;33m \u001b[0mnetwork\u001b[0m \u001b[1;33m=\u001b[0m \u001b[0mSNN\u001b[0m\u001b[1;33m(\u001b[0m\u001b[0mparams\u001b[0m\u001b[1;33m,\u001b[0m \u001b[0mNeuron\u001b[0m\u001b[1;33m,\u001b[0m \u001b[0mSynapse\u001b[0m\u001b[1;33m,\u001b[0m \u001b[0mlearned_weights\u001b[0m\u001b[1;33m,\u001b[0m \u001b[0malready_learned\u001b[0m\u001b[1;33m)\u001b[0m\u001b[1;33m\u001b[0m\u001b[1;33m\u001b[0m\u001b[0m\n\u001b[0m\u001b[0;32m      4\u001b[0m \u001b[1;33m\u001b[0m\u001b[0m\n\u001b[0;32m      5\u001b[0m \u001b[0mDG_FR\u001b[0m \u001b[1;33m=\u001b[0m \u001b[0mnp\u001b[0m\u001b[1;33m.\u001b[0m\u001b[0mzeros\u001b[0m\u001b[1;33m(\u001b[0m\u001b[1;33m(\u001b[0m\u001b[0mparams\u001b[0m\u001b[1;33m.\u001b[0m\u001b[0mN_DG\u001b[0m\u001b[1;33m,\u001b[0m \u001b[0mDatalen_final\u001b[0m\u001b[1;33m)\u001b[0m\u001b[1;33m)\u001b[0m\u001b[1;33m\u001b[0m\u001b[1;33m\u001b[0m\u001b[0m\n",
      "\u001b[1;32mE:\\Hippocampus_NN\\module-v3 - 복사본\\module\\Model\\model_CA1.py\u001b[0m in \u001b[0;36m__init__\u001b[1;34m(self, params, neuron_class, synapse, learned_weights, AL)\u001b[0m\n\u001b[0;32m     50\u001b[0m \u001b[1;33m\u001b[0m\u001b[0m\n\u001b[0;32m     51\u001b[0m         \u001b[1;31m# Carry out inner functions related to initial setup\u001b[0m\u001b[1;33m\u001b[0m\u001b[1;33m\u001b[0m\u001b[1;33m\u001b[0m\u001b[0m\n\u001b[1;32m---> 52\u001b[1;33m         \u001b[0mself\u001b[0m\u001b[1;33m.\u001b[0m\u001b[0msetup_synapse\u001b[0m\u001b[1;33m(\u001b[0m\u001b[0mparams\u001b[0m\u001b[1;33m)\u001b[0m\u001b[1;33m\u001b[0m\u001b[1;33m\u001b[0m\u001b[0m\n\u001b[0m\u001b[0;32m     53\u001b[0m         \u001b[0mself\u001b[0m\u001b[1;33m.\u001b[0m\u001b[0msetup_layer\u001b[0m\u001b[1;33m(\u001b[0m\u001b[1;33m)\u001b[0m\u001b[1;33m\u001b[0m\u001b[1;33m\u001b[0m\u001b[0m\n\u001b[0;32m     54\u001b[0m \u001b[1;33m\u001b[0m\u001b[0m\n",
      "\u001b[1;32mE:\\Hippocampus_NN\\module-v3 - 복사본\\module\\Model\\model_CA1.py\u001b[0m in \u001b[0;36msetup_synapse\u001b[1;34m(self, params)\u001b[0m\n\u001b[0;32m     94\u001b[0m         \u001b[1;31m# CA3\u001b[0m\u001b[1;33m\u001b[0m\u001b[1;33m\u001b[0m\u001b[1;33m\u001b[0m\u001b[0m\n\u001b[0;32m     95\u001b[0m         \u001b[0mrandom\u001b[0m\u001b[1;33m.\u001b[0m\u001b[0mseed\u001b[0m\u001b[1;33m(\u001b[0m\u001b[1;36m200\u001b[0m\u001b[1;33m)\u001b[0m\u001b[1;33m\u001b[0m\u001b[1;33m\u001b[0m\u001b[0m\n\u001b[1;32m---> 96\u001b[1;33m         \u001b[0mself\u001b[0m\u001b[1;33m.\u001b[0m\u001b[0mW_Rc\u001b[0m\u001b[1;33m,\u001b[0m \u001b[0mself\u001b[0m\u001b[1;33m.\u001b[0m\u001b[0mq_Rc\u001b[0m \u001b[1;33m=\u001b[0m \u001b[0mself\u001b[0m\u001b[1;33m.\u001b[0m\u001b[0msynapse\u001b[0m\u001b[1;33m.\u001b[0m\u001b[0mtake_weights\u001b[0m\u001b[1;33m(\u001b[0m\u001b[0mself\u001b[0m\u001b[1;33m.\u001b[0m\u001b[0mN_CA3\u001b[0m\u001b[1;33m,\u001b[0m \u001b[0mself\u001b[0m\u001b[1;33m.\u001b[0m\u001b[0mN_CA3\u001b[0m\u001b[1;33m,\u001b[0m \u001b[1;34m'Pre_view'\u001b[0m\u001b[1;33m,\u001b[0m \u001b[0mparams\u001b[0m\u001b[1;33m.\u001b[0m\u001b[0mw_Rc\u001b[0m\u001b[1;33m,\u001b[0m \u001b[1;34m'weak'\u001b[0m\u001b[1;33m,\u001b[0m \u001b[0mparams\u001b[0m\u001b[1;33m.\u001b[0m\u001b[0mc_Rc\u001b[0m\u001b[1;33m)\u001b[0m\u001b[1;33m\u001b[0m\u001b[1;33m\u001b[0m\u001b[0m\n\u001b[0m\u001b[0;32m     97\u001b[0m         \u001b[0mself\u001b[0m\u001b[1;33m.\u001b[0m\u001b[0mg_Rc_AM\u001b[0m \u001b[1;33m=\u001b[0m \u001b[0mnp\u001b[0m\u001b[1;33m.\u001b[0m\u001b[0mzeros\u001b[0m\u001b[1;33m(\u001b[0m\u001b[1;33m(\u001b[0m\u001b[0mself\u001b[0m\u001b[1;33m.\u001b[0m\u001b[0mN_CA3\u001b[0m\u001b[1;33m,\u001b[0m \u001b[0mself\u001b[0m\u001b[1;33m.\u001b[0m\u001b[0mN_CA3\u001b[0m\u001b[1;33m)\u001b[0m\u001b[1;33m)\u001b[0m\u001b[1;33m\u001b[0m\u001b[1;33m\u001b[0m\u001b[0m\n\u001b[0;32m     98\u001b[0m         \u001b[0mself\u001b[0m\u001b[1;33m.\u001b[0m\u001b[0mg_Rc_NM\u001b[0m \u001b[1;33m=\u001b[0m \u001b[0mnp\u001b[0m\u001b[1;33m.\u001b[0m\u001b[0mzeros\u001b[0m\u001b[1;33m(\u001b[0m\u001b[1;33m(\u001b[0m\u001b[0mself\u001b[0m\u001b[1;33m.\u001b[0m\u001b[0mN_CA3\u001b[0m\u001b[1;33m,\u001b[0m \u001b[0mself\u001b[0m\u001b[1;33m.\u001b[0m\u001b[0mN_CA3\u001b[0m\u001b[1;33m)\u001b[0m\u001b[1;33m)\u001b[0m\u001b[1;33m\u001b[0m\u001b[1;33m\u001b[0m\u001b[0m\n",
      "\u001b[1;32mE:\\Hippocampus_NN\\module-v3 - 복사본\\module\\Plasticity\\plasticity.py\u001b[0m in \u001b[0;36mtake_weights\u001b[1;34m(self, layer1, layer2, syn_type, strength, cond_str, N)\u001b[0m\n\u001b[0;32m     51\u001b[0m             \u001b[1;32mfor\u001b[0m \u001b[0mn\u001b[0m \u001b[1;32min\u001b[0m \u001b[0mrange\u001b[0m\u001b[1;33m(\u001b[0m\u001b[0mlayer1\u001b[0m\u001b[1;33m)\u001b[0m\u001b[1;33m:\u001b[0m\u001b[1;33m\u001b[0m\u001b[1;33m\u001b[0m\u001b[0m\n\u001b[0;32m     52\u001b[0m                 \u001b[0minput_idx\u001b[0m \u001b[1;33m=\u001b[0m \u001b[0mself\u001b[0m\u001b[1;33m.\u001b[0m\u001b[0mchoice_neurons\u001b[0m\u001b[1;33m(\u001b[0m\u001b[0mlayer2\u001b[0m\u001b[1;33m,\u001b[0m \u001b[0mN\u001b[0m\u001b[1;33m)\u001b[0m\u001b[1;33m\u001b[0m\u001b[1;33m\u001b[0m\u001b[0m\n\u001b[1;32m---> 53\u001b[1;33m                 \u001b[0mweights\u001b[0m\u001b[1;33m[\u001b[0m\u001b[0mn\u001b[0m\u001b[1;33m,\u001b[0m\u001b[0minput_idx\u001b[0m\u001b[1;33m]\u001b[0m \u001b[1;33m=\u001b[0m \u001b[0mstrength\u001b[0m\u001b[1;33m*\u001b[0m\u001b[0mnp\u001b[0m\u001b[1;33m.\u001b[0m\u001b[0mabs\u001b[0m\u001b[1;33m(\u001b[0m\u001b[0mnp\u001b[0m\u001b[1;33m.\u001b[0m\u001b[0mrandom\u001b[0m\u001b[1;33m.\u001b[0m\u001b[0mnormal\u001b[0m\u001b[1;33m(\u001b[0m\u001b[1;36m1\u001b[0m\u001b[1;33m,\u001b[0m\u001b[1;36m0.01\u001b[0m\u001b[1;33m,\u001b[0m\u001b[0mlen\u001b[0m\u001b[1;33m(\u001b[0m\u001b[0minput_idx\u001b[0m\u001b[1;33m)\u001b[0m\u001b[1;33m)\u001b[0m\u001b[1;33m)\u001b[0m\u001b[1;33m\u001b[0m\u001b[1;33m\u001b[0m\u001b[0m\n\u001b[0m\u001b[0;32m     54\u001b[0m                 \u001b[1;32mif\u001b[0m \u001b[0mcond_str\u001b[0m \u001b[1;33m==\u001b[0m \u001b[1;34m'strong'\u001b[0m\u001b[1;33m:\u001b[0m\u001b[1;33m\u001b[0m\u001b[1;33m\u001b[0m\u001b[0m\n\u001b[0;32m     55\u001b[0m                     \u001b[0mq\u001b[0m\u001b[1;33m[\u001b[0m\u001b[0mn\u001b[0m\u001b[1;33m,\u001b[0m\u001b[0minput_idx\u001b[0m\u001b[1;33m]\u001b[0m \u001b[1;33m=\u001b[0m \u001b[0mself\u001b[0m\u001b[1;33m.\u001b[0m\u001b[0mq_s\u001b[0m\u001b[1;33m\u001b[0m\u001b[1;33m\u001b[0m\u001b[0m\n",
      "\u001b[1;31mKeyboardInterrupt\u001b[0m: "
     ]
    }
   ],
   "source": [
    "# Observe the granule cell patterns for each data\n",
    "params = config(pc)\n",
    "network = SNN(params, Neuron, Synapse, learned_weights, already_learned)\n",
    "\n",
    "DG_FR = np.zeros((params.N_DG, Datalen_final))\n",
    "DG_FR_temp = np.zeros(params.N_DG)\n",
    "input_total = set(range(params.N_I))\n",
    "output_total = set(range(params.N_DG))\n",
    "\n",
    "for D in range(Datalen_final):\n",
    "    for T in range(En_win):\n",
    "        env = np.zeros(params.N_I)\n",
    "        if T % Freq == 0 and T <= En_win-40:\n",
    "            env = Data_final[:,D]\n",
    "        Noise = np.random.poisson(0.000, params.N_CA3)\n",
    "        CA3input = 0\n",
    "\n",
    "        network.solve(env, CA3input, Noise, ER, theta, T, only_DG, only_CA3, En_win, Re_win)\n",
    "        DG_FR_temp = prepare_data_FR(DG_FR_temp, params.N_DG, network.layers[5])\n",
    "\n",
    "    DG_FR[:,D] = DG_FR_temp.copy()\n",
    "    DG_FR_temp = np.zeros(params.N_DG)\n",
    "\n",
    "# The length of granule cell patterns\n",
    "DGlen_list = np.array([])\n",
    "for d in range(Datalen_final):\n",
    "    DGlen_list = np.append(DGlen_list, len(list(np.where(DG_FR[:,d] !=0)[0])))\n",
    "\n",
    "# Calculation the pattern separation by overlap degree\n",
    "OverI = np.array([])\n",
    "OverO = np.array([])\n",
    "Pair_idx = []\n",
    "for i in range(Datalen_final):\n",
    "    for j in range(Datalen_final):\n",
    "        if i < j:\n",
    "            input_A = set(np.where(Data_final[:,i] !=0)[0])\n",
    "            input_B = set(np.where(Data_final[:,j] !=0)[0])\n",
    "            if input_A != input_B:\n",
    "                output_A = set(np.where(DG_FR[:,i] !=0)[0])\n",
    "                output_B = set(np.where(DG_FR[:,j] !=0)[0])\n",
    "                if len(output_A)+len(output_B) != 0:\n",
    "                    overlap_input = cal_overlap(input_total, input_A, input_B)\n",
    "                    overlap_output = cal_overlap(output_total, output_A, output_B)\n",
    "                    OverI = np.append(OverI, overlap_input)\n",
    "                    OverO = np.append(OverO, overlap_output)\n",
    "                    Pair_idx.append([i,j])"
   ]
  },
  {
   "cell_type": "code",
   "execution_count": null,
   "metadata": {},
   "outputs": [],
   "source": [
    "SP = (np.mean(OverI)-np.mean(OverO))/np.mean(OverI)\n",
    "x = np.linspace(0,1,100)\n",
    "print('Separation power : ', SP)\n",
    "plt.scatter(OverI, OverO, color='cornflowerblue')\n",
    "plt.plot(x,x, color='black')\n",
    "plt.xlim([0,1])\n",
    "plt.ylim([0,1.2])\n",
    "plt.xlabel('Input overlap')\n",
    "plt.ylabel('Output overlap')\n",
    "plt.show()\n",
    "            \n",
    "print('Mean and std of the output size : ', np.mean(DGlen_list), np.std(DGlen_list))\n",
    "print('The number of nonfiring input : ', len(np.where(DGlen_list == 0)[0]))\n",
    "plt.scatter(range(len(DGlen_list)), DGlen_list, color='cornflowerblue')\n",
    "plt.xlabel('Output index')\n",
    "plt.ylabel('The number of firing granule cell')\n",
    "plt.show()\n",
    "            \n",
    "DGlen_idx, DGlen_idx_excluded = engram_filter(5, Datalen_final, DGlen_list)\n",
    "OverI_v2, OverO_v2, Pair_idx_v2 = filter_SP(OverI, OverO, Pair_idx, DGlen_idx_excluded)\n",
    "            \n",
    "SP_v2 = (np.mean(OverI_v2)-np.mean(OverO_v2))/np.mean(OverI_v2)\n",
    "print('Separation Power : ', SP_v2)\n",
    "plt.scatter(OverI_v2, OverO_v2, color='cornflowerblue')\n",
    "plt.plot(x,x, color='black')\n",
    "plt.xlim([0,1])\n",
    "plt.ylim([0,1.2])\n",
    "plt.xlabel('Input Overlap')\n",
    "plt.ylabel('Output Overlap')\n",
    "plt.show()\n",
    "            \n",
    "print('Mean and Std of the Output Size : ', np.mean(DGlen_list[DGlen_idx]), np.std(DGlen_list[DGlen_idx]))\n",
    "print('The Number of Nonfiring Input : ', len(np.where(DGlen_list[DGlen_idx] == 0)[0]))\n",
    "print('Filtered Input Number : ', len(DGlen_list[DGlen_idx]))\n",
    "plt.scatter(range(len(DGlen_list[DGlen_idx])), DGlen_list[DGlen_idx], color='cornflowerblue')\n",
    "plt.ylim([0,5])\n",
    "plt.xlabel('Output Index')\n",
    "plt.ylabel('The Number of Firing Granule Cell')\n",
    "plt.show()\n",
    "\n",
    "sns.histplot(OverI_v2, binwidth= 0.05, kde=True, color='cornflowerblue')\n",
    "sns.histplot(OverO_v2, binwidth= 0.05, kde=True, color='salmon')\n",
    "plt.title('Histogram of Overlap')\n",
    "plt.xlabel('Overlap')\n",
    "plt.ylabel('Count')\n",
    "plt.legend(['Input', 'Output'])\n",
    "plt.show()\n",
    "\n",
    "sns.histplot(DGlen_list, binwidth= 0.5, kde=True, color='cornflowerblue')\n",
    "plt.title('Histogram of Output size')\n",
    "plt.xlabel('Output size')\n",
    "plt.ylabel('Count')\n",
    "plt.show()"
   ]
  },
  {
   "cell_type": "code",
   "execution_count": 15,
   "metadata": {
    "ExecuteTime": {
     "end_time": "2024-09-10T06:21:12.101114Z",
     "start_time": "2024-09-10T06:21:12.066206Z"
    }
   },
   "outputs": [
    {
     "ename": "NameError",
     "evalue": "name 'DG_FR' is not defined",
     "output_type": "error",
     "traceback": [
      "\u001b[1;31m---------------------------------------------------------------------------\u001b[0m",
      "\u001b[1;31mNameError\u001b[0m                                 Traceback (most recent call last)",
      "\u001b[1;32m<ipython-input-15-8699a4e5bced>\u001b[0m in \u001b[0;36m<module>\u001b[1;34m\u001b[0m\n\u001b[0;32m      2\u001b[0m     \u001b[0mpickle\u001b[0m\u001b[1;33m.\u001b[0m\u001b[0mdump\u001b[0m\u001b[1;33m(\u001b[0m\u001b[0mData\u001b[0m\u001b[1;33m,\u001b[0m \u001b[0mfile\u001b[0m\u001b[1;33m)\u001b[0m\u001b[1;33m\u001b[0m\u001b[1;33m\u001b[0m\u001b[0m\n\u001b[0;32m      3\u001b[0m     \u001b[0mpickle\u001b[0m\u001b[1;33m.\u001b[0m\u001b[0mdump\u001b[0m\u001b[1;33m(\u001b[0m\u001b[0mDatalen\u001b[0m\u001b[1;33m,\u001b[0m \u001b[0mfile\u001b[0m\u001b[1;33m)\u001b[0m\u001b[1;33m\u001b[0m\u001b[1;33m\u001b[0m\u001b[0m\n\u001b[1;32m----> 4\u001b[1;33m     \u001b[0mpickle\u001b[0m\u001b[1;33m.\u001b[0m\u001b[0mdump\u001b[0m\u001b[1;33m(\u001b[0m\u001b[0mDG_FR\u001b[0m\u001b[1;33m,\u001b[0m \u001b[0mfile\u001b[0m\u001b[1;33m)\u001b[0m\u001b[1;33m\u001b[0m\u001b[1;33m\u001b[0m\u001b[0m\n\u001b[0m\u001b[0;32m      5\u001b[0m \u001b[1;33m\u001b[0m\u001b[0m\n\u001b[0;32m      6\u001b[0m     \u001b[0mpickle\u001b[0m\u001b[1;33m.\u001b[0m\u001b[0mdump\u001b[0m\u001b[1;33m(\u001b[0m\u001b[0mDGlen_list\u001b[0m\u001b[1;33m,\u001b[0m \u001b[0mfile\u001b[0m\u001b[1;33m)\u001b[0m\u001b[1;33m\u001b[0m\u001b[1;33m\u001b[0m\u001b[0m\n",
      "\u001b[1;31mNameError\u001b[0m: name 'DG_FR' is not defined"
     ]
    }
   ],
   "source": [
    "with open('Data_DG.pkl', 'wb') as file:\n",
    "    pickle.dump(Data, file)\n",
    "    pickle.dump(Datalen, file)\n",
    "    pickle.dump(DG_FR, file)\n",
    "    \n",
    "    pickle.dump(DGlen_list, file)\n",
    "    pickle.dump(DGlen_idx, file)\n",
    "    pickle.dump(DGlen_idx_excluded, file)\n",
    "\n",
    "    pickle.dump(OverI, file)\n",
    "    pickle.dump(OverO, file)\n",
    "    pickle.dump(Pair_idx, file)  \n",
    "    \n",
    "    pickle.dump(OverI_v2, file)\n",
    "    pickle.dump(OverO_v2, file)\n",
    "    pickle.dump(Pair_idx_v2, file)  "
   ]
  },
  {
   "cell_type": "code",
   "execution_count": 22,
   "metadata": {
    "ExecuteTime": {
     "end_time": "2024-09-10T06:25:50.655805Z",
     "start_time": "2024-09-10T06:23:44.380214Z"
    }
   },
   "outputs": [
    {
     "name": "stdout",
     "output_type": "stream",
     "text": [
      "mf / mfi / 3i ca3 / ca3 / ca3i :  [30, 3, 600, 2400, 120, 20]\n",
      "Separation Power :  0.5011661329219187\n"
     ]
    },
    {
     "data": {
      "image/png": "[encoded data removed]",
      "text/plain": [
       "<Figure size 432x288 with 1 Axes>"
      ]
     },
     "metadata": {
      "needs_background": "light"
     },
     "output_type": "display_data"
    },
    {
     "data": {
      "image/png": "[encoded data removed]",
      "text/plain": [
       "<Figure size 432x288 with 1 Axes>"
      ]
     },
     "metadata": {
      "needs_background": "light"
     },
     "output_type": "display_data"
    },
    {
     "name": "stdout",
     "output_type": "stream",
     "text": [
      "mean and std of the output size :  10.40630472854641 3.936389418165934\n",
      "the number of nonfiring input :  0\n"
     ]
    },
    {
     "data": {
      "image/png": "[encoded data removed]",
      "text/plain": [
       "<Figure size 432x288 with 1 Axes>"
      ]
     },
     "metadata": {
      "needs_background": "light"
     },
     "output_type": "display_data"
    },
    {
     "data": {
      "image/png": "[encoded data removed]",
      "text/plain": [
       "<Figure size 432x288 with 1 Axes>"
      ]
     },
     "metadata": {
      "needs_background": "light"
     },
     "output_type": "display_data"
    },
    {
     "name": "stdout",
     "output_type": "stream",
     "text": [
      "Inhibition degree of other engrams :  0.7107342754784822 0.2679214006720616\n",
      "-------------------------------------\n",
      "Inhibition degree of other engrams(inh) :  0.02080156520012728 0.06904650550933854\n",
      "-------------------------------------\n",
      "Mean overlap :  0.05619303162253667\n"
     ]
    }
   ],
   "source": [
    "# Prediction the CA3 neural assemblies based on the connectivity\n",
    "Gra_idx = []\n",
    "for i, comp in enumerate(DGlen_idx):\n",
    "    Gra_idx.append(set(np.where(DG_FR[:,comp] !=0)[0]))\n",
    "                   \n",
    "SP3_List = []\n",
    "F_N = 3\n",
    "params = config(pc)\n",
    "F_DataLen = len(Gra_idx)\n",
    "network = SNN(params, Neuron, Synapse, learned_weights, already_learned)\n",
    "input_total = set(range(params.N_CA3))\n",
    "output_total = set(range(params.N_CA3))\n",
    "Bf_py = []\n",
    "Bf_in = []\n",
    "Af_py = []\n",
    "Af_in = []\n",
    "In_py_list = []\n",
    "In_in_list = []\n",
    "\n",
    "for n, dgtn in enumerate(Gra_idx):\n",
    "    # Pyramidal neurons stimulated by each granule cell\n",
    "    Bf_py_temp = set()\n",
    "    for m, comp in enumerate(dgtn):\n",
    "        Bf_py_temp |= set(np.where(network.q_mf[comp,:] != 0)[0])\n",
    "    Bf_py.append(Bf_py_temp)\n",
    "\n",
    "    # Inhibitory neurons stimulated by each granule cell\n",
    "    Bf_in_temp = set()\n",
    "    for mi, compi in enumerate(dgtn):\n",
    "        Bf_in_temp |= set(np.where(network.q_mfi[compi,:] != 0)[0])\n",
    "    Bf_in.append(Bf_in)\n",
    "\n",
    "    # Effects of firing inhibitory neurons\n",
    "    In_in = []\n",
    "    for n, bas in enumerate(Bf_in_temp):\n",
    "        In_in = np.append(In_in, np.where(network.q_3i3i[bas,:] !=0)[0])\n",
    "    In_in_list.append(In_in)\n",
    "    # Filtered inhibitory neurons by F_N inhibitory neurons\n",
    "    Af_in_temp = []\n",
    "    for i, bas in enumerate(Bf_in_temp):\n",
    "        if 0 <= len(np.where(In_in == bas)[0]) <= F_N:\n",
    "            Af_in_temp.append(bas)\n",
    "    Af_in.append(Af_in_temp)\n",
    "    # Final effects of firing inhibitory neurons\n",
    "    In_py = []\n",
    "    for m, bas in enumerate(Af_in_temp):\n",
    "        In_py = np.append(In_py, np.where(network.q_3iCA3[bas,:] !=0)[0])\n",
    "    In_py_list.append(In_py)\n",
    "    # Filtered excitatory neurons by inhibition\n",
    "    Af_py_temp = []\n",
    "    for i, pyra in enumerate(Bf_py_temp):\n",
    "        if pyra not in In_py:\n",
    "            Af_py_temp.append(pyra)\n",
    "    Af_py.append(Af_py_temp)\n",
    "\n",
    "CA3len_list = np.array([])\n",
    "\n",
    "for d in range(F_DataLen):\n",
    "    CA3len_list = np.append(CA3len_list, len(Af_py[d]))\n",
    "\n",
    "OverI_CA3 = np.array([])\n",
    "OverO_CA3 = np.array([])\n",
    "Pair_idx_CA3 = []\n",
    "for i in range(F_DataLen):\n",
    "    for j in range(F_DataLen):\n",
    "        if i < j:\n",
    "            input_A = set(Bf_py[i])\n",
    "            input_B = set(Bf_py[j])\n",
    "            output_A = set(Af_py[i])\n",
    "            output_B = set(Af_py[j])\n",
    "\n",
    "            if len(output_A)+len(output_B) != 0:\n",
    "                overlap_input = cal_overlap(input_total, input_A, input_B)\n",
    "                overlap_output = cal_overlap(output_total, output_A, output_B)\n",
    "                OverI_CA3 = np.append(OverI_CA3, overlap_input)\n",
    "                OverO_CA3 = np.append(OverO_CA3, overlap_output)\n",
    "                Pair_idx_CA3.append([i,j])\n",
    "\n",
    "\n",
    "Score_list = []\n",
    "for i, bas in enumerate(In_py_list):\n",
    "    for j, pyra in enumerate(Af_py):\n",
    "        if len(pyra) != 0:\n",
    "            if i != j:\n",
    "                score = 0\n",
    "                for k, p in enumerate(pyra):\n",
    "                    if p in bas:\n",
    "                        score += 1\n",
    "                score = score/len(pyra)\n",
    "                Score_list.append(score)\n",
    "Score_list_in = []\n",
    "for i, bas in enumerate(In_in_list):\n",
    "    for j, bas2 in enumerate(Af_in):\n",
    "        if len(bas2) != 0:\n",
    "            if i != j:\n",
    "                score = 0\n",
    "                for k, b in enumerate(bas2):\n",
    "                    if F_N < len(np.where(bas == b)[0]):\n",
    "                        score += 1\n",
    "                score = score/len(bas2)\n",
    "                Score_list_in.append(score)\n",
    "\n",
    "print('mf / mfi / 3i ca3 / ca3 / ca3i : ', pc)\n",
    "SP_CA3 = (np.mean(OverI_CA3)-np.mean(OverO_CA3))/np.mean(OverI_CA3)\n",
    "print('Separation Power : ', SP_CA3)   \n",
    "\n",
    "x = np.linspace(0,1,100)\n",
    "plt.scatter(OverI_CA3, OverO_CA3, color='cornflowerblue')\n",
    "plt.plot(x,x, color='black')\n",
    "plt.xlim([0,1])\n",
    "plt.ylim([0,1.2])\n",
    "plt.xlabel('Input Overlap')\n",
    "plt.ylabel('Output Overlap')\n",
    "plt.show()\n",
    "\n",
    "sns.histplot(OverI_CA3, binwidth= 0.05, kde=True, color='cornflowerblue')\n",
    "sns.histplot(OverO_CA3, binwidth= 0.05, kde=True, color='salmon')\n",
    "plt.title('Histogram of Overlap')\n",
    "plt.xlabel('Overlap')\n",
    "plt.ylabel('Count')\n",
    "plt.legend(['Input', 'Output'])\n",
    "plt.show()\n",
    "\n",
    "print('mean and std of the output size : ', np.mean(CA3len_list), np.std(CA3len_list))\n",
    "print('the number of nonfiring input : ', len(np.where(CA3len_list == 0)[0]))\n",
    "plt.scatter(range(len(CA3len_list)), CA3len_list, color='cornflowerblue')\n",
    "plt.xlabel('each output')\n",
    "plt.ylabel('engram size')\n",
    "plt.show()        \n",
    "\n",
    "sns.histplot(CA3len_list, binwidth= 0.5, kde=True, color='cornflowerblue')\n",
    "plt.title('Histogram of Output size')\n",
    "plt.xlabel('Output size')\n",
    "plt.ylabel('Count')\n",
    "plt.show()    \n",
    "\n",
    "print('Inhibition degree of other engrams : ', np.mean(Score_list), np.std(Score_list))\n",
    "print('-------------------------------------')\n",
    "print('Inhibition degree of other engrams(inh) : ', np.mean(Score_list_in), np.std(Score_list_in))\n",
    "print('-------------------------------------')\n",
    "print('Mean overlap : ', np.mean(OverO_CA3))\n",
    "if np.mean(Score_list) >= 0.7 and np.mean(Score_list_in)  >= 0.7:\n",
    "    print(parameter, np.mean(Score_list), np.mean(Score_list_in))"
   ]
  },
  {
   "cell_type": "code",
   "execution_count": null,
   "metadata": {},
   "outputs": [],
   "source": [
    "# Filtered data (by granule cell engram size).\n",
    "Filt_idata = Data[:,DGlen_idx]\n",
    "# Filtered granule cells\n",
    "Filt_gdata = DG_FR[:,DGlen_idx]\n",
    "# Filtered granule cell engrams nubmer\n",
    "Filt_glen = DGlen_list[DGlen_idx]\n",
    "Filt_glen = list(map(int, Filt_glen))"
   ]
  },
  {
   "cell_type": "code",
   "execution_count": null,
   "metadata": {},
   "outputs": [],
   "source": [
    "with open('Data_final.pkl', 'wb') as file:\n",
    "    pickle.dump(Filt_idata, file)\n",
    "    pickle.dump(Filt_gdata, file)\n",
    "    pickle.dump(Filt_glen, file)\n",
    "\n",
    "    pickle.dump(Af_py, file)\n",
    "    pickle.dump(Af_in, file)\n",
    "    \n",
    "    pickle.dump(In_py_list, file)"
   ]
  }
 ],
 "metadata": {
  "kernelspec": {
   "display_name": "Python 3",
   "language": "python",
   "name": "python3"
  },
  "language_info": {
   "codemirror_mode": {
    "name": "ipython",
    "version": 3
   },
   "file_extension": ".py",
   "mimetype": "text/x-python",
   "name": "python",
   "nbconvert_exporter": "python",
   "pygments_lexer": "ipython3",
   "version": "3.8.5"
  },
  "toc": {
   "base_numbering": 1,
   "nav_menu": {},
   "number_sections": true,
   "sideBar": true,
   "skip_h1_title": false,
   "title_cell": "Table of Contents",
   "title_sidebar": "Contents",
   "toc_cell": false,
   "toc_position": {},
   "toc_section_display": true,
   "toc_window_display": false
  },
  "varInspector": {
   "cols": {
    "lenName": 16,
    "lenType": 16,
    "lenVar": 40
   },
   "kernels_config": {
    "python": {
     "delete_cmd_postfix": "",
     "delete_cmd_prefix": "del ",
     "library": "var_list.py",
     "varRefreshCmd": "print(var_dic_list())"
    },
    "r": {
     "delete_cmd_postfix": ") ",
     "delete_cmd_prefix": "rm(",
     "library": "var_list.r",
     "varRefreshCmd": "cat(var_dic_list()) "
    }
   },
   "types_to_exclude": [
    "module",
    "function",
    "builtin_function_or_method",
    "instance",
    "_Feature"
   ],
   "window_display": false
  }
 },
 "nbformat": 4,
 "nbformat_minor": 4
}
