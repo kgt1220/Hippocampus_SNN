{
 "cells": [
  {
   "cell_type": "code",
   "execution_count": 2,
   "metadata": {
    "ExecuteTime": {
     "end_time": "2024-09-11T03:26:54.361287Z",
     "start_time": "2024-09-11T03:26:52.078280Z"
    }
   },
   "outputs": [],
   "source": [
    "#import winsound as sd\n",
    "import numpy as np\n",
    "import matplotlib.pyplot as plt\n",
    "import random\n",
    "\n",
    "import seaborn as sns\n",
    "from scipy.cluster.hierarchy import dendrogram, linkage\n",
    "from scipy.spatial.distance import pdist, squareform\n",
    "\n",
    "import pickle\n",
    "import os"
   ]
  },
  {
   "cell_type": "code",
   "execution_count": null,
   "metadata": {
    "ExecuteTime": {
     "end_time": "2024-09-11T03:26:49.521640Z",
     "start_time": "2024-09-11T03:26:49.521640Z"
    }
   },
   "outputs": [],
   "source": [
    "# Load\n",
    "cd = os.getcwd()\n",
    "path = os.path.dirname(cd)\n",
    "\n",
    "with open(path+'//Data_DG.pkl', 'rb') as file:\n",
    "    # Patterns in input layer\n",
    "    Data = pickle.load(file)   \n",
    "    # The number of data\n",
    "    Datalen = pickle.load(file)    \n",
    "    # Patterns of granule cells\n",
    "    Data_DG = pickle.load(file)\n",
    "    \n",
    "    # Lengths of each patterns of granule cells\n",
    "    Data_DG_len = pickle.load(file)\n",
    "    Data_idx = pickle.load(file) # indices of patterns having proper lengths\n",
    "    DataX_idx = pickle.load(file) # indices of patterns having proper lengths\n",
    "    \n",
    "    # input/output overlap values and indices\n",
    "    OverI = pickle.load(file)\n",
    "    OverO = pickle.load(file)\n",
    "    Pair_idx = pickle.load(file)\n",
    "    \n",
    "    # input/output overlap values and indices for inputs having proper lengths\n",
    "    OverI_v2 = pickle.load(file)\n",
    "    OverO_v2 = pickle.load(file)\n",
    "    Pair_idx_v2 = pickle.load(file)\n",
    "    \n",
    "with open(path+'//Data_final.pkl', 'rb') as file:\n",
    "    # Filtered by proper length\n",
    "    Filt_idata = pickle.load(file) # patterns in input layer\n",
    "    Filt_gdata = pickle.load(file) # patterns of granule cells\n",
    "    Filt_glen = pickle.load(file) # lengths of each patterns of granule cells\n",
    "    F_DataLen = pickle.load(file) # the number of data\n",
    "    \n",
    "    # Index of CA3 patterns\n",
    "    Af_py = pickle.load(file) # Pyramidal neurons\n",
    "    Af_in = pickle.load(file) # Inhibitory neurons\n",
    "    \n",
    "    # \n",
    "    In_py_list = pickle.load(file)\n",
    "    In_in_list = pickle.load(file)"
   ]
  },
  {
   "cell_type": "code",
   "execution_count": null,
   "metadata": {
    "ExecuteTime": {
     "end_time": "2024-09-11T03:26:49.522637Z",
     "start_time": "2024-09-11T03:26:49.522637Z"
    }
   },
   "outputs": [],
   "source": [
    "input_set = []\n",
    "for n in range(F_DataLen):\n",
    "    input_set.append(len(set(np.where(Filt_idata[:,n])[0])))"
   ]
  },
  {
   "cell_type": "code",
   "execution_count": null,
   "metadata": {
    "ExecuteTime": {
     "end_time": "2024-09-11T03:26:49.525630Z",
     "start_time": "2024-09-11T03:26:49.525630Z"
    }
   },
   "outputs": [],
   "source": [
    "output_set = np.zeros(15)\n",
    "output_num = np.zeros(15)\n",
    "for i, comp in enumerate(input_set):\n",
    "    output_set[comp-1] += len(Af_py[i])\n",
    "    output_num[comp-1] += 1\n",
    "output_mean = output_set / output_num"
   ]
  },
  {
   "cell_type": "code",
   "execution_count": null,
   "metadata": {
    "ExecuteTime": {
     "end_time": "2024-09-11T03:26:49.527624Z",
     "start_time": "2024-09-11T03:26:49.527624Z"
    }
   },
   "outputs": [],
   "source": [
    "input_size = np.array(range(15))+1"
   ]
  },
  {
   "cell_type": "code",
   "execution_count": null,
   "metadata": {
    "ExecuteTime": {
     "end_time": "2024-09-11T03:26:49.529618Z",
     "start_time": "2024-09-11T03:26:49.529618Z"
    }
   },
   "outputs": [],
   "source": [
    "#obtain m (slope) and b(intercept) of linear regression line\n",
    "m, b = np.polyfit(input_size, output_mean, 1)"
   ]
  },
  {
   "cell_type": "code",
   "execution_count": null,
   "metadata": {
    "ExecuteTime": {
     "end_time": "2024-09-11T03:26:49.538595Z",
     "start_time": "2024-09-11T03:26:49.538595Z"
    },
    "scrolled": false
   },
   "outputs": [],
   "source": [
    "fig = plt.subplot(111)\n",
    "plt.figsize=(4,4)\n",
    "plt.scatter(input_size, output_mean, color='#423121')\n",
    "plt.plot(input_size, m*input_size+b, color='#423121')\n",
    "#ax.text(15.3,10.4, 'y = %fx+%f' %(m,b))\n",
    "plt.ylim([5,20])\n",
    "plt.xlabel('Input size', fontsize=16)\n",
    "plt.ylabel('CA3 engram size', fontsize=16)\n",
    "fig.spines['top'].set_visible(False)\n",
    "fig.spines['right'].set_visible(False)\n",
    "fig.set_aspect(1.0 / fig.get_data_ratio(), adjustable=\"box\")\n",
    "plt.title('Correlation', fontsize=16)\n",
    "#plt.savefig('CA3 engram size over input size.pdf', bbox_inches='tight')\n",
    "plt.show()"
   ]
  },
  {
   "cell_type": "code",
   "execution_count": null,
   "metadata": {
    "ExecuteTime": {
     "end_time": "2024-09-11T03:26:49.545576Z",
     "start_time": "2024-09-11T03:26:49.545576Z"
    }
   },
   "outputs": [],
   "source": [
    "def choose_ran(number, min_num, max_num):\n",
    "    index = []\n",
    "    num = random.randrange(min_num, max_num)\n",
    "    for n in range(number):\n",
    "        while num in index:\n",
    "            num = random.randrange(min_num, max_num)\n",
    "        index.append(num)\n",
    "    index.sort()\n",
    "    return index"
   ]
  },
  {
   "cell_type": "code",
   "execution_count": null,
   "metadata": {
    "ExecuteTime": {
     "end_time": "2024-09-11T03:26:49.547571Z",
     "start_time": "2024-09-11T03:26:49.547571Z"
    }
   },
   "outputs": [],
   "source": [
    "with open('Data_temp.pkl', 'rb') as file:\n",
    "    Filt_idata = pickle.load(file)\n",
    "    Af_py = pickle.load(file)"
   ]
  },
  {
   "cell_type": "code",
   "execution_count": null,
   "metadata": {
    "ExecuteTime": {
     "end_time": "2024-09-11T03:26:49.549566Z",
     "start_time": "2024-09-11T03:26:49.549566Z"
    }
   },
   "outputs": [],
   "source": [
    "input_set = []\n",
    "for n in range(len(Af_py)):\n",
    "    input_set.append(len(set(np.where(Filt_idata[:,n])[0])))"
   ]
  },
  {
   "cell_type": "code",
   "execution_count": null,
   "metadata": {
    "ExecuteTime": {
     "end_time": "2024-09-11T03:26:49.555553Z",
     "start_time": "2024-09-11T03:26:49.555553Z"
    }
   },
   "outputs": [],
   "source": [
    "output_set = np.zeros(16)\n",
    "output_num = np.zeros(16)\n",
    "for i, comp in enumerate(input_set):\n",
    "    output_set[comp-1] += len(Af_py[i])\n",
    "    output_num[comp-1] += 1\n",
    "output_mean = output_set / output_num"
   ]
  },
  {
   "cell_type": "code",
   "execution_count": null,
   "metadata": {
    "ExecuteTime": {
     "end_time": "2024-09-11T03:26:49.557545Z",
     "start_time": "2024-09-11T03:26:49.557545Z"
    }
   },
   "outputs": [],
   "source": [
    "Score = []\n",
    "for N in range(81):\n",
    "    Score_temp = []\n",
    "    # Calculate capacity by increasing 10 inputs\n",
    "    for n in range(10):\n",
    "        idx = choose_ran(10*N+10,0,812)\n",
    "        engram_temp = []\n",
    "        for i, comp in enumerate(idx):\n",
    "            if set(Af_py[comp]) not in engram_temp:\n",
    "                engram_temp.append(set(Af_py[comp]))\n",
    "        Score_temp.append(len(engram_temp))\n",
    "    Score.append(np.mean(Score_temp))"
   ]
  },
  {
   "cell_type": "code",
   "execution_count": null,
   "metadata": {
    "ExecuteTime": {
     "end_time": "2024-09-11T03:26:49.558542Z",
     "start_time": "2024-09-11T03:26:49.558542Z"
    }
   },
   "outputs": [],
   "source": [
    "x = 10*np.array(range(81))+10\n",
    "fig = plt.subplot(111)\n",
    "plt.figsize=(4,4)\n",
    "plt.plot(x, Score, color='#423121')\n",
    "plt.ylim([0,500])\n",
    "plt.xlabel('# Inputs', fontsize=16)\n",
    "plt.ylabel('# CA3 engrams', fontsize=16)\n",
    "plt.title('Capacity', fontsize=16)\n",
    "fig.spines['top'].set_visible(False)\n",
    "fig.spines['right'].set_visible(False)\n",
    "fig.set_aspect(1.0 / fig.get_data_ratio(), adjustable=\"box\")\n",
    "plt.savefig('Capacity.pdf', bbox_inches='tight')\n",
    "plt.show()"
   ]
  },
  {
   "cell_type": "code",
   "execution_count": null,
   "metadata": {},
   "outputs": [],
   "source": []
  }
 ],
 "metadata": {
  "kernelspec": {
   "display_name": "Python 3 (ipykernel)",
   "language": "python",
   "name": "python3"
  },
  "language_info": {
   "codemirror_mode": {
    "name": "ipython",
    "version": 3
   },
   "file_extension": ".py",
   "mimetype": "text/x-python",
   "name": "python",
   "nbconvert_exporter": "python",
   "pygments_lexer": "ipython3",
   "version": "3.8.5"
  },
  "toc": {
   "base_numbering": 1,
   "nav_menu": {},
   "number_sections": true,
   "sideBar": true,
   "skip_h1_title": false,
   "title_cell": "Table of Contents",
   "title_sidebar": "Contents",
   "toc_cell": false,
   "toc_position": {},
   "toc_section_display": true,
   "toc_window_display": false
  },
  "varInspector": {
   "cols": {
    "lenName": 16,
    "lenType": 16,
    "lenVar": 40
   },
   "kernels_config": {
    "python": {
     "delete_cmd_postfix": "",
     "delete_cmd_prefix": "del ",
     "library": "var_list.py",
     "varRefreshCmd": "print(var_dic_list())"
    },
    "r": {
     "delete_cmd_postfix": ") ",
     "delete_cmd_prefix": "rm(",
     "library": "var_list.r",
     "varRefreshCmd": "cat(var_dic_list()) "
    }
   },
   "types_to_exclude": [
    "module",
    "function",
    "builtin_function_or_method",
    "instance",
    "_Feature"
   ],
   "window_display": false
  }
 },
 "nbformat": 4,
 "nbformat_minor": 4
}
